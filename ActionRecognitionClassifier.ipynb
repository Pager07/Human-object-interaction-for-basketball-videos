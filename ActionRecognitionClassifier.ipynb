{
  "nbformat": 4,
  "nbformat_minor": 0,
  "metadata": {
    "colab": {
      "name": "ActionRecognitionClassifier.ipynb",
      "provenance": [],
      "collapsed_sections": [
        "xHzi3MBxI7IH"
      ],
      "authorship_tag": "ABX9TyM99sP2UnR8hzrqd6C4+JPd",
      "include_colab_link": true
    },
    "kernelspec": {
      "name": "python3",
      "display_name": "Python 3"
    },
    "accelerator": "GPU"
  },
  "cells": [
    {
      "cell_type": "markdown",
      "metadata": {
        "id": "view-in-github",
        "colab_type": "text"
      },
      "source": [
        "<a href=\"https://colab.research.google.com/github/Pager07/FinalYearProject/blob/master/ActionRecognitionClassifier.ipynb\" target=\"_parent\"><img src=\"https://colab.research.google.com/assets/colab-badge.svg\" alt=\"Open In Colab\"/></a>"
      ]
    },
    {
      "cell_type": "markdown",
      "metadata": {
        "id": "VVgf37BXGh9P",
        "colab_type": "text"
      },
      "source": [
        "# Project Ladder Board"
      ]
    },
    {
      "cell_type": "markdown",
      "metadata": {
        "id": "qOoJ3vszGsj3",
        "colab_type": "text"
      },
      "source": [
        "- Downloading the data \n",
        "-Importing \n",
        "  - Fastai\n",
        "  - Google drive\n",
        "- Understanding the data \n",
        "  - Loading the data\n",
        "    - setting up variables\n",
        "      - root_dir (Path to main project folder) \n",
        "      - base_dir (Path to data folder)\n",
        "    - Loading Images \n",
        "      - Looking at images in drive and cleaning up data \n",
        "- Creating DataObject\n",
        "  - Loading action labels\n",
        "  - ItemList\n",
        "    - spliting it into train and val\n",
        "- Creating Databunch\n",
        "  - Look at batches \n",
        "    - Clean up the data in Drive\n",
        "\n",
        "- Creating the learner\n",
        "  - Finding best LR \n",
        "\n",
        "- Fitting the model in smaller(images)\n",
        "  - Fit frozen layers\n",
        "  - Unfreez and fit \n",
        "\n",
        "- Fitting the mode in larger images "
      ]
    },
    {
      "cell_type": "markdown",
      "metadata": {
        "id": "eKG5u7ViIWq6",
        "colab_type": "text"
      },
      "source": [
        "#Importing FastAi Library"
      ]
    },
    {
      "cell_type": "code",
      "metadata": {
        "id": "8a2PvE-5F7Vp",
        "colab_type": "code",
        "colab": {}
      },
      "source": [
        "%reload_ext autoreload \n",
        "%autoreload 2\n",
        "%matplotlib inline\n",
        "from fastai.vision import *"
      ],
      "execution_count": 0,
      "outputs": []
    },
    {
      "cell_type": "code",
      "metadata": {
        "id": "5swkOXzwGgbE",
        "colab_type": "code",
        "colab": {}
      },
      "source": [
        "import warnings\n",
        "warnings.filterwarnings(\"ignore\", category=UserWarning, module=\"torch.nn.functional\")"
      ],
      "execution_count": 0,
      "outputs": []
    },
    {
      "cell_type": "code",
      "metadata": {
        "id": "1d9VGpQvIfHC",
        "colab_type": "code",
        "colab": {}
      },
      "source": [
        "from google.colab import drive"
      ],
      "execution_count": 0,
      "outputs": []
    },
    {
      "cell_type": "code",
      "metadata": {
        "id": "v9omf_iNIjMm",
        "colab_type": "code",
        "outputId": "39c07e66-8792-403a-bd8d-6991ed19b876",
        "colab": {
          "base_uri": "https://localhost:8080/",
          "height": 122
        }
      },
      "source": [
        "drive.mount('/content/gdrive' , force_remount=True)"
      ],
      "execution_count": 4,
      "outputs": [
        {
          "output_type": "stream",
          "text": [
            "Go to this URL in a browser: https://accounts.google.com/o/oauth2/auth?client_id=947318989803-6bn6qk8qdgf4n4g3pfee6491hc0brc4i.apps.googleusercontent.com&redirect_uri=urn%3aietf%3awg%3aoauth%3a2.0%3aoob&response_type=code&scope=email%20https%3a%2f%2fwww.googleapis.com%2fauth%2fdocs.test%20https%3a%2f%2fwww.googleapis.com%2fauth%2fdrive%20https%3a%2f%2fwww.googleapis.com%2fauth%2fdrive.photos.readonly%20https%3a%2f%2fwww.googleapis.com%2fauth%2fpeopleapi.readonly\n",
            "\n",
            "Enter your authorization code:\n",
            "··········\n",
            "Mounted at /content/gdrive\n"
          ],
          "name": "stdout"
        }
      ]
    },
    {
      "cell_type": "markdown",
      "metadata": {
        "id": "xHzi3MBxI7IH",
        "colab_type": "text"
      },
      "source": [
        "#Understanding the data"
      ]
    },
    {
      "cell_type": "code",
      "metadata": {
        "id": "3E50mxQBIrNw",
        "colab_type": "code",
        "colab": {}
      },
      "source": [
        "root_dir = '/content/gdrive/My Drive/My Notes/3rd year/Individual Projects/Data2'\n",
        "base_dir = root_dir + '/Basketball'\n",
        "path = Path(base_dir)"
      ],
      "execution_count": 0,
      "outputs": []
    },
    {
      "cell_type": "code",
      "metadata": {
        "id": "dV7d_6l0I6TC",
        "colab_type": "code",
        "colab": {}
      },
      "source": [
        "img = open_image(path/'train'/'3-pointer failure'/'17_209,68_3-pointer failure.png')"
      ],
      "execution_count": 0,
      "outputs": []
    },
    {
      "cell_type": "code",
      "metadata": {
        "id": "kTBJU5kwKZCt",
        "colab_type": "code",
        "outputId": "ab3e5314-724b-44ec-a3cd-2f8127522dd6",
        "colab": {
          "base_uri": "https://localhost:8080/",
          "height": 154
        }
      },
      "source": [
        "img.show()"
      ],
      "execution_count": 8,
      "outputs": [
        {
          "output_type": "display_data",
          "data": {
            "image/png": "[encoded data removed]",
            "text/plain": [
              "<Figure size 216x216 with 1 Axes>"
            ]
          },
          "metadata": {
            "tags": []
          }
        }
      ]
    },
    {
      "cell_type": "markdown",
      "metadata": {
        "id": "igVCFNF7Mcpn",
        "colab_type": "text"
      },
      "source": [
        "#Creating DataObject,DataLoader and Databunch"
      ]
    },
    {
      "cell_type": "code",
      "metadata": {
        "id": "YiXG9GfsK1WQ",
        "colab_type": "code",
        "colab": {}
      },
      "source": [
        "#We are only fliping the image in the y-axis. I may play around with maz_zoon and wrap later to see how it affects the results\n",
        "transforms = get_transforms(do_flip=True, max_rotate=None , max_zoom=0 , max_warp=0.)"
      ],
      "execution_count": 0,
      "outputs": []
    },
    {
      "cell_type": "code",
      "metadata": {
        "id": "AFl7Zh5-M-C7",
        "colab_type": "code",
        "colab": {}
      },
      "source": [
        "#When this function is called, it gets passsed the filePath(PATH OBJECT) of the image\n",
        "#Example: PosixPath('/content/gdrive/My Drive/My Notes/3rd year/Individual Projects/Data2/train/2_other 2-pointer failure.png')\n",
        "def get_label(filePath):\n",
        "  '''RETURNS LABELS'''\n",
        "  label = str(filePath).split('/')[-1].split('.')[0].split('_')[-1]\n",
        "  return label"
      ],
      "execution_count": 0,
      "outputs": []
    },
    {
      "cell_type": "code",
      "metadata": {
        "id": "CSxKPXBTN7eF",
        "colab_type": "code",
        "outputId": "d34ec205-02da-4743-fad1-e6b987411fb6",
        "colab": {
          "base_uri": "https://localhost:8080/",
          "height": 34
        }
      },
      "source": [
        "'''TEST'''\n",
        "a = path/'train'/'3-pointer failure'/'17_209,68_3-pointer failure.png'\n",
        "str(a).split('/')[-1].split('.')[0].split('_')[-1]"
      ],
      "execution_count": 14,
      "outputs": [
        {
          "output_type": "execute_result",
          "data": {
            "text/plain": [
              "'3-pointer failure'"
            ]
          },
          "metadata": {
            "tags": []
          },
          "execution_count": 14
        }
      ]
    },
    {
      "cell_type": "code",
      "metadata": {
        "id": "n1coVg2oN9sz",
        "colab_type": "code",
        "outputId": "43ec7b97-0df2-4787-9ab5-c4dfd158045d",
        "colab": {
          "base_uri": "https://localhost:8080/",
          "height": 34
        }
      },
      "source": [
        "'''TEST'''\n",
        "b = path/'train'/'24_3-pointer success.png'\n",
        "str(b).split('/')[-1].split('.')[0].split('_')[1]"
      ],
      "execution_count": 0,
      "outputs": [
        {
          "output_type": "execute_result",
          "data": {
            "text/plain": [
              "'3-pointer success'"
            ]
          },
          "metadata": {
            "tags": []
          },
          "execution_count": 26
        }
      ]
    },
    {
      "cell_type": "code",
      "metadata": {
        "id": "iT2IbHZ2O3Lb",
        "colab_type": "code",
        "colab": {}
      },
      "source": [
        "#Creating Databunch. \n",
        "np.random.seed(42)\n",
        "data = ImageDataBunch.from_folder(path, train=\"train\", valid=\"valid\",\n",
        "                                  ds_tfms = transforms, size =128,\n",
        "                                  num_workers = 4).normalize(imagenet_stats);"
      ],
      "execution_count": 0,
      "outputs": []
    },
    {
      "cell_type": "code",
      "metadata": {
        "id": "cMxFiBoIZtN0",
        "colab_type": "code",
        "outputId": "ec0b4a30-3c9e-4287-b2d1-b1828e4c01cf",
        "colab": {
          "base_uri": "https://localhost:8080/",
          "height": 255
        }
      },
      "source": [
        "data.c , data.classes , len(data.train_ds) , len(data.valid_ds) , len(data.train_dl) , len(data.valid_dl)"
      ],
      "execution_count": 21,
      "outputs": [
        {
          "output_type": "execute_result",
          "data": {
            "text/plain": [
              "(9,\n",
              " ['3-pointer failure',\n",
              "  '3-pointer success',\n",
              "  'free-throw failure',\n",
              "  'free-throw success',\n",
              "  'layup failure',\n",
              "  'layup success',\n",
              "  'other 2-pointer failure',\n",
              "  'other 2-pointer success',\n",
              "  'slam dunk'],\n",
              " 4611,\n",
              " 576,\n",
              " 72,\n",
              " 9)"
            ]
          },
          "metadata": {
            "tags": []
          },
          "execution_count": 21
        }
      ]
    },
    {
      "cell_type": "code",
      "metadata": {
        "id": "SK2XrdEaaAnm",
        "colab_type": "code",
        "colab": {
          "base_uri": "https://localhost:8080/",
          "height": 170
        },
        "outputId": "a4957a8e-4faf-4213-8ce8-2771b82474d1"
      },
      "source": [
        "data.classes"
      ],
      "execution_count": 19,
      "outputs": [
        {
          "output_type": "execute_result",
          "data": {
            "text/plain": [
              "['3-pointer failure',\n",
              " '3-pointer success',\n",
              " 'free-throw failure',\n",
              " 'free-throw success',\n",
              " 'layup failure',\n",
              " 'layup success',\n",
              " 'other 2-pointer failure',\n",
              " 'other 2-pointer success',\n",
              " 'slam dunk']"
            ]
          },
          "metadata": {
            "tags": []
          },
          "execution_count": 19
        }
      ]
    },
    {
      "cell_type": "code",
      "metadata": {
        "id": "mi8MB5uNKS9i",
        "colab_type": "code",
        "colab": {
          "base_uri": "https://localhost:8080/",
          "height": 306
        },
        "outputId": "5bc7b336-6666-48fa-fb7e-8ce1b05bcf8a"
      },
      "source": [
        "data"
      ],
      "execution_count": 22,
      "outputs": [
        {
          "output_type": "execute_result",
          "data": {
            "text/plain": [
              "ImageDataBunch;\n",
              "\n",
              "Train: LabelList (4611 items)\n",
              "x: ImageList\n",
              "Image (3, 128, 128),Image (3, 128, 128),Image (3, 128, 128),Image (3, 128, 128),Image (3, 128, 128)\n",
              "y: CategoryList\n",
              "3-pointer failure,3-pointer failure,3-pointer failure,3-pointer failure,3-pointer failure\n",
              "Path: /content/gdrive/My Drive/My Notes/3rd year/Individual Projects/Data2/Basketball;\n",
              "\n",
              "Valid: LabelList (576 items)\n",
              "x: ImageList\n",
              "Image (3, 128, 128),Image (3, 128, 128),Image (3, 128, 128),Image (3, 128, 128),Image (3, 128, 128)\n",
              "y: CategoryList\n",
              "layup success,layup success,layup success,layup success,layup success\n",
              "Path: /content/gdrive/My Drive/My Notes/3rd year/Individual Projects/Data2/Basketball;\n",
              "\n",
              "Test: None"
            ]
          },
          "metadata": {
            "tags": []
          },
          "execution_count": 22
        }
      ]
    },
    {
      "cell_type": "code",
      "metadata": {
        "id": "OlpEaw_3Mf3U",
        "colab_type": "code",
        "colab": {}
      },
      "source": [
        ""
      ],
      "execution_count": 0,
      "outputs": []
    }
  ]
}