{
 "cells": [
  {
   "cell_type": "code",
   "execution_count": 1,
   "metadata": {},
   "outputs": [],
   "source": [
    "import cv2\n",
    "import sys\n",
    "import math\n",
    "import numpy as np\n",
    "import os\n",
    "import pysift"
   ]
  },
  {
   "cell_type": "code",
   "execution_count": 2,
   "metadata": {},
   "outputs": [],
   "source": [
    "feature_object = cv2.ORB_create(50000)"
   ]
  },
  {
   "cell_type": "code",
   "execution_count": 3,
   "metadata": {},
   "outputs": [],
   "source": [
    "FLANN_INDEX_LSH = 6\n",
    "index_params = dict(algorithm = FLANN_INDEX_LSH,\n",
    "                   table_number = 6,\n",
    "                   key_size = 12,\n",
    "                   multi_probe_level = 1)\n"
   ]
  },
  {
   "cell_type": "code",
   "execution_count": 4,
   "metadata": {},
   "outputs": [],
   "source": [
    "search_params = dict(check=50)\n",
    "matcher = cv2.FlannBasedMatcher(index_params,search_params)\n"
   ]
  },
  {
   "cell_type": "markdown",
   "metadata": {},
   "source": [
    "#Finding Features in the first image"
   ]
  },
  {
   "cell_type": "code",
   "execution_count": 8,
   "metadata": {},
   "outputs": [],
   "source": [
    "test_img_dir = '/Users/sandeep/Desktop/FinalYearProject/YoutubeScreenshotScrapper/data/test/LukaAllBoard2.jpg'"
   ]
  },
  {
   "cell_type": "code",
   "execution_count": 9,
   "metadata": {},
   "outputs": [],
   "source": [
    "\n",
    "img = cv2.imread(test_img_dir,0)\n"
   ]
  },
  {
   "cell_type": "code",
   "execution_count": 10,
   "metadata": {},
   "outputs": [],
   "source": [
    "\n",
    "keypoints, descriptors = feature_object.detectAndCompute(img,None)"
   ]
  },
  {
   "cell_type": "markdown",
   "metadata": {
    "heading_collapsed": true
   },
   "source": [
    "#Detecting features in second frame"
   ]
  },
  {
   "cell_type": "code",
   "execution_count": 313,
   "metadata": {
    "hidden": true
   },
   "outputs": [],
   "source": [
    "test_img2_dir = '/Users/sandeep/Desktop/FinalYearProject/YoutubeScreenshotScrapper/data/test/PZ.png'\n",
    "img2 = cv2.imread(test_img2_dir,0)\n"
   ]
  },
  {
   "cell_type": "code",
   "execution_count": 314,
   "metadata": {
    "hidden": true
   },
   "outputs": [],
   "source": [
    "keypoints_img2 , descriptors_img2 = feature_object.detectAndCompute(img2, None)\n"
   ]
  },
  {
   "cell_type": "markdown",
   "metadata": {
    "heading_collapsed": true
   },
   "source": [
    "#Finding Matches"
   ]
  },
  {
   "cell_type": "code",
   "execution_count": 315,
   "metadata": {
    "hidden": true
   },
   "outputs": [],
   "source": [
    "#matcher = cv2.BFMatcher()\n",
    "matches = matcher.knnMatch(descriptors , trainDescriptors = descriptors_img2, k = 2)\n",
    "good_matches = []\n",
    "try:\n",
    "   for (m,n) in matches:\n",
    "       if m.distance < 0.7*n.distance:\n",
    "           good_matches.append(m)\n",
    "except ValueError:\n",
    "   print(\"caught error - no matches from current frame\")"
   ]
  },
  {
   "cell_type": "markdown",
   "metadata": {},
   "source": [
    "#Drawing matches"
   ]
  },
  {
   "cell_type": "code",
   "execution_count": 316,
   "metadata": {},
   "outputs": [],
   "source": [
    "source_pts = np.float32([keypoints[m.queryIdx].pt for m in good_matches ]).reshape(-1,1,2)\n",
    "destination_pts = np.float32([ keypoints_img2[m.trainIdx].pt for m in good_matches ]).reshape(-1,1,2)\n"
   ]
  },
  {
   "cell_type": "code",
   "execution_count": 317,
   "metadata": {},
   "outputs": [],
   "source": [
    "draw_params = dict(matchColor= (0,255,0) , singlePointColor = (25,0,0) , flags= 0)\n",
    "display_matches = cv2.drawMatches(img, keypoints , img2 , keypoints_img2, good_matches, None, **draw_params)"
   ]
  },
  {
   "cell_type": "code",
   "execution_count": 318,
   "metadata": {
    "scrolled": false
   },
   "outputs": [
    {
     "data": {
      "text/plain": [
       "True"
      ]
     },
     "execution_count": 318,
     "metadata": {},
     "output_type": "execute_result"
    }
   ],
   "source": [
    "cv2.imwrite( '/Users/sandeep/Desktop/FinalYearProject/YoutubeScreenshotScrapper/data/test/PZBoardOrbMatches.png', \n",
    "           display_matches) "
   ]
  },
  {
   "cell_type": "markdown",
   "metadata": {},
   "source": [
    "#Demo"
   ]
  },
  {
   "cell_type": "code",
   "execution_count": null,
   "metadata": {},
   "outputs": [],
   "source": [
    "videoPath ='/Users/sandeep/Desktop/FinalYearProject/YoutubeScreenshotScrapper/data/test/testVideo.mp4'\n",
    "cap  = cv2.VideoCapture(videoPath)\n",
    "while(cap.isOpened()):\n",
    "    ret, img2 = cap.read()\n",
    "    img2 = cv2.resize(img2 , (img.shape[1], img.shape[0]))\n",
    "    if ret:\n",
    "        keypoints_img2 , descriptors_img2 = feature_object.detectAndCompute(img2, None)\n",
    "        \n",
    "        matches = matcher.knnMatch(descriptors , trainDescriptors = descriptors_img2, k = 2)\n",
    "        good_matches = []\n",
    "        try:\n",
    "           for (m,n) in matches:\n",
    "               if m.distance < 0.7*n.distance:\n",
    "                   good_matches.append(m)\n",
    "        except ValueError:\n",
    "           print(\"caught error - no matches from current frame\")\n",
    "        \n",
    "        source_pts = np.float32([keypoints[m.queryIdx].pt for m in good_matches ]).reshape(-1,1,2)\n",
    "        destination_pts = np.float32([ keypoints_img2[m.trainIdx].pt for m in good_matches ]).reshape(-1,1,2)\n",
    "        \n",
    "        draw_params = dict(matchColor= (0,255,0) , singlePointColor = (25,0,0) , flags= 0)\n",
    "        display_matches = cv2.drawMatches(img, keypoints , img2 , keypoints_img2, good_matches, None, **draw_params)\n",
    "        \n",
    "        cv2.imshow(\"Demo\", display_matches)\n",
    "        if cv2.waitKey(1) & 0xFF == ord('q'):\n",
    "            break\n",
    "    else:\n",
    "        cap.release()\n",
    "        break\n",
    "cap.release()\n",
    "cv2.destroyAllWindows()   \n",
    "        "
   ]
  },
  {
   "cell_type": "markdown",
   "metadata": {
    "heading_collapsed": true
   },
   "source": [
    "# Finding SIFT features"
   ]
  },
  {
   "cell_type": "code",
   "execution_count": null,
   "metadata": {
    "hidden": true
   },
   "outputs": [],
   "source": []
  },
  {
   "cell_type": "code",
   "execution_count": 419,
   "metadata": {
    "hidden": true
   },
   "outputs": [],
   "source": [
    "img = cv2.imread('/Users/sandeep/Desktop/FinalYearProject/YoutubeScreenshotScrapper/data/test/segmentedRimCopy.jpg', 0)"
   ]
  },
  {
   "cell_type": "code",
   "execution_count": 420,
   "metadata": {
    "hidden": true
   },
   "outputs": [],
   "source": [
    "keypoints, descriptors = pysift.computeKeypointsAndDescriptors(img)"
   ]
  },
  {
   "cell_type": "code",
   "execution_count": 417,
   "metadata": {
    "hidden": true
   },
   "outputs": [],
   "source": [
    "img2 = cv2.resize(img2,(250,250))\n",
    "keypoints_img2 , descriptors_img2 = pysift.computeKeypointsAndDescriptors(img2)"
   ]
  },
  {
   "cell_type": "code",
   "execution_count": 421,
   "metadata": {
    "hidden": true
   },
   "outputs": [],
   "source": [
    "# Initialize and use FLANN\n",
    "FLANN_INDEX_KDTREE = 0\n",
    "index_params = dict(algorithm = FLANN_INDEX_KDTREE, trees = 5)\n",
    "search_params = dict(checks = 50)\n",
    "matcher = cv2.FlannBasedMatcher(index_params, search_params)\n",
    "matches = matcher.knnMatch(descriptors, descriptors_img2, k=2)"
   ]
  },
  {
   "cell_type": "code",
   "execution_count": null,
   "metadata": {
    "hidden": true
   },
   "outputs": [],
   "source": []
  }
 ],
 "metadata": {
  "kernelspec": {
   "display_name": "Python 3",
   "language": "python",
   "name": "python3"
  },
  "language_info": {
   "codemirror_mode": {
    "name": "ipython",
    "version": 3
   },
   "file_extension": ".py",
   "mimetype": "text/x-python",
   "name": "python",
   "nbconvert_exporter": "python",
   "pygments_lexer": "ipython3",
   "version": "3.7.4"
  },
  "toc": {
   "base_numbering": 1,
   "nav_menu": {},
   "number_sections": true,
   "sideBar": true,
   "skip_h1_title": false,
   "title_cell": "Table of Contents",
   "title_sidebar": "Contents",
   "toc_cell": false,
   "toc_position": {},
   "toc_section_display": true,
   "toc_window_display": false
  },
  "varInspector": {
   "cols": {
    "lenName": 16,
    "lenType": 16,
    "lenVar": 40
   },
   "kernels_config": {
    "python": {
     "delete_cmd_postfix": "",
     "delete_cmd_prefix": "del ",
     "library": "var_list.py",
     "varRefreshCmd": "print(var_dic_list())"
    },
    "r": {
     "delete_cmd_postfix": ") ",
     "delete_cmd_prefix": "rm(",
     "library": "var_list.r",
     "varRefreshCmd": "cat(var_dic_list()) "
    }
   },
   "types_to_exclude": [
    "module",
    "function",
    "builtin_function_or_method",
    "instance",
    "_Feature"
   ],
   "window_display": false
  }
 },
 "nbformat": 4,
 "nbformat_minor": 2
}
