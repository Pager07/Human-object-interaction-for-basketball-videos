{
 "cells": [
  {
   "cell_type": "code",
   "execution_count": 25,
   "metadata": {},
   "outputs": [],
   "source": [
    "#Reload an IPython extension by its module name.\n",
    "%reload_ext autoreload\n",
    "#2 is the code to reload ALL modules before running any code cell\n",
    "%autoreload 2 \n",
    "import cv2\n",
    "import numpy as np\n",
    "import os\n",
    "import pathlib\n",
    "from fastai.vision import *\n",
    "import cmapy\n",
    "import matplotlib.pyplot as plt\n",
    "import matplotlib.image as mpimg\n",
    "from matplotlib.transforms import Bbox\n",
    "from matplotlib.backends.backend_agg import FigureCanvasAgg\n",
    "from PIL import Image\n",
    "%matplotlib inline"
   ]
  },
  {
   "cell_type": "code",
   "execution_count": 3,
   "metadata": {},
   "outputs": [],
   "source": [
    "import warnings\n",
    "warnings.filterwarnings(\"ignore\", category=UserWarning, module=\"torch.nn.functional\")"
   ]
  },
  {
   "cell_type": "markdown",
   "metadata": {},
   "source": [
    "#Loading the court segmentation model"
   ]
  },
  {
   "cell_type": "code",
   "execution_count": 8,
   "metadata": {},
   "outputs": [],
   "source": [
    "path = Path('/Users/sandeep/Desktop/FinalYearProject/Python Files/courtSegmentation')\n"
   ]
  },
  {
   "cell_type": "code",
   "execution_count": 9,
   "metadata": {},
   "outputs": [
    {
     "data": {
      "text/plain": [
       "array(['Other', '2Point', '3Point', 'Board', 'Freethrow', 'Layup'], dtype='<U9')"
      ]
     },
     "execution_count": 9,
     "metadata": {},
     "output_type": "execute_result"
    }
   ],
   "source": [
    "codes = np.loadtxt(path/'codes.txt', dtype=str);codes"
   ]
  },
  {
   "cell_type": "code",
   "execution_count": 10,
   "metadata": {},
   "outputs": [],
   "source": [
    "name2id = {v:k for k,v in enumerate(codes)}\n",
    "void_code = name2id['Other']\n",
    "\n",
    "def acc_courtSeg(input, target):\n",
    "    target = target.squeeze(1)\n",
    "    mask = target != void_code\n",
    "    return (input.argmax(dim=1)[mask]==target[mask]).float().mean()"
   ]
  },
  {
   "cell_type": "code",
   "execution_count": 11,
   "metadata": {
    "collapsed": true
   },
   "outputs": [
    {
     "name": "stderr",
     "output_type": "stream",
     "text": [
      "/Library/Frameworks/Python.framework/Versions/3.7/lib/python3.7/site-packages/torch/serialization.py:453: SourceChangeWarning: source code of class 'fastai.vision.models.unet.DynamicUnet' has changed. you can retrieve the original source code by accessing the object's source attribute or set `torch.nn.Module.dump_patches = True` and use the patch tool to revert the changes.\n",
      "  warnings.warn(msg, SourceChangeWarning)\n",
      "/Library/Frameworks/Python.framework/Versions/3.7/lib/python3.7/site-packages/torch/serialization.py:453: SourceChangeWarning: source code of class 'torch.nn.modules.container.ModuleList' has changed. you can retrieve the original source code by accessing the object's source attribute or set `torch.nn.Module.dump_patches = True` and use the patch tool to revert the changes.\n",
      "  warnings.warn(msg, SourceChangeWarning)\n",
      "/Library/Frameworks/Python.framework/Versions/3.7/lib/python3.7/site-packages/torch/serialization.py:453: SourceChangeWarning: source code of class 'torch.nn.modules.container.Sequential' has changed. you can retrieve the original source code by accessing the object's source attribute or set `torch.nn.Module.dump_patches = True` and use the patch tool to revert the changes.\n",
      "  warnings.warn(msg, SourceChangeWarning)\n",
      "/Library/Frameworks/Python.framework/Versions/3.7/lib/python3.7/site-packages/torch/serialization.py:453: SourceChangeWarning: source code of class 'torchvision.models.resnet.BasicBlock' has changed. you can retrieve the original source code by accessing the object's source attribute or set `torch.nn.Module.dump_patches = True` and use the patch tool to revert the changes.\n",
      "  warnings.warn(msg, SourceChangeWarning)\n",
      "/Library/Frameworks/Python.framework/Versions/3.7/lib/python3.7/site-packages/torch/serialization.py:453: SourceChangeWarning: source code of class 'fastai.layers.MergeLayer' has changed. you can retrieve the original source code by accessing the object's source attribute or set `torch.nn.Module.dump_patches = True` and use the patch tool to revert the changes.\n",
      "  warnings.warn(msg, SourceChangeWarning)\n"
     ]
    }
   ],
   "source": [
    "learn = load_learner('/Users/sandeep/Desktop/dataandmodles/models/courtSegmentation/u-net')"
   ]
  },
  {
   "cell_type": "markdown",
   "metadata": {},
   "source": [
    "#Getting Prediction"
   ]
  },
  {
   "cell_type": "code",
   "execution_count": 13,
   "metadata": {},
   "outputs": [],
   "source": [
    "test_img = open_image('/Users/sandeep/Desktop/FinalYearProject/YoutubeScreenshotScrapper/data/test/Luka.png')\n",
    "x = learn.predict(test_img)"
   ]
  },
  {
   "cell_type": "markdown",
   "metadata": {},
   "source": [
    "#Converting the u-net output to a usable format"
   ]
  },
  {
   "cell_type": "code",
   "execution_count": 44,
   "metadata": {
    "scrolled": true
   },
   "outputs": [
    {
     "data": {
      "text/plain": [
       "<Figure size 432x288 with 0 Axes>"
      ]
     },
     "metadata": {},
     "output_type": "display_data"
    }
   ],
   "source": [
    "fig_args = {\"dpi\": 72 , \n",
    "            \"scalefactor\": 1\n",
    "             }\n",
    "fig = plt.figure()\n",
    "figCanvasAgg = FigureCanvasAgg(fig)\n",
    "renderer = figCanvasAgg.get_renderer()\n",
    "figureImage = mpimg.FigureImage(fig)\n",
    "def set_figsize(w,h):\n",
    "    '''\n",
    "    A helper function for apply_cmap\n",
    "    note: img.shape= (H,W)\n",
    "    '''\n",
    "    xinch = w * fig_args[\"scalefactor\"] / fig_args[\"dpi\"]\n",
    "    yinch = h * fig_args[\"scalefactor\"] / fig_args[\"dpi\"]\n",
    "    fig.set_size_inches(xinch , yinch)\n",
    "\n",
    "def rbga_to_brg(img):\n",
    "    '''\n",
    "    Helper function  for apply cmap\n",
    "    Given: Image array in rbga \n",
    "    Returns: image array in brg \n",
    "    '''\n",
    "    #from  rgba to rgb \n",
    "    img_rbg = img[0][:,:,0:3];\n",
    "    img_bgr = np.squeeze(np.dstack([img_rbg[:,:,2] ,img_rbg[:,:,1] , img_rbg[:,:,0]]))    \n",
    "    return img_bgr\n",
    "def rotate_img(img):\n",
    "    '''\n",
    "    Helper function  for apply cmapp\n",
    "    Return image that is rotated 180 degree anticlock-wise \n",
    "    '''\n",
    "    return np.rot90(img , k=2)\n",
    "def reflect_lr(img):\n",
    "    '''\n",
    "    Helper function  for apply cmap\n",
    "    Returns image that is reflected across the y-axis\n",
    "    '''\n",
    "    return np.fliplr(img)\n",
    "    \n",
    "def apply_cmap(img_mask):\n",
    "    set_figsize(img_mask.shape[1] , img_mask.shape[0])\n",
    "    figureImage.set_data(img_mask)\n",
    "    figureImageData = figureImage.make_image(renderer);\n",
    "    figureImageData = rbga_to_brg(figureImageData)\n",
    "    figureImageData = rotate_img(figureImageData)\n",
    "    figureImageData = reflect_lr(figureImageData)\n",
    "    return figureImageData\n",
    "  \n",
    "def get_class_mask(x):\n",
    "    return image2np(x[0].data)    \n",
    "    \n",
    "    "
   ]
  },
  {
   "cell_type": "code",
   "execution_count": 45,
   "metadata": {},
   "outputs": [],
   "source": [
    "class_mask = get_class_mask(x)\n",
    "cmapped_img = apply_cmap(class_mask)\n"
   ]
  },
  {
   "cell_type": "code",
   "execution_count": 38,
   "metadata": {},
   "outputs": [],
   "source": [
    "cmapped_img = np.fliplr(np.rot90(cmapped_img , k=2))"
   ]
  },
  {
   "cell_type": "code",
   "execution_count": 46,
   "metadata": {},
   "outputs": [
    {
     "data": {
      "text/plain": [
       "True"
      ]
     },
     "execution_count": 46,
     "metadata": {},
     "output_type": "execute_result"
    }
   ],
   "source": [
    "cv2.imwrite('/Users/sandeep/Desktop/FinalYearProject/YoutubeScreenshotScrapper/data/test/LukaCourtSegPlot3.png', cmapped_img)"
   ]
  },
  {
   "cell_type": "markdown",
   "metadata": {
    "heading_collapsed": true
   },
   "source": [
    "#Color Mapping the prediction (TEST)"
   ]
  },
  {
   "cell_type": "code",
   "execution_count": 7,
   "metadata": {
    "hidden": true
   },
   "outputs": [],
   "source": [
    "test_img = open_image('/Users/sandeep/Desktop/FinalYearProject/YoutubeScreenshotScrapper/data/test/Luka.png')\n",
    "x = learn.predict(test_img)"
   ]
  },
  {
   "cell_type": "code",
   "execution_count": 8,
   "metadata": {
    "hidden": true
   },
   "outputs": [],
   "source": [
    "img_mask = image2np(x[0].data)\n"
   ]
  },
  {
   "cell_type": "code",
   "execution_count": 91,
   "metadata": {
    "hidden": true,
    "scrolled": true
   },
   "outputs": [
    {
     "data": {
      "text/plain": [
       "array([[0, 0, 0, 0, ..., 0, 0, 0, 0],\n",
       "       [0, 0, 0, 0, ..., 0, 0, 0, 0],\n",
       "       [0, 0, 0, 0, ..., 0, 0, 0, 0],\n",
       "       [0, 0, 0, 0, ..., 0, 0, 0, 0],\n",
       "       ...,\n",
       "       [0, 0, 0, 0, ..., 1, 1, 1, 1],\n",
       "       [0, 0, 0, 0, ..., 1, 1, 1, 1],\n",
       "       [0, 0, 0, 0, ..., 1, 1, 1, 1],\n",
       "       [0, 0, 0, 0, ..., 1, 1, 1, 1]])"
      ]
     },
     "execution_count": 91,
     "metadata": {},
     "output_type": "execute_result"
    }
   ],
   "source": [
    "img_mask"
   ]
  },
  {
   "cell_type": "code",
   "execution_count": 26,
   "metadata": {
    "hidden": true
   },
   "outputs": [
    {
     "data": {
      "text/plain": [
       "(720, 1280, 4)"
      ]
     },
     "execution_count": 26,
     "metadata": {},
     "output_type": "execute_result"
    },
    {
     "data": {
      "image/png": "[encoded data removed]",
      "text/plain": [
       "<Figure size 1280x720 with 1 Axes>"
      ]
     },
     "metadata": {},
     "output_type": "display_data"
    }
   ],
   "source": [
    "xpixels = img_mask.shape[1]\n",
    "ypixels = img_mask.shape[0]\n",
    "dpi = 72\n",
    "scalefactor = 1\n",
    "xinch = xpixels * scalefactor / dpi\n",
    "yinch = ypixels * scalefactor / dpi\n",
    "fig = plt.figure(figsize=(xinch,yinch))\n",
    "ax = plt.axes([0, 0, 1, 1], frame_on=False, xticks=[], yticks=[])\n",
    "img_plot = plt.imshow(img_mask,interpolation='nearest')\n",
    "axesImage = img_plot.make_image('TkAgg');axesImage[0].shape"
   ]
  },
  {
   "cell_type": "code",
   "execution_count": 40,
   "metadata": {
    "collapsed": true,
    "hidden": true
   },
   "outputs": [
    {
     "data": {
      "text/plain": [
       "(array([[[ 68,   1,  84, 255],\n",
       "         [ 68,   1,  84, 255],\n",
       "         [ 68,   1,  84, 255],\n",
       "         [ 68,   1,  84, 255],\n",
       "         ...,\n",
       "         [ 64,  67, 135, 255],\n",
       "         [ 64,  67, 135, 255],\n",
       "         [ 64,  67, 135, 255],\n",
       "         [ 64,  67, 135, 255]],\n",
       " \n",
       "        [[ 68,   1,  84, 255],\n",
       "         [ 68,   1,  84, 255],\n",
       "         [ 68,   1,  84, 255],\n",
       "         [ 68,   1,  84, 255],\n",
       "         ...,\n",
       "         [ 64,  67, 135, 255],\n",
       "         [ 64,  67, 135, 255],\n",
       "         [ 64,  67, 135, 255],\n",
       "         [ 64,  67, 135, 255]],\n",
       " \n",
       "        [[ 68,   1,  84, 255],\n",
       "         [ 68,   1,  84, 255],\n",
       "         [ 68,   1,  84, 255],\n",
       "         [ 68,   1,  84, 255],\n",
       "         ...,\n",
       "         [ 64,  67, 135, 255],\n",
       "         [ 64,  67, 135, 255],\n",
       "         [ 64,  67, 135, 255],\n",
       "         [ 64,  67, 135, 255]],\n",
       " \n",
       "        [[ 68,   1,  84, 255],\n",
       "         [ 68,   1,  84, 255],\n",
       "         [ 68,   1,  84, 255],\n",
       "         [ 68,   1,  84, 255],\n",
       "         ...,\n",
       "         [ 64,  67, 135, 255],\n",
       "         [ 64,  67, 135, 255],\n",
       "         [ 64,  67, 135, 255],\n",
       "         [ 64,  67, 135, 255]],\n",
       " \n",
       "        ...,\n",
       " \n",
       "        [[ 68,   1,  84, 255],\n",
       "         [ 68,   1,  84, 255],\n",
       "         [ 68,   1,  84, 255],\n",
       "         [ 68,   1,  84, 255],\n",
       "         ...,\n",
       "         [ 68,   1,  84, 255],\n",
       "         [ 68,   1,  84, 255],\n",
       "         [ 68,   1,  84, 255],\n",
       "         [ 68,   1,  84, 255]],\n",
       " \n",
       "        [[ 68,   1,  84, 255],\n",
       "         [ 68,   1,  84, 255],\n",
       "         [ 68,   1,  84, 255],\n",
       "         [ 68,   1,  84, 255],\n",
       "         ...,\n",
       "         [ 68,   1,  84, 255],\n",
       "         [ 68,   1,  84, 255],\n",
       "         [ 68,   1,  84, 255],\n",
       "         [ 68,   1,  84, 255]],\n",
       " \n",
       "        [[ 68,   1,  84, 255],\n",
       "         [ 68,   1,  84, 255],\n",
       "         [ 68,   1,  84, 255],\n",
       "         [ 68,   1,  84, 255],\n",
       "         ...,\n",
       "         [ 68,   1,  84, 255],\n",
       "         [ 68,   1,  84, 255],\n",
       "         [ 68,   1,  84, 255],\n",
       "         [ 68,   1,  84, 255]],\n",
       " \n",
       "        [[ 68,   1,  84, 255],\n",
       "         [ 68,   1,  84, 255],\n",
       "         [ 68,   1,  84, 255],\n",
       "         [ 68,   1,  84, 255],\n",
       "         ...,\n",
       "         [ 68,   1,  84, 255],\n",
       "         [ 68,   1,  84, 255],\n",
       "         [ 68,   1,  84, 255],\n",
       "         [ 68,   1,  84, 255]]], dtype=uint8),\n",
       " 0.0,\n",
       " 0.0,\n",
       " <matplotlib.transforms.CompositeGenericTransform at 0x17800d390>)"
      ]
     },
     "execution_count": 40,
     "metadata": {},
     "output_type": "execute_result"
    }
   ],
   "source": [
    "axesImage"
   ]
  },
  {
   "cell_type": "code",
   "execution_count": 94,
   "metadata": {
    "hidden": true
   },
   "outputs": [],
   "source": [
    "figureImage = mpimg.FigureImage(fig); figureImage\n",
    "figureImage.set_data(img_mask)"
   ]
  },
  {
   "cell_type": "code",
   "execution_count": 86,
   "metadata": {
    "hidden": true
   },
   "outputs": [],
   "source": [
    "figCanvasAgg = FigureCanvasAgg(fig)\n",
    "renderer = figCanvasAgg.get_renderer()"
   ]
  },
  {
   "cell_type": "code",
   "execution_count": 87,
   "metadata": {
    "hidden": true,
    "scrolled": false
   },
   "outputs": [
    {
     "data": {
      "text/plain": [
       "(720, 1280, 4)"
      ]
     },
     "execution_count": 87,
     "metadata": {},
     "output_type": "execute_result"
    }
   ],
   "source": [
    "figureImageData = figureImage.make_image(renderer);figureImageData[0].shape"
   ]
  },
  {
   "cell_type": "code",
   "execution_count": 88,
   "metadata": {
    "hidden": true,
    "scrolled": true
   },
   "outputs": [
    {
     "data": {
      "text/plain": [
       "(720, 1280, 3)"
      ]
     },
     "execution_count": 88,
     "metadata": {},
     "output_type": "execute_result"
    }
   ],
   "source": [
    "#from  rgba to rgb \n",
    "figureImageData = figureImageData[0][:,:,0:3];figureImageData.shape\n"
   ]
  },
  {
   "cell_type": "code",
   "execution_count": 90,
   "metadata": {
    "hidden": true
   },
   "outputs": [],
   "source": [
    "figureImageData = np.squeeze(np.dstack([figureImageData[:,:,2] ,figureImageData[:,:,1] , figureImageData[:,:,0]]))"
   ]
  },
  {
   "cell_type": "code",
   "execution_count": 91,
   "metadata": {
    "hidden": true,
    "scrolled": true
   },
   "outputs": [
    {
     "data": {
      "text/plain": [
       "True"
      ]
     },
     "execution_count": 91,
     "metadata": {},
     "output_type": "execute_result"
    }
   ],
   "source": [
    "cv2.imwrite('/Users/sandeep/Desktop/FinalYearProject/YoutubeScreenshotScrapper/data/test/LukaCourtSegPlot.png', figureImageData)"
   ]
  },
  {
   "cell_type": "code",
   "execution_count": 16,
   "metadata": {
    "collapsed": true,
    "hidden": true
   },
   "outputs": [
    {
     "data": {
      "text/plain": [
       "(720, 1280, 4)"
      ]
     },
     "execution_count": 16,
     "metadata": {},
     "output_type": "execute_result"
    }
   ],
   "source": [
    "axesImage = img_plot.make_image('TkAgg');axesImage[0].shape"
   ]
  },
  {
   "cell_type": "code",
   "execution_count": 108,
   "metadata": {
    "hidden": true,
    "scrolled": false
   },
   "outputs": [
    {
     "data": {
      "text/plain": [
       "<matplotlib.colorbar.Colorbar at 0x178cfca50>"
      ]
     },
     "execution_count": 108,
     "metadata": {},
     "output_type": "execute_result"
    },
    {
     "data": {
      "image/png": "[encoded data removed]",
      "text/plain": [
       "<Figure size 432x288 with 2 Axes>"
      ]
     },
     "metadata": {
      "needs_background": "light"
     },
     "output_type": "display_data"
    }
   ],
   "source": [
    "img_plot = plt.imshow(img_mask,interpolation='nearest')\n",
    "plt.colorbar()\n"
   ]
  },
  {
   "cell_type": "code",
   "execution_count": 106,
   "metadata": {
    "hidden": true
   },
   "outputs": [
    {
     "data": {
      "text/plain": [
       "<matplotlib.colorbar.Colorbar at 0x178bece10>"
      ]
     },
     "execution_count": 106,
     "metadata": {},
     "output_type": "execute_result"
    },
    {
     "data": {
      "image/png": "[encoded data removed]",
      "text/plain": [
       "<Figure size 432x288 with 2 Axes>"
      ]
     },
     "metadata": {
      "needs_background": "light"
     },
     "output_type": "display_data"
    }
   ],
   "source": [
    "img_plot = plt.imshow(img_mask , interpolation=\"bicubic\")\n",
    "plt.colorbar()"
   ]
  },
  {
   "cell_type": "code",
   "execution_count": 126,
   "metadata": {
    "hidden": true,
    "scrolled": true
   },
   "outputs": [
    {
     "data": {
      "text/plain": [
       "<matplotlib.colorbar.Colorbar at 0x19c80ef90>"
      ]
     },
     "execution_count": 126,
     "metadata": {},
     "output_type": "execute_result"
    },
    {
     "data": {
      "image/png": "[encoded data removed]",
      "text/plain": [
       "<Figure size 432x288 with 2 Axes>"
      ]
     },
     "metadata": {
      "needs_background": "light"
     },
     "output_type": "display_data"
    }
   ],
   "source": [
    "img_plot = plt.imshow(img_mask,interpolation='gaussian', aspect='auto')\n",
    "plt.colorbar()"
   ]
  },
  {
   "cell_type": "code",
   "execution_count": 114,
   "metadata": {
    "collapsed": true,
    "hidden": true
   },
   "outputs": [
    {
     "data": {
      "text/plain": [
       "(array([[[ 68,   1,  84, 255],\n",
       "         [ 68,   1,  84, 255],\n",
       "         [ 68,   1,  84, 255],\n",
       "         [ 68,   1,  84, 255],\n",
       "         ...,\n",
       "         [ 64,  67, 135, 255],\n",
       "         [ 64,  67, 135, 255],\n",
       "         [ 64,  67, 135, 255],\n",
       "         [ 64,  67, 135, 255]],\n",
       " \n",
       "        [[ 68,   1,  84, 255],\n",
       "         [ 68,   1,  84, 255],\n",
       "         [ 68,   1,  84, 255],\n",
       "         [ 68,   1,  84, 255],\n",
       "         ...,\n",
       "         [ 64,  67, 135, 255],\n",
       "         [ 64,  67, 135, 255],\n",
       "         [ 64,  67, 135, 255],\n",
       "         [ 64,  67, 135, 255]],\n",
       " \n",
       "        [[ 68,   1,  84, 255],\n",
       "         [ 68,   1,  84, 255],\n",
       "         [ 68,   1,  84, 255],\n",
       "         [ 68,   1,  84, 255],\n",
       "         ...,\n",
       "         [ 64,  67, 135, 255],\n",
       "         [ 64,  67, 135, 255],\n",
       "         [ 64,  67, 135, 255],\n",
       "         [ 64,  67, 135, 255]],\n",
       " \n",
       "        [[ 68,   1,  84, 255],\n",
       "         [ 68,   1,  84, 255],\n",
       "         [ 68,   1,  84, 255],\n",
       "         [ 68,   1,  84, 255],\n",
       "         ...,\n",
       "         [ 64,  67, 135, 255],\n",
       "         [ 64,  67, 135, 255],\n",
       "         [ 64,  67, 135, 255],\n",
       "         [ 64,  67, 135, 255]],\n",
       " \n",
       "        ...,\n",
       " \n",
       "        [[ 68,   1,  84, 255],\n",
       "         [ 68,   1,  84, 255],\n",
       "         [ 68,   1,  84, 255],\n",
       "         [ 68,   1,  84, 255],\n",
       "         ...,\n",
       "         [ 68,   1,  84, 255],\n",
       "         [ 68,   1,  84, 255],\n",
       "         [ 68,   1,  84, 255],\n",
       "         [ 68,   1,  84, 255]],\n",
       " \n",
       "        [[ 68,   1,  84, 255],\n",
       "         [ 68,   1,  84, 255],\n",
       "         [ 68,   1,  84, 255],\n",
       "         [ 68,   1,  84, 255],\n",
       "         ...,\n",
       "         [ 68,   1,  84, 255],\n",
       "         [ 68,   1,  84, 255],\n",
       "         [ 68,   1,  84, 255],\n",
       "         [ 68,   1,  84, 255]],\n",
       " \n",
       "        [[ 68,   1,  84, 255],\n",
       "         [ 68,   1,  84, 255],\n",
       "         [ 68,   1,  84, 255],\n",
       "         [ 68,   1,  84, 255],\n",
       "         ...,\n",
       "         [ 68,   1,  84, 255],\n",
       "         [ 68,   1,  84, 255],\n",
       "         [ 68,   1,  84, 255],\n",
       "         [ 68,   1,  84, 255]],\n",
       " \n",
       "        [[ 68,   1,  84, 255],\n",
       "         [ 68,   1,  84, 255],\n",
       "         [ 68,   1,  84, 255],\n",
       "         [ 68,   1,  84, 255],\n",
       "         ...,\n",
       "         [ 68,   1,  84, 255],\n",
       "         [ 68,   1,  84, 255],\n",
       "         [ 68,   1,  84, 255],\n",
       "         [ 68,   1,  84, 255]]], dtype=uint8),\n",
       " 54.0,\n",
       " 69.38999999999999,\n",
       " <matplotlib.transforms.CompositeGenericTransform at 0x171069f90>)"
      ]
     },
     "execution_count": 114,
     "metadata": {},
     "output_type": "execute_result"
    }
   ],
   "source": [
    "axesImage = img_plot.make_image('TkAgg');axesImage"
   ]
  },
  {
   "cell_type": "code",
   "execution_count": 115,
   "metadata": {
    "hidden": true
   },
   "outputs": [
    {
     "data": {
      "text/plain": [
       "(151, 268, 4)"
      ]
     },
     "execution_count": 115,
     "metadata": {},
     "output_type": "execute_result"
    }
   ],
   "source": [
    "axesImage[0].shape"
   ]
  },
  {
   "cell_type": "code",
   "execution_count": 103,
   "metadata": {
    "hidden": true
   },
   "outputs": [
    {
     "data": {
      "text/plain": [
       "(array([443485.,      0.,      0.,      0., ...,      0.,      0.,      0.,  59464.]),\n",
       " array([0.      , 0.019531, 0.039062, 0.058594, ..., 4.941406, 4.960938, 4.980469, 5.      ]),\n",
       " <a list of 256 Patch objects>)"
      ]
     },
     "execution_count": 103,
     "metadata": {},
     "output_type": "execute_result"
    },
    {
     "data": {
      "image/png": "[encoded data removed]",
      "text/plain": [
       "<Figure size 432x288 with 1 Axes>"
      ]
     },
     "metadata": {
      "needs_background": "light"
     },
     "output_type": "display_data"
    }
   ],
   "source": [
    "plt.hist(img_mask.ravel(),bins=256, range= (0.0,5.0) , fc='k' , ec='k')"
   ]
  },
  {
   "cell_type": "code",
   "execution_count": 99,
   "metadata": {
    "hidden": true
   },
   "outputs": [
    {
     "data": {
      "text/plain": [
       "True"
      ]
     },
     "execution_count": 99,
     "metadata": {},
     "output_type": "execute_result"
    }
   ],
   "source": [
    "cv2.imwrite('/Users/sandeep/Desktop/FinalYearProject/YoutubeScreenshotScrapper/data/test/LukaSeg.png', image_bgr)"
   ]
  },
  {
   "cell_type": "code",
   "execution_count": 2,
   "metadata": {
    "hidden": true
   },
   "outputs": [],
   "source": [
    "mask = cv2.imread(\"/Volumes/My Passport/FinalYearProjectData/ActionClassification2/Labels/The Best 3-Pointers from the 2016-2017 NBA Season 13-33 screenshot_mask.png\")"
   ]
  },
  {
   "cell_type": "code",
   "execution_count": 5,
   "metadata": {
    "hidden": true,
    "scrolled": true
   },
   "outputs": [
    {
     "data": {
      "text/plain": [
       "(720, 1280, 3)"
      ]
     },
     "execution_count": 5,
     "metadata": {},
     "output_type": "execute_result"
    }
   ],
   "source": [
    "mask.shape"
   ]
  },
  {
   "cell_type": "code",
   "execution_count": 7,
   "metadata": {
    "hidden": true
   },
   "outputs": [
    {
     "data": {
      "text/plain": [
       "array([[[0, 0, 0],\n",
       "        [0, 0, 0],\n",
       "        [0, 0, 0],\n",
       "        ...,\n",
       "        [0, 0, 0],\n",
       "        [0, 0, 0],\n",
       "        [0, 0, 0]],\n",
       "\n",
       "       [[0, 0, 0],\n",
       "        [0, 0, 0],\n",
       "        [0, 0, 0],\n",
       "        ...,\n",
       "        [0, 0, 0],\n",
       "        [0, 0, 0],\n",
       "        [0, 0, 0]],\n",
       "\n",
       "       [[0, 0, 0],\n",
       "        [0, 0, 0],\n",
       "        [0, 0, 0],\n",
       "        ...,\n",
       "        [0, 0, 0],\n",
       "        [0, 0, 0],\n",
       "        [0, 0, 0]],\n",
       "\n",
       "       ...,\n",
       "\n",
       "       [[0, 0, 0],\n",
       "        [0, 0, 0],\n",
       "        [0, 0, 0],\n",
       "        ...,\n",
       "        [2, 2, 2],\n",
       "        [2, 2, 2],\n",
       "        [2, 2, 2]],\n",
       "\n",
       "       [[0, 0, 0],\n",
       "        [0, 0, 0],\n",
       "        [0, 0, 0],\n",
       "        ...,\n",
       "        [2, 2, 2],\n",
       "        [2, 2, 2],\n",
       "        [2, 2, 2]],\n",
       "\n",
       "       [[0, 0, 0],\n",
       "        [0, 0, 0],\n",
       "        [0, 0, 0],\n",
       "        ...,\n",
       "        [2, 2, 2],\n",
       "        [2, 2, 2],\n",
       "        [2, 2, 2]]], dtype=uint8)"
      ]
     },
     "execution_count": 7,
     "metadata": {},
     "output_type": "execute_result"
    }
   ],
   "source": [
    "np.array(mask)"
   ]
  },
  {
   "cell_type": "code",
   "execution_count": 9,
   "metadata": {
    "hidden": true
   },
   "outputs": [
    {
     "data": {
      "text/plain": [
       "array([0, 1, 2, 3, 4, 5], dtype=uint8)"
      ]
     },
     "execution_count": 9,
     "metadata": {},
     "output_type": "execute_result"
    }
   ],
   "source": [
    "np.unique(mask)"
   ]
  },
  {
   "cell_type": "code",
   "execution_count": 7,
   "metadata": {
    "hidden": true
   },
   "outputs": [],
   "source": [
    "imgDir = \"/Volumes/My Passport/FinalYearProjectData/CourtSegmentation/Labels\"\n",
    "for file in os.listdir(imgDir):\n",
    "    if file[0] == \".\" and file[1] == \"_\":\n",
    "        os.remove(imgDir+\"/\"+file)\n",
    "        "
   ]
  },
  {
   "cell_type": "code",
   "execution_count": 9,
   "metadata": {
    "hidden": true
   },
   "outputs": [
    {
     "data": {
      "text/plain": [
       "268"
      ]
     },
     "execution_count": 9,
     "metadata": {},
     "output_type": "execute_result"
    }
   ],
   "source": [
    "len(os.listdir(imgDir))"
   ]
  },
  {
   "cell_type": "code",
   "execution_count": null,
   "metadata": {
    "hidden": true
   },
   "outputs": [],
   "source": []
  }
 ],
 "metadata": {
  "kernelspec": {
   "display_name": "Python 3",
   "language": "python",
   "name": "python3"
  },
  "language_info": {
   "codemirror_mode": {
    "name": "ipython",
    "version": 3
   },
   "file_extension": ".py",
   "mimetype": "text/x-python",
   "name": "python",
   "nbconvert_exporter": "python",
   "pygments_lexer": "ipython3",
   "version": "3.7.4"
  },
  "toc": {
   "base_numbering": 1,
   "nav_menu": {},
   "number_sections": true,
   "sideBar": true,
   "skip_h1_title": false,
   "title_cell": "Table of Contents",
   "title_sidebar": "Contents",
   "toc_cell": false,
   "toc_position": {},
   "toc_section_display": true,
   "toc_window_display": false
  },
  "varInspector": {
   "cols": {
    "lenName": 16,
    "lenType": 16,
    "lenVar": 40
   },
   "kernels_config": {
    "python": {
     "delete_cmd_postfix": "",
     "delete_cmd_prefix": "del ",
     "library": "var_list.py",
     "varRefreshCmd": "print(var_dic_list())"
    },
    "r": {
     "delete_cmd_postfix": ") ",
     "delete_cmd_prefix": "rm(",
     "library": "var_list.r",
     "varRefreshCmd": "cat(var_dic_list()) "
    }
   },
   "types_to_exclude": [
    "module",
    "function",
    "builtin_function_or_method",
    "instance",
    "_Feature"
   ],
   "window_display": false
  }
 },
 "nbformat": 4,
 "nbformat_minor": 2
}
