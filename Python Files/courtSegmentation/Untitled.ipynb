{
 "cells": [
  {
   "cell_type": "code",
   "execution_count": 68,
   "metadata": {},
   "outputs": [],
   "source": [
    "import cv2"
   ]
  },
  {
   "cell_type": "code",
   "execution_count": 25,
   "metadata": {},
   "outputs": [],
   "source": [
    "root_dir = \"/Users/sandeep/Desktop/FinalYearProject/YoutubeScreenshotScrapper/data/test/\""
   ]
  },
  {
   "cell_type": "code",
   "execution_count": 137,
   "metadata": {},
   "outputs": [],
   "source": [
    "img = cv2.imread(\"/Users/sandeep/Desktop/FinalYearProject/YoutubeScreenshotScrapper/data/test/test.png\")"
   ]
  },
  {
   "cell_type": "code",
   "execution_count": 127,
   "metadata": {},
   "outputs": [
    {
     "data": {
      "text/plain": [
       "True"
      ]
     },
     "execution_count": 127,
     "metadata": {},
     "output_type": "execute_result"
    }
   ],
   "source": [
    "gray_frame = cv2.cvtColor(img , cv2.COLOR_BGR2GRAY)\n",
    "smoothed = cv2.GaussianBlur(gray_frame, (5,5) , 0 )\n",
    "canny = cv2.Canny(smoothed, 25, 120)\n",
    "cv2.imwrite(\"/Users/sandeep/Desktop/FinalYearProject/YoutubeScreenshotScrapper/data/test/smalllerCanny.png\", canny)"
   ]
  },
  {
   "cell_type": "code",
   "execution_count": 141,
   "metadata": {
    "scrolled": true
   },
   "outputs": [
    {
     "data": {
      "text/plain": [
       "True"
      ]
     },
     "execution_count": 141,
     "metadata": {},
     "output_type": "execute_result"
    }
   ],
   "source": [
    "threshold = 100\n",
    "lines = cv2.HoughLines(thresh_img_canny, 1, np.pi / 180, threshold)\n",
    "\n",
    "# convert each line to coordinates back in the original image\n",
    "for line in lines:\n",
    "    for rho, theta in line:\n",
    "        a = np.cos(theta)\n",
    "        b = np.sin(theta)\n",
    "        x0 = a * rho\n",
    "        y0 = b * rho\n",
    "        x1 = int(x0 + 1000 * -b)\n",
    "        y1 = int(y0 + 1000 * a)\n",
    "        x2 = int(x0 - 1000 * -b)\n",
    "        y2 = int(y0 - 1000 * a)\n",
    "\n",
    "        # draw each line on the image\n",
    "        cv2.line(thresh_img_canny, (x1, y1), (x2, y2), (0, 0, 255), 1)\n",
    "\n",
    "# write the image to disk\n",
    "cv2.imwrite(root_dir+'thresh_edge_canny_hougg_line.jpg', thresh_img_canny)"
   ]
  },
  {
   "cell_type": "code",
   "execution_count": 138,
   "metadata": {},
   "outputs": [],
   "source": [
    "imghsv = cv2.cvtColor(img , cv2.COLOR_BGR2HSV)"
   ]
  },
  {
   "cell_type": "code",
   "execution_count": 139,
   "metadata": {},
   "outputs": [],
   "source": [
    "hue = imghsv[:,:,0]"
   ]
  },
  {
   "cell_type": "code",
   "execution_count": 143,
   "metadata": {},
   "outputs": [],
   "source": [
    "ret,thresh_img = cv2.threshold(hue,40,255,cv2.THRESH_BINARY)\n",
    "kernel = np.ones((5,5),np.uint8)\n",
    "thresh_img = cv2.erode(thresh_img ,kernel, iterations=1)\n",
    "thresh_img = cv2.dilate(thresh_img, kernel )\n",
    "\n",
    "thresh_img_canny = cv2.Canny(thresh_img, 25, 120)"
   ]
  },
  {
   "cell_type": "code",
   "execution_count": 144,
   "metadata": {},
   "outputs": [
    {
     "data": {
      "text/plain": [
       "True"
      ]
     },
     "execution_count": 144,
     "metadata": {},
     "output_type": "execute_result"
    }
   ],
   "source": [
    "cv2.imwrite(root_dir+'thresh_img_canny_test.jpg', thresh_img_canny)"
   ]
  },
  {
   "cell_type": "code",
   "execution_count": 85,
   "metadata": {},
   "outputs": [
    {
     "data": {
      "text/plain": [
       "True"
      ]
     },
     "execution_count": 85,
     "metadata": {},
     "output_type": "execute_result"
    }
   ],
   "source": [
    "cv2.imwrite(root_dir+'smallerHSVHUE.jpg', hue)"
   ]
  },
  {
   "cell_type": "code",
   "execution_count": 125,
   "metadata": {},
   "outputs": [
    {
     "data": {
      "text/plain": [
       "(480, 850)"
      ]
     },
     "execution_count": 125,
     "metadata": {},
     "output_type": "execute_result"
    }
   ],
   "source": [
    "thresh_img_canny.shape"
   ]
  },
  {
   "cell_type": "code",
   "execution_count": null,
   "metadata": {},
   "outputs": [],
   "source": []
  }
 ],
 "metadata": {
  "kernelspec": {
   "display_name": "Python 3",
   "language": "python",
   "name": "python3"
  },
  "language_info": {
   "codemirror_mode": {
    "name": "ipython",
    "version": 3
   },
   "file_extension": ".py",
   "mimetype": "text/x-python",
   "name": "python",
   "nbconvert_exporter": "python",
   "pygments_lexer": "ipython3",
   "version": "3.7.4"
  },
  "toc": {
   "base_numbering": 1,
   "nav_menu": {},
   "number_sections": true,
   "sideBar": true,
   "skip_h1_title": false,
   "title_cell": "Table of Contents",
   "title_sidebar": "Contents",
   "toc_cell": false,
   "toc_position": {},
   "toc_section_display": true,
   "toc_window_display": false
  },
  "varInspector": {
   "cols": {
    "lenName": 16,
    "lenType": 16,
    "lenVar": 40
   },
   "kernels_config": {
    "python": {
     "delete_cmd_postfix": "",
     "delete_cmd_prefix": "del ",
     "library": "var_list.py",
     "varRefreshCmd": "print(var_dic_list())"
    },
    "r": {
     "delete_cmd_postfix": ") ",
     "delete_cmd_prefix": "rm(",
     "library": "var_list.r",
     "varRefreshCmd": "cat(var_dic_list()) "
    }
   },
   "types_to_exclude": [
    "module",
    "function",
    "builtin_function_or_method",
    "instance",
    "_Feature"
   ],
   "window_display": false
  }
 },
 "nbformat": 4,
 "nbformat_minor": 2
}
