{
 "cells": [
  {
   "cell_type": "code",
   "execution_count": 2,
   "metadata": {},
   "outputs": [],
   "source": [
    "from lxml import etree"
   ]
  },
  {
   "cell_type": "code",
   "execution_count": 47,
   "metadata": {},
   "outputs": [],
   "source": [
    "teachersXMLFile = etree.parse('teachers.xml')\n",
    "teachersDTD = etree.DTD(\"teachers.dtd\")\n"
   ]
  },
  {
   "cell_type": "code",
   "execution_count": 8,
   "metadata": {},
   "outputs": [
    {
     "name": "stdout",
     "output_type": "stream",
     "text": [
      "True\n"
     ]
    }
   ],
   "source": [
    "print(teachersDTD.validate(teachersXMLFile))"
   ]
  },
  {
   "cell_type": "code",
   "execution_count": 42,
   "metadata": {},
   "outputs": [],
   "source": [
    "studentsXMLFile = etree.parse('students.xml')\n",
    "\n"
   ]
  },
  {
   "cell_type": "code",
   "execution_count": 43,
   "metadata": {},
   "outputs": [],
   "source": [
    "path = \"/students/descendant::submodule[text()='Advanced Databases']/ancestor::student\"\n",
    "result = studentsXMLFile.xpath(path)"
   ]
  },
  {
   "cell_type": "code",
   "execution_count": 44,
   "metadata": {},
   "outputs": [
    {
     "name": "stdout",
     "output_type": "stream",
     "text": [
      "b'<student enrolmentDate=\"2017\">\\n        <name>John Smith</name>\\n        <course>\\n            <name>Software, Systems and Applications III</name>\\n            <submodule>Advanced Databases</submodule>\\n            <submodule>Web Technology</submodule>\\n        </course>\\n        <course>Computing Methodologies III</course>\\n    </student>\\n\\n    \\n'\n",
      "b'<student enrolmentDate=\"2018\">\\n        <name>Sandeep Thapa</name>\\n        <course>\\n            <name>Software, Systems and Applications III</name>\\n            <submodule>Advanced Databases</submodule>\\n            <submodule>Web Technology</submodule>\\n        </course>\\n        <course>Computing Methodologies III</course>\\n    </student>\\n    \\n    \\n'\n"
     ]
    }
   ],
   "source": [
    "for r in result:\n",
    "    print(etree.tostring(r, pretty_print=True))"
   ]
  },
  {
   "cell_type": "code",
   "execution_count": 45,
   "metadata": {},
   "outputs": [],
   "source": [
    "path = \"/students[@year='2019-2020']/student[course/submodule/text()='Advanced Databases']\"\n",
    "result = studentsXMLFile.xpath(path)"
   ]
  },
  {
   "cell_type": "code",
   "execution_count": 46,
   "metadata": {},
   "outputs": [
    {
     "name": "stdout",
     "output_type": "stream",
     "text": [
      "b'<student enrolmentDate=\"2017\">\\n        <name>John Smith</name>\\n        <course>\\n            <name>Software, Systems and Applications III</name>\\n            <submodule>Advanced Databases</submodule>\\n            <submodule>Web Technology</submodule>\\n        </course>\\n        <course>Computing Methodologies III</course>\\n    </student>\\n\\n    \\n'\n",
      "b'<student enrolmentDate=\"2018\">\\n        <name>Sandeep Thapa</name>\\n        <course>\\n            <name>Software, Systems and Applications III</name>\\n            <submodule>Advanced Databases</submodule>\\n            <submodule>Web Technology</submodule>\\n        </course>\\n        <course>Computing Methodologies III</course>\\n    </student>\\n    \\n    \\n'\n"
     ]
    }
   ],
   "source": [
    "for r in result:\n",
    "    print(etree.tostring(r, pretty_print=True))"
   ]
  },
  {
   "cell_type": "code",
   "execution_count": 49,
   "metadata": {},
   "outputs": [],
   "source": [
    "path = \"/teachers/descendant::submodule[name='Advanced Databases' and year='2019-2020']/ancestor::teacher\"\n",
    "result = teachersXMLFile.xpath(path)"
   ]
  },
  {
   "cell_type": "code",
   "execution_count": 50,
   "metadata": {},
   "outputs": [
    {
     "name": "stdout",
     "output_type": "stream",
     "text": [
      "b'<teacher joiningDate=\"2018\" jobRole=\"Professor\">\\n        <name>Alexandra Cristea</name>\\n        <course>\\n            <name>Software, Systems and Applications III</name>\\n            <submodule>\\n                <name>Advanced Databases</name>\\n                <year>2018-2019</year>\\n                <year>2019-2020</year>\\n            </submodule>\\n        </course>\\n        <course>\\n            <name>Software, Systems and Applications IV</name>\\n            <submodule>\\n                <name>Semantic Web</name>\\n                <year>2018-2019</year>\\n                <year>2019-2020</year>\\n            </submodule>\\n        </course>\\n    </teacher>\\n\\n'\n"
     ]
    }
   ],
   "source": [
    "for r in result:\n",
    "    print(etree.tostring(r, pretty_print=True))"
   ]
  },
  {
   "cell_type": "code",
   "execution_count": 62,
   "metadata": {},
   "outputs": [],
   "source": [
    "path  = \"/teachers/teacher[course/submodule[name='Advanced Databases' and year='2019-2020']]\"\n",
    "result = teachersXMLFile.xpath(path)"
   ]
  },
  {
   "cell_type": "code",
   "execution_count": 63,
   "metadata": {},
   "outputs": [
    {
     "name": "stdout",
     "output_type": "stream",
     "text": [
      "b'<teacher joiningDate=\"2018\" jobRole=\"Professor\">\\n        <name>Alexandra Cristea</name>\\n        <course>\\n            <name>Software, Systems and Applications III</name>\\n            <submodule>\\n                <name>Advanced Databases</name>\\n                <year>2018-2019</year>\\n                <year>2019-2020</year>\\n            </submodule>\\n        </course>\\n        <course>\\n            <name>Software, Systems and Applications IV</name>\\n            <submodule>\\n                <name>Semantic Web</name>\\n                <year>2018-2019</year>\\n                <year>2019-2020</year>\\n            </submodule>\\n        </course>\\n    </teacher>\\n\\n'\n"
     ]
    }
   ],
   "source": [
    "for r in result:\n",
    "    print(etree.tostring(r, pretty_print=True))"
   ]
  },
  {
   "cell_type": "code",
   "execution_count": null,
   "metadata": {},
   "outputs": [],
   "source": []
  },
  {
   "cell_type": "code",
   "execution_count": null,
   "metadata": {},
   "outputs": [],
   "source": []
  }
 ],
 "metadata": {
  "kernelspec": {
   "display_name": "Python 3",
   "language": "python",
   "name": "python3"
  },
  "language_info": {
   "codemirror_mode": {
    "name": "ipython",
    "version": 3
   },
   "file_extension": ".py",
   "mimetype": "text/x-python",
   "name": "python",
   "nbconvert_exporter": "python",
   "pygments_lexer": "ipython3",
   "version": "3.7.4"
  },
  "toc": {
   "base_numbering": 1,
   "nav_menu": {},
   "number_sections": true,
   "sideBar": true,
   "skip_h1_title": false,
   "title_cell": "Table of Contents",
   "title_sidebar": "Contents",
   "toc_cell": false,
   "toc_position": {},
   "toc_section_display": true,
   "toc_window_display": false
  },
  "varInspector": {
   "cols": {
    "lenName": 16,
    "lenType": 16,
    "lenVar": 40
   },
   "kernels_config": {
    "python": {
     "delete_cmd_postfix": "",
     "delete_cmd_prefix": "del ",
     "library": "var_list.py",
     "varRefreshCmd": "print(var_dic_list())"
    },
    "r": {
     "delete_cmd_postfix": ") ",
     "delete_cmd_prefix": "rm(",
     "library": "var_list.r",
     "varRefreshCmd": "cat(var_dic_list()) "
    }
   },
   "types_to_exclude": [
    "module",
    "function",
    "builtin_function_or_method",
    "instance",
    "_Feature"
   ],
   "window_display": false
  }
 },
 "nbformat": 4,
 "nbformat_minor": 2
}
