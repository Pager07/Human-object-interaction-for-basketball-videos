{
 "cells": [
  {
   "cell_type": "code",
   "execution_count": 1,
   "metadata": {},
   "outputs": [],
   "source": [
    "import cv2 as cv\n",
    "import numpy as np\n",
    "import pandas as pd \n",
    "import sklearn.metrics.pairwise as pairwise\n",
    "import vptree\n",
    "from sklearn import preprocessing \n",
    "import pickle"
   ]
  },
  {
   "cell_type": "code",
   "execution_count": 2,
   "metadata": {},
   "outputs": [
    {
     "name": "stdout",
     "output_type": "stream",
     "text": [
      "importing Jupyter notebook from ActionClassificationCosineDatasetGen.ipynb\n"
     ]
    }
   ],
   "source": [
    "import import_ipynb\n",
    "import ActionClassificationCosineDatasetGen as Dataset"
   ]
  },
  {
   "cell_type": "code",
   "execution_count": 3,
   "metadata": {},
   "outputs": [
    {
     "name": "stdout",
     "output_type": "stream",
     "text": [
      "Loading Poses Data....\n"
     ]
    }
   ],
   "source": [
    "print('Loading Poses Data....')\n",
    "DATA_DF = Dataset.read_dataset(norm=True)\n",
    "ARGS = {'TREE':None,\n",
    "       'X': Dataset.read_dataset(norm=True).loc[:,DATA_DF.columns != 'label'],\n",
    "       'Y': Dataset.read_dataset(norm=True).loc[:,DATA_DF.columns == 'label'],\n",
    "       'TREEPATH':'/Users/sandeep/Desktop/dataandmodles/models/vptrees',\n",
    "       'cosineDistanceMatching':True,\n",
    "       'weightedDistanceMatching': False}\n"
   ]
  },
  {
   "cell_type": "code",
   "execution_count": 4,
   "metadata": {},
   "outputs": [],
   "source": [
    "def cosineDistanceMatching(poseVector1,poseVector2):\n",
    "    '''\n",
    "    Returns the cosine similarity as a distance function between the two L2 normalized vectors.\n",
    "    The distance is inversely porportional to the similarity between the two vectors\n",
    "    '''\n",
    "    poseVector1 , poseVector2 = np.array(poseVector1).reshape(1,-1) , np.array(poseVector2).reshape(1,-1)\n",
    "    cosineDistance = pairwise.cosine_distances(poseVector1 , poseVector2) \n",
    "    distance = np.sqrt(cosineDistance * 2)\n",
    "    return distance\n",
    "\n",
    "    "
   ]
  },
  {
   "cell_type": "code",
   "execution_count": 5,
   "metadata": {},
   "outputs": [],
   "source": [
    "def getPoseData():\n",
    "    '''\n",
    "    Helper function of buildVPTree()\n",
    "    '''\n",
    "    return ARGS['X'].values.tolist()"
   ]
  },
  {
   "cell_type": "code",
   "execution_count": 6,
   "metadata": {},
   "outputs": [],
   "source": [
    "def buildVPTree():\n",
    "    '''\n",
    "    This fuction will build the vptree for the given dataset\n",
    "    '''\n",
    "    poseData = getPoseData()\n",
    "    ARGS['TREE'] = vptree.VPTree(poseData,cosineDistanceMatching)\n"
   ]
  },
  {
   "cell_type": "code",
   "execution_count": 7,
   "metadata": {},
   "outputs": [],
   "source": [
    "def l2Normalize(poses):\n",
    "    '''\n",
    "    Helper function of findMatch()\n",
    "    PARAM poses: a list containing pose [....]\n",
    "    '''\n",
    "    return preprocessing.normalize([poses], axis=1)[0]"
   ]
  },
  {
   "cell_type": "code",
   "execution_count": 8,
   "metadata": {},
   "outputs": [],
   "source": [
    "def findMatch(pose):\n",
    "    '''\n",
    "    Helper fuction for getPred()\n",
    "    Will get the closest vectors to pose using vantage point tree\n",
    "    \n",
    "    Returns\n",
    "    ---------\n",
    "    similarPoses : a list of tuples. 1 tuple contains distacne and vectors. (0.5 , [..])\n",
    "    '''\n",
    "    pose = l2Normalize(pose)\n",
    "    similarPoses= ARGS['TREE'].get_nearest_neighbor(pose)\n",
    "    return similarPoses"
   ]
  },
  {
   "cell_type": "code",
   "execution_count": 9,
   "metadata": {},
   "outputs": [],
   "source": [
    "def getSimilarPosesClassesIndex(similarPoses):\n",
    "    '''\n",
    "    Helper function of getPred()\n",
    "    \n",
    "    Parameters\n",
    "    --------------\n",
    "    similarPoses : a list of tuples. 1 tuple contains distacne and vectors. [(0.5 , [..]) , ...] \n",
    "    \n",
    "    Returns \n",
    "    -------------\n",
    "    index : a list of index in the ARGS['X'] dataframe of the vectors found by vptrees\n",
    "    '''\n",
    "    index = []\n",
    "    for d,p in similarPoses:\n",
    "        poseIndexList = ARGS['X'][ARGS['X'] == p].dropna().index.tolist()\n",
    "        index.extend(poseIndexList)\n",
    "    return list(set(index))"
   ]
  },
  {
   "cell_type": "code",
   "execution_count": 10,
   "metadata": {},
   "outputs": [],
   "source": [
    "def getSimilarPosesClasses(indexs):\n",
    "    '''\n",
    "    Helper function of getPred()\n",
    "    \n",
    "    Parameters\n",
    "    ----------\n",
    "    index : a list of index in the ARGS['X'] dataframe of the vectors found by vptrees\n",
    "    \n",
    "    Returns\n",
    "    --------\n",
    "    list : A 2D list with classes of each pose. [[similarVectorClass1],  [....]]\n",
    "    '''\n",
    "    return ARGS['Y'].iloc[indexs].values"
   ]
  },
  {
   "cell_type": "code",
   "execution_count": 23,
   "metadata": {},
   "outputs": [],
   "source": [
    "def getPred(poses):\n",
    "    '''\n",
    "    This function finds the classes of pose in poses using VPTREES\n",
    "    \n",
    "    Parameters\n",
    "    --------- \n",
    "    poses : a 2D list that contains poses for all the humans detected in the frame. \n",
    "    Example [[0_x, 0_y.....] , [0_x, 0_y.....] , ....... ]\n",
    "    The poses must contain coordinates must be relative to image of size (244 x 244)\n",
    "    Returns\n",
    "    ---------\n",
    "    poesesClasses : a 2D list that contains poses class for each human \n",
    "    Example [['walk'] , ['shoot'] ,......]  \n",
    "    '''\n",
    "    similarPoses = []\n",
    "    for pose in poses:\n",
    "       similarPose = findMatch(pose)\n",
    "       similarPoses.append(similarPose)\n",
    "    classIndexs = getSimilarPosesClassesIndex(similarPoses)\n",
    "    posesClasses = getSimilarPosesClasses(classIndexs)\n",
    "    return posesClasses\n",
    "    "
   ]
  },
  {
   "cell_type": "code",
   "execution_count": 12,
   "metadata": {},
   "outputs": [],
   "source": [
    "def fit(posenetPred):\n",
    "    '''\n",
    "    This function take posenet results, use VPTREE that was loaded and find classes for each poses\n",
    "    \n",
    "    Parameter\n",
    "    ---------\n",
    "    posenetPred : The non-empty output of Posenet model\n",
    "    Example {'detectionList': [{keypoints:[{score: , part:.. ,position:..}]} , human2 , ....]\n",
    "    \n",
    "    Return\n",
    "    ------\n",
    "    posesClasses : a 2D list that contains poses class for each human \n",
    "    Example [['walk'] , ['shoot'] ,......]  \n",
    "    '''\n",
    "    poses = Dataset.generate_data_posenet(posenetPred)\n",
    "    posesClasses = getPred(poses)\n",
    "    return posesClasses"
   ]
  },
  {
   "cell_type": "markdown",
   "metadata": {},
   "source": [
    "#Saving and loading trees"
   ]
  },
  {
   "cell_type": "code",
   "execution_count": 13,
   "metadata": {},
   "outputs": [],
   "source": [
    "def saveTree(fileName):\n",
    "    '''\n",
    "    Save the tree to the path defined at  ARGS['TREEPATH']\n",
    "    Parameters\n",
    "    -----------\n",
    "    fileName : The file name of the plk file\n",
    "    '''\n",
    "    \n",
    "    file_vptree = f\"{ARGS['TREEPATH']}/{fileName}.pkl\"\n",
    "    with open(file_vptree, 'wb') as output:\n",
    "        pickle.dump(ARGS['TREE'], output, pickle.HIGHEST_PROTOCOL)"
   ]
  },
  {
   "cell_type": "code",
   "execution_count": 14,
   "metadata": {},
   "outputs": [
    {
     "name": "stdout",
     "output_type": "stream",
     "text": [
      "Initializing VPTREE....\n"
     ]
    }
   ],
   "source": [
    "def loadTree():\n",
    "    '''\n",
    "    Loads the tree based on the switch defined at ARGS. Sw\n",
    "    to the path defined at  ARGS['TREEPATH']\n",
    "    Parameters\n",
    "    -----------\n",
    "    fileName : The file name of the plk file\n",
    "    '''\n",
    "    if ARGS['cosineDistanceMatching']:\n",
    "        fileName = 'vptreeCosineDistance'\n",
    "    elif ARGS['weightedDistanceMatching']:\n",
    "        fileName = 'vptreeWeightedDistance'\n",
    "        \n",
    "    file_vptree = f\"{ARGS['TREEPATH']}/{fileName}.pkl\"\n",
    "    with open(file_vptree, 'rb') as input:\n",
    "        ARGS['TREE'] = pickle.load(input) \n",
    "\n",
    "        \n",
    "#initailze the VPTREE\n",
    "print('Initializing VPTREE....')\n",
    "loadTree()"
   ]
  },
  {
   "cell_type": "markdown",
   "metadata": {
    "heading_collapsed": true
   },
   "source": [
    "#Test Data "
   ]
  },
  {
   "cell_type": "code",
   "execution_count": 15,
   "metadata": {
    "hidden": true
   },
   "outputs": [],
   "source": [
    "d = np.array([[0.18694303, 0.11572664, 0.18694303, 0.11572664, 0.19830082,\n",
    "        0.12155902, 0.20566803, 0.13230287, 0.19983565, 0.13260983,\n",
    "        0.18264549, 0.12217295, 0.19615205, 0.10774549, 0.19185451,\n",
    "        0.10958729, 0.20198442, 0.14335369, 0.21242131, 0.16054385,\n",
    "        0.21088647, 0.17834795, 0.19031967, 0.14396762, 0.18755697,\n",
    "        0.16115779, 0.18510123, 0.17834795, 0.18663606, 0.11388483,\n",
    "        0.18540819, 0.11480574, 0.1909336 , 0.11449877, 0.18356639,\n",
    "        0.11572664],\n",
    "       [0.22652992, 0.04472884, 0.22652992, 0.04472884, 0.23198075,\n",
    "        0.04761457, 0.2332633 , 0.0522638 , 0.2332633 , 0.05899718,\n",
    "        0.22572833, 0.04841616, 0.22652992, 0.05242412, 0.22604897,\n",
    "        0.05579081, 0.23550775, 0.05547017, 0.23214107, 0.06236386,\n",
    "        0.23230139, 0.07005915, 0.23133948, 0.05579081, 0.23021725,\n",
    "        0.06252418, 0.23166011, 0.06941787, 0.22685056, 0.04408756,\n",
    "        0.2263696 , 0.04408756, 0.22797279, 0.04472884, 0.22556801,\n",
    "        0.04488916],\n",
    "       [0.1455586 , 0.14369843, 0.1455586 , 0.14369843, 0.15532451,\n",
    "        0.15811477, 0.17439129, 0.15160416, 0.17439129, 0.13300243,\n",
    "        0.13346747, 0.15811477, 0.15113912, 0.15299929, 0.17392625,\n",
    "        0.13672277, 0.15253425, 0.19950364, 0.15578955, 0.23345181,\n",
    "        0.16183512, 0.26879511, 0.13300243, 0.1990386 , 0.13067721,\n",
    "        0.23484694, 0.13067721, 0.26833007, 0.14834886, 0.14183825,\n",
    "        0.14230329, 0.14137321, 0.15578955, 0.14741877, 0.13625773,\n",
    "        0.14788382],\n",
    "       [0.18277657, 0.1276963 , 0.18277657, 0.1276963 , 0.17603205,\n",
    "        0.13376637, 0.17333424, 0.14478242, 0.17063643, 0.14950359,\n",
    "        0.19042036, 0.13444082, 0.19559116, 0.14343352, 0.19356781,\n",
    "        0.15040286, 0.17895467, 0.15332549, 0.1818773 , 0.16861307,\n",
    "        0.18614883, 0.18210212, 0.18907146, 0.15287585, 0.18907146,\n",
    "        0.16838825, 0.19424226, 0.1832262 , 0.18097803, 0.12702185,\n",
    "        0.18300139, 0.12634739, 0.1780554 , 0.12724666, 0.18435029,\n",
    "        0.12792112],\n",
    "       [0.20281541, 0.09841091, 0.20281541, 0.09841091, 0.21267583,\n",
    "        0.10131103, 0.21634933, 0.10614458, 0.21924945, 0.11001141,\n",
    "        0.20474883, 0.10111769, 0.2064889 , 0.10556455, 0.20300875,\n",
    "        0.10498453, 0.21480259, 0.11310488, 0.21364254, 0.12315864,\n",
    "        0.21731603, 0.13340575, 0.20977571, 0.11271819, 0.21035573,\n",
    "        0.12335198, 0.21074242, 0.13050563, 0.2041688 , 0.09725086,\n",
    "        0.20204204, 0.0974442 , 0.20706893, 0.09725086, 0.2018487 ,\n",
    "        0.09763754],\n",
    "       [0.22443155, 0.05285568, 0.22443155, 0.05285568, 0.22982259,\n",
    "        0.05707476, 0.23228372, 0.06293459, 0.22935381, 0.06809124,\n",
    "        0.22454875, 0.05648878, 0.22478314, 0.06094225, 0.2226736 ,\n",
    "        0.06176262, 0.22982259, 0.0662161 , 0.22736146, 0.07336509,\n",
    "        0.2297054 , 0.08180325, 0.22665829, 0.0659817 , 0.22794745,\n",
    "        0.07359948, 0.23204933, 0.08110007, 0.22536912, 0.0522697 ,\n",
    "        0.22384557, 0.05238689, 0.22806464, 0.05262129, 0.22349398,\n",
    "        0.05309007],\n",
    "       [0.22211447, 0.05895235, 0.22211447, 0.05895235, 0.22414731,\n",
    "        0.06312502, 0.22371934, 0.0684746 , 0.22136553, 0.07232629,\n",
    "        0.22821299, 0.06259006, 0.23088778, 0.06676273, 0.23227867,\n",
    "        0.07040044, 0.22478926, 0.07104239, 0.22468227, 0.07821083,\n",
    "        0.22757104, 0.08388138, 0.22853396, 0.07147036, 0.2255382 ,\n",
    "        0.07810384, 0.22778502, 0.08388138, 0.2229704 , 0.05820341,\n",
    "        0.22254244, 0.05809641, 0.22511023, 0.05905934, 0.22511023,\n",
    "        0.05863137],\n",
    "       [0.21485147, 0.08675887, 0.21485147, 0.08675887, 0.21149442,\n",
    "        0.08990611, 0.21086497, 0.09525641, 0.20960607, 0.09546623,\n",
    "        0.21946742, 0.08906684, 0.22209012, 0.0937877 , 0.22471282,\n",
    "        0.09546623, 0.21611036, 0.09745948, 0.21946742, 0.09315825,\n",
    "        0.22009687, 0.09085028, 0.22009687, 0.09714476, 0.22083122,\n",
    "        0.09357789, 0.22649625, 0.09703985, 0.21191405, 0.08675887,\n",
    "        0.21537601, 0.08644415, 0.21296313, 0.08686378, 0.21653   ,\n",
    "        0.08633924],\n",
    "       [0.2191449 , 0.06245351, 0.2191449 , 0.06245351, 0.22806683,\n",
    "        0.06914496, 0.22946088, 0.07639402, 0.23308542, 0.08224904,\n",
    "        0.21496275, 0.06775091, 0.21301108, 0.07527878, 0.21496275,\n",
    "        0.08085499, 0.22639397, 0.08475833, 0.22750921, 0.09702599,\n",
    "        0.22695159, 0.10873602, 0.21886609, 0.0839219 , 0.22026014,\n",
    "        0.09842004, 0.22137539, 0.10706316, 0.22026014, 0.06133827,\n",
    "        0.21830847, 0.06133827, 0.22276944, 0.0621747 , 0.21802966,\n",
    "        0.06245351],\n",
    "       [0.17711887, 0.12412839, 0.17711887, 0.12412839, 0.19889578,\n",
    "        0.13501684, 0.20542885, 0.15171248, 0.18510374, 0.15824555,\n",
    "        0.16114914, 0.13792043, 0.15243837, 0.15461606, 0.16695631,\n",
    "        0.16187503, 0.18002246, 0.16550452, 0.17131169, 0.18147425,\n",
    "        0.20688065, 0.21341372, 0.16260093, 0.1705858 , 0.17857066,\n",
    "        0.19018502, 0.1466312 , 0.20833244, 0.17494118, 0.11832121,\n",
    "        0.17421528, 0.11977301, 0.17929656, 0.11904711, 0.1698599 ,\n",
    "        0.1204989 ]])"
   ]
  },
  {
   "cell_type": "code",
   "execution_count": 16,
   "metadata": {
    "hidden": true
   },
   "outputs": [
    {
     "data": {
      "text/plain": [
       "(10, 36)"
      ]
     },
     "execution_count": 16,
     "metadata": {},
     "output_type": "execute_result"
    }
   ],
   "source": [
    "d.shape"
   ]
  },
  {
   "cell_type": "markdown",
   "metadata": {},
   "source": [
    "#Test"
   ]
  },
  {
   "cell_type": "code",
   "execution_count": null,
   "metadata": {},
   "outputs": [],
   "source": [
    "c = getPred(d)"
   ]
  },
  {
   "cell_type": "code",
   "execution_count": 19,
   "metadata": {},
   "outputs": [
    {
     "name": "stdout",
     "output_type": "stream",
     "text": [
      "> \u001b[0;32m<ipython-input-19-fe42bc865289>\u001b[0m(1)\u001b[0;36m<module>\u001b[0;34m()\u001b[0m\n",
      "\u001b[0;32m----> 1 \u001b[0;31m\u001b[0mprint\u001b[0m\u001b[0;34m(\u001b[0m\u001b[0mvar_dic_list\u001b[0m\u001b[0;34m(\u001b[0m\u001b[0;34m)\u001b[0m\u001b[0;34m)\u001b[0m\u001b[0;34m\u001b[0m\u001b[0;34m\u001b[0m\u001b[0m\n",
      "\u001b[0m\n",
      "ipdb> up\n",
      "*** Oldest frame\n",
      "ipdb> up\n",
      "*** Oldest frame\n",
      "ipdb> exit\n"
     ]
    }
   ],
   "source": [
    "%debug"
   ]
  },
  {
   "cell_type": "code",
   "execution_count": null,
   "metadata": {},
   "outputs": [],
   "source": []
  }
 ],
 "metadata": {
  "kernelspec": {
   "display_name": "Python 3",
   "language": "python",
   "name": "python3"
  },
  "language_info": {
   "codemirror_mode": {
    "name": "ipython",
    "version": 3
   },
   "file_extension": ".py",
   "mimetype": "text/x-python",
   "name": "python",
   "nbconvert_exporter": "python",
   "pygments_lexer": "ipython3",
   "version": "3.7.4"
  },
  "toc": {
   "base_numbering": 1,
   "nav_menu": {},
   "number_sections": true,
   "sideBar": true,
   "skip_h1_title": false,
   "title_cell": "Table of Contents",
   "title_sidebar": "Contents",
   "toc_cell": false,
   "toc_position": {},
   "toc_section_display": true,
   "toc_window_display": false
  },
  "varInspector": {
   "cols": {
    "lenName": 16,
    "lenType": 16,
    "lenVar": 40
   },
   "kernels_config": {
    "python": {
     "delete_cmd_postfix": "",
     "delete_cmd_prefix": "del ",
     "library": "var_list.py",
     "varRefreshCmd": "print(var_dic_list())"
    },
    "r": {
     "delete_cmd_postfix": ") ",
     "delete_cmd_prefix": "rm(",
     "library": "var_list.r",
     "varRefreshCmd": "cat(var_dic_list()) "
    }
   },
   "types_to_exclude": [
    "module",
    "function",
    "builtin_function_or_method",
    "instance",
    "_Feature"
   ],
   "window_display": false
  }
 },
 "nbformat": 4,
 "nbformat_minor": 2
}
