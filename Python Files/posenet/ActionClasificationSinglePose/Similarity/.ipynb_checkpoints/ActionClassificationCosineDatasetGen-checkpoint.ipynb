{
 "cells": [
  {
   "cell_type": "code",
   "execution_count": 1,
   "metadata": {},
   "outputs": [],
   "source": [
    "import cv2 \n",
    "import numpy as np \n",
    "import pandas as pd \n",
    "import os\n",
    "from sklearn import preprocessing "
   ]
  },
  {
   "cell_type": "code",
   "execution_count": 118,
   "metadata": {},
   "outputs": [],
   "source": [
    "raw =  {10:'left_ankel' , 13:'right_ankel' , 9:'left_knee',12:'right_knee',8:'left_hip',\n",
    "        11:'right_hip', 4:'left_wrist',7:'right_wrist', 3:'left_elbow',6:'right_elbow',\n",
    "        2:'left_shoulder',5:'right_shoulder',1:'nose',17:'right_ear',15:'right_eye',\n",
    "        14:'left_eye' , 16:'left_ear', 0:'unknown'}\n",
    "df_cols_to_keys = None \n",
    "sorted_keys = np.sort((np.array(list(raw.keys()))))\n",
    "PART_IDS = {raw[i]:i for i in sorted_keys}\n",
    "\n",
    "CONNECTED_PART_NAMES = [\n",
    "    (\"left_hip\", \"right_hip\"), (\"left_elbow\", \"left_shoulder\"),\n",
    "    (\"left_elbow\", \"left_wrist\"), (\"left_hip\", \"left_knee\"),\n",
    "    (\"left_knee\", \"left_ankel\"), (\"right_hip\", \"right_shoulder\"),\n",
    "    (\"right_elbow\", \"right_shoulder\"), (\"right_elbow\", \"right_wrist\"),\n",
    "    (\"right_hip\", \"right_knee\"), (\"right_knee\", \"right_ankel\"),\n",
    "    (\"left_shoulder\", \"right_shoulder\"), (\"left_hip\", \"left_shoulder\")\n",
    "]\n",
    "CONNECTED_PART_INDICES = [(PART_IDS[a], PART_IDS[b]) for a, b in CONNECTED_PART_NAMES];\n",
    "\n",
    "UNCONNECTED_PART_NAMES = [\"nose\", \"right_ear\" , \"left_ear\", \"right_eye\" , \"left_eye\",  \"unknown\"]\n",
    "UNCONNECTED_PART_INDICES = [PART_IDS[a] for a in UNCONNECTED_PART_NAMES];\n",
    "\n",
    "ARGS = {'normDatasetPath':'/Users/sandeep/Desktop/dataandmodles/data/singlePlayersPosesL2Normalized.csv',\n",
    "        'datasetPath':'/Users/sandeep/Desktop/dataandmodles/data/singlePlayersPoses.csv',\n",
    "        'datasetGen':False}"
   ]
  },
  {
   "cell_type": "markdown",
   "metadata": {},
   "source": [
    "#Handling Main Dataset"
   ]
  },
  {
   "cell_type": "code",
   "execution_count": 3,
   "metadata": {},
   "outputs": [],
   "source": [
    "def load_data():\n",
    "    with open('/Users/sandeep/Downloads/dataset/annotation_dict.json') as f:\n",
    "      data = json.load(f)\n",
    "    labels = {0 : \"block\", 1 : \"pass\", 2 : \"run\", \n",
    "              3: \"dribble\",4: \"shoot\",5 : \"ball in hand\", \n",
    "              6 : \"defense\", 7: \"pick\" , 8 : \"no_action\" ,\n",
    "              9: \"walk\" ,10: \"discard\"}\n",
    "    return data , labels"
   ]
  },
  {
   "cell_type": "code",
   "execution_count": 4,
   "metadata": {},
   "outputs": [],
   "source": [
    "if ARGS['datasetGen']:\n",
    "    annotations , labels = load_data()\n",
    "def get_label(fileName):\n",
    "    label = annotations[fileName]\n",
    "    return labels[label]"
   ]
  },
  {
   "cell_type": "code",
   "execution_count": 5,
   "metadata": {},
   "outputs": [],
   "source": [
    " def getScaleFactors(imgW, imgH, originalImgH , originalImgW):\n",
    "    '''\n",
    "       Helper function for get_data()\n",
    "       Returns a tensor with given scalefactor (wdith,height). \n",
    "    '''\n",
    "    return (imgW/originalImgW, imgH/originalImgH);"
   ]
  },
  {
   "cell_type": "code",
   "execution_count": 6,
   "metadata": {},
   "outputs": [],
   "source": [
    "def mapToSquareImage(coord,scaleFactors):\n",
    "    '''\n",
    "      Helper function for get_data()\n",
    "      Returns coord (width, height)\n",
    "    '''\n",
    "    coordInOriginalImage = [int(coord[0] * scaleFactors[0]) , int(coord[1] * scaleFactors[1])]\n",
    "    return tuple(coordInOriginalImage)"
   ]
  },
  {
   "cell_type": "code",
   "execution_count": 41,
   "metadata": {},
   "outputs": [],
   "source": [
    "def get_extended_pose(poses_dict, label=None):\n",
    "    '''\n",
    "    Helper function for get_data() and get_posenet_extended_pose()\n",
    "    \n",
    "    Parameters\n",
    "    ----------\n",
    "    pose : A dictionary containing 1 pose. The keys refer to bodyparts relative to the raw dict.\n",
    "    Example {0:(x,y), ....} \n",
    "    \n",
    "    label : get_data() will send label arugment but get_posenet_extended_pose() will not\n",
    "    Return\n",
    "    ---------\n",
    "    extended_pose : A dictionary containing x and y coord has it own key\n",
    "    Example {0_x: 1 ,0_y: 7 ....}  \n",
    "    '''\n",
    "    extended_pose = {}\n",
    "    scale = getScaleFactors(244,244,176,128)\n",
    "    for key,value in poses_dict.items():\n",
    "        #TO DO: scale the value before setting to the value\n",
    "        value = mapToSquareImage(value,scale)\n",
    "        extended_pose[f'{key}_x'] = value[0]\n",
    "        extended_pose[f'{key}_y'] = value[1]\n",
    "    if label != None:\n",
    "        extended_pose['label'] = label \n",
    "    return extended_pose\n",
    "        "
   ]
  },
  {
   "cell_type": "code",
   "execution_count": 8,
   "metadata": {},
   "outputs": [],
   "source": [
    "def get_data():\n",
    "    '''\n",
    "    Helper function for generate_dataset()\n",
    "    \n",
    "    Returns\n",
    "    -------\n",
    "    data : A 1D list contining dict of 16 poses gotton from 16 frames for a single player\n",
    "    Example [{0_x:1 , 0_y:2 , 1_x:67........,'label':'walk'] \n",
    "    The coordinates of the poses coords for players in sqaure image of size (244, 244)\n",
    "    '''\n",
    "    fileName = os.listdir('/Users/sandeep/Downloads/dataset/examples')\n",
    "    fileName = [name for name in fileName if name[-1] != '4']\n",
    "    data = []\n",
    "    for name in fileName:\n",
    "        posePath = f'/Users/sandeep/Downloads/dataset/examples/{name}'\n",
    "        try:\n",
    "            poses_list,label = np.load(posePath,allow_pickle=True) , get_label(name[0:-4])\n",
    "            for poses_dict in poses_list:\n",
    "                extended_pose = get_extended_pose(pose_dict,label=label)\n",
    "                data.append(extended_pose)\n",
    "        except KeyError:\n",
    "            continue\n",
    "    return data   "
   ]
  },
  {
   "cell_type": "code",
   "execution_count": 9,
   "metadata": {},
   "outputs": [],
   "source": [
    "def get_keys(df_keys):\n",
    "    '''\n",
    "    Helper function for get_proxy_coord\n",
    "    Returns keys that the df columns name refers too. eg. 0_x -> 0 \n",
    "    '''\n",
    "    global df_cols_to_keys \n",
    "    return [df_cols_to_keys[key] for key in df_keys]\n",
    "    "
   ]
  },
  {
   "cell_type": "code",
   "execution_count": 10,
   "metadata": {},
   "outputs": [],
   "source": [
    "def get_connected_keys(key):\n",
    "    key_pair_tuple = [t for t in CONNECTED_PART_INDICES if key in t]\n",
    "    return [key1 if key1 != key else key2 for (key1,key2) in key_pair_tuple ]"
   ]
  },
  {
   "cell_type": "code",
   "execution_count": 11,
   "metadata": {},
   "outputs": [],
   "source": [
    "def filter_keys(list1 , list2):\n",
    "    '''\n",
    "    Helper function for get_proxy_coord\n",
    "    Returns keys that are not in the list2\n",
    "    '''\n",
    "    return list(set(list1)-set(list2))"
   ]
  },
  {
   "cell_type": "code",
   "execution_count": 12,
   "metadata": {},
   "outputs": [],
   "source": [
    "def map_keys_to_df_key(key):\n",
    "    return f'{key}_x' , f'{key}_y'"
   ]
  },
  {
   "cell_type": "code",
   "execution_count": 13,
   "metadata": {},
   "outputs": [],
   "source": [
    "def get_unconneted_proxy_coord(keys):\n",
    "    '''\n",
    "    Helper function for get_proxy_coord\n",
    "    '''\n",
    "    usable_unconnected_keys = filter_keys(UNCONNECTED_PART_INDICES , keys)\n",
    "    if len(usable_unconnected_keys) != 0:\n",
    "        key_x , key_y  = map_keys_to_df_key(usable_unconnected_keys[0])\n",
    "        return key_x , key_y\n",
    "    else:\n",
    "        return get_connected_proxy_coord(2,keys)#trace starts from right shoulder"
   ]
  },
  {
   "cell_type": "code",
   "execution_count": 14,
   "metadata": {},
   "outputs": [],
   "source": [
    "def get_connected_proxy_coord(key,keys):\n",
    "    '''\n",
    "    Helper function for get_proxy_coord\n",
    "    '''\n",
    "    connected_keys_with_key = get_connected_keys(key)\n",
    "    usable_connected_keys = filter_keys(connected_keys_with_key,keys)\n",
    "    if  len(usable_connected_keys) != 0:#base-case, we know there is no pose with 1 points\n",
    "        key_x , key_y = map_keys_to_df_key(usable_connected_keys[0])\n",
    "        return key_x,key_y\n",
    "    else:\n",
    "       key_x, key_y = get_connected_proxy_coord(connected_keys_with_key[0],keys)\n",
    "       return key_x,  key_y"
   ]
  },
  {
   "cell_type": "code",
   "execution_count": 15,
   "metadata": {},
   "outputs": [],
   "source": [
    "def get_proxy_coord(row):\n",
    "    '''\n",
    "    Helper function to replace the NaN values/ the poses that are not visible using poxy poses\n",
    "    PARAMS key: the key that gets passed is eg.1_x\n",
    "    '''\n",
    "    global df_cols_to_keys \n",
    "    #df keys with nan\n",
    "    df_keys = [key for key in row[row.isnull()].index.tolist() if key[-1] != 'y'] \n",
    "    keys = get_keys(df_keys)\n",
    "    for key in keys:\n",
    "        if key in UNCONNECTED_PART_INDICES:#if the nan key is a  Unconnected part \n",
    "            key_x , key_y = get_unconneted_proxy_coord(keys)\n",
    "        else:#if the nan key is a  Connected part \n",
    "            key_x, key_y = get_connected_proxy_coord(key,keys)\n",
    "                \n",
    "        current_key_x , current_key_y = map_keys_to_df_key(key)\n",
    "        row[current_key_x] , row[current_key_y] = row[key_x] , row[key_y]\n",
    "    return row"
   ]
  },
  {
   "cell_type": "code",
   "execution_count": 16,
   "metadata": {},
   "outputs": [],
   "source": [
    "def get_df_cols():\n",
    "    '''\n",
    "    Helper function for generate_dataset()\n",
    "    '''\n",
    "    cols = [0, 1, 2, 3, 4, 5, 6, 7, 8, 9, 10, 11, 12, 13, 14, 15, 16, 17]\n",
    "    a = []\n",
    "    for col in cols:\n",
    "        xCol = f'{col}_x'\n",
    "        yCol = f'{col}_y'   \n",
    "        a.append(xCol)\n",
    "        a.append(yCol)\n",
    "    a.append('label')\n",
    "    b = {}\n",
    "    for col in cols:\n",
    "        b[f'{col}_x'] = col\n",
    "        b[f'{col}_y'] = col\n",
    "\n",
    "    return a,b"
   ]
  },
  {
   "cell_type": "code",
   "execution_count": 17,
   "metadata": {},
   "outputs": [],
   "source": [
    "def fillNaN(df):\n",
    "    '''\n",
    "    Helper function for generate_dataset()\n",
    "    Updates the NaN cells with proxy coords. \n",
    "    '''\n",
    "    return  df.apply(get_proxy_coord, axis=1)"
   ]
  },
  {
   "cell_type": "code",
   "execution_count": 122,
   "metadata": {},
   "outputs": [],
   "source": [
    "def generate_dataset(data=None):\n",
    "    '''\n",
    "    1.This function will fill the missing bodypoints with proxy coords and\n",
    "      generate l2 normalized dataset from raw data\n",
    "    \n",
    "    2.Helper function for generate_data_posenet()\n",
    "    \n",
    "    Parameters\n",
    "    ----------\n",
    "    data : A list with extended_poses.\n",
    "    If data is not passed then you are aiming to generate the main pose dataset \n",
    "    Example : [{0_x:1, 0_y:1 ,17_y:NaN, 17_y:NaN} , {0_x:1, 0_y:1 ,16_y:NaN, 16_y:NaN} , {..}]\n",
    "    \n",
    "    Return\n",
    "    -------\n",
    "    normalized_data : A 2D array with normalized data \n",
    "    [[0_x, 0_y, 1_x, 1_y, .......17_y] , [......]]\n",
    "    '''\n",
    "    global df_cols_to_keys\n",
    "    if ARGS['datasetGen']:\n",
    "        data = get_data()\n",
    "        df = pd.DataFrame(data)\n",
    "    else:\n",
    "      df = pd.DataFrame(data)\n",
    "      df['0_x'] , df['0_y'] = np.nan , np.nan\n",
    "        \n",
    "    df_cols,df_cols_to_keysx = get_df_cols()\n",
    "    df_cols_to_keys = df_cols_to_keysx\n",
    "    df = df[df_cols[:-1]]\n",
    "    df = fillNaN(df)\n",
    "    normalized_data = preprocessing.normalize(df, axis=1)\n",
    "    return normalized_data"
   ]
  },
  {
   "cell_type": "code",
   "execution_count": 19,
   "metadata": {},
   "outputs": [],
   "source": [
    "def read_dataset(norm=True):\n",
    "    if norm:\n",
    "        return pd.read_csv(ARGS['normDatasetPath'])\n",
    "    elif norm == False:\n",
    "        return pd.read_csv(ARGS['datasetPath'])\n",
    "\n"
   ]
  },
  {
   "cell_type": "markdown",
   "metadata": {},
   "source": [
    "#Handeling Posenet Data"
   ]
  },
  {
   "cell_type": "code",
   "execution_count": 95,
   "metadata": {},
   "outputs": [],
   "source": [
    "def posenet_part_to_part(part):\n",
    "    '''\n",
    "    Helper function of get_posenet_extended_pose\n",
    "    '''\n",
    "    if 'Ankle' in part:\n",
    "        part = part.replace('Ankle' , 'ankel')\n",
    "    if 'right' in part: \n",
    "        return f'right_{part[5:].lower()}'\n",
    "    elif 'left' in part:\n",
    "        return f'left_{part[4:].lower()}'\n",
    "    return part\n",
    "           "
   ]
  },
  {
   "cell_type": "code",
   "execution_count": 53,
   "metadata": {},
   "outputs": [],
   "source": [
    "def map_part_to_key(posenetPart):\n",
    "    '''\n",
    "    Helper function of get_posenet_extended_pose()\n",
    "    '''\n",
    "    for key, part in raw.items():\n",
    "        if part == posenetPart:\n",
    "            return key\n",
    "    raise Exception(f'{posenetPart} not in raw')"
   ]
  },
  {
   "cell_type": "code",
   "execution_count": 22,
   "metadata": {},
   "outputs": [],
   "source": [
    "def get_posenet_extended_pose(pose):\n",
    "    '''\n",
    "    Helper function for generate generate_dataset()\n",
    "    \n",
    "    Parameters\n",
    "    ----------\n",
    "    pose : A list containing dictionary containing 1 pose. The keys refer to bodyparts relative to the posenet pred.\n",
    "    Example [{'score': 0.8984865546226501, 'part': 'nose', 'position': {'x': 741.3767104497117, 'y': 201.7590852932459}}..].\n",
    "    \n",
    "    Return\n",
    "    ---------\n",
    "    extended_pose : A dictionary containing x and y coord has it own key\n",
    "    Example {0_x: 1 ,0_y: 7 ....}  \n",
    "    '''\n",
    "    #Change keys\n",
    "    pose_dict = {}\n",
    "    for part_dict in pose:\n",
    "        part = posenet_part_to_part(part_dict['part']) \n",
    "        key = map_part_to_key(part)\n",
    "        pose_dict[key] = (part_dict['position']['x'] , part_dict['position']['y'])\n",
    "    extended_pose = get_extended_pose(pose_dict)\n",
    "    return extended_pose\n"
   ]
  },
  {
   "cell_type": "code",
   "execution_count": 105,
   "metadata": {},
   "outputs": [],
   "source": [
    "def add_unkown_keypoint(pose):\n",
    "    '''\n",
    "    NOT USED ANYMORE! THIS FUNCTION DOES NOT RESPECT THE DATA PIPELINE\n",
    "    Helper function of generate_data_posenet()\n",
    "    This function appends a new  bodypart \"unknown\" object to the human keypoints list.\n",
    "    This is important because all the poses in posenet pred will not contain thi body part, however,\n",
    "    our original dataset contained this part.\n",
    "    \n",
    "    Parameter\n",
    "    ---------\n",
    "    pose : A 1D list with a human body parts\n",
    "    Example [{score: , part:.. ,position:..}, secondBodyPart..a..]\n",
    "    \n",
    "    Return\n",
    "    ----------\n",
    "    pospose : A 1D list with a human body parts with 'unknown' body object \n",
    "    Example [{score: , part:'uknow' ,position:..} , {score: , part:.. ,position:..}, secondBodyPart..a..]\n",
    "    '''\n",
    "    unknow_obj = {'score': 0.1,\n",
    "                 'part': 'unknown',\n",
    "                 'position': {'x': np.nan, 'y': np.nan}}\n",
    "    pose.append(unknow_obj)\n",
    "    return pose"
   ]
  },
  {
   "cell_type": "code",
   "execution_count": 125,
   "metadata": {},
   "outputs": [],
   "source": [
    "def generate_data_posenet(posenetPred):\n",
    "    '''\n",
    "    This functions generates l2 normalized data form non-empty(Must have atleast 1 humans)\n",
    "    Posenet results\n",
    "    \n",
    "    Parameters\n",
    "    ---------\n",
    "    posenetPred : The non-empty output of Posenet model\n",
    "    Example {'detectionList': [{keypoints:[{score: , part:.. ,position:..}]} , human2 , ....]\n",
    "    \n",
    "    Return\n",
    "    ------\n",
    "    normalized_data : A 2D list with exte\n",
    "    '''\n",
    "    data = []\n",
    "    for human in posenetPred['detectionList']:\n",
    "        extended_pose = get_posenet_extended_pose(human['keypoints'])\n",
    "        data.append(extended_pose)\n",
    "\n",
    "    normalized_data = generate_dataset(data=data)\n",
    "    return normalized_data\n",
    "    "
   ]
  },
  {
   "cell_type": "code",
   "execution_count": 126,
   "metadata": {},
   "outputs": [
    {
     "data": {
      "text/plain": [
       "array([[0.18694303, 0.11572664, 0.18694303, 0.11572664, 0.19830082,\n",
       "        0.12155902, 0.20566803, 0.13230287, 0.19983565, 0.13260983,\n",
       "        0.18264549, 0.12217295, 0.19615205, 0.10774549, 0.19185451,\n",
       "        0.10958729, 0.20198442, 0.14335369, 0.21242131, 0.16054385,\n",
       "        0.21088647, 0.17834795, 0.19031967, 0.14396762, 0.18755697,\n",
       "        0.16115779, 0.18510123, 0.17834795, 0.18663606, 0.11388483,\n",
       "        0.18540819, 0.11480574, 0.1909336 , 0.11449877, 0.18356639,\n",
       "        0.11572664],\n",
       "       [0.22652992, 0.04472884, 0.22652992, 0.04472884, 0.23198075,\n",
       "        0.04761457, 0.2332633 , 0.0522638 , 0.2332633 , 0.05899718,\n",
       "        0.22572833, 0.04841616, 0.22652992, 0.05242412, 0.22604897,\n",
       "        0.05579081, 0.23550775, 0.05547017, 0.23214107, 0.06236386,\n",
       "        0.23230139, 0.07005915, 0.23133948, 0.05579081, 0.23021725,\n",
       "        0.06252418, 0.23166011, 0.06941787, 0.22685056, 0.04408756,\n",
       "        0.2263696 , 0.04408756, 0.22797279, 0.04472884, 0.22556801,\n",
       "        0.04488916],\n",
       "       [0.1455586 , 0.14369843, 0.1455586 , 0.14369843, 0.15532451,\n",
       "        0.15811477, 0.17439129, 0.15160416, 0.17439129, 0.13300243,\n",
       "        0.13346747, 0.15811477, 0.15113912, 0.15299929, 0.17392625,\n",
       "        0.13672277, 0.15253425, 0.19950364, 0.15578955, 0.23345181,\n",
       "        0.16183512, 0.26879511, 0.13300243, 0.1990386 , 0.13067721,\n",
       "        0.23484694, 0.13067721, 0.26833007, 0.14834886, 0.14183825,\n",
       "        0.14230329, 0.14137321, 0.15578955, 0.14741877, 0.13625773,\n",
       "        0.14788382],\n",
       "       [0.18277657, 0.1276963 , 0.18277657, 0.1276963 , 0.17603205,\n",
       "        0.13376637, 0.17333424, 0.14478242, 0.17063643, 0.14950359,\n",
       "        0.19042036, 0.13444082, 0.19559116, 0.14343352, 0.19356781,\n",
       "        0.15040286, 0.17895467, 0.15332549, 0.1818773 , 0.16861307,\n",
       "        0.18614883, 0.18210212, 0.18907146, 0.15287585, 0.18907146,\n",
       "        0.16838825, 0.19424226, 0.1832262 , 0.18097803, 0.12702185,\n",
       "        0.18300139, 0.12634739, 0.1780554 , 0.12724666, 0.18435029,\n",
       "        0.12792112],\n",
       "       [0.20281541, 0.09841091, 0.20281541, 0.09841091, 0.21267583,\n",
       "        0.10131103, 0.21634933, 0.10614458, 0.21924945, 0.11001141,\n",
       "        0.20474883, 0.10111769, 0.2064889 , 0.10556455, 0.20300875,\n",
       "        0.10498453, 0.21480259, 0.11310488, 0.21364254, 0.12315864,\n",
       "        0.21731603, 0.13340575, 0.20977571, 0.11271819, 0.21035573,\n",
       "        0.12335198, 0.21074242, 0.13050563, 0.2041688 , 0.09725086,\n",
       "        0.20204204, 0.0974442 , 0.20706893, 0.09725086, 0.2018487 ,\n",
       "        0.09763754],\n",
       "       [0.22443155, 0.05285568, 0.22443155, 0.05285568, 0.22982259,\n",
       "        0.05707476, 0.23228372, 0.06293459, 0.22935381, 0.06809124,\n",
       "        0.22454875, 0.05648878, 0.22478314, 0.06094225, 0.2226736 ,\n",
       "        0.06176262, 0.22982259, 0.0662161 , 0.22736146, 0.07336509,\n",
       "        0.2297054 , 0.08180325, 0.22665829, 0.0659817 , 0.22794745,\n",
       "        0.07359948, 0.23204933, 0.08110007, 0.22536912, 0.0522697 ,\n",
       "        0.22384557, 0.05238689, 0.22806464, 0.05262129, 0.22349398,\n",
       "        0.05309007],\n",
       "       [0.22211447, 0.05895235, 0.22211447, 0.05895235, 0.22414731,\n",
       "        0.06312502, 0.22371934, 0.0684746 , 0.22136553, 0.07232629,\n",
       "        0.22821299, 0.06259006, 0.23088778, 0.06676273, 0.23227867,\n",
       "        0.07040044, 0.22478926, 0.07104239, 0.22468227, 0.07821083,\n",
       "        0.22757104, 0.08388138, 0.22853396, 0.07147036, 0.2255382 ,\n",
       "        0.07810384, 0.22778502, 0.08388138, 0.2229704 , 0.05820341,\n",
       "        0.22254244, 0.05809641, 0.22511023, 0.05905934, 0.22511023,\n",
       "        0.05863137],\n",
       "       [0.21485147, 0.08675887, 0.21485147, 0.08675887, 0.21149442,\n",
       "        0.08990611, 0.21086497, 0.09525641, 0.20960607, 0.09546623,\n",
       "        0.21946742, 0.08906684, 0.22209012, 0.0937877 , 0.22471282,\n",
       "        0.09546623, 0.21611036, 0.09745948, 0.21946742, 0.09315825,\n",
       "        0.22009687, 0.09085028, 0.22009687, 0.09714476, 0.22083122,\n",
       "        0.09357789, 0.22649625, 0.09703985, 0.21191405, 0.08675887,\n",
       "        0.21537601, 0.08644415, 0.21296313, 0.08686378, 0.21653   ,\n",
       "        0.08633924],\n",
       "       [0.2191449 , 0.06245351, 0.2191449 , 0.06245351, 0.22806683,\n",
       "        0.06914496, 0.22946088, 0.07639402, 0.23308542, 0.08224904,\n",
       "        0.21496275, 0.06775091, 0.21301108, 0.07527878, 0.21496275,\n",
       "        0.08085499, 0.22639397, 0.08475833, 0.22750921, 0.09702599,\n",
       "        0.22695159, 0.10873602, 0.21886609, 0.0839219 , 0.22026014,\n",
       "        0.09842004, 0.22137539, 0.10706316, 0.22026014, 0.06133827,\n",
       "        0.21830847, 0.06133827, 0.22276944, 0.0621747 , 0.21802966,\n",
       "        0.06245351],\n",
       "       [0.17711887, 0.12412839, 0.17711887, 0.12412839, 0.19889578,\n",
       "        0.13501684, 0.20542885, 0.15171248, 0.18510374, 0.15824555,\n",
       "        0.16114914, 0.13792043, 0.15243837, 0.15461606, 0.16695631,\n",
       "        0.16187503, 0.18002246, 0.16550452, 0.17131169, 0.18147425,\n",
       "        0.20688065, 0.21341372, 0.16260093, 0.1705858 , 0.17857066,\n",
       "        0.19018502, 0.1466312 , 0.20833244, 0.17494118, 0.11832121,\n",
       "        0.17421528, 0.11977301, 0.17929656, 0.11904711, 0.1698599 ,\n",
       "        0.1204989 ]])"
      ]
     },
     "execution_count": 126,
     "metadata": {},
     "output_type": "execute_result"
    }
   ],
   "source": [
    "#generate_data_posenet(p)"
   ]
  },
  {
   "cell_type": "code",
   "execution_count": 13,
   "metadata": {},
   "outputs": [],
   "source": [
    "#a = read_dataset(norm=True)"
   ]
  },
  {
   "cell_type": "code",
   "execution_count": 14,
   "metadata": {
    "collapsed": true
   },
   "outputs": [
    {
     "data": {
      "text/plain": [
       "['0_x',\n",
       " '0_y',\n",
       " '1_x',\n",
       " '1_y',\n",
       " '2_x',\n",
       " '2_y',\n",
       " '3_x',\n",
       " '3_y',\n",
       " '4_x',\n",
       " '4_y',\n",
       " '5_x',\n",
       " '5_y',\n",
       " '6_x',\n",
       " '6_y',\n",
       " '7_x',\n",
       " '7_y',\n",
       " '8_x',\n",
       " '8_y',\n",
       " '9_x',\n",
       " '9_y',\n",
       " '10_x',\n",
       " '10_y',\n",
       " '11_x',\n",
       " '11_y',\n",
       " '12_x',\n",
       " '12_y',\n",
       " '13_x',\n",
       " '13_y',\n",
       " '14_x',\n",
       " '14_y',\n",
       " '15_x',\n",
       " '15_y',\n",
       " '16_x',\n",
       " '16_y',\n",
       " '17_x',\n",
       " '17_y',\n",
       " 'label']"
      ]
     },
     "execution_count": 14,
     "metadata": {},
     "output_type": "execute_result"
    }
   ],
   "source": [
    "#a.columns.tolist()"
   ]
  },
  {
   "cell_type": "code",
   "execution_count": 34,
   "metadata": {},
   "outputs": [],
   "source": [
    "#a.to_csv('/Users/sandeep/Desktop/dataandmodles/data/singlePlayersPoses.csv', index=False)\n",
    "#df_normalized_df = pd.DataFrame(df_normalized, columns=df.columns)"
   ]
  },
  {
   "cell_type": "code",
   "execution_count": 22,
   "metadata": {},
   "outputs": [],
   "source": [
    "#df_normalized_df"
   ]
  },
  {
   "cell_type": "code",
   "execution_count": 39,
   "metadata": {},
   "outputs": [],
   "source": [
    "#df_normalized_df.to_csv('/Users/sandeep/Desktop/dataandmodles/data/singlePlayersPosesL2Normalized.csv', index=False)"
   ]
  }
 ],
 "metadata": {
  "kernelspec": {
   "display_name": "Python 3",
   "language": "python",
   "name": "python3"
  },
  "language_info": {
   "codemirror_mode": {
    "name": "ipython",
    "version": 3
   },
   "file_extension": ".py",
   "mimetype": "text/x-python",
   "name": "python",
   "nbconvert_exporter": "python",
   "pygments_lexer": "ipython3",
   "version": "3.7.4"
  },
  "toc": {
   "base_numbering": 1,
   "nav_menu": {},
   "number_sections": true,
   "sideBar": true,
   "skip_h1_title": false,
   "title_cell": "Table of Contents",
   "title_sidebar": "Contents",
   "toc_cell": false,
   "toc_position": {},
   "toc_section_display": true,
   "toc_window_display": false
  },
  "varInspector": {
   "cols": {
    "lenName": 16,
    "lenType": 16,
    "lenVar": 40
   },
   "kernels_config": {
    "python": {
     "delete_cmd_postfix": "",
     "delete_cmd_prefix": "del ",
     "library": "var_list.py",
     "varRefreshCmd": "print(var_dic_list())"
    },
    "r": {
     "delete_cmd_postfix": ") ",
     "delete_cmd_prefix": "rm(",
     "library": "var_list.r",
     "varRefreshCmd": "cat(var_dic_list()) "
    }
   },
   "types_to_exclude": [
    "module",
    "function",
    "builtin_function_or_method",
    "instance",
    "_Feature"
   ],
   "window_display": false
  }
 },
 "nbformat": 4,
 "nbformat_minor": 2
}
