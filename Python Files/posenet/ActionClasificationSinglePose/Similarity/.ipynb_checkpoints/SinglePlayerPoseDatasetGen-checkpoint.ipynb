{
 "cells": [
  {
   "cell_type": "code",
   "execution_count": 3,
   "metadata": {},
   "outputs": [],
   "source": [
    "import cv2 \n",
    "import numpy as np\n",
    "import pickle\n",
    "import json\n",
    "import os\n",
    "from pathlib import Path"
   ]
  },
  {
   "cell_type": "markdown",
   "metadata": {},
   "source": [
    "#Data Generation"
   ]
  },
  {
   "cell_type": "code",
   "execution_count": 4,
   "metadata": {},
   "outputs": [],
   "source": [
    "def load_data():\n",
    "    with open('/Users/sandeep/Downloads/dataset/annotation_dict.json') as f:\n",
    "      data = json.load(f)\n",
    "    labels = {0 : \"block\", 1 : \"pass\", 2 : \"run\", \n",
    "              3: \"dribble\",4: \"shoot\",5 : \"ball in hand\", \n",
    "              6 : \"defense\", 7: \"pick\" , 8 : \"no_action\" ,\n",
    "              9: \"walk\" ,10: \"discard\"}\n",
    "    return data , labels\n",
    "    "
   ]
  },
  {
   "cell_type": "code",
   "execution_count": 5,
   "metadata": {},
   "outputs": [],
   "source": [
    "raw =  {10:'left_ankel' , 13:'right_ankel' , 9:'left_knee',12:'right_knee',8:'left_hip',\n",
    "        11:'right_hip', 4:'left_wrist',7:'right_wrist', 3:'left_elbow',6:'right_elbow',\n",
    "        2:'left_shoulder',5:'right_shoulder',1:'nose',17:'right_ear',15:'right_eye',\n",
    "        14:'left_eye' , 16:'left_ear', 0:'unknown'}\n",
    "sorted_keys = np.sort((np.array(list(raw.keys()))))\n",
    "PART_IDS = {raw[i]:i for i in sorted_keys}\n",
    "\n",
    "CONNECTED_PART_NAMES = [\n",
    "    (\"left_hip\", \"left_shoulder\"), (\"left_elbow\", \"left_shoulder\"),\n",
    "    (\"left_elbow\", \"left_wrist\"), (\"left_hip\", \"left_knee\"),\n",
    "    (\"left_knee\", \"left_ankel\"), (\"right_hip\", \"right_shoulder\"),\n",
    "    (\"right_elbow\", \"right_shoulder\"), (\"right_elbow\", \"right_wrist\"),\n",
    "    (\"right_hip\", \"right_knee\"), (\"right_knee\", \"right_ankel\"),\n",
    "    (\"left_shoulder\", \"right_shoulder\"), (\"left_hip\", \"right_hip\")\n",
    "]\n",
    "CONNECTED_PART_INDICES = [(PART_IDS[a], PART_IDS[b]) for a, b in CONNECTED_PART_NAMES];\n",
    "KEY_COLORS = {\n",
    "  'unknown':(255,255,255),\n",
    "  'nose': (255,255,0),\n",
    "  'left_eye': (255,0,0),\n",
    "  'right_eye': (0,0,255),\n",
    "  'left_ear': (0,0,0),\n",
    "  'right_ear': (0,255,0),\n",
    "  'left_shoulder': (159, 95, 95),\n",
    "  'right_shoulder': (227, 164, 43),\n",
    "  'left_elbow': (35, 175, 164),\n",
    "  'right_elbow': (226, 41, 226),\n",
    "  'left_wrist': (205, 205, 0),\n",
    "  'right_wrist': (255, 165, 0),\n",
    "  'left_hip': (177, 152, 112),\n",
    "  'right_hip': (128, 0, 0),\n",
    "  'left_knee': (0, 128, 128),\n",
    "  'right_knee': (255, 20, 147),\n",
    "  'left_ankel': (218, 112, 214),\n",
    "  'right_ankel': (0, 0, 128)\n",
    "}\n",
    "KEY_COLORS_INDICES_MAP = {PART_IDS[key]:value for key,value in KEY_COLORS.items()}\n",
    "SEGMENTCOLORS = {\n",
    "  'left_elbow|left_shoulder': (226, 115, 78), \n",
    "  'left_elbow|left_wrist': (191, 255, 0), \n",
    "  'left_hip|left_knee': (128, 128, 0), \n",
    "  'left_knee|left_ankel': (136, 45, 23),\n",
    "  'right_hip|right_shoulder': (255, 0, 255), \n",
    "  'right_elbow|right_shoulder': (106, 90, 205),\n",
    "  'right_elbow|right_wrist': (255, 99, 71),\n",
    "  'right_hip|right_knee': (255, 255, 0),\n",
    "  'left_hip|left_shoulder': (30, 144, 255),\n",
    "  'right_knee|right_ankel': (60, 179, 113),\n",
    "  'left_shoulder|right_shoulder': (139, 0, 139),\n",
    "  'left_hip|right_hip': (255, 20, 147)\n",
    "};\n",
    "#Make a dictionary that maps from pair to pair color (1,2) -> (color)\n",
    "SEGMENTCOLORS_INDICES_MAP = ({(PART_IDS[part1], PART_IDS[part2]): SEGMENTCOLORS[f'{part1}|{part2}']\n",
    "                             for part1,part2 in CONNECTED_PART_NAMES})\n",
    "\n",
    "ARGS = {'datasetGen': False}"
   ]
  },
  {
   "cell_type": "code",
   "execution_count": 6,
   "metadata": {},
   "outputs": [],
   "source": [
    "def get_adjacent_keypoints(keypoints):\n",
    "    '''\n",
    "    Helper function of draw_skel_and _kp\n",
    "    Returns 2 coord of 2 points where line needs to be drawn\n",
    "    EXAMPLE: [[[X1,Y1],[X2,Y2]], [pair],........]\n",
    "    '''\n",
    "    results = []\n",
    "    for left, right in CONNECTED_PART_INDICES:\n",
    "        #we wont have all the points. \n",
    "        #If point is not visilbe not there.Thus,we will get key errer\n",
    "        try:\n",
    "           results.append({(left,right): np.array([\n",
    "                                [ keypoints[left][0] , keypoints[left][1] ],\n",
    "                                [ keypoints[right][0] , keypoints[right][1] ]\n",
    "                                    ]\n",
    "                           ).astype(np.int32)\n",
    "               \n",
    "                         }\n",
    "                          \n",
    "                         )\n",
    "        except KeyError:\n",
    "            continue\n",
    "            \n",
    "    return results\n"
   ]
  },
  {
   "cell_type": "code",
   "execution_count": 7,
   "metadata": {},
   "outputs": [],
   "source": [
    "def rgb_to_brg(rgb):\n",
    "    '''\n",
    "    Helper function of draw_skel_and_kp\n",
    "    Returns brg values from rgb values \n",
    "    '''\n",
    "    bgr = (rgb[2] , rgb[1] , rgb[0])\n",
    "    return bgr"
   ]
  },
  {
   "cell_type": "code",
   "execution_count": 8,
   "metadata": {},
   "outputs": [],
   "source": [
    " def getScaleFactors(imgW, imgH, originalImgH , originalImgW):\n",
    "    '''\n",
    "       Helper function for draw_skel_and_kp\n",
    "       Return\n",
    "       ------\n",
    "       : A tuple with given scalefactor (wdith,height). \n",
    "    '''\n",
    "    return (imgW/originalImgW, imgH/originalImgH);"
   ]
  },
  {
   "cell_type": "code",
   "execution_count": 9,
   "metadata": {},
   "outputs": [],
   "source": [
    "def mapToOrginialImage(coord,scaleFactors):\n",
    "    '''\n",
    "      Helper function for draw_skel_and_kp\n",
    "      Returns \n",
    "      -------\n",
    "      : A coord (width, height)\n",
    "    '''\n",
    "    coordInOriginalImage = [int(coord[0] * scaleFactors[0]) , int(coord[1] * scaleFactors[1])]\n",
    "    return tuple(coordInOriginalImage)"
   ]
  },
  {
   "cell_type": "code",
   "execution_count": 10,
   "metadata": {},
   "outputs": [],
   "source": [
    "def draw_skel_and_kp(poses , img,scale=False):\n",
    "    '''\n",
    "    Parameter\n",
    "    ---------\n",
    "    pose : A 1D list contianing dictionary of poses. They keys are relative to the \"raw\" dictionary \n",
    "    Example [{0:(x,y)....17:(x,y)}, ....]\n",
    "    \n",
    "    image : Image to draw the posses into. \n",
    "    \n",
    "    \n",
    "    scale : If True, coordinates will be mapped to a new image of size (512,512) and drawn in it.\n",
    "            Flase, coordinate will be drawn the passed image. \n",
    "            In False case (Make sure the coords  posess are already relative to the passed image)\n",
    "    \n",
    "    Returns\n",
    "    -----------\n",
    "    out_img : The orignial image with poses drawn. If scale is False\n",
    "              A black image of size (512x512) with poses drawn. If scale is True \n",
    "    '''\n",
    "    if scale:\n",
    "        out_img = np.zeros((512,512,3))\n",
    "        scale = getScaleFactors(512,512,img.shape[0],img.shape[1])\n",
    "    else:\n",
    "        out_img = np.zeros(img.shape)\n",
    "        scale = (1,1) \n",
    "    adjacent_keypoints = []\n",
    "    cv_keypoints = []\n",
    "    #For every pose of the player\n",
    "    for pose in poses:\n",
    "        keypoints = pose\n",
    "        new_keypoint = get_adjacent_keypoints(keypoints)\n",
    "        adjacent_keypoints.extend(new_keypoint)\n",
    "        \n",
    "        #Draw Lines\n",
    "        for adjacent_keypoint in adjacent_keypoints:\n",
    "            pair_key , coords = list(adjacent_keypoint.keys())[0] , list(adjacent_keypoint.values())[0]\n",
    "            coords[0],coords[1] = mapToOrginialImage(coords[0],scale) , mapToOrginialImage(coords[1],scale) \n",
    "            color = rgb_to_brg(SEGMENTCOLORS_INDICES_MAP[pair_key])\n",
    "            cv2.line(out_img, tuple(coords[0]), tuple(coords[1]),\n",
    "                     color, \n",
    "                     8)\n",
    "        \n",
    "        #Draw Points \n",
    "        for key,keypoint in keypoints.items():\n",
    "            center = (round(keypoint[0]) ,round(keypoint[1]))\n",
    "            center = mapToOrginialImage(center,scale)\n",
    "            color = rgb_to_brg(KEY_COLORS_INDICES_MAP[key])\n",
    "            cv2.circle(out_img, center,2, color,\n",
    "                       thickness=3, lineType=8, shift=0)\n",
    "             \n",
    "    return out_img"
   ]
  },
  {
   "cell_type": "code",
   "execution_count": 11,
   "metadata": {},
   "outputs": [],
   "source": [
    "def get_label(fileName):\n",
    "    label = annotations[fileName]\n",
    "    return labels[label]"
   ]
  },
  {
   "cell_type": "code",
   "execution_count": 12,
   "metadata": {
    "scrolled": false
   },
   "outputs": [],
   "source": [
    "if ARGS['datasetGen']:\n",
    "    annotations , labels = load_data()\n",
    "    fileName = os.listdir('/Users/sandeep/Downloads/dataset/examples')\n",
    "    fileName = [name for name in fileName if name[-1] != 'y']\n",
    "    for name in fileName:\n",
    "        videoPath = f'/Users/sandeep/Downloads/dataset/examples/{name}'\n",
    "        posePath = f'/Users/sandeep/Downloads/dataset/examples/{name[0:-4]}.npy'\n",
    "        try:\n",
    "            poses_dict,label = np.load(posePath,allow_pickle=True) , get_label(name[0:-4])\n",
    "\n",
    "            cap = cv2.VideoCapture(videoPath)\n",
    "            count = 0\n",
    "            while cap.isOpened():\n",
    "                ret,frame = cap.read()\n",
    "                print(frame.shape)\n",
    "                if ret:\n",
    "                    #do stuff\n",
    "                    poses = poses_dict[count]\n",
    "\n",
    "                    frame = draw_skel_and_kp([poses],frame,[255,0,0])\n",
    "            #       End of do stuff\n",
    "\n",
    "                    #cv2.imshow('test', frame)\n",
    "                    if count != 15:\n",
    "                        f = '/Volumes/My Passport 1/FinalYearProjectData/ActionClassification5/train'\n",
    "                        #cv2.imwrite(f\"{f}/{label}/{name[0:-4]}_{count}.jpg\" , frame)\n",
    "                    if cv2.waitKey(1) & 0xFF == ord('q'):\n",
    "                        break  \n",
    "                else:\n",
    "                    cap.release()\n",
    "                    break\n",
    "                count += 1\n",
    "            cap.release()\n",
    "            cv2.destroyAllWindows()\n",
    "        except KeyError:\n",
    "            continue\n",
    "\n"
   ]
  },
  {
   "cell_type": "markdown",
   "metadata": {
    "heading_collapsed": true
   },
   "source": [
    "#Test"
   ]
  },
  {
   "cell_type": "code",
   "execution_count": 13,
   "metadata": {
    "hidden": true
   },
   "outputs": [],
   "source": [
    "\n"
   ]
  },
  {
   "cell_type": "code",
   "execution_count": null,
   "metadata": {
    "hidden": true
   },
   "outputs": [],
   "source": []
  }
 ],
 "metadata": {
  "kernelspec": {
   "display_name": "Python 3",
   "language": "python",
   "name": "python3"
  },
  "language_info": {
   "codemirror_mode": {
    "name": "ipython",
    "version": 3
   },
   "file_extension": ".py",
   "mimetype": "text/x-python",
   "name": "python",
   "nbconvert_exporter": "python",
   "pygments_lexer": "ipython3",
   "version": "3.7.4"
  },
  "toc": {
   "base_numbering": 1,
   "nav_menu": {},
   "number_sections": true,
   "sideBar": true,
   "skip_h1_title": false,
   "title_cell": "Table of Contents",
   "title_sidebar": "Contents",
   "toc_cell": false,
   "toc_position": {},
   "toc_section_display": true,
   "toc_window_display": false
  },
  "varInspector": {
   "cols": {
    "lenName": 16,
    "lenType": 16,
    "lenVar": 40
   },
   "kernels_config": {
    "python": {
     "delete_cmd_postfix": "",
     "delete_cmd_prefix": "del ",
     "library": "var_list.py",
     "varRefreshCmd": "print(var_dic_list())"
    },
    "r": {
     "delete_cmd_postfix": ") ",
     "delete_cmd_prefix": "rm(",
     "library": "var_list.r",
     "varRefreshCmd": "cat(var_dic_list()) "
    }
   },
   "types_to_exclude": [
    "module",
    "function",
    "builtin_function_or_method",
    "instance",
    "_Feature"
   ],
   "window_display": false
  }
 },
 "nbformat": 4,
 "nbformat_minor": 2
}
