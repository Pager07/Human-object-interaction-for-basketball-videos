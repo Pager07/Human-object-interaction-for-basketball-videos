{
 "cells": [
  {
   "cell_type": "code",
   "execution_count": 383,
   "metadata": {},
   "outputs": [],
   "source": [
    "import cv2 \n",
    "import numpy as np\n",
    "import pickle\n",
    "import json\n",
    "import os\n",
    "from pathlib import Path"
   ]
  },
  {
   "cell_type": "code",
   "execution_count": 369,
   "metadata": {},
   "outputs": [],
   "source": [
    "#\n"
   ]
  },
  {
   "cell_type": "code",
   "execution_count": 371,
   "metadata": {},
   "outputs": [],
   "source": [
    "def load_data():\n",
    "    with open('/Users/sandeep/Downloads/dataset/annotation_dict.json') as f:\n",
    "      data = json.load(f)\n",
    "    labels = {0 : \"block\", 1 : \"pass\", 2 : \"run\", \n",
    "              3: \"dribble\",4: \"shoot\",5 : \"ball in hand\", \n",
    "              6 : \"defense\", 7: \"pick\" , 8 : \"no_action\" ,\n",
    "              9: \"walk\" ,10: \"discard\"}\n",
    "    return data , labels\n",
    "    "
   ]
  },
  {
   "cell_type": "code",
   "execution_count": 208,
   "metadata": {},
   "outputs": [],
   "source": [
    "raw =  {10:'left_ankel' , 13:'right_ankel' , 9:'left_knee',12:'right_knee',8:'left_hip',\n",
    "        11:'right_hip', 4:'left_wrist',7:'right_wrist', 3:'left_elbow',6:'right_elbow',\n",
    "        2:'left_shoulder',5:'right_shoulder',1:'nose',17:'right_ear',15:'right_eye',\n",
    "        14:'left_eye' , 16:'left_ear', 0:'unknown'}\n",
    "sorted_keys = np.sort((np.array(list(raw.keys()))))\n",
    "PART_IDS = {raw[i]:i for i in sorted_keys}\n",
    "\n",
    "CONNECTED_PART_NAMES = [\n",
    "    (\"left_hip\", \"left_shoulder\"), (\"left_elbow\", \"left_shoulder\"),\n",
    "    (\"left_elbow\", \"left_wrist\"), (\"left_hip\", \"left_knee\"),\n",
    "    (\"left_knee\", \"left_ankel\"), (\"right_hip\", \"right_shoulder\"),\n",
    "    (\"right_elbow\", \"right_shoulder\"), (\"right_elbow\", \"right_wrist\"),\n",
    "    (\"right_hip\", \"right_knee\"), (\"right_knee\", \"right_ankel\"),\n",
    "    (\"left_shoulder\", \"right_shoulder\"), (\"left_hip\", \"right_hip\")\n",
    "]\n",
    "CONNECTED_PART_INDICES = [(PART_IDS[a], PART_IDS[b]) for a, b in CONNECTED_PART_NAMES];\n",
    "KEY_COLORS = {\n",
    "  'unknown':(255,255,255),\n",
    "  'nose': (255,255,0),\n",
    "  'left_eye': (255,0,0),\n",
    "  'right_eye': (0,0,255),\n",
    "  'left_ear': (0,0,0),\n",
    "  'right_ear': (0,255,0),\n",
    "  'left_shoulder': (159, 95, 95),\n",
    "  'right_shoulder': (227, 164, 43),\n",
    "  'left_elbow': (35, 175, 164),\n",
    "  'right_elbow': (226, 41, 226),\n",
    "  'left_wrist': (205, 205, 0),\n",
    "  'right_wrist': (255, 165, 0),\n",
    "  'left_hip': (177, 152, 112),\n",
    "  'right_hip': (128, 0, 0),\n",
    "  'left_knee': (0, 128, 128),\n",
    "  'right_knee': (255, 20, 147),\n",
    "  'left_ankel': (218, 112, 214),\n",
    "  'right_ankel': (0, 0, 128)\n",
    "}\n",
    "KEY_COLORS_INDICES_MAP = {PART_IDS[key]:value for key,value in KEY_COLORS.items()}\n",
    "SEGMENTCOLORS = {\n",
    "  'left_elbow|left_shoulder': (226, 115, 78), \n",
    "  'left_elbow|left_wrist': (191, 255, 0), \n",
    "  'left_hip|left_knee': (128, 128, 0), \n",
    "  'left_knee|left_ankel': (136, 45, 23),\n",
    "  'right_hip|right_shoulder': (255, 0, 255), \n",
    "  'right_elbow|right_shoulder': (106, 90, 205),\n",
    "  'right_elbow|right_wrist': (255, 99, 71),\n",
    "  'right_hip|right_knee': (255, 255, 0),\n",
    "  'left_hip|left_shoulder': (30, 144, 255),\n",
    "  'right_knee|right_ankel': (60, 179, 113),\n",
    "  'left_shoulder|right_shoulder': (139, 0, 139),\n",
    "  'left_hip|right_hip': (255, 20, 147)\n",
    "};\n",
    "#Make a dictionary that maps from pair to pair color (1,2) -> (color)\n",
    "SEGMENTCOLORS_INDICES_MAP = ({(PART_IDS[part1], PART_IDS[part2]): SEGMENTCOLORS[f'{part1}|{part2}']\n",
    "                             for part1,part2 in CONNECTED_PART_NAMES})"
   ]
  },
  {
   "cell_type": "code",
   "execution_count": 184,
   "metadata": {},
   "outputs": [],
   "source": [
    "def get_adjacent_keypoints(keypoints):\n",
    "    '''\n",
    "    Helper function of draw_skel_and _kp\n",
    "    Returns 2 coord of 2 points where line needs to be drawn\n",
    "    EXAMPLE: [[[X1,Y1],[X2,Y2]], [pair],........]\n",
    "    '''\n",
    "    results = []\n",
    "    for left, right in CONNECTED_PART_INDICES:\n",
    "        #we wont have all the points. \n",
    "        #If point is not visilbe not there.Thus,we will get key errer\n",
    "        try:\n",
    "           results.append({(left,right): np.array([\n",
    "                                [ keypoints[left][0] , keypoints[left][1] ],\n",
    "                                [ keypoints[right][0] , keypoints[right][1] ]\n",
    "                                    ]\n",
    "                           ).astype(np.int32)\n",
    "               \n",
    "                         }\n",
    "                          \n",
    "                         )\n",
    "        except KeyError:\n",
    "            continue\n",
    "            \n",
    "    return results\n",
    "\n",
    "scaleFactors = getScaleFactors(490,360,frame.shape[0],frame.shape[1])  \n",
    "unscaledCoord = unscaleCoord(imagePoint)\n",
    "coordInOriginalImage= mapToOrginialImage(unscaledCoord, scaleFactors);"
   ]
  },
  {
   "cell_type": "code",
   "execution_count": 312,
   "metadata": {},
   "outputs": [],
   "source": [
    "def rgb_to_brg(rgb):\n",
    "    '''\n",
    "    Helper function of draw_skel_and_kp\n",
    "    Returns brg values from rgb values \n",
    "    '''\n",
    "    bgr = (rgb[2] , rgb[1] , rgb[0])\n",
    "    return bgr"
   ]
  },
  {
   "cell_type": "code",
   "execution_count": 339,
   "metadata": {},
   "outputs": [],
   "source": [
    " def getScaleFactors(imgW, imgH, originalImgH , originalImgW):\n",
    "    '''\n",
    "       Helper function for draw_skel_and_kp\n",
    "       Returns a tensor with given scalefactor (wdith,height). \n",
    "    '''\n",
    "    return (imgW/originalImgW, imgH/originalImgH);"
   ]
  },
  {
   "cell_type": "code",
   "execution_count": 335,
   "metadata": {},
   "outputs": [],
   "source": [
    "def mapToOrginialImage(coord,scaleFactors):\n",
    "    '''\n",
    "      Helper function for draw_skel_and_kp\n",
    "      Returns coord (width, height)\n",
    "    '''\n",
    "    coordInOriginalImage = [int(coord[0] * scaleFactors[0]) , int(coord[1] * scaleFactors[1])]\n",
    "    return tuple(coordInOriginalImage)"
   ]
  },
  {
   "cell_type": "code",
   "execution_count": 363,
   "metadata": {},
   "outputs": [],
   "source": [
    "def draw_skel_and_kp(poses , img, color,scale=False):\n",
    "    '''\n",
    "    Returns  a black 244x244x3 image with sekelton drawn\n",
    "    '''\n",
    "    if scale:\n",
    "        out_img = np.zeros((512,512,3))\n",
    "        scale = getScaleFactors(512,512,img.shape[0],img.shape[1])\n",
    "    else:\n",
    "        out_img = np.zeros(img.shape)\n",
    "        scale = (1,1) \n",
    "    adjacent_keypoints = []\n",
    "    cv_keypoints = []\n",
    "    #For every pose of the player\n",
    "    for pose in poses:\n",
    "        keypoints = pose\n",
    "        new_keypoint = get_adjacent_keypoints(keypoints)\n",
    "        adjacent_keypoints.extend(new_keypoint)\n",
    "        \n",
    "        #Draw Lines\n",
    "        for adjacent_keypoint in adjacent_keypoints:\n",
    "            pair_key , coords = list(adjacent_keypoint.keys())[0] , list(adjacent_keypoint.values())[0]\n",
    "            coords[0],coords[1] = mapToOrginialImage(coords[0],scale) , mapToOrginialImage(coords[1],scale) \n",
    "            color = rgb_to_brg(SEGMENTCOLORS_INDICES_MAP[pair_key])\n",
    "            cv2.line(out_img, tuple(coords[0]), tuple(coords[1]),\n",
    "                     color, \n",
    "                     8)\n",
    "        \n",
    "        #Draw Points \n",
    "        for key,keypoint in keypoints.items():\n",
    "            center = (round(keypoint[0]) ,round(keypoint[1]))\n",
    "            center = mapToOrginialImage(center,scale)\n",
    "            color = rgb_to_brg(KEY_COLORS_INDICES_MAP[key])\n",
    "            cv2.circle(out_img, center,2, color,\n",
    "                       thickness=3, lineType=8, shift=0)\n",
    "\n",
    "        \n",
    "            \n",
    "    return out_img\n",
    "\n",
    "\n"
   ]
  },
  {
   "cell_type": "code",
   "execution_count": 332,
   "metadata": {},
   "outputs": [],
   "source": [
    "def drawPoints(frame, coordTuple, key):\n",
    "    cv2.circle(frame,coordTuple,1,[255,0,0])\n",
    "        # font \n",
    "    font = cv2.FONT_HERSHEY_PLAIN\n",
    "\n",
    "    # org \n",
    "    org = (coordTuple[0], coordTuple[1]) \n",
    "\n",
    "    # fontScale \n",
    "    fontScale = 0.5\n",
    "\n",
    "    # Blue color in BGR \n",
    "    color = (255, 255, 0) \n",
    "\n",
    "    # Line thickness of 2 px \n",
    "    thickness = 1\n",
    "    \n",
    "    # Using cv2.putText() method \n",
    "    frame= cv2.putText(frame, f'{key}', org, font,  \n",
    "                       fontScale, color, thickness, cv2.LINE_AA) \n",
    "    return frame\n"
   ]
  },
  {
   "cell_type": "code",
   "execution_count": 372,
   "metadata": {},
   "outputs": [],
   "source": [
    "annotations , labels = load_data()"
   ]
  },
  {
   "cell_type": "code",
   "execution_count": 387,
   "metadata": {},
   "outputs": [],
   "source": [
    "for c in labels.values(): os.mkdir(f'/Volumes/My Passport 1/FinalYearProjectData/ActionClassification4/valid/{c}')"
   ]
  },
  {
   "cell_type": "code",
   "execution_count": 385,
   "metadata": {
    "scrolled": true
   },
   "outputs": [
    {
     "data": {
      "text/plain": [
       "{0: 'block',\n",
       " 1: 'pass',\n",
       " 2: 'run',\n",
       " 3: 'dribble',\n",
       " 4: 'shoot',\n",
       " 5: 'ball in hand',\n",
       " 6: 'defense',\n",
       " 7: 'pick',\n",
       " 8: 'no_action',\n",
       " 9: 'walk',\n",
       " 10: 'discard'}"
      ]
     },
     "execution_count": 385,
     "metadata": {},
     "output_type": "execute_result"
    }
   ],
   "source": [
    "labels"
   ]
  },
  {
   "cell_type": "code",
   "execution_count": 388,
   "metadata": {},
   "outputs": [],
   "source": [
    "def get_label(fileName):\n",
    "    label = annotations[fileName]\n",
    "    return labels[label]"
   ]
  },
  {
   "cell_type": "code",
   "execution_count": 391,
   "metadata": {},
   "outputs": [
    {
     "data": {
      "text/plain": [
       "37085"
      ]
     },
     "execution_count": 391,
     "metadata": {},
     "output_type": "execute_result"
    }
   ],
   "source": [
    "len(list(annotations.keys()))"
   ]
  },
  {
   "cell_type": "code",
   "execution_count": 377,
   "metadata": {},
   "outputs": [],
   "source": [
    "fileName = os.listdir('/Users/sandeep/Downloads/dataset/examples')\n",
    "fileName = [name for name in fileName if name[-1] != 'y']"
   ]
  },
  {
   "cell_type": "code",
   "execution_count": 392,
   "metadata": {},
   "outputs": [],
   "source": [
    "for name in fileName:\n",
    "    videoPath = f'/Users/sandeep/Downloads/dataset/examples/{name}'\n",
    "    posePath = f'/Users/sandeep/Downloads/dataset/examples/{name[0:-4]}.npy'\n",
    "    try:\n",
    "        poses_dict,label = np.load(posePath,allow_pickle=True) , get_label(name[0:-4])\n",
    "\n",
    "        cap = cv2.VideoCapture(videoPath)\n",
    "        count = 0\n",
    "        while cap.isOpened():\n",
    "            ret,frame = cap.read()\n",
    "            if ret:\n",
    "                #do stuff\n",
    "                poses = poses_dict[count]\n",
    "\n",
    "                frame = draw_skel_and_kp([poses],frame,[255,0,0])\n",
    "        #       End of do stuff\n",
    "\n",
    "                #cv2.imshow('test', frame)\n",
    "                f = '/Volumes/My Passport 1/FinalYearProjectData/ActionClassification4/train'\n",
    "                cv2.imwrite(f\"{f}/{label}/{name[0:-4]}.jpg\" , frame)\n",
    "                if cv2.waitKey(1) & 0xFF == ord('q'):\n",
    "                    break  \n",
    "            else:\n",
    "                cap.release()\n",
    "                break\n",
    "        cap.release()\n",
    "        cv2.destroyAllWindows()\n",
    "    except KeyError:\n",
    "        continue\n",
    "\n"
   ]
  },
  {
   "cell_type": "code",
   "execution_count": 378,
   "metadata": {},
   "outputs": [],
   "source": [
    "a = '123.mp4'"
   ]
  },
  {
   "cell_type": "code",
   "execution_count": 381,
   "metadata": {},
   "outputs": [
    {
     "data": {
      "text/plain": [
       "'123'"
      ]
     },
     "execution_count": 381,
     "metadata": {},
     "output_type": "execute_result"
    }
   ],
   "source": [
    "a[0:-4]"
   ]
  },
  {
   "cell_type": "code",
   "execution_count": null,
   "metadata": {},
   "outputs": [],
   "source": [
    "annotations['']"
   ]
  }
 ],
 "metadata": {
  "kernelspec": {
   "display_name": "Python 3",
   "language": "python",
   "name": "python3"
  },
  "language_info": {
   "codemirror_mode": {
    "name": "ipython",
    "version": 3
   },
   "file_extension": ".py",
   "mimetype": "text/x-python",
   "name": "python",
   "nbconvert_exporter": "python",
   "pygments_lexer": "ipython3",
   "version": "3.7.4"
  },
  "toc": {
   "base_numbering": 1,
   "nav_menu": {},
   "number_sections": true,
   "sideBar": true,
   "skip_h1_title": false,
   "title_cell": "Table of Contents",
   "title_sidebar": "Contents",
   "toc_cell": false,
   "toc_position": {},
   "toc_section_display": true,
   "toc_window_display": false
  },
  "varInspector": {
   "cols": {
    "lenName": 16,
    "lenType": 16,
    "lenVar": 40
   },
   "kernels_config": {
    "python": {
     "delete_cmd_postfix": "",
     "delete_cmd_prefix": "del ",
     "library": "var_list.py",
     "varRefreshCmd": "print(var_dic_list())"
    },
    "r": {
     "delete_cmd_postfix": ") ",
     "delete_cmd_prefix": "rm(",
     "library": "var_list.r",
     "varRefreshCmd": "cat(var_dic_list()) "
    }
   },
   "types_to_exclude": [
    "module",
    "function",
    "builtin_function_or_method",
    "instance",
    "_Feature"
   ],
   "window_display": false
  }
 },
 "nbformat": 4,
 "nbformat_minor": 2
}
