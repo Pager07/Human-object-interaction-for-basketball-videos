{
 "cells": [
  {
   "cell_type": "code",
   "execution_count": 1,
   "metadata": {
    "scrolled": true
   },
   "outputs": [],
   "source": [
    "import pathlib\n",
    "import sys \n",
    "import random\n",
    "import json\n",
    "import cv2 \n",
    "import base64\n",
    "import requests as req\n",
    "import os\n",
    "import numpy as np\n",
    "import matplotlib.pyplot as plt\n",
    "from matplotlib import cm\n",
    "from matplotlib.colors import ListedColormap, LinearSegmentedColormap\n",
    "from io import BytesIO  \n",
    "%matplotlib inline"
   ]
  },
  {
   "cell_type": "code",
   "execution_count": 2,
   "metadata": {},
   "outputs": [
    {
     "data": {
      "text/plain": [
       "True"
      ]
     },
     "execution_count": 2,
     "metadata": {},
     "output_type": "execute_result"
    }
   ],
   "source": [
    "'/Library/Frameworks/Python.framework/Versions/3.7/lib/python3.7/site-packages' in sys.path"
   ]
  },
  {
   "cell_type": "markdown",
   "metadata": {
    "heading_collapsed": true
   },
   "source": [
    "#Importing CourtSeg"
   ]
  },
  {
   "cell_type": "code",
   "execution_count": 3,
   "metadata": {
    "hidden": true
   },
   "outputs": [],
   "source": [
    "'''\n",
    "Importing courtseg looks for the accuract function in this file as well\n",
    "'''\n",
    "def acc_courtSeg(input, target):\n",
    "    target = target.squeeze(1)\n",
    "    mask = target != void_code\n",
    "    return (input.argmax(dim=1)[mask]==target[mask]).float().mean()"
   ]
  },
  {
   "cell_type": "code",
   "execution_count": 4,
   "metadata": {
    "hidden": true,
    "scrolled": true
   },
   "outputs": [
    {
     "name": "stdout",
     "output_type": "stream",
     "text": [
      "importing Jupyter notebook from CourtSeg.ipynb\n"
     ]
    },
    {
     "name": "stderr",
     "output_type": "stream",
     "text": [
      "/Library/Frameworks/Python.framework/Versions/3.7/lib/python3.7/site-packages/torch/serialization.py:453: SourceChangeWarning: source code of class 'fastai.vision.models.unet.DynamicUnet' has changed. you can retrieve the original source code by accessing the object's source attribute or set `torch.nn.Module.dump_patches = True` and use the patch tool to revert the changes.\n",
      "  warnings.warn(msg, SourceChangeWarning)\n",
      "/Library/Frameworks/Python.framework/Versions/3.7/lib/python3.7/site-packages/torch/serialization.py:453: SourceChangeWarning: source code of class 'torch.nn.modules.container.ModuleList' has changed. you can retrieve the original source code by accessing the object's source attribute or set `torch.nn.Module.dump_patches = True` and use the patch tool to revert the changes.\n",
      "  warnings.warn(msg, SourceChangeWarning)\n",
      "/Library/Frameworks/Python.framework/Versions/3.7/lib/python3.7/site-packages/torch/serialization.py:453: SourceChangeWarning: source code of class 'torch.nn.modules.container.Sequential' has changed. you can retrieve the original source code by accessing the object's source attribute or set `torch.nn.Module.dump_patches = True` and use the patch tool to revert the changes.\n",
      "  warnings.warn(msg, SourceChangeWarning)\n",
      "/Library/Frameworks/Python.framework/Versions/3.7/lib/python3.7/site-packages/torch/serialization.py:453: SourceChangeWarning: source code of class 'torchvision.models.resnet.BasicBlock' has changed. you can retrieve the original source code by accessing the object's source attribute or set `torch.nn.Module.dump_patches = True` and use the patch tool to revert the changes.\n",
      "  warnings.warn(msg, SourceChangeWarning)\n",
      "/Library/Frameworks/Python.framework/Versions/3.7/lib/python3.7/site-packages/torch/serialization.py:453: SourceChangeWarning: source code of class 'fastai.layers.MergeLayer' has changed. you can retrieve the original source code by accessing the object's source attribute or set `torch.nn.Module.dump_patches = True` and use the patch tool to revert the changes.\n",
      "  warnings.warn(msg, SourceChangeWarning)\n"
     ]
    },
    {
     "data": {
      "text/plain": [
       "<Figure size 432x288 with 0 Axes>"
      ]
     },
     "metadata": {},
     "output_type": "display_data"
    }
   ],
   "source": [
    "import import_ipynb\n",
    "import CourtSeg"
   ]
  },
  {
   "cell_type": "code",
   "execution_count": 4,
   "metadata": {
    "hidden": true
   },
   "outputs": [],
   "source": [
    "img = cv2.imread('/Users/sandeep/Desktop/dataandmodles/data/cavs.JPG')"
   ]
  },
  {
   "cell_type": "code",
   "execution_count": 5,
   "metadata": {
    "hidden": true
   },
   "outputs": [],
   "source": [
    "\n",
    "x = CourtSeg.getCourtMask(img)"
   ]
  },
  {
   "cell_type": "code",
   "execution_count": 6,
   "metadata": {
    "hidden": true
   },
   "outputs": [
    {
     "data": {
      "text/plain": [
       "<matplotlib.image.AxesImage at 0x13f813750>"
      ]
     },
     "execution_count": 6,
     "metadata": {},
     "output_type": "execute_result"
    },
    {
     "data": {
      "image/png": "[encoded data removed]",
      "text/plain": [
       "<Figure size 432x288 with 1 Axes>"
      ]
     },
     "metadata": {
      "needs_background": "light"
     },
     "output_type": "display_data"
    }
   ],
   "source": [
    "plt.imshow(x)"
   ]
  },
  {
   "cell_type": "markdown",
   "metadata": {},
   "source": [
    "#Pose"
   ]
  },
  {
   "cell_type": "code",
   "execution_count": 5,
   "metadata": {},
   "outputs": [
    {
     "data": {
      "text/plain": [
       "[(11, 5),\n",
       " (7, 5),\n",
       " (7, 9),\n",
       " (11, 13),\n",
       " (13, 15),\n",
       " (12, 6),\n",
       " (8, 6),\n",
       " (8, 10),\n",
       " (12, 14),\n",
       " (14, 16),\n",
       " (5, 6),\n",
       " (11, 12)]"
      ]
     },
     "execution_count": 5,
     "metadata": {},
     "output_type": "execute_result"
    }
   ],
   "source": [
    "#constants\n",
    "PART_NAMES = [\n",
    "    \"nose\", \"leftEye\", \"rightEye\", \"leftEar\", \"rightEar\", \"leftShoulder\",\n",
    "    \"rightShoulder\", \"leftElbow\", \"rightElbow\", \"leftWrist\", \"rightWrist\",\n",
    "    \"leftHip\", \"rightHip\", \"leftKnee\", \"rightKnee\", \"leftAnkle\", \"rightAnkle\"\n",
    "]\n",
    "PART_IDS = {pn: pid for pid, pn in enumerate(PART_NAMES)} ;PART_IDS\n",
    "CONNECTED_PART_NAMES = [\n",
    "    (\"leftHip\", \"leftShoulder\"), (\"leftElbow\", \"leftShoulder\"),\n",
    "    (\"leftElbow\", \"leftWrist\"), (\"leftHip\", \"leftKnee\"),\n",
    "    (\"leftKnee\", \"leftAnkle\"), (\"rightHip\", \"rightShoulder\"),\n",
    "    (\"rightElbow\", \"rightShoulder\"), (\"rightElbow\", \"rightWrist\"),\n",
    "    (\"rightHip\", \"rightKnee\"), (\"rightKnee\", \"rightAnkle\"),\n",
    "    (\"leftShoulder\", \"rightShoulder\"), (\"leftHip\", \"rightHip\")\n",
    "]\n",
    "\n",
    "CONNECTED_PART_INDICES = [(PART_IDS[a], PART_IDS[b]) for a, b in CONNECTED_PART_NAMES]; CONNECTED_PART_INDICES"
   ]
  },
  {
   "cell_type": "code",
   "execution_count": 6,
   "metadata": {},
   "outputs": [],
   "source": [
    "def getBase64Image(filePath):\n",
    "    with open(filePath, \"rb\") as img_file:\n",
    "        my_string = base64.b64encode(img_file.read())\n",
    "        my_string = my_string.decode('utf-8')\n",
    "    return my_string\n",
    "    "
   ]
  },
  {
   "cell_type": "code",
   "execution_count": 7,
   "metadata": {},
   "outputs": [],
   "source": [
    "def convertToBase64(image):\n",
    "    retval, buffer = cv2.imencode('.jpg', image)\n",
    "    my_string = base64.b64encode(buffer)\n",
    "    my_string = my_string.decode('utf-8')\n",
    "    return my_string\n",
    "    \n",
    "  "
   ]
  },
  {
   "cell_type": "code",
   "execution_count": 8,
   "metadata": {},
   "outputs": [],
   "source": [
    "def get_adjacent_keypoints(keypoints):\n",
    "    results = []\n",
    "    for left, right in CONNECTED_PART_INDICES:\n",
    "       results.append(\n",
    "           np.array([\n",
    "                [ keypoints[left]['position']['x'] , keypoints[left]['position']['y'] ],\n",
    "                [ keypoints[right]['position']['x'] , keypoints[right]['position']['y'] ]\n",
    "                    ]\n",
    "           ).astype(np.int32)\n",
    "        )\n",
    "    return results\n",
    "            \n",
    "        "
   ]
  },
  {
   "cell_type": "code",
   "execution_count": 23,
   "metadata": {
    "scrolled": false
   },
   "outputs": [],
   "source": [
    "#Loading model\n",
    "r = req.get(url='http://localhost:3000/loadModel')\n"
   ]
  },
  {
   "cell_type": "code",
   "execution_count": 10,
   "metadata": {},
   "outputs": [],
   "source": [
    "#Sending data to server\n",
    "def getPoses(image_string):\n",
    "    url2 = 'http://localhost:3000/postImage'\n",
    "    data = {'imgBase64':'data:image/png;base64,'+image_string}\n",
    "    r = req.post(url=url2 , data = data)\n",
    "    poses = r.json()\n",
    "    return poses"
   ]
  },
  {
   "cell_type": "code",
   "execution_count": 11,
   "metadata": {},
   "outputs": [],
   "source": [
    "def draw_keypoints(poses,img):\n",
    "    cv_keypoints= []\n",
    "    for pose in poses['detectionList']:\n",
    "        keypoints = pose['keypoints']\n",
    "        for keypoint in keypoints:\n",
    "            x,y,score = round(keypoint['position']['x']) ,round(keypoint['position']['y']),keypoint['score']\n",
    "            cv_keypoints.append(cv2.KeyPoint(x,y , 10. *score))\n",
    "    out_img = cv2.drawKeypoints(img, cv_keypoints , outImage=np.array([]) ) \n",
    "    "
   ]
  },
  {
   "cell_type": "code",
   "execution_count": 12,
   "metadata": {},
   "outputs": [],
   "source": [
    "def draw_skelton(poses,img):\n",
    "    adjacent_keypoints = []\n",
    "    out_img = img\n",
    "    for pose in poses['detectionList']:\n",
    "        keypoints  = pose['keypoints']\n",
    "        new_keypoints = get_adjacent_keypoints(keypoints)\n",
    "        adjacent_keypoints.extend(new_keypoints)\n",
    "    out_img = cv2.polylines(out_img , adjacent_keypoints, isClosed=False, color=(255,255,0))\n",
    "    return out_img    "
   ]
  },
  {
   "cell_type": "code",
   "execution_count": 13,
   "metadata": {},
   "outputs": [],
   "source": [
    "def draw_skel_and_kp(poses , img, color):\n",
    "    out_img = img\n",
    "    adjacent_keypoints = []\n",
    "    cv_keypoints = []\n",
    "    for pose in poses['detectionList']:\n",
    "        keypoints = pose['keypoints']\n",
    "        new_keypoint = get_adjacent_keypoints(keypoints)\n",
    "        adjacent_keypoints.extend(new_keypoint)\n",
    "        \n",
    "        for keypoint in keypoints:\n",
    "            x,y,score = round(keypoint['position']['x']) ,round(keypoint['position']['y']),keypoint['score']\n",
    "            cv_keypoints.append(cv2.KeyPoint(x,y , 10. * score))\n",
    "    out_img = cv2.drawKeypoints(\n",
    "        img, cv_keypoints , outImage=np.array([]), color=color,\n",
    "        flags=cv2.DRAW_MATCHES_FLAGS_DRAW_RICH_KEYPOINTS )\n",
    "    out_img = cv2.polylines(out_img , adjacent_keypoints , isClosed=False, color=list(color))\n",
    "    return out_img\n",
    "    \n",
    "    \n",
    "        "
   ]
  },
  {
   "cell_type": "code",
   "execution_count": 14,
   "metadata": {},
   "outputs": [],
   "source": [
    "def mapIntToColours(fraction,totalColors):\n",
    "    viridis = cm.get_cmap('magma', totalColors)\n",
    "    rgba = viridis(fraction)\n",
    "    bgr = ( int((round(rgba[2] *255))) , int((round(rgba[1] *255))) , int((round(rgba[1] *255))) )\n",
    "    return bgr\n",
    "    "
   ]
  },
  {
   "cell_type": "code",
   "execution_count": 86,
   "metadata": {},
   "outputs": [
    {
     "data": {
      "text/plain": [
       "(90, 7, 7)"
      ]
     },
     "execution_count": 86,
     "metadata": {},
     "output_type": "execute_result"
    }
   ],
   "source": [
    "mapIntToColours((1/58),58)"
   ]
  },
  {
   "cell_type": "code",
   "execution_count": 49,
   "metadata": {
    "scrolled": false
   },
   "outputs": [
    {
     "data": {
      "text/plain": [
       "True"
      ]
     },
     "execution_count": 49,
     "metadata": {},
     "output_type": "execute_result"
    }
   ],
   "source": [
    "\n",
    "img = cv2.imread('/Users/sandeep/Desktop/FinalYearProject/YoutubeScreenshotScrapper/data/test/Screenshot 2020-01-28 at 7.10.58 AM.png')\n",
    "myString =convertToBase64(img)\n",
    "poses = getPoses(myString)\n",
    "out_img = draw_skel_and_kp(poses,img)\n",
    "cv2.imwrite('/Users/sandeep/Desktop/FinalYearProject/YoutubeScreenshotScrapper/data/test/shootingPoset.jpg' ,out_img) "
   ]
  },
  {
   "cell_type": "code",
   "execution_count": 15,
   "metadata": {},
   "outputs": [],
   "source": [
    "def resize(frame):\n",
    "    '''\n",
    "    Helper function for timeCompressionPose and timeCompressionCourt\n",
    "    Return resized frame. \n",
    "    Such that size of images will match the size of the court mask (output) form courtSeg model\n",
    "    during the image stacking process\n",
    "    '''\n",
    "    frame= cv2.resize(frame , (1280,720))\n",
    "    return frame"
   ]
  },
  {
   "cell_type": "code",
   "execution_count": 16,
   "metadata": {
    "scrolled": true
   },
   "outputs": [],
   "source": [
    "def timeCompressionPose(videoPath):\n",
    "    #videoPath ='/Users/sandeep/Desktop/FinalYearProject/YoutubeScreenshotScrapper/data/test/PosenetUsingCDN.ipynb.mov'\n",
    "    cap = cv2.VideoCapture(videoPath)\n",
    "    totalFrames = int(cap.get(cv2.CAP_PROP_FRAME_COUNT))\n",
    "    count =0;\n",
    "    mergedImage = None;\n",
    "    while(cap.isOpened()):\n",
    "        ret, frame = cap.read()\n",
    "        if ret:\n",
    "            #Do Stuff\n",
    "            if count%2==0:\n",
    "                frame = resize(frame)    \n",
    "                #if count==0: mergedImage = np.zeros(frame.shape, dtype=np.uint8)\n",
    "                if count==0: mergedImage = CourtSeg.getCourtMask(frame)\n",
    "                imageString = convertToBase64(frame)\n",
    "                poses = getPoses(imageString)\n",
    "                fraction = ((count + 1) / totalFrames)\n",
    "\n",
    "                color = mapIntToColours(fraction,totalFrames)\n",
    "                mergedImage = draw_skel_and_kp(poses , mergedImage , color)\n",
    "            count += 1\n",
    "        else:\n",
    "            cap.release()\n",
    "            break\n",
    "    cap.release()\n",
    "    return mergedImage   "
   ]
  },
  {
   "cell_type": "code",
   "execution_count": 17,
   "metadata": {},
   "outputs": [],
   "source": [
    "#Decided not to use thia\n",
    "def timeCompressionCourt(videoPath):\n",
    "    cap = cv2.VideoCapture(videoPath)\n",
    "    count = 0 \n",
    "    mergedImage = None\n",
    "    while cap.isOpened():\n",
    "        ret,frame = cap.read()\n",
    "        if ret:\n",
    "            #Do Stuff\n",
    "            frame = resize(frame)\n",
    "            if count == 0: mergedImage = np.zeros(frame.shape, dtype=np.uint8)  \n",
    "            if count%10 == 0:\n",
    "                courtMask = CourtSeg.getCourtMask(frame)\n",
    "                cv2.addWeighted(mergedImage,1,courtMask,0.191 ,0,mergedImage)\n",
    "            count = count + 1\n",
    "        else:\n",
    "            cap.release()\n",
    "            break\n",
    "    cap.release()\n",
    "    return mergedImage"
   ]
  },
  {
   "cell_type": "code",
   "execution_count": null,
   "metadata": {},
   "outputs": [],
   "source": []
  },
  {
   "cell_type": "code",
   "execution_count": 18,
   "metadata": {},
   "outputs": [],
   "source": [
    "def mergeImage(mergedPose, mergedCourt):\n",
    "    mergedImage = np.zeros(mergedCourt.shape, dtype=np.uint8) \n",
    "    cv2.addWeighted(mergedPose , 1, mergedCourt , 1, 0 , mergedImage)\n",
    "    return mergedImage"
   ]
  },
  {
   "cell_type": "code",
   "execution_count": 19,
   "metadata": {},
   "outputs": [],
   "source": [
    "def formDataset(videos,rootDir,outputDir):\n",
    "    for video in videos:\n",
    "        if video[0] != '.':\n",
    "            videoPath = rootDir+'/'+video\n",
    "            outputPath = outputDir+'/'+video+'.png'\n",
    "            mergedPose =  timeCompressionPose(videoPath)\n",
    "#             mergedCourt = timeCompressionCourt(videoPath)\n",
    "#             mergedImage = mergeImage(mergedPose, mergedCourt)\n",
    "            cv2.imwrite(outputPath , mergedPose)"
   ]
  },
  {
   "cell_type": "markdown",
   "metadata": {},
   "source": [
    "#Forming the dataset"
   ]
  },
  {
   "cell_type": "code",
   "execution_count": 96,
   "metadata": {
    "scrolled": true
   },
   "outputs": [],
   "source": [
    "#Making 3 pointer dataset\n",
    "rootDir = '/Volumes/My Passport 1/FinalYearProjectData/ActionClassificaton3/trainVideos/3-Pointer'\n",
    "outputDir = '/Volumes/My Passport 1/FinalYearProjectData/ActionClassificaton3/trainMerged/3-Pointer'\n",
    "videos = os.listdir(rootDir)\n",
    "formDataset(videos, rootDir , outputDir)\n"
   ]
  },
  {
   "cell_type": "code",
   "execution_count": 20,
   "metadata": {},
   "outputs": [],
   "source": [
    "#Making Free-throw dataset\n",
    "rootDir = '/Volumes/My Passport 1/FinalYearProjectData/ActionClassificaton3/trainVideos/Free-throw'\n",
    "outputDir = '/Volumes/My Passport 1/FinalYearProjectData/ActionClassificaton3/trainMerged/Free-throw'\n",
    "videos = [video for video in os.listdir(rootDir) if video[0] != '.']\n",
    "formDataset(videos, rootDir , outputDir)\n"
   ]
  },
  {
   "cell_type": "code",
   "execution_count": 24,
   "metadata": {},
   "outputs": [],
   "source": [
    "#Making Dunk dataset\n",
    "rootDir = '/Volumes/My Passport 1/FinalYearProjectData/ActionClassificaton3/trainVideos/Dunk'\n",
    "outputDir = '/Volumes/My Passport 1/FinalYearProjectData/ActionClassificaton3/trainMerged/Dunk'\n",
    "videos = [video for video in os.listdir(rootDir) if video[0] != '.']\n",
    "formDataset(videos, rootDir , outputDir)"
   ]
  },
  {
   "cell_type": "markdown",
   "metadata": {
    "heading_collapsed": true
   },
   "source": [
    "#TestCode"
   ]
  },
  {
   "cell_type": "code",
   "execution_count": 17,
   "metadata": {
    "collapsed": true,
    "hidden": true
   },
   "outputs": [
    {
     "data": {
      "text/plain": [
       "['Dunk42.mov',\n",
       " 'Dunk43.mov',\n",
       " 'Dunk44.mov',\n",
       " 'Dunk45.mov',\n",
       " 'Dunk46.mov',\n",
       " 'Dunk47.mov',\n",
       " 'Dunk48.mov',\n",
       " 'Dunk49.mov',\n",
       " 'Dunk50.mov',\n",
       " 'Dunk51.mov',\n",
       " 'Dunk52.mov',\n",
       " 'Dunk53.mov',\n",
       " 'Dunk54.mov',\n",
       " 'Dunk55.mov',\n",
       " 'Dunk56.mov',\n",
       " 'Dunk57.mov',\n",
       " 'Dunk58.mov',\n",
       " 'Dunk59.mov',\n",
       " 'Dunk60.mov',\n",
       " 'Dunk61.mov',\n",
       " 'Dunk62.mov',\n",
       " 'Dunk63.mov',\n",
       " 'Dunk64.mov',\n",
       " 'Dunk65.mov',\n",
       " ' .mov']"
      ]
     },
     "execution_count": 17,
     "metadata": {},
     "output_type": "execute_result"
    }
   ],
   "source": [
    "videos"
   ]
  },
  {
   "cell_type": "code",
   "execution_count": 136,
   "metadata": {
    "hidden": true
   },
   "outputs": [],
   "source": [
    "img = cv2.imread('/Users/sandeep/Desktop/FinalYearProject/YoutubeScreenshotScrapper/data/test/Screenshot 2020-01-28 at 7.10.58 AM.png')"
   ]
  },
  {
   "cell_type": "code",
   "execution_count": 137,
   "metadata": {
    "hidden": true
   },
   "outputs": [],
   "source": [
    "img= cv2.resize(img , (850,480))"
   ]
  },
  {
   "cell_type": "code",
   "execution_count": 138,
   "metadata": {
    "hidden": true
   },
   "outputs": [
    {
     "data": {
      "text/plain": [
       "True"
      ]
     },
     "execution_count": 138,
     "metadata": {},
     "output_type": "execute_result"
    }
   ],
   "source": [
    "cv2.imwrite('/Users/sandeep/Desktop/FinalYearProject/YoutubeScreenshotScrapper/data/test/smaller.png', img)"
   ]
  },
  {
   "cell_type": "code",
   "execution_count": 89,
   "metadata": {
    "hidden": true
   },
   "outputs": [
    {
     "name": "stdout",
     "output_type": "stream",
     "text": [
      "<matplotlib.colors.ListedColormap object at 0x11b6457d0>\n"
     ]
    }
   ],
   "source": [
    "plasma = cm.get_cmap('hot', 60)\n",
    "print(viridis)"
   ]
  },
  {
   "cell_type": "code",
   "execution_count": 34,
   "metadata": {
    "hidden": true
   },
   "outputs": [
    {
     "data": {
      "text/plain": [
       "(31.97547, 146.45109, 140.01693)"
      ]
     },
     "execution_count": 34,
     "metadata": {},
     "output_type": "execute_result"
    }
   ],
   "source": [
    "rgba = plasma(0.5)\n",
    "(rgba[0] * 255, rgba[1] * 255,rgba[2] * 255)\n"
   ]
  },
  {
   "cell_type": "code",
   "execution_count": 52,
   "metadata": {
    "hidden": true
   },
   "outputs": [
    {
     "data": {
      "text/plain": [
       "[0.959276, 0.921407, 0.151566, 1.0]"
      ]
     },
     "execution_count": 52,
     "metadata": {},
     "output_type": "execute_result"
    }
   ],
   "source": [
    "list(rbga)"
   ]
  },
  {
   "cell_type": "code",
   "execution_count": 74,
   "metadata": {
    "hidden": true
   },
   "outputs": [
    {
     "data": {
      "text/plain": [
       "4.396551724137931"
      ]
     },
     "execution_count": 74,
     "metadata": {},
     "output_type": "execute_result"
    }
   ],
   "source": [
    "(1/totalFrames)*255"
   ]
  },
  {
   "cell_type": "code",
   "execution_count": 72,
   "metadata": {
    "hidden": true
   },
   "outputs": [
    {
     "data": {
      "text/plain": [
       "58"
      ]
     },
     "execution_count": 72,
     "metadata": {},
     "output_type": "execute_result"
    }
   ],
   "source": [
    "count"
   ]
  },
  {
   "cell_type": "code",
   "execution_count": 2,
   "metadata": {
    "hidden": true,
    "scrolled": true
   },
   "outputs": [
    {
     "data": {
      "text/plain": [
       "0"
      ]
     },
     "execution_count": 2,
     "metadata": {},
     "output_type": "execute_result"
    }
   ],
   "source": [
    "100%10"
   ]
  },
  {
   "cell_type": "code",
   "execution_count": null,
   "metadata": {
    "hidden": true
   },
   "outputs": [],
   "source": [
    "#Test Corut Seg Weighted SUm"
   ]
  },
  {
   "cell_type": "code",
   "execution_count": 12,
   "metadata": {
    "hidden": true
   },
   "outputs": [
    {
     "data": {
      "text/plain": [
       "True"
      ]
     },
     "execution_count": 12,
     "metadata": {},
     "output_type": "execute_result"
    }
   ],
   "source": [
    "rootDir = '/Users/sandeep/Desktop/dataandmodles/u-netDemoImages/3-pointer'\n",
    "images = os.listdir(rootDir)\n",
    "weightedSum = None\n",
    "count = 0\n",
    "for image in images:\n",
    "    filePath = rootDir + '/' + image\n",
    "    img = cv2.imread(filePath)\n",
    "    if count == 0: weightedSum = np.zeros(img.shape, dtype=np.uint8)\n",
    "    cv2.addWeighted(weightedSum,1,img,0.01,0,weightedSum)\n",
    "    count = count+ 1\n",
    "cv2.imwrite(rootDir+'/weightedSum0.01.png', weightedSum)"
   ]
  },
  {
   "cell_type": "code",
   "execution_count": 17,
   "metadata": {
    "hidden": true,
    "scrolled": true
   },
   "outputs": [
    {
     "data": {
      "text/plain": [
       "True"
      ]
     },
     "execution_count": 17,
     "metadata": {},
     "output_type": "execute_result"
    }
   ],
   "source": [
    "img = cv2.imread('/Users/sandeep/Desktop/dataandmodles/u-netDemoImages/3-pointer/weightedSum0.01.png')\n",
    "img2 = np.zeros(img.shape, dtype=np.uint8) \n",
    "img3 = np.zeros(img.shape, dtype=np.uint8) \n",
    "res = None \n",
    "cv2.addWeighted(img,1,img2,1,0,img3)\n",
    "cv2.imwrite(rootDir+'/merrgedWithBlack.png', img3)"
   ]
  },
  {
   "cell_type": "code",
   "execution_count": 50,
   "metadata": {
    "hidden": true
   },
   "outputs": [],
   "source": [
    "from fastai.vision import *\n"
   ]
  },
  {
   "cell_type": "code",
   "execution_count": 51,
   "metadata": {
    "hidden": true
   },
   "outputs": [],
   "source": [
    "img = cv2.imread('/Users/sandeep/Desktop/dataandmodles/data/cavs.JPG')\n",
    "img = cv2.cvtColor(img , cv2.COLOR_BGR2RGB)\n",
    "img = Image(pil2tensor(img, dtype=np.float32).div_(255))\n",
    "x = CourtSeg.learn.predict(img)"
   ]
  },
  {
   "cell_type": "code",
   "execution_count": 56,
   "metadata": {
    "collapsed": true,
    "hidden": true
   },
   "outputs": [
    {
     "data": {
      "text/plain": [
       "(ImageSegment (1, 720, 1280), tensor([[[0, 0, 0,  ..., 0, 0, 0],\n",
       "          [0, 0, 0,  ..., 0, 0, 0],\n",
       "          [0, 0, 0,  ..., 0, 0, 0],\n",
       "          ...,\n",
       "          [1, 2, 2,  ..., 0, 0, 0],\n",
       "          [2, 2, 2,  ..., 0, 0, 0],\n",
       "          [2, 2, 2,  ..., 0, 0, 0]]]), tensor([[[9.8967e-01, 9.9324e-01, 9.9809e-01,  ..., 9.8061e-01,\n",
       "           9.5502e-01, 9.0906e-01],\n",
       "          [9.9625e-01, 9.9825e-01, 9.9922e-01,  ..., 9.9133e-01,\n",
       "           9.8400e-01, 9.6173e-01],\n",
       "          [9.9912e-01, 9.9966e-01, 9.9960e-01,  ..., 9.9887e-01,\n",
       "           9.9869e-01, 9.9578e-01],\n",
       "          ...,\n",
       "          [1.1972e-01, 3.9189e-02, 4.7066e-02,  ..., 9.7854e-01,\n",
       "           9.8673e-01, 9.8633e-01],\n",
       "          [1.8799e-01, 8.7504e-02, 6.1716e-02,  ..., 9.7148e-01,\n",
       "           9.6434e-01, 9.6248e-01],\n",
       "          [2.8900e-01, 2.1058e-01, 1.8747e-01,  ..., 9.2634e-01,\n",
       "           9.3025e-01, 8.8647e-01]],\n",
       " \n",
       "         [[1.1027e-03, 2.6249e-04, 4.9278e-05,  ..., 1.4401e-03,\n",
       "           3.1781e-03, 1.3134e-02],\n",
       "          [1.4486e-04, 7.3506e-06, 1.0627e-06,  ..., 1.7691e-04,\n",
       "           6.1655e-04, 3.0282e-03],\n",
       "          [2.4677e-05, 1.0835e-06, 1.2525e-06,  ..., 1.1848e-05,\n",
       "           3.1321e-05, 3.1806e-04],\n",
       "          ...,\n",
       "          [4.2393e-01, 4.6606e-01, 3.9526e-01,  ..., 3.7248e-03,\n",
       "           1.0114e-03, 1.0723e-03],\n",
       "          [3.6705e-01, 4.2688e-01, 3.3666e-01,  ..., 3.8217e-03,\n",
       "           5.8896e-03, 6.5009e-03],\n",
       "          [3.0644e-01, 3.5807e-01, 2.9641e-01,  ..., 1.0895e-02,\n",
       "           1.5435e-02, 2.3401e-02]],\n",
       " \n",
       "         [[6.9384e-04, 3.1679e-04, 9.3861e-05,  ..., 7.9713e-04,\n",
       "           3.5297e-03, 9.0711e-03],\n",
       "          [1.7920e-04, 1.9091e-05, 4.4601e-06,  ..., 1.0910e-04,\n",
       "           7.6252e-04, 2.9571e-03],\n",
       "          [7.8372e-05, 5.7984e-06, 5.1724e-06,  ..., 2.6317e-05,\n",
       "           8.3441e-05, 6.2378e-04],\n",
       "          ...,\n",
       "          [4.1579e-01, 4.8459e-01, 5.4671e-01,  ..., 1.5874e-02,\n",
       "           8.7170e-03, 6.1810e-03],\n",
       "          [3.8486e-01, 4.6474e-01, 5.8848e-01,  ..., 2.2051e-02,\n",
       "           2.0710e-02, 1.7223e-02],\n",
       "          [3.0864e-01, 3.8773e-01, 4.8772e-01,  ..., 5.4219e-02,\n",
       "           3.6845e-02, 4.8919e-02]],\n",
       " \n",
       "         [[6.0469e-03, 5.5690e-03, 1.5800e-03,  ..., 1.2802e-02,\n",
       "           2.2850e-02, 3.6461e-02],\n",
       "          [3.0196e-03, 1.6860e-03, 7.5444e-04,  ..., 5.6259e-03,\n",
       "           8.9521e-03, 2.2926e-02],\n",
       "          [6.5242e-04, 3.2683e-04, 3.7932e-04,  ..., 8.9559e-04,\n",
       "           4.8602e-04, 1.7155e-03],\n",
       "          ...,\n",
       "          [1.2937e-03, 1.0552e-04, 1.2810e-04,  ..., 2.4061e-04,\n",
       "           6.0306e-04, 2.5684e-03],\n",
       "          [3.5038e-03, 4.1686e-04, 1.6226e-04,  ..., 4.1701e-04,\n",
       "           1.3544e-03, 4.8409e-03],\n",
       "          [9.8744e-03, 2.4040e-03, 1.0954e-03,  ..., 1.9159e-03,\n",
       "           3.9805e-03, 1.1854e-02]],\n",
       " \n",
       "         [[3.0310e-04, 3.2573e-05, 7.3522e-06,  ..., 1.8688e-04,\n",
       "           5.0365e-04, 2.7791e-03],\n",
       "          [2.9230e-05, 4.9720e-07, 7.5124e-08,  ..., 6.3547e-06,\n",
       "           2.9320e-05, 2.9035e-04],\n",
       "          [1.9281e-06, 1.5173e-08, 1.6739e-08,  ..., 2.9876e-07,\n",
       "           1.0490e-06, 2.5743e-05],\n",
       "          ...,\n",
       "          [8.6480e-03, 1.3944e-03, 2.2564e-03,  ..., 1.6377e-05,\n",
       "           1.3842e-05, 1.0116e-04],\n",
       "          [1.2034e-02, 2.3061e-03, 2.2444e-03,  ..., 1.0295e-04,\n",
       "           1.0934e-04, 4.6966e-04],\n",
       "          [1.9449e-02, 5.5469e-03, 5.8350e-03,  ..., 6.6070e-04,\n",
       "           6.8460e-04, 2.3793e-03]],\n",
       " \n",
       "         [[2.1827e-03, 5.7421e-04, 1.7939e-04,  ..., 4.1620e-03,\n",
       "           1.4920e-02, 2.9497e-02],\n",
       "          [3.7764e-04, 3.5030e-05, 1.5431e-05,  ..., 2.7538e-03,\n",
       "           5.6377e-03, 9.0656e-03],\n",
       "          [1.2080e-04, 1.0089e-05, 1.6337e-05,  ..., 1.9739e-04,\n",
       "           7.0394e-04, 1.5405e-03],\n",
       "          ...,\n",
       "          [3.0626e-02, 8.6634e-03, 8.5819e-03,  ..., 1.6005e-03,\n",
       "           2.9293e-03, 3.7467e-03],\n",
       "          [4.4561e-02, 1.8152e-02, 1.0739e-02,  ..., 2.1288e-03,\n",
       "           7.5922e-03, 8.4883e-03],\n",
       "          [6.6591e-02, 3.5674e-02, 2.1468e-02,  ..., 5.9713e-03,\n",
       "           1.2805e-02, 2.6980e-02]]]))"
      ]
     },
     "execution_count": 56,
     "metadata": {},
     "output_type": "execute_result"
    }
   ],
   "source": [
    "\n"
   ]
  },
  {
   "cell_type": "code",
   "execution_count": 77,
   "metadata": {
    "hidden": true
   },
   "outputs": [],
   "source": [
    "img = cv2.imread('/Users/sandeep/Desktop/dataandmodles/u-netDemoImages/3-pointer/14.png')\n",
    "img2 = cv2.imread('/Users/sandeep/Desktop/dataandmodles/u-netDemoImages/3-pointer/weightedSumPose.png')\n",
    "img, img2 = resize(img), resize(img2)"
   ]
  },
  {
   "cell_type": "code",
   "execution_count": 78,
   "metadata": {
    "hidden": true
   },
   "outputs": [],
   "source": [
    "rootDir = '/Users/sandeep/Desktop/dataandmodles/u-netDemoImages/3-pointer'"
   ]
  },
  {
   "cell_type": "code",
   "execution_count": 68,
   "metadata": {
    "hidden": true
   },
   "outputs": [
    {
     "data": {
      "text/plain": [
       "True"
      ]
     },
     "execution_count": 68,
     "metadata": {},
     "output_type": "execute_result"
    }
   ],
   "source": [
    "\n",
    "\n",
    "cv2.addWeighted(img2 , 1, img , 1 , 0 , img2 )\n",
    "cv2.imwrite(rootDir+'/uncompressedStacked2.png', img2)"
   ]
  },
  {
   "cell_type": "code",
   "execution_count": null,
   "metadata": {
    "hidden": true
   },
   "outputs": [],
   "source": []
  }
 ],
 "metadata": {
  "kernelspec": {
   "display_name": "Python 3",
   "language": "python",
   "name": "python3"
  },
  "language_info": {
   "codemirror_mode": {
    "name": "ipython",
    "version": 3
   },
   "file_extension": ".py",
   "mimetype": "text/x-python",
   "name": "python",
   "nbconvert_exporter": "python",
   "pygments_lexer": "ipython3",
   "version": "3.7.4"
  },
  "toc": {
   "base_numbering": 1,
   "nav_menu": {},
   "number_sections": true,
   "sideBar": true,
   "skip_h1_title": false,
   "title_cell": "Table of Contents",
   "title_sidebar": "Contents",
   "toc_cell": false,
   "toc_position": {},
   "toc_section_display": true,
   "toc_window_display": false
  },
  "varInspector": {
   "cols": {
    "lenName": 16,
    "lenType": 16,
    "lenVar": 40
   },
   "kernels_config": {
    "python": {
     "delete_cmd_postfix": "",
     "delete_cmd_prefix": "del ",
     "library": "var_list.py",
     "varRefreshCmd": "print(var_dic_list())"
    },
    "r": {
     "delete_cmd_postfix": ") ",
     "delete_cmd_prefix": "rm(",
     "library": "var_list.r",
     "varRefreshCmd": "cat(var_dic_list()) "
    }
   },
   "types_to_exclude": [
    "module",
    "function",
    "builtin_function_or_method",
    "instance",
    "_Feature"
   ],
   "window_display": false
  }
 },
 "nbformat": 4,
 "nbformat_minor": 2
}
