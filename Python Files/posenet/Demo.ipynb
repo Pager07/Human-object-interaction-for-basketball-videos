{
 "cells": [
  {
   "cell_type": "markdown",
   "metadata": {},
   "source": [
    "#Importing"
   ]
  },
  {
   "cell_type": "code",
   "execution_count": 1,
   "metadata": {},
   "outputs": [],
   "source": [
    "import sys\n",
    "import cv2\n",
    "import os\n",
    "import numpy as np\n",
    "import random\n",
    "import cv2\n",
    "import torch\n"
   ]
  },
  {
   "cell_type": "code",
   "execution_count": 2,
   "metadata": {
    "scrolled": true
   },
   "outputs": [
    {
     "name": "stdout",
     "output_type": "stream",
     "text": [
      "importing Jupyter notebook from BallDetector.ipynb\n",
      "importing Jupyter notebook from ActionClassifier.ipynb\n"
     ]
    }
   ],
   "source": [
    "sys.path.append('/Users/sandeep/opt/anaconda3/lib/python3.7/site-packages')\n",
    "import import_ipynb\n",
    "import BallDetector\n",
    "import ActionClassifier"
   ]
  },
  {
   "cell_type": "code",
   "execution_count": 3,
   "metadata": {},
   "outputs": [],
   "source": [
    "#Reload an IPython extension by its module name.\n",
    "%reload_ext autoreload\n",
    "#2 is the code to reload ALL modules before running any code cell\n",
    "%autoreload 2 \n"
   ]
  },
  {
   "cell_type": "markdown",
   "metadata": {},
   "source": [
    "# Detection on video frames"
   ]
  },
  {
   "cell_type": "code",
   "execution_count": 4,
   "metadata": {},
   "outputs": [],
   "source": [
    "def getClassProbLabel(actionClassPred):\n",
    "    classes = classes = ['3-pointer failure',\n",
    "              '3-pointer success',\n",
    "              'free-throw failure',\n",
    "              'free-throw success',\n",
    "              'layup failure',\n",
    "              'layup success',\n",
    "              'other 2-pointer failure',\n",
    "              'other 2-pointer success',\n",
    "              'slam dunk']\n",
    "    prob  = actionClassPred[2]\n",
    "   \n",
    "    joinClassesProb = lambda pred : f'{pred[0]}:{round(pred[1].item(),4)}\\n'\n",
    "    # = lambda pred : print(pred)\n",
    "    \n",
    "    label = map(joinClassesProb , zip(classes,prob))\n",
    "    return \"\".join(list(label))\n",
    "    "
   ]
  },
  {
   "cell_type": "code",
   "execution_count": 5,
   "metadata": {},
   "outputs": [],
   "source": [
    "def drawPred(frame , ballCoord , actionClassPred):\n",
    "    cv2.circle(frame,\n",
    "               (round(ballCoord[0]), round(ballCoord[0])),\n",
    "               5,(255,255,0),1);\n",
    "    \n",
    "    classProbLabels = getClassProbLabel(actionClassPred)\n",
    "    \n",
    "    y0, dy = 25, 25\n",
    "    for i, line in enumerate(classProbLabels.split('\\n')):\n",
    "        y = y0 + i*dy\n",
    "        cv2.putText(frame, line, (4, y ), cv2.FONT_HERSHEY_SIMPLEX, 0.5,(255,255,255), 1)\n",
    "   \n",
    "    return frame"
   ]
  },
  {
   "cell_type": "code",
   "execution_count": 6,
   "metadata": {},
   "outputs": [
    {
     "data": {
      "text/plain": [
       "'q:1\\nd:2\\n'"
      ]
     },
     "execution_count": 6,
     "metadata": {},
     "output_type": "execute_result"
    }
   ],
   "source": [
    "a = ['q','d']\n",
    "b = [1,2]\n",
    "createLable = lambda pred : f'{pred[0]}:{pred[1]}\\n'\n",
    "label = map(createLable , zip(a,b))\n",
    "\"\".join(list(label))"
   ]
  },
  {
   "cell_type": "code",
   "execution_count": 7,
   "metadata": {},
   "outputs": [
    {
     "data": {
      "text/plain": [
       "'a\\nb'"
      ]
     },
     "execution_count": 7,
     "metadata": {},
     "output_type": "execute_result"
    }
   ],
   "source": [
    "'a\\nb'"
   ]
  },
  {
   "cell_type": "code",
   "execution_count": 8,
   "metadata": {},
   "outputs": [],
   "source": [
    "def classifyAction(frame):\n",
    "    '''Helper function:  Helps get action pred'''\n",
    "#     img = cv2.cvtColor(frame, cv2.COLOR_BGR2RGB)\n",
    "    actionImg = cv2.resize(frame , (128,128))\n",
    "    actionClassPred = ActionClassifier.getPrediction(actionImg)\n",
    "    return actionClassPred"
   ]
  },
  {
   "cell_type": "code",
   "execution_count": 9,
   "metadata": {},
   "outputs": [],
   "source": [
    "def regressBallCoord(frame):\n",
    "    '''Helper function: helps get ball coord'''\n",
    "#     img  = cv2.cvtColor(frame, cv2.COLOR_BGR2RGB)\n",
    "    ballCoord  = BallDetector.getPrediction(frame)\n",
    "    return ballCoord;\n",
    "   "
   ]
  },
  {
   "cell_type": "code",
   "execution_count": 10,
   "metadata": {},
   "outputs": [],
   "source": [
    "videoPath ='/Users/sandeep/Desktop/FinalYearProject/YoutubeScreenshotScrapper/data/test/testVideo.mp4'\n",
    "cap = cv2.VideoCapture(videoPath)\n",
    "\n",
    "count =0;\n",
    "while(cap.isOpened()):\n",
    "    ret, frame = cap.read()\n",
    "    if ret:\n",
    "        actionClassPred = classifyAction(frame[:]);\n",
    "        ballCoord = regressBallCoord(frame[:]);\n",
    "        frame = drawPred(frame,ballCoord, actionClassPred)\n",
    "        count += 60 \n",
    "        cap.set(1,count)\n",
    "    \n",
    "        cv2.imshow(\"Demo\" , frame)\n",
    "        if cv2.waitKey(1) & 0xFF == ord('q'):\n",
    "            break\n",
    "    else:\n",
    "        cap.release()\n",
    "        break\n",
    "cap.release()\n",
    "cv2.destroyAllWindows()   "
   ]
  },
  {
   "cell_type": "markdown",
   "metadata": {},
   "source": [
    "#Teest"
   ]
  },
  {
   "cell_type": "code",
   "execution_count": 11,
   "metadata": {},
   "outputs": [],
   "source": [
    "test_img = cv2.imread('/Users/sandeep/Desktop/FinalYearProject/YoutubeScreenshotScrapper/data/dummy/4_layup success.png')"
   ]
  },
  {
   "cell_type": "code",
   "execution_count": 12,
   "metadata": {},
   "outputs": [],
   "source": [
    "a = classifyAction(test_img)"
   ]
  },
  {
   "cell_type": "code",
   "execution_count": null,
   "metadata": {},
   "outputs": [],
   "source": []
  },
  {
   "cell_type": "code",
   "execution_count": 13,
   "metadata": {},
   "outputs": [
    {
     "data": {
      "text/plain": [
       "(449.82333, 226.89085)"
      ]
     },
     "execution_count": 13,
     "metadata": {},
     "output_type": "execute_result"
    }
   ],
   "source": [
    "b = regressBallCoord(test_img);b"
   ]
  },
  {
   "cell_type": "code",
   "execution_count": 14,
   "metadata": {},
   "outputs": [
    {
     "name": "stdout",
     "output_type": "stream",
     "text": [
      "(449.82333, 226.89085)\n"
     ]
    }
   ],
   "source": [
    "print(b)"
   ]
  },
  {
   "cell_type": "code",
   "execution_count": 15,
   "metadata": {},
   "outputs": [
    {
     "ename": "TypeError",
     "evalue": "type tuple doesn't define __round__ method",
     "output_type": "error",
     "traceback": [
      "\u001b[0;31m---------------------------------------------------------------------------\u001b[0m",
      "\u001b[0;31mTypeError\u001b[0m                                 Traceback (most recent call last)",
      "\u001b[0;32m<ipython-input-15-f43ba966f9e3>\u001b[0m in \u001b[0;36m<module>\u001b[0;34m\u001b[0m\n\u001b[0;32m----> 1\u001b[0;31m \u001b[0mround\u001b[0m\u001b[0;34m(\u001b[0m\u001b[0;34m(\u001b[0m\u001b[0;36m1.1\u001b[0m\u001b[0;34m,\u001b[0m \u001b[0;36m1.1\u001b[0m\u001b[0;34m)\u001b[0m\u001b[0;34m)\u001b[0m\u001b[0;34m\u001b[0m\u001b[0;34m\u001b[0m\u001b[0m\n\u001b[0m",
      "\u001b[0;31mTypeError\u001b[0m: type tuple doesn't define __round__ method"
     ]
    }
   ],
   "source": [
    "round((1.1, 1.1))"
   ]
  },
  {
   "cell_type": "code",
   "execution_count": null,
   "metadata": {},
   "outputs": [],
   "source": [
    "a = torch.tensor(2.2222)"
   ]
  },
  {
   "cell_type": "code",
   "execution_count": null,
   "metadata": {},
   "outputs": [],
   "source": [
    "a.double()"
   ]
  },
  {
   "cell_type": "code",
   "execution_count": null,
   "metadata": {},
   "outputs": [],
   "source": [
    "a.data[0]"
   ]
  },
  {
   "cell_type": "code",
   "execution_count": null,
   "metadata": {},
   "outputs": [],
   "source": [
    "a.item()"
   ]
  },
  {
   "cell_type": "code",
   "execution_count": null,
   "metadata": {},
   "outputs": [],
   "source": []
  }
 ],
 "metadata": {
  "kernelspec": {
   "display_name": "Python 3",
   "language": "python",
   "name": "python3"
  },
  "language_info": {
   "codemirror_mode": {
    "name": "ipython",
    "version": 3
   },
   "file_extension": ".py",
   "mimetype": "text/x-python",
   "name": "python",
   "nbconvert_exporter": "python",
   "pygments_lexer": "ipython3",
   "version": "3.7.4"
  },
  "toc": {
   "base_numbering": 1,
   "nav_menu": {},
   "number_sections": true,
   "sideBar": true,
   "skip_h1_title": false,
   "title_cell": "Table of Contents",
   "title_sidebar": "Contents",
   "toc_cell": false,
   "toc_position": {},
   "toc_section_display": true,
   "toc_window_display": false
  },
  "varInspector": {
   "cols": {
    "lenName": 16,
    "lenType": 16,
    "lenVar": 40
   },
   "kernels_config": {
    "python": {
     "delete_cmd_postfix": "",
     "delete_cmd_prefix": "del ",
     "library": "var_list.py",
     "varRefreshCmd": "print(var_dic_list())"
    },
    "r": {
     "delete_cmd_postfix": ") ",
     "delete_cmd_prefix": "rm(",
     "library": "var_list.r",
     "varRefreshCmd": "cat(var_dic_list()) "
    }
   },
   "types_to_exclude": [
    "module",
    "function",
    "builtin_function_or_method",
    "instance",
    "_Feature"
   ],
   "window_display": false
  }
 },
 "nbformat": 4,
 "nbformat_minor": 2
}
