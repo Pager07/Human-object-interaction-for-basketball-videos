{
 "cells": [
  {
   "cell_type": "code",
   "execution_count": 1,
   "metadata": {},
   "outputs": [],
   "source": [
    "import cv2 as cv\n",
    "import numpy as np\n",
    "import pandas as pd \n",
    "import sklearn.metrics.pairwise as pairwise\n",
    "import vptree\n",
    "from sklearn import preprocessing \n",
    "import pickle"
   ]
  },
  {
   "cell_type": "code",
   "execution_count": 2,
   "metadata": {},
   "outputs": [
    {
     "name": "stdout",
     "output_type": "stream",
     "text": [
      "importing Jupyter notebook from ActionClassificationCosineDatasetGen.ipynb\n"
     ]
    }
   ],
   "source": [
    "import import_ipynb\n",
    "import ActionClassificationCosineDatasetGen as Dataset"
   ]
  },
  {
   "cell_type": "code",
   "execution_count": 10,
   "metadata": {},
   "outputs": [],
   "source": [
    "data = Dataset.read_dataset(norm=True)\n",
    "ARGS = {'TREE':None,\n",
    "       'X': Dataset.read_dataset(norm=True).loc[:,data.columns != 'label'],\n",
    "       'Y': Dataset.read_dataset(norm=True).loc[:,data.columns == 'label'] }\n"
   ]
  },
  {
   "cell_type": "code",
   "execution_count": 5,
   "metadata": {},
   "outputs": [],
   "source": [
    "def cosineDistanceMatching(poseVector1,poseVector2):\n",
    "    '''\n",
    "    Returns the cosine similarity as a distance function between the two L2 normalized vectors.\n",
    "    The distance is inversely porportional to the similarity between the two vectors\n",
    "    '''\n",
    "    poseVector1 , poseVector2 = np.array(poseVector1).reshape(1,-1) , np.array(poseVector2).reshape(1,-1)\n",
    "    cosineDistance = pairwise.cosine_distances(poseVector1 , poseVector2) \n",
    "    distance = np.sqrt(cosineDistance * 2)\n",
    "    return distance"
   ]
  },
  {
   "cell_type": "code",
   "execution_count": 14,
   "metadata": {},
   "outputs": [],
   "source": [
    "def l2Normalize(poses):\n",
    "    '''\n",
    "    Helper function of findMatch()\n",
    "    PARAM poses: a list containing pose [....]\n",
    "    '''\n",
    "    return preprocessing.normalize([poses], axis=1)[0]"
   ]
  },
  {
   "cell_type": "code",
   "execution_count": 11,
   "metadata": {},
   "outputs": [],
   "source": [
    "def findMatch(pose):\n",
    "    pose = l2Normalize(pose)\n",
    "    similarPoses= ARGS['TREE'].get_n_nearest_neighbors(pose, 10)\n",
    "    return similarPoses"
   ]
  },
  {
   "cell_type": "code",
   "execution_count": 12,
   "metadata": {},
   "outputs": [],
   "source": [
    "file_vptree = '/Users/sandeep/Desktop/dataandmodles/models/vptrees/vptreeCosineDistance.pkl'\n",
    "with open(file_vptree, 'rb') as input:\n",
    "    ARGS['TREE'] = pickle.load(input)"
   ]
  },
  {
   "cell_type": "code",
   "execution_count": 15,
   "metadata": {},
   "outputs": [
    {
     "data": {
      "text/plain": [
       "[(array([[0.]]),\n",
       "  array([0.22044224, 0.03770723, 0.18708585, 0.05946139, 0.16823224,\n",
       "         0.06091167, 0.14647807, 0.13197529, 0.16243112, 0.18563557,\n",
       "         0.19868807, 0.05801112, 0.19868807, 0.05801112, 0.19868807,\n",
       "         0.05801112, 0.14647807, 0.15808029, 0.16533168, 0.24654724,\n",
       "         0.12617418, 0.32051142, 0.18708585, 0.15227918, 0.19868807,\n",
       "         0.19288696, 0.19868807, 0.19288696, 0.21754168, 0.02900556,\n",
       "         0.22044224, 0.03770723, 0.19288696, 0.03190611, 0.22044224,\n",
       "         0.03770723])),\n",
       " (array([[0.]]),\n",
       "  array([0.22044224, 0.03770723, 0.18708585, 0.05946139, 0.16823224,\n",
       "         0.06091167, 0.14647807, 0.13197529, 0.16243112, 0.18563557,\n",
       "         0.19868807, 0.05801112, 0.19868807, 0.05801112, 0.19868807,\n",
       "         0.05801112, 0.14647807, 0.15808029, 0.16533168, 0.24654724,\n",
       "         0.12617418, 0.32051142, 0.18708585, 0.15227918, 0.19868807,\n",
       "         0.19288696, 0.19868807, 0.19288696, 0.21754168, 0.02900556,\n",
       "         0.22044224, 0.03770723, 0.19288696, 0.03190611, 0.22044224,\n",
       "         0.03770723])),\n",
       " (array([[0.0562507]]),\n",
       "  array([0.21388297, 0.02929904, 0.17579422, 0.06006303, 0.1582148 ,\n",
       "         0.06445788, 0.14210033, 0.12452091, 0.15235499, 0.17872413,\n",
       "         0.18897879, 0.05859807, 0.18897879, 0.05859807, 0.18897879,\n",
       "         0.05859807, 0.17286432, 0.16407461, 0.17286432, 0.24757686,\n",
       "         0.13917043, 0.32961417, 0.19190869, 0.15967975, 0.1948386 ,\n",
       "         0.21241802, 0.1948386 , 0.21241802, 0.20802316, 0.02343923,\n",
       "         0.21388297, 0.02929904, 0.1977685 , 0.02783409, 0.21388297,\n",
       "         0.02929904])),\n",
       " (array([[0.0562507]]),\n",
       "  array([0.21388297, 0.02929904, 0.17579422, 0.06006303, 0.1582148 ,\n",
       "         0.06445788, 0.14210033, 0.12452091, 0.15235499, 0.17872413,\n",
       "         0.18897879, 0.05859807, 0.18897879, 0.05859807, 0.18897879,\n",
       "         0.05859807, 0.17286432, 0.16407461, 0.17286432, 0.24757686,\n",
       "         0.13917043, 0.32961417, 0.19190869, 0.15967975, 0.1948386 ,\n",
       "         0.21241802, 0.1948386 , 0.21241802, 0.20802316, 0.02343923,\n",
       "         0.21388297, 0.02929904, 0.1977685 , 0.02783409, 0.21388297,\n",
       "         0.02929904])),\n",
       " (array([[0.07104915]]),\n",
       "  array([0.20939325, 0.03199064, 0.17740262, 0.05961891, 0.15704494,\n",
       "         0.06398127, 0.12941666, 0.12650842, 0.15704494, 0.19630617,\n",
       "         0.19630617, 0.05816479, 0.22102621, 0.07416011, 0.22102621,\n",
       "         0.07416011, 0.13814138, 0.14832022, 0.19048969, 0.24138389,\n",
       "         0.1468661 , 0.32426872, 0.17158614, 0.14395786, 0.19630617,\n",
       "         0.20939325, 0.19630617, 0.20939325, 0.20503089, 0.02762828,\n",
       "         0.20939325, 0.03199064, 0.18467322, 0.0290824 , 0.20939325,\n",
       "         0.03199064])),\n",
       " (array([[0.07104915]]),\n",
       "  array([0.20939325, 0.03199064, 0.17740262, 0.05961891, 0.15704494,\n",
       "         0.06398127, 0.12941666, 0.12650842, 0.15704494, 0.19630617,\n",
       "         0.19630617, 0.05816479, 0.22102621, 0.07416011, 0.22102621,\n",
       "         0.07416011, 0.13814138, 0.14832022, 0.19048969, 0.24138389,\n",
       "         0.1468661 , 0.32426872, 0.17158614, 0.14395786, 0.19630617,\n",
       "         0.20939325, 0.19630617, 0.20939325, 0.20503089, 0.02762828,\n",
       "         0.20939325, 0.03199064, 0.18467322, 0.0290824 , 0.20939325,\n",
       "         0.03199064])),\n",
       " (array([[0.07277288]]),\n",
       "  array([0.22726425, 0.03541781, 0.18741922, 0.07526284, 0.17708903,\n",
       "         0.07969006, 0.14019548, 0.12543806, 0.17708903, 0.16233161,\n",
       "         0.19922516, 0.07083561, 0.19922516, 0.07083561, 0.19922516,\n",
       "         0.07083561, 0.15347716, 0.16233161, 0.15938013, 0.24497316,\n",
       "         0.12838955, 0.32613896, 0.18446774, 0.16085587, 0.18446774,\n",
       "         0.16085587, 0.18446774, 0.16085587, 0.22431277, 0.03246632,\n",
       "         0.22726425, 0.03541781, 0.21250683, 0.03394206, 0.22726425,\n",
       "         0.03541781])),\n",
       " (array([[0.07377926]]),\n",
       "  array([0.22192614, 0.04109743, 0.19315793, 0.06986564, 0.1712393 ,\n",
       "         0.07123555, 0.15069059, 0.12466221, 0.1712393 , 0.15754016,\n",
       "         0.21370665, 0.06712581, 0.21370665, 0.06712581, 0.21370665,\n",
       "         0.06712581, 0.14521093, 0.15343042, 0.13562153, 0.2274058 ,\n",
       "         0.10685333, 0.29590152, 0.17945879, 0.15343042, 0.20548716,\n",
       "         0.21233674, 0.20548716, 0.21233674, 0.21096682, 0.03561778,\n",
       "         0.22329605, 0.03561778, 0.19041811, 0.03698769, 0.22192614,\n",
       "         0.04109743])),\n",
       " (array([[0.07411204]]),\n",
       "  array([0.22833826, 0.04651335, 0.17900592, 0.07188427, 0.16350147,\n",
       "         0.06906528, 0.13672106, 0.11980711, 0.13390206, 0.17336794,\n",
       "         0.19873885, 0.07329376, 0.19873885, 0.07329376, 0.19873885,\n",
       "         0.07329376, 0.15786349, 0.1550445 , 0.14940651, 0.23397624,\n",
       "         0.10712165, 0.30163202, 0.18746289, 0.1550445 , 0.20014835,\n",
       "         0.21988129, 0.20014835, 0.21988129, 0.21988129, 0.04087537,\n",
       "         0.22833826, 0.04087537, 0.19310087, 0.03805638, 0.22833826,\n",
       "         0.04651335])),\n",
       " (array([[0.0787153]]),\n",
       "  array([0.21924535, 0.03843912, 0.17511155, 0.06691254, 0.16799319,\n",
       "         0.06691254, 0.15945116, 0.1281304 , 0.1921956 , 0.16656952,\n",
       "         0.18650091, 0.06691254, 0.18650091, 0.06691254, 0.18650091,\n",
       "         0.06691254, 0.15375648, 0.16514585, 0.16514585, 0.2363294 ,\n",
       "         0.12101204, 0.31320764, 0.17084053, 0.16514585, 0.18080623,\n",
       "         0.22778738, 0.18080623, 0.22778738, 0.21355067, 0.03132076,\n",
       "         0.21924535, 0.03843912, 0.19789028, 0.03274444, 0.21924535,\n",
       "         0.03843912]))]"
      ]
     },
     "execution_count": 15,
     "metadata": {},
     "output_type": "execute_result"
    }
   ],
   "source": [
    "pose = ARGS['X'].iloc[1].values.tolist()\n",
    "similarPoses = findMatch(pose);similarPoses"
   ]
  },
  {
   "cell_type": "code",
   "execution_count": null,
   "metadata": {},
   "outputs": [],
   "source": []
  }
 ],
 "metadata": {
  "kernelspec": {
   "display_name": "Python 3",
   "language": "python",
   "name": "python3"
  },
  "language_info": {
   "codemirror_mode": {
    "name": "ipython",
    "version": 3
   },
   "file_extension": ".py",
   "mimetype": "text/x-python",
   "name": "python",
   "nbconvert_exporter": "python",
   "pygments_lexer": "ipython3",
   "version": "3.7.4"
  },
  "toc": {
   "base_numbering": 1,
   "nav_menu": {},
   "number_sections": true,
   "sideBar": true,
   "skip_h1_title": false,
   "title_cell": "Table of Contents",
   "title_sidebar": "Contents",
   "toc_cell": false,
   "toc_position": {},
   "toc_section_display": true,
   "toc_window_display": false
  },
  "varInspector": {
   "cols": {
    "lenName": 16,
    "lenType": 16,
    "lenVar": 40
   },
   "kernels_config": {
    "python": {
     "delete_cmd_postfix": "",
     "delete_cmd_prefix": "del ",
     "library": "var_list.py",
     "varRefreshCmd": "print(var_dic_list())"
    },
    "r": {
     "delete_cmd_postfix": ") ",
     "delete_cmd_prefix": "rm(",
     "library": "var_list.r",
     "varRefreshCmd": "cat(var_dic_list()) "
    }
   },
   "types_to_exclude": [
    "module",
    "function",
    "builtin_function_or_method",
    "instance",
    "_Feature"
   ],
   "window_display": false
  }
 },
 "nbformat": 4,
 "nbformat_minor": 2
}
