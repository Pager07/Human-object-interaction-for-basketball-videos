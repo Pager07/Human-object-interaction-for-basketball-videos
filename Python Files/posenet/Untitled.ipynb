{
 "cells": [
  {
   "cell_type": "code",
   "execution_count": 1,
   "metadata": {},
   "outputs": [],
   "source": [
    "import pandas as pd\n",
    "import sys \n",
    "import random\n",
    "import json\n",
    "import cv2 \n",
    "import base64\n",
    "import requests as req\n",
    "import matplotlib.pyplot as plt\n",
    "%matplotlib inline"
   ]
  },
  {
   "cell_type": "markdown",
   "metadata": {},
   "source": [
    "#TODO\n",
    "    - Load The CSV\n",
    "        - REMOVE ANY ROWS\n",
    "            - IF ANY COL CONTAINS -1\n",
    "        - SPLIT THE TABLE ON TRAIN AND TEST \n",
    "        - GET 300 TRAINING ROWS AND 300 VALIDATION ROWS\n",
    "           - FORM VALIDATION TABLE \n",
    "                  - VIDEO LINK \n",
    "                      - DO TIME CONVERSION FROM \n",
    "                      - \"https://www.youtube.com/watch?v=x43laRLDg7g&t=4m5s\"\n",
    "                  - LABEL LINK\n",
    "                      - \"W,H\": \"0.1,0.9.png/\"\n",
    "                      \n",
    "          - DO SAME FOR TRAINING TABLE\n",
    "       - SEND THE LINKS TO THE SREVER FOR DONWLOAD\n",
    "                      \n",
    "           "
   ]
  },
  {
   "cell_type": "code",
   "execution_count": 3,
   "metadata": {},
   "outputs": [],
   "source": [
    "video_links_df = pd.read_csv('bball_dataset.csv');\n",
    "video_links_df.columns = ['ID','width','height','clipStartTime','clipEndTime','actionStartTime','actionEndTime','ballPosWidth/width','ballPosHeight/height','actionSuccess','folderType']\n"
   ]
  },
  {
   "cell_type": "code",
   "execution_count": 4,
   "metadata": {
    "scrolled": true
   },
   "outputs": [
    {
     "data": {
      "text/html": [
       "<div>\n",
       "<style scoped>\n",
       "    .dataframe tbody tr th:only-of-type {\n",
       "        vertical-align: middle;\n",
       "    }\n",
       "\n",
       "    .dataframe tbody tr th {\n",
       "        vertical-align: top;\n",
       "    }\n",
       "\n",
       "    .dataframe thead th {\n",
       "        text-align: right;\n",
       "    }\n",
       "</style>\n",
       "<table border=\"1\" class=\"dataframe\">\n",
       "  <thead>\n",
       "    <tr style=\"text-align: right;\">\n",
       "      <th></th>\n",
       "      <th>ID</th>\n",
       "      <th>width</th>\n",
       "      <th>height</th>\n",
       "      <th>clipStartTime</th>\n",
       "      <th>clipEndTime</th>\n",
       "      <th>actionStartTime</th>\n",
       "      <th>actionEndTime</th>\n",
       "      <th>ballPosWidth/width</th>\n",
       "      <th>ballPosHeight/height</th>\n",
       "      <th>actionSuccess</th>\n",
       "      <th>folderType</th>\n",
       "    </tr>\n",
       "  </thead>\n",
       "  <tbody>\n",
       "    <tr>\n",
       "      <td>0</td>\n",
       "      <td>-XPEvIMe05A</td>\n",
       "      <td>490</td>\n",
       "      <td>360</td>\n",
       "      <td>1020386.033</td>\n",
       "      <td>1055254.200</td>\n",
       "      <td>1050422.765</td>\n",
       "      <td>1051247.263</td>\n",
       "      <td>0.582667</td>\n",
       "      <td>0.288425</td>\n",
       "      <td>layup success</td>\n",
       "      <td>test</td>\n",
       "    </tr>\n",
       "    <tr>\n",
       "      <td>1</td>\n",
       "      <td>8Kg9jj9hzGQ</td>\n",
       "      <td>490</td>\n",
       "      <td>360</td>\n",
       "      <td>1227993.433</td>\n",
       "      <td>1273505.566</td>\n",
       "      <td>-1.000</td>\n",
       "      <td>1261500.152</td>\n",
       "      <td>-1.000000</td>\n",
       "      <td>-1.000000</td>\n",
       "      <td>steal success</td>\n",
       "      <td>train</td>\n",
       "    </tr>\n",
       "    <tr>\n",
       "      <td>2</td>\n",
       "      <td>8Kg9jj9hzGQ</td>\n",
       "      <td>490</td>\n",
       "      <td>360</td>\n",
       "      <td>1227993.433</td>\n",
       "      <td>1273505.566</td>\n",
       "      <td>1254131.452</td>\n",
       "      <td>1255201.545</td>\n",
       "      <td>0.698667</td>\n",
       "      <td>0.445920</td>\n",
       "      <td>other 2-pointer failure</td>\n",
       "      <td>train</td>\n",
       "    </tr>\n",
       "    <tr>\n",
       "      <td>3</td>\n",
       "      <td>8Kg9jj9hzGQ</td>\n",
       "      <td>490</td>\n",
       "      <td>360</td>\n",
       "      <td>1227993.433</td>\n",
       "      <td>1273505.566</td>\n",
       "      <td>1241897.745</td>\n",
       "      <td>1243128.008</td>\n",
       "      <td>0.548000</td>\n",
       "      <td>0.352941</td>\n",
       "      <td>other 2-pointer failure</td>\n",
       "      <td>train</td>\n",
       "    </tr>\n",
       "    <tr>\n",
       "      <td>4</td>\n",
       "      <td>8Kg9jj9hzGQ</td>\n",
       "      <td>490</td>\n",
       "      <td>360</td>\n",
       "      <td>1227993.433</td>\n",
       "      <td>1273505.566</td>\n",
       "      <td>1267904.960</td>\n",
       "      <td>1268290.824</td>\n",
       "      <td>0.592000</td>\n",
       "      <td>0.328273</td>\n",
       "      <td>layup success</td>\n",
       "      <td>train</td>\n",
       "    </tr>\n",
       "  </tbody>\n",
       "</table>\n",
       "</div>"
      ],
      "text/plain": [
       "            ID  width  height  clipStartTime  clipEndTime  actionStartTime  \\\n",
       "0  -XPEvIMe05A    490     360    1020386.033  1055254.200      1050422.765   \n",
       "1  8Kg9jj9hzGQ    490     360    1227993.433  1273505.566           -1.000   \n",
       "2  8Kg9jj9hzGQ    490     360    1227993.433  1273505.566      1254131.452   \n",
       "3  8Kg9jj9hzGQ    490     360    1227993.433  1273505.566      1241897.745   \n",
       "4  8Kg9jj9hzGQ    490     360    1227993.433  1273505.566      1267904.960   \n",
       "\n",
       "   actionEndTime  ballPosWidth/width  ballPosHeight/height  \\\n",
       "0    1051247.263            0.582667              0.288425   \n",
       "1    1261500.152           -1.000000             -1.000000   \n",
       "2    1255201.545            0.698667              0.445920   \n",
       "3    1243128.008            0.548000              0.352941   \n",
       "4    1268290.824            0.592000              0.328273   \n",
       "\n",
       "             actionSuccess folderType  \n",
       "0            layup success       test  \n",
       "1            steal success      train  \n",
       "2  other 2-pointer failure      train  \n",
       "3  other 2-pointer failure      train  \n",
       "4            layup success      train  "
      ]
     },
     "execution_count": 4,
     "metadata": {},
     "output_type": "execute_result"
    }
   ],
   "source": [
    "video_links_df.head()"
   ]
  },
  {
   "cell_type": "code",
   "execution_count": 5,
   "metadata": {},
   "outputs": [],
   "source": [
    "#ONly keepy rows wher eaction times feature is bigger then 0. \n",
    "video_links_df = video_links_df[(video_links_df['actionStartTime'] > 0)];\n",
    "video_links_df = video_links_df[(video_links_df['actionEndTime'] > 0)]\n",
    "\n",
    "video_links_df = video_links_df[(video_links_df['ballPosHeight/height'] > 0)]\n",
    "video_links_df = video_links_df[(video_links_df['ballPosWidth/width'] > 0)]\n",
    "\n",
    "video_links_df = video_links_df[(video_links_df['clipStartTime'] > 0)]\n",
    "video_links_df = video_links_df[(video_links_df['clipEndTime'] > 0)]\n"
   ]
  },
  {
   "cell_type": "code",
   "execution_count": 6,
   "metadata": {},
   "outputs": [
    {
     "data": {
      "text/html": [
       "<div>\n",
       "<style scoped>\n",
       "    .dataframe tbody tr th:only-of-type {\n",
       "        vertical-align: middle;\n",
       "    }\n",
       "\n",
       "    .dataframe tbody tr th {\n",
       "        vertical-align: top;\n",
       "    }\n",
       "\n",
       "    .dataframe thead th {\n",
       "        text-align: right;\n",
       "    }\n",
       "</style>\n",
       "<table border=\"1\" class=\"dataframe\">\n",
       "  <thead>\n",
       "    <tr style=\"text-align: right;\">\n",
       "      <th></th>\n",
       "      <th>ID</th>\n",
       "      <th>width</th>\n",
       "      <th>height</th>\n",
       "      <th>clipStartTime</th>\n",
       "      <th>clipEndTime</th>\n",
       "      <th>actionStartTime</th>\n",
       "      <th>actionEndTime</th>\n",
       "      <th>ballPosWidth/width</th>\n",
       "      <th>ballPosHeight/height</th>\n",
       "      <th>actionSuccess</th>\n",
       "      <th>folderType</th>\n",
       "    </tr>\n",
       "  </thead>\n",
       "  <tbody>\n",
       "    <tr>\n",
       "      <td>0</td>\n",
       "      <td>-XPEvIMe05A</td>\n",
       "      <td>490</td>\n",
       "      <td>360</td>\n",
       "      <td>1020386.033</td>\n",
       "      <td>1055254.200</td>\n",
       "      <td>1050422.765</td>\n",
       "      <td>1051247.263</td>\n",
       "      <td>0.582667</td>\n",
       "      <td>0.288425</td>\n",
       "      <td>layup success</td>\n",
       "      <td>test</td>\n",
       "    </tr>\n",
       "    <tr>\n",
       "      <td>2</td>\n",
       "      <td>8Kg9jj9hzGQ</td>\n",
       "      <td>490</td>\n",
       "      <td>360</td>\n",
       "      <td>1227993.433</td>\n",
       "      <td>1273505.566</td>\n",
       "      <td>1254131.452</td>\n",
       "      <td>1255201.545</td>\n",
       "      <td>0.698667</td>\n",
       "      <td>0.445920</td>\n",
       "      <td>other 2-pointer failure</td>\n",
       "      <td>train</td>\n",
       "    </tr>\n",
       "    <tr>\n",
       "      <td>3</td>\n",
       "      <td>8Kg9jj9hzGQ</td>\n",
       "      <td>490</td>\n",
       "      <td>360</td>\n",
       "      <td>1227993.433</td>\n",
       "      <td>1273505.566</td>\n",
       "      <td>1241897.745</td>\n",
       "      <td>1243128.008</td>\n",
       "      <td>0.548000</td>\n",
       "      <td>0.352941</td>\n",
       "      <td>other 2-pointer failure</td>\n",
       "      <td>train</td>\n",
       "    </tr>\n",
       "    <tr>\n",
       "      <td>4</td>\n",
       "      <td>8Kg9jj9hzGQ</td>\n",
       "      <td>490</td>\n",
       "      <td>360</td>\n",
       "      <td>1227993.433</td>\n",
       "      <td>1273505.566</td>\n",
       "      <td>1267904.960</td>\n",
       "      <td>1268290.824</td>\n",
       "      <td>0.592000</td>\n",
       "      <td>0.328273</td>\n",
       "      <td>layup success</td>\n",
       "      <td>train</td>\n",
       "    </tr>\n",
       "    <tr>\n",
       "      <td>5</td>\n",
       "      <td>AALM9_RgV6c</td>\n",
       "      <td>490</td>\n",
       "      <td>360</td>\n",
       "      <td>2768799.367</td>\n",
       "      <td>2806970.834</td>\n",
       "      <td>2781774.014</td>\n",
       "      <td>2783218.633</td>\n",
       "      <td>0.322667</td>\n",
       "      <td>0.371917</td>\n",
       "      <td>other 2-pointer failure</td>\n",
       "      <td>val</td>\n",
       "    </tr>\n",
       "  </tbody>\n",
       "</table>\n",
       "</div>"
      ],
      "text/plain": [
       "            ID  width  height  clipStartTime  clipEndTime  actionStartTime  \\\n",
       "0  -XPEvIMe05A    490     360    1020386.033  1055254.200      1050422.765   \n",
       "2  8Kg9jj9hzGQ    490     360    1227993.433  1273505.566      1254131.452   \n",
       "3  8Kg9jj9hzGQ    490     360    1227993.433  1273505.566      1241897.745   \n",
       "4  8Kg9jj9hzGQ    490     360    1227993.433  1273505.566      1267904.960   \n",
       "5  AALM9_RgV6c    490     360    2768799.367  2806970.834      2781774.014   \n",
       "\n",
       "   actionEndTime  ballPosWidth/width  ballPosHeight/height  \\\n",
       "0    1051247.263            0.582667              0.288425   \n",
       "2    1255201.545            0.698667              0.445920   \n",
       "3    1243128.008            0.548000              0.352941   \n",
       "4    1268290.824            0.592000              0.328273   \n",
       "5    2783218.633            0.322667              0.371917   \n",
       "\n",
       "             actionSuccess folderType  \n",
       "0            layup success       test  \n",
       "2  other 2-pointer failure      train  \n",
       "3  other 2-pointer failure      train  \n",
       "4            layup success      train  \n",
       "5  other 2-pointer failure        val  "
      ]
     },
     "execution_count": 6,
     "metadata": {},
     "output_type": "execute_result"
    }
   ],
   "source": [
    "video_links_df.head()"
   ]
  },
  {
   "cell_type": "code",
   "execution_count": 7,
   "metadata": {},
   "outputs": [
    {
     "data": {
      "text/plain": [
       "array(['test', 'train', 'val'], dtype=object)"
      ]
     },
     "execution_count": 7,
     "metadata": {},
     "output_type": "execute_result"
    }
   ],
   "source": [
    "video_links_df['folderType'].unique()"
   ]
  },
  {
   "cell_type": "code",
   "execution_count": 19,
   "metadata": {},
   "outputs": [],
   "source": [
    "#Split the table accroinding to column value: test, val, train\n",
    "\n",
    "train_feature = video_links_df['folderType'] == 'train'\n",
    "train_links_df = video_links_df[train_feature]\n",
    "\n",
    "val_feature = video_links_df['folderType'] == 'val'\n",
    "val_links_df = video_links_df[val_feature]\n",
    "\n",
    "test_feature = video_links_df['folderType'] == 'test'\n",
    "test_links_df = video_links_df[test_feature];"
   ]
  },
  {
   "cell_type": "code",
   "execution_count": 24,
   "metadata": {
    "scrolled": true
   },
   "outputs": [
    {
     "data": {
      "text/plain": [
       "ID                                  8Kg9jj9hzGQ\n",
       "width                                       490\n",
       "height                                      360\n",
       "clipStartTime                       1.22799e+06\n",
       "clipEndTime                         1.27351e+06\n",
       "actionStartTime                     1.25413e+06\n",
       "actionEndTime                        1.2552e+06\n",
       "ballPosWidth/width                     0.698667\n",
       "ballPosHeight/height                    0.44592\n",
       "actionSuccess           other 2-pointer failure\n",
       "folderType                                train\n",
       "Name: 2, dtype: object"
      ]
     },
     "execution_count": 24,
     "metadata": {},
     "output_type": "execute_result"
    }
   ],
   "source": [
    "train_links_df.iloc[0]"
   ]
  },
  {
   "cell_type": "code",
   "execution_count": 62,
   "metadata": {},
   "outputs": [
    {
     "name": "stdout",
     "output_type": "stream",
     "text": [
      "0\n",
      "0.582666666667\n"
     ]
    }
   ],
   "source": [
    "counter  = 0;\n",
    "for index , row in test_links_df.iterrows():\n",
    "    if counter == 0:\n",
    "        print(index)\n",
    "        print(row['ballPosWidth/width'])\n",
    "        counter += 1\n",
    "        "
   ]
  },
  {
   "cell_type": "code",
   "execution_count": 58,
   "metadata": {},
   "outputs": [],
   "source": [
    "def get_time(actionStartTime):\n",
    "    actionStartTimeMin = (actionStartTime *1000)/(6e+7)\n",
    "    min = int(actionStartTimeMin)\n",
    "    sec = int((actionStartTimeMin - min)*60)\n",
    "    return (min , sec)\n",
    "    "
   ]
  },
  {
   "cell_type": "code",
   "execution_count": 59,
   "metadata": {},
   "outputs": [
    {
     "data": {
      "text/plain": [
       "(20, 54)"
      ]
     },
     "execution_count": 59,
     "metadata": {},
     "output_type": "execute_result"
    }
   ],
   "source": [
    "t =get_time(1.25413e+06); t"
   ]
  },
  {
   "cell_type": "code",
   "execution_count": 65,
   "metadata": {},
   "outputs": [],
   "source": [
    "def get_ballPos(fracW , fracH , W , H ):\n",
    "    return (int(fracW*W) , int(fracH*H))\n",
    "    "
   ]
  },
  {
   "cell_type": "code",
   "execution_count": 66,
   "metadata": {},
   "outputs": [
    {
     "data": {
      "text/plain": [
       "(342, 160)"
      ]
     },
     "execution_count": 66,
     "metadata": {},
     "output_type": "execute_result"
    }
   ],
   "source": [
    "t = get_ballPos(0.698667,0.44592, 490,360);t"
   ]
  },
  {
   "cell_type": "code",
   "execution_count": 79,
   "metadata": {},
   "outputs": [],
   "source": [
    "#Convert time from millisecond to micro seconds (ActionStartTime)\n",
    "#Check if actionStartTime has same number of digits as actionEndTime\n",
    "#if they do: \n",
    "    # convert to minutes \n",
    "    # get the fraction as seconds \n",
    "    # form the videoLinkString \n",
    "    # form the lableLinkString\n",
    "def make_string(df):\n",
    "    video_links = \"\"\n",
    "    label_links = \"\"\n",
    "    for index,row in df.iterrows():\n",
    "        actionStartTime = row['actionStartTime']\n",
    "        actionEndTime = row['actionEndTime']\n",
    "        if str(actionEndTime)[-1] != str(actionStartTime)[-1]:\n",
    "            min , sec = get_time(actionStartTime)\n",
    "            ID = row['ID']\n",
    "            video_links += f'https://www.youtube.com/watch?v={ID}&t={str(min)}m{str(sec)}s'\n",
    "            x ,y = get_ballPos(row['ballPosWidth/width'], row['ballPosHeight/height'] , row['width'], row['height']);\n",
    "            label_links += f'{str(x)},{str(y)}.png/'\n",
    "    return video_links , label_links\n",
    "            "
   ]
  },
  {
   "cell_type": "code",
   "execution_count": 61,
   "metadata": {},
   "outputs": [
    {
     "data": {
      "text/plain": [
       "'hellollaa'"
      ]
     },
     "execution_count": 61,
     "metadata": {},
     "output_type": "execute_result"
    }
   ],
   "source": [
    "a = 'llaa'\n",
    "b = f'hello{a}'\n",
    "b"
   ]
  },
  {
   "cell_type": "code",
   "execution_count": 83,
   "metadata": {},
   "outputs": [],
   "source": [
    "test_links ,test_labels = make_string(test_links_df)\n",
    "val_links , val_labels = make_string(val_links_df)\n",
    "test_links, test_labels = make_string(test_links_df)"
   ]
  },
  {
   "cell_type": "code",
   "execution_count": 84,
   "metadata": {
    "collapsed": true
   },
   "outputs": [
    {
     "data": {
      "text/plain": [
       "'https://www.youtube.com/watch?v=-XPEvIMe05A&t=17m30shttps://www.youtube.com/watch?v=a0i1YqwsnMs&t=39m14shttps://www.youtube.com/watch?v=BM6Z6pY7Uu0&t=45m33shttps://www.youtube.com/watch?v=l2xxAqkMHg8&t=52m36shttps://www.youtube.com/watch?v=-XPEvIMe05A&t=31m56shttps://www.youtube.com/watch?v=-XPEvIMe05A&t=31m41shttps://www.youtube.com/watch?v=nRfZM1def1k&t=52m25shttps://www.youtube.com/watch?v=E9a-WImIqRI&t=4m55shttps://www.youtube.com/watch?v=d1MDyJ1QJek&t=36m13shttps://www.youtube.com/watch?v=d1MDyJ1QJek&t=3m37shttps://www.youtube.com/watch?v=3d6tdmTyfhQ&t=45m21shttps://www.youtube.com/watch?v=bxZepPt-WP8&t=35m13shttps://www.youtube.com/watch?v=E9a-WImIqRI&t=20m40shttps://www.youtube.com/watch?v=E9a-WImIqRI&t=20m27shttps://www.youtube.com/watch?v=72NU-RN8uL0&t=49m44shttps://www.youtube.com/watch?v=IajLUUqbP3k&t=52m36shttps://www.youtube.com/watch?v=nRfZM1def1k&t=4m47shttps://www.youtube.com/watch?v=To82TdG7PKI&t=22m46shttps://www.youtube.com/watch?v=oKHmYqwFt_Y&t=22m15shttps://www.youtube.com/watch?v=2fw2DEqZZQk&t=13m55shttps://www.youtube.com/watch?v=E9a-WImIqRI&t=38m2shttps://www.youtube.com/watch?v=To82TdG7PKI&t=38m7shttps://www.youtube.com/watch?v=To82TdG7PKI&t=38m19shttps://www.youtube.com/watch?v=nRfZM1def1k&t=17m18shttps://www.youtube.com/watch?v=nRfZM1def1k&t=1m45shttps://www.youtube.com/watch?v=bxZepPt-WP8&t=10m23shttps://www.youtube.com/watch?v=72NU-RN8uL0&t=6m56shttps://www.youtube.com/watch?v=9kSklOMINnw&t=27m20shttps://www.youtube.com/watch?v=9kSklOMINnw&t=27m29shttps://www.youtube.com/watch?v=cwZs81GtONo&t=42m28shttps://www.youtube.com/watch?v=O8F5jyfYH8k&t=24m20shttps://www.youtube.com/watch?v=cwZs81GtONo&t=52m48shttps://www.youtube.com/watch?v=bxZepPt-WP8&t=2m27shttps://www.youtube.com/watch?v=bxZepPt-WP8&t=24m30shttps://www.youtube.com/watch?v=72NU-RN8uL0&t=9m52shttps://www.youtube.com/watch?v=72NU-RN8uL0&t=1m0shttps://www.youtube.com/watch?v=Xpt3t_HfMXs&t=62m33shttps://www.youtube.com/watch?v=Xpt3t_HfMXs&t=62m35shttps://www.youtube.com/watch?v=-XPEvIMe05A&t=38m18shttps://www.youtube.com/watch?v=-XPEvIMe05A&t=38m20shttps://www.youtube.com/watch?v=a0i1YqwsnMs&t=38m56shttps://www.youtube.com/watch?v=K3Lk4AfGlrg&t=23m18shttps://www.youtube.com/watch?v=K3Lk4AfGlrg&t=2m22shttps://www.youtube.com/watch?v=ahEnvgLvRI4&t=6m4shttps://www.youtube.com/watch?v=d1MDyJ1QJek&t=12m58shttps://www.youtube.com/watch?v=To82TdG7PKI&t=32m42shttps://www.youtube.com/watch?v=ahEnvgLvRI4&t=42m23shttps://www.youtube.com/watch?v=E9a-WImIqRI&t=15m23shttps://www.youtube.com/watch?v=UwjhbBD2IA4&t=20m30shttps://www.youtube.com/watch?v=3d6tdmTyfhQ&t=20m6shttps://www.youtube.com/watch?v=ahEnvgLvRI4&t=27m3shttps://www.youtube.com/watch?v=ahEnvgLvRI4&t=27m11shttps://www.youtube.com/watch?v=bxZepPt-WP8&t=3m32shttps://www.youtube.com/watch?v=a0i1YqwsnMs&t=32m36shttps://www.youtube.com/watch?v=d1MDyJ1QJek&t=29m48shttps://www.youtube.com/watch?v=lfczmnqGUL0&t=50m20shttps://www.youtube.com/watch?v=IKTBGSIwA_o&t=38m34shttps://www.youtube.com/watch?v=oKHmYqwFt_Y&t=12m9shttps://www.youtube.com/watch?v=7QV5zFfqpx0&t=4m14shttps://www.youtube.com/watch?v=7QV5zFfqpx0&t=4m5shttps://www.youtube.com/watch?v=vlYIEczYACQ&t=6m25shttps://www.youtube.com/watch?v=vlYIEczYACQ&t=64m5shttps://www.youtube.com/watch?v=BM6Z6pY7Uu0&t=11m42shttps://www.youtube.com/watch?v=E9a-WImIqRI&t=50m38shttps://www.youtube.com/watch?v=IKTBGSIwA_o&t=55m44shttps://www.youtube.com/watch?v=oKHmYqwFt_Y&t=50m5shttps://www.youtube.com/watch?v=oKHmYqwFt_Y&t=50m6shttps://www.youtube.com/watch?v=BM6Z6pY7Uu0&t=28m39shttps://www.youtube.com/watch?v=BM6Z6pY7Uu0&t=28m34shttps://www.youtube.com/watch?v=bxZepPt-WP8&t=67m12shttps://www.youtube.com/watch?v=l2xxAqkMHg8&t=21m35shttps://www.youtube.com/watch?v=oKHmYqwFt_Y&t=39m50shttps://www.youtube.com/watch?v=oKHmYqwFt_Y&t=40m11shttps://www.youtube.com/watch?v=oKHmYqwFt_Y&t=40m6shttps://www.youtube.com/watch?v=oKHmYqwFt_Y&t=51m46shttps://www.youtube.com/watch?v=3d6tdmTyfhQ&t=54m13shttps://www.youtube.com/watch?v=oKHmYqwFt_Y&t=7m11shttps://www.youtube.com/watch?v=oKHmYqwFt_Y&t=6m44shttps://www.youtube.com/watch?v=E5rB_-N-7l8&t=0m33shttps://www.youtube.com/watch?v=E5rB_-N-7l8&t=50m32shttps://www.youtube.com/watch?v=K3Lk4AfGlrg&t=71m6shttps://www.youtube.com/watch?v=aq_bH0nwV6E&t=42m25shttps://www.youtube.com/watch?v=cwZs81GtONo&t=1m20shttps://www.youtube.com/watch?v=2fw2DEqZZQk&t=27m29shttps://www.youtube.com/watch?v=3d6tdmTyfhQ&t=73m8shttps://www.youtube.com/watch?v=IKTBGSIwA_o&t=45m57shttps://www.youtube.com/watch?v=IKTBGSIwA_o&t=46m0shttps://www.youtube.com/watch?v=qnBwuxFDxlU&t=33m56shttps://www.youtube.com/watch?v=2fw2DEqZZQk&t=45m23shttps://www.youtube.com/watch?v=BM6Z6pY7Uu0&t=47m17shttps://www.youtube.com/watch?v=BM6Z6pY7Uu0&t=12m10shttps://www.youtube.com/watch?v=BM6Z6pY7Uu0&t=11m53shttps://www.youtube.com/watch?v=IKTBGSIwA_o&t=4m24shttps://www.youtube.com/watch?v=a0i1YqwsnMs&t=53m39shttps://www.youtube.com/watch?v=a0i1YqwsnMs&t=1m29shttps://www.youtube.com/watch?v=a0i1YqwsnMs&t=1m40shttps://www.youtube.com/watch?v=KG55c9XWRQo&t=27m53shttps://www.youtube.com/watch?v=KG55c9XWRQo&t=28m14shttps://www.youtube.com/watch?v=lfczmnqGUL0&t=12m3shttps://www.youtube.com/watch?v=K3Lk4AfGlrg&t=4m20shttps://www.youtube.com/watch?v=O8F5jyfYH8k&t=36m43shttps://www.youtube.com/watch?v=oKHmYqwFt_Y&t=38m3shttps://www.youtube.com/watch?v=oKHmYqwFt_Y&t=37m45shttps://www.youtube.com/watch?v=72NU-RN8uL0&t=37m18shttps://www.youtube.com/watch?v=7QV5zFfqpx0&t=13m50shttps://www.youtube.com/watch?v=O8F5jyfYH8k&t=48m14shttps://www.youtube.com/watch?v=O8F5jyfYH8k&t=48m35shttps://www.youtube.com/watch?v=-XPEvIMe05A&t=18m28shttps://www.youtube.com/watch?v=nRfZM1def1k&t=11m31shttps://www.youtube.com/watch?v=aq_bH0nwV6E&t=1m34shttps://www.youtube.com/watch?v=-XPEvIMe05A&t=30m16shttps://www.youtube.com/watch?v=Xpt3t_HfMXs&t=46m34shttps://www.youtube.com/watch?v=a0i1YqwsnMs&t=27m54shttps://www.youtube.com/watch?v=a0i1YqwsnMs&t=28m4shttps://www.youtube.com/watch?v=3d6tdmTyfhQ&t=59m46shttps://www.youtube.com/watch?v=72NU-RN8uL0&t=2m5shttps://www.youtube.com/watch?v=cwZs81GtONo&t=44m33shttps://www.youtube.com/watch?v=cwZs81GtONo&t=44m54shttps://www.youtube.com/watch?v=rBQ4-zr22Nc&t=3m14shttps://www.youtube.com/watch?v=vlYIEczYACQ&t=27m21shttps://www.youtube.com/watch?v=KG55c9XWRQo&t=3m34shttps://www.youtube.com/watch?v=bxZepPt-WP8&t=36m0shttps://www.youtube.com/watch?v=lfczmnqGUL0&t=32m54shttps://www.youtube.com/watch?v=qnBwuxFDxlU&t=73m25shttps://www.youtube.com/watch?v=Xpt3t_HfMXs&t=4m3shttps://www.youtube.com/watch?v=nRfZM1def1k&t=55m25shttps://www.youtube.com/watch?v=nRfZM1def1k&t=55m16shttps://www.youtube.com/watch?v=rBQ4-zr22Nc&t=17m50shttps://www.youtube.com/watch?v=rBQ4-zr22Nc&t=42m29shttps://www.youtube.com/watch?v=7QV5zFfqpx0&t=19m2shttps://www.youtube.com/watch?v=7QV5zFfqpx0&t=19m24shttps://www.youtube.com/watch?v=BM6Z6pY7Uu0&t=102m33shttps://www.youtube.com/watch?v=E9a-WImIqRI&t=33m16shttps://www.youtube.com/watch?v=E9a-WImIqRI&t=0m12shttps://www.youtube.com/watch?v=aq_bH0nwV6E&t=62m15shttps://www.youtube.com/watch?v=bxZepPt-WP8&t=1m25shttps://www.youtube.com/watch?v=bxZepPt-WP8&t=1m32shttps://www.youtube.com/watch?v=nRfZM1def1k&t=65m5shttps://www.youtube.com/watch?v=K3Lk4AfGlrg&t=0m24shttps://www.youtube.com/watch?v=hcyLoktqdyQ&t=22m56shttps://www.youtube.com/watch?v=qnBwuxFDxlU&t=59m12shttps://www.youtube.com/watch?v=bxZepPt-WP8&t=0m15shttps://www.youtube.com/watch?v=nRfZM1def1k&t=61m58shttps://www.youtube.com/watch?v=IKTBGSIwA_o&t=48m52shttps://www.youtube.com/watch?v=IKTBGSIwA_o&t=4m59shttps://www.youtube.com/watch?v=UwjhbBD2IA4&t=4m25shttps://www.youtube.com/watch?v=UwjhbBD2IA4&t=4m45shttps://www.youtube.com/watch?v=UwjhbBD2IA4&t=11m48shttps://www.youtube.com/watch?v=lfczmnqGUL0&t=5m21shttps://www.youtube.com/watch?v=lfczmnqGUL0&t=53m26shttps://www.youtube.com/watch?v=72NU-RN8uL0&t=66m31shttps://www.youtube.com/watch?v=IajLUUqbP3k&t=75m28shttps://www.youtube.com/watch?v=IajLUUqbP3k&t=75m38shttps://www.youtube.com/watch?v=O8F5jyfYH8k&t=64m7shttps://www.youtube.com/watch?v=aq_bH0nwV6E&t=62m46shttps://www.youtube.com/watch?v=aq_bH0nwV6E&t=63m1shttps://www.youtube.com/watch?v=qnBwuxFDxlU&t=3m33shttps://www.youtube.com/watch?v=qnBwuxFDxlU&t=3m46shttps://www.youtube.com/watch?v=qnBwuxFDxlU&t=3m20shttps://www.youtube.com/watch?v=d1MDyJ1QJek&t=23m12shttps://www.youtube.com/watch?v=OVRp7_wN3Ys&t=16m19shttps://www.youtube.com/watch?v=UwjhbBD2IA4&t=69m31shttps://www.youtube.com/watch?v=d1MDyJ1QJek&t=0m38shttps://www.youtube.com/watch?v=d1MDyJ1QJek&t=6m6shttps://www.youtube.com/watch?v=d1MDyJ1QJek&t=6m15shttps://www.youtube.com/watch?v=3d6tdmTyfhQ&t=58m5shttps://www.youtube.com/watch?v=3d6tdmTyfhQ&t=57m41shttps://www.youtube.com/watch?v=K3Lk4AfGlrg&t=4m39shttps://www.youtube.com/watch?v=K3Lk4AfGlrg&t=4m24shttps://www.youtube.com/watch?v=bxZepPt-WP8&t=27m29shttps://www.youtube.com/watch?v=OVRp7_wN3Ys&t=12m27shttps://www.youtube.com/watch?v=Xpt3t_HfMXs&t=20m43shttps://www.youtube.com/watch?v=bxZepPt-WP8&t=16m45shttps://www.youtube.com/watch?v=KG55c9XWRQo&t=5m15shttps://www.youtube.com/watch?v=BM6Z6pY7Uu0&t=11m10shttps://www.youtube.com/watch?v=BM6Z6pY7Uu0&t=10m52shttps://www.youtube.com/watch?v=KG55c9XWRQo&t=8m37shttps://www.youtube.com/watch?v=7QV5zFfqpx0&t=78m5shttps://www.youtube.com/watch?v=7QV5zFfqpx0&t=78m16shttps://www.youtube.com/watch?v=d1MDyJ1QJek&t=54m3shttps://www.youtube.com/watch?v=d1MDyJ1QJek&t=54m13shttps://www.youtube.com/watch?v=72NU-RN8uL0&t=43m0shttps://www.youtube.com/watch?v=72NU-RN8uL0&t=4m18shttps://www.youtube.com/watch?v=BM6Z6pY7Uu0&t=1m46shttps://www.youtube.com/watch?v=E5rB_-N-7l8&t=8m0shttps://www.youtube.com/watch?v=E9a-WImIqRI&t=4m29shttps://www.youtube.com/watch?v=E9a-WImIqRI&t=44m40shttps://www.youtube.com/watch?v=nRfZM1def1k&t=39m41shttps://www.youtube.com/watch?v=-XPEvIMe05A&t=41m19shttps://www.youtube.com/watch?v=-XPEvIMe05A&t=41m42shttps://www.youtube.com/watch?v=OVRp7_wN3Ys&t=8m54shttps://www.youtube.com/watch?v=cwZs81GtONo&t=58m40shttps://www.youtube.com/watch?v=cwZs81GtONo&t=5m57shttps://www.youtube.com/watch?v=nRfZM1def1k&t=0m25shttps://www.youtube.com/watch?v=nRfZM1def1k&t=0m21shttps://www.youtube.com/watch?v=IajLUUqbP3k&t=27m30shttps://www.youtube.com/watch?v=OVRp7_wN3Ys&t=78m5shttps://www.youtube.com/watch?v=ahEnvgLvRI4&t=63m25shttps://www.youtube.com/watch?v=ahEnvgLvRI4&t=63m35shttps://www.youtube.com/watch?v=bxZepPt-WP8&t=33m53shttps://www.youtube.com/watch?v=rBQ4-zr22Nc&t=51m27shttps://www.youtube.com/watch?v=rBQ4-zr22Nc&t=51m46shttps://www.youtube.com/watch?v=-XPEvIMe05A&t=39m29shttps://www.youtube.com/watch?v=2fw2DEqZZQk&t=7m44shttps://www.youtube.com/watch?v=2fw2DEqZZQk&t=7m47shttps://www.youtube.com/watch?v=a0i1YqwsnMs&t=51m0shttps://www.youtube.com/watch?v=bxZepPt-WP8&t=4m25shttps://www.youtube.com/watch?v=hcyLoktqdyQ&t=24m20shttps://www.youtube.com/watch?v=3d6tdmTyfhQ&t=77m13shttps://www.youtube.com/watch?v=3d6tdmTyfhQ&t=77m15shttps://www.youtube.com/watch?v=9kSklOMINnw&t=3m59shttps://www.youtube.com/watch?v=bxZepPt-WP8&t=64m45shttps://www.youtube.com/watch?v=rBQ4-zr22Nc&t=4m19shttps://www.youtube.com/watch?v=a0i1YqwsnMs&t=2m10shttps://www.youtube.com/watch?v=d1MDyJ1QJek&t=26m16shttps://www.youtube.com/watch?v=vlYIEczYACQ&t=33m13shttps://www.youtube.com/watch?v=vlYIEczYACQ&t=33m22shttps://www.youtube.com/watch?v=nRfZM1def1k&t=31m16shttps://www.youtube.com/watch?v=oKHmYqwFt_Y&t=44m7shttps://www.youtube.com/watch?v=oKHmYqwFt_Y&t=43m59shttps://www.youtube.com/watch?v=2fw2DEqZZQk&t=4m7shttps://www.youtube.com/watch?v=2fw2DEqZZQk&t=4m2shttps://www.youtube.com/watch?v=2fw2DEqZZQk&t=3m43shttps://www.youtube.com/watch?v=oKHmYqwFt_Y&t=77m38shttps://www.youtube.com/watch?v=2fw2DEqZZQk&t=2m45shttps://www.youtube.com/watch?v=72NU-RN8uL0&t=2m41shttps://www.youtube.com/watch?v=O8F5jyfYH8k&t=58m3shttps://www.youtube.com/watch?v=vlYIEczYACQ&t=29m24shttps://www.youtube.com/watch?v=bxZepPt-WP8&t=54m49shttps://www.youtube.com/watch?v=bxZepPt-WP8&t=54m46shttps://www.youtube.com/watch?v=E5rB_-N-7l8&t=8m23shttps://www.youtube.com/watch?v=E9a-WImIqRI&t=1m52shttps://www.youtube.com/watch?v=E9a-WImIqRI&t=18m23shttps://www.youtube.com/watch?v=KG55c9XWRQo&t=17m42shttps://www.youtube.com/watch?v=l8JmUVldKKA&t=29m33shttps://www.youtube.com/watch?v=Xpt3t_HfMXs&t=7m19shttps://www.youtube.com/watch?v=cwZs81GtONo&t=18m2shttps://www.youtube.com/watch?v=IKTBGSIwA_o&t=37m1shttps://www.youtube.com/watch?v=Xpt3t_HfMXs&t=49m21shttps://www.youtube.com/watch?v=bxZepPt-WP8&t=40m4shttps://www.youtube.com/watch?v=oKHmYqwFt_Y&t=68m17shttps://www.youtube.com/watch?v=ahEnvgLvRI4&t=19m24shttps://www.youtube.com/watch?v=KG55c9XWRQo&t=6m2shttps://www.youtube.com/watch?v=KG55c9XWRQo&t=60m3shttps://www.youtube.com/watch?v=OVRp7_wN3Ys&t=14m12shttps://www.youtube.com/watch?v=OVRp7_wN3Ys&t=1m30shttps://www.youtube.com/watch?v=OVRp7_wN3Ys&t=14m5shttps://www.youtube.com/watch?v=E9a-WImIqRI&t=35m22shttps://www.youtube.com/watch?v=E9a-WImIqRI&t=3m36shttps://www.youtube.com/watch?v=E9a-WImIqRI&t=3m35shttps://www.youtube.com/watch?v=a0i1YqwsnMs&t=12m27shttps://www.youtube.com/watch?v=a0i1YqwsnMs&t=12m8shttps://www.youtube.com/watch?v=OVRp7_wN3Ys&t=41m15shttps://www.youtube.com/watch?v=nRfZM1def1k&t=61m11shttps://www.youtube.com/watch?v=2fw2DEqZZQk&t=5m10shttps://www.youtube.com/watch?v=IajLUUqbP3k&t=27m9shttps://www.youtube.com/watch?v=KG55c9XWRQo&t=33m43shttps://www.youtube.com/watch?v=bxZepPt-WP8&t=51m52shttps://www.youtube.com/watch?v=l8JmUVldKKA&t=28m11shttps://www.youtube.com/watch?v=l8JmUVldKKA&t=28m32shttps://www.youtube.com/watch?v=BM6Z6pY7Uu0&t=19m27shttps://www.youtube.com/watch?v=BM6Z6pY7Uu0&t=19m32shttps://www.youtube.com/watch?v=2fw2DEqZZQk&t=59m14shttps://www.youtube.com/watch?v=qnBwuxFDxlU&t=13m37shttps://www.youtube.com/watch?v=9kSklOMINnw&t=36m4shttps://www.youtube.com/watch?v=E5rB_-N-7l8&t=0m5shttps://www.youtube.com/watch?v=E5rB_-N-7l8&t=5m38shttps://www.youtube.com/watch?v=a0i1YqwsnMs&t=6m12shttps://www.youtube.com/watch?v=a0i1YqwsnMs&t=6m29shttps://www.youtube.com/watch?v=cwZs81GtONo&t=3m12shttps://www.youtube.com/watch?v=3d6tdmTyfhQ&t=50m46shttps://www.youtube.com/watch?v=E9a-WImIqRI&t=14m41shttps://www.youtube.com/watch?v=E9a-WImIqRI&t=0m9shttps://www.youtube.com/watch?v=E9a-WImIqRI&t=14m42shttps://www.youtube.com/watch?v=E9a-WImIqRI&t=1m27shttps://www.youtube.com/watch?v=To82TdG7PKI&t=0m30shttps://www.youtube.com/watch?v=a0i1YqwsnMs&t=5m2shttps://www.youtube.com/watch?v=a0i1YqwsnMs&t=49m58shttps://www.youtube.com/watch?v=aq_bH0nwV6E&t=14m21shttps://www.youtube.com/watch?v=aq_bH0nwV6E&t=1m25shttps://www.youtube.com/watch?v=qnBwuxFDxlU&t=64m5shttps://www.youtube.com/watch?v=E5rB_-N-7l8&t=23m49shttps://www.youtube.com/watch?v=IKTBGSIwA_o&t=5m48shttps://www.youtube.com/watch?v=O8F5jyfYH8k&t=34m46shttps://www.youtube.com/watch?v=72NU-RN8uL0&t=38m44shttps://www.youtube.com/watch?v=UwjhbBD2IA4&t=5m25shttps://www.youtube.com/watch?v=UwjhbBD2IA4&t=0m45shttps://www.youtube.com/watch?v=UwjhbBD2IA4&t=7m16shttps://www.youtube.com/watch?v=aq_bH0nwV6E&t=23m8shttps://www.youtube.com/watch?v=aq_bH0nwV6E&t=23m0shttps://www.youtube.com/watch?v=9kSklOMINnw&t=5m14shttps://www.youtube.com/watch?v=OVRp7_wN3Ys&t=0m20shttps://www.youtube.com/watch?v=vlYIEczYACQ&t=33m39shttps://www.youtube.com/watch?v=72NU-RN8uL0&t=20m16shttps://www.youtube.com/watch?v=7QV5zFfqpx0&t=55m42shttps://www.youtube.com/watch?v=7QV5zFfqpx0&t=55m32shttps://www.youtube.com/watch?v=E5rB_-N-7l8&t=45m29shttps://www.youtube.com/watch?v=E5rB_-N-7l8&t=69m32shttps://www.youtube.com/watch?v=K3Lk4AfGlrg&t=80m16shttps://www.youtube.com/watch?v=K3Lk4AfGlrg&t=8m3shttps://www.youtube.com/watch?v=-XPEvIMe05A&t=5m55shttps://www.youtube.com/watch?v=O8F5jyfYH8k&t=29m18shttps://www.youtube.com/watch?v=Xpt3t_HfMXs&t=10m41shttps://www.youtube.com/watch?v=aq_bH0nwV6E&t=84m17shttps://www.youtube.com/watch?v=7QV5zFfqpx0&t=22m32shttps://www.youtube.com/watch?v=72NU-RN8uL0&t=74m32shttps://www.youtube.com/watch?v=IKTBGSIwA_o&t=4m10shttps://www.youtube.com/watch?v=IKTBGSIwA_o&t=41m46shttps://www.youtube.com/watch?v=K3Lk4AfGlrg&t=54m23shttps://www.youtube.com/watch?v=To82TdG7PKI&t=40m41shttps://www.youtube.com/watch?v=To82TdG7PKI&t=29m20shttps://www.youtube.com/watch?v=Xpt3t_HfMXs&t=14m1shttps://www.youtube.com/watch?v=UwjhbBD2IA4&t=13m5shttps://www.youtube.com/watch?v=UwjhbBD2IA4&t=12m51shttps://www.youtube.com/watch?v=E5rB_-N-7l8&t=47m43shttps://www.youtube.com/watch?v=2fw2DEqZZQk&t=19m33shttps://www.youtube.com/watch?v=2fw2DEqZZQk&t=29m4shttps://www.youtube.com/watch?v=qnBwuxFDxlU&t=26m50shttps://www.youtube.com/watch?v=Xpt3t_HfMXs&t=27m13shttps://www.youtube.com/watch?v=cwZs81GtONo&t=4m3shttps://www.youtube.com/watch?v=vlYIEczYACQ&t=54m6shttps://www.youtube.com/watch?v=E9a-WImIqRI&t=37m7shttps://www.youtube.com/watch?v=E9a-WImIqRI&t=37m23shttps://www.youtube.com/watch?v=OVRp7_wN3Ys&t=36m46shttps://www.youtube.com/watch?v=bxZepPt-WP8&t=22m41shttps://www.youtube.com/watch?v=BM6Z6pY7Uu0&t=1m19shttps://www.youtube.com/watch?v=IKTBGSIwA_o&t=11m46shttps://www.youtube.com/watch?v=a0i1YqwsnMs&t=13m48shttps://www.youtube.com/watch?v=nRfZM1def1k&t=2m10shttps://www.youtube.com/watch?v=oKHmYqwFt_Y&t=23m51shttps://www.youtube.com/watch?v=-XPEvIMe05A&t=27m53shttps://www.youtube.com/watch?v=3d6tdmTyfhQ&t=62m7shttps://www.youtube.com/watch?v=3d6tdmTyfhQ&t=62m20shttps://www.youtube.com/watch?v=oKHmYqwFt_Y&t=39m34shttps://www.youtube.com/watch?v=2fw2DEqZZQk&t=4m10shttps://www.youtube.com/watch?v=9kSklOMINnw&t=25m24shttps://www.youtube.com/watch?v=UwjhbBD2IA4&t=34m19shttps://www.youtube.com/watch?v=UwjhbBD2IA4&t=34m53shttps://www.youtube.com/watch?v=Xpt3t_HfMXs&t=6m3shttps://www.youtube.com/watch?v=BM6Z6pY7Uu0&t=39m15shttps://www.youtube.com/watch?v=BM6Z6pY7Uu0&t=39m1shttps://www.youtube.com/watch?v=BM6Z6pY7Uu0&t=39m24shttps://www.youtube.com/watch?v=IajLUUqbP3k&t=69m45shttps://www.youtube.com/watch?v=K3Lk4AfGlrg&t=26m0shttps://www.youtube.com/watch?v=hcyLoktqdyQ&t=15m1shttps://www.youtube.com/watch?v=hcyLoktqdyQ&t=14m48shttps://www.youtube.com/watch?v=qnBwuxFDxlU&t=11m53shttps://www.youtube.com/watch?v=qnBwuxFDxlU&t=11m52shttps://www.youtube.com/watch?v=oKHmYqwFt_Y&t=10m42shttps://www.youtube.com/watch?v=2fw2DEqZZQk&t=32m6shttps://www.youtube.com/watch?v=2fw2DEqZZQk&t=32m8shttps://www.youtube.com/watch?v=a0i1YqwsnMs&t=18m47shttps://www.youtube.com/watch?v=a0i1YqwsnMs&t=18m34shttps://www.youtube.com/watch?v=K3Lk4AfGlrg&t=61m8shttps://www.youtube.com/watch?v=3d6tdmTyfhQ&t=14m48shttps://www.youtube.com/watch?v=OVRp7_wN3Ys&t=48m56shttps://www.youtube.com/watch?v=E9a-WImIqRI&t=23m55shttps://www.youtube.com/watch?v=E9a-WImIqRI&t=23m23shttps://www.youtube.com/watch?v=E9a-WImIqRI&t=23m27shttps://www.youtube.com/watch?v=KG55c9XWRQo&t=64m43shttps://www.youtube.com/watch?v=KG55c9XWRQo&t=64m33shttps://www.youtube.com/watch?v=E9a-WImIqRI&t=35m8shttps://www.youtube.com/watch?v=E9a-WImIqRI&t=16m47shttps://www.youtube.com/watch?v=E9a-WImIqRI&t=1m40shttps://www.youtube.com/watch?v=oKHmYqwFt_Y&t=8m33shttps://www.youtube.com/watch?v=Xpt3t_HfMXs&t=42m41shttps://www.youtube.com/watch?v=oKHmYqwFt_Y&t=80m15shttps://www.youtube.com/watch?v=2fw2DEqZZQk&t=37m43shttps://www.youtube.com/watch?v=2fw2DEqZZQk&t=37m50shttps://www.youtube.com/watch?v=O8F5jyfYH8k&t=0m41shttps://www.youtube.com/watch?v=O8F5jyfYH8k&t=0m43shttps://www.youtube.com/watch?v=E5rB_-N-7l8&t=25m36shttps://www.youtube.com/watch?v=E5rB_-N-7l8&t=25m19shttps://www.youtube.com/watch?v=aq_bH0nwV6E&t=28m46shttps://www.youtube.com/watch?v=cwZs81GtONo&t=28m51shttps://www.youtube.com/watch?v=cwZs81GtONo&t=29m13shttps://www.youtube.com/watch?v=l2xxAqkMHg8&t=30m54shttps://www.youtube.com/watch?v=l2xxAqkMHg8&t=3m7shttps://www.youtube.com/watch?v=qnBwuxFDxlU&t=51m45shttps://www.youtube.com/watch?v=OVRp7_wN3Ys&t=42m17shttps://www.youtube.com/watch?v=3d6tdmTyfhQ&t=17m7shttps://www.youtube.com/watch?v=OVRp7_wN3Ys&t=14m56shttps://www.youtube.com/watch?v=OVRp7_wN3Ys&t=14m53shttps://www.youtube.com/watch?v=oKHmYqwFt_Y&t=10m1shttps://www.youtube.com/watch?v=nRfZM1def1k&t=18m49shttps://www.youtube.com/watch?v=O8F5jyfYH8k&t=4m35shttps://www.youtube.com/watch?v=-XPEvIMe05A&t=47m10shttps://www.youtube.com/watch?v=-XPEvIMe05A&t=1m21shttps://www.youtube.com/watch?v=9kSklOMINnw&t=38m42shttps://www.youtube.com/watch?v=9kSklOMINnw&t=38m50shttps://www.youtube.com/watch?v=cwZs81GtONo&t=63m51shttps://www.youtube.com/watch?v=d1MDyJ1QJek&t=32m25shttps://www.youtube.com/watch?v=d1MDyJ1QJek&t=32m31shttps://www.youtube.com/watch?v=vlYIEczYACQ&t=0m16shttps://www.youtube.com/watch?v=vlYIEczYACQ&t=23m18shttps://www.youtube.com/watch?v=d1MDyJ1QJek&t=0m22shttps://www.youtube.com/watch?v=vlYIEczYACQ&t=6m17shttps://www.youtube.com/watch?v=vlYIEczYACQ&t=6m29shttps://www.youtube.com/watch?v=K3Lk4AfGlrg&t=26m47shttps://www.youtube.com/watch?v=hcyLoktqdyQ&t=11m23shttps://www.youtube.com/watch?v=nRfZM1def1k&t=25m13shttps://www.youtube.com/watch?v=l8JmUVldKKA&t=24m53shttps://www.youtube.com/watch?v=OVRp7_wN3Ys&t=23m52shttps://www.youtube.com/watch?v=ahEnvgLvRI4&t=46m46shttps://www.youtube.com/watch?v=ahEnvgLvRI4&t=46m25shttps://www.youtube.com/watch?v=9kSklOMINnw&t=0m7shttps://www.youtube.com/watch?v=9kSklOMINnw&t=12m42shttps://www.youtube.com/watch?v=K3Lk4AfGlrg&t=31m16shttps://www.youtube.com/watch?v=KG55c9XWRQo&t=66m58shttps://www.youtube.com/watch?v=UwjhbBD2IA4&t=2m5shttps://www.youtube.com/watch?v=UwjhbBD2IA4&t=1m46shttps://www.youtube.com/watch?v=oKHmYqwFt_Y&t=38m13shttps://www.youtube.com/watch?v=E9a-WImIqRI&t=11m41shttps://www.youtube.com/watch?v=E9a-WImIqRI&t=11m32shttps://www.youtube.com/watch?v=UwjhbBD2IA4&t=22m22shttps://www.youtube.com/watch?v=aq_bH0nwV6E&t=25m56shttps://www.youtube.com/watch?v=rBQ4-zr22Nc&t=4m12shttps://www.youtube.com/watch?v=E9a-WImIqRI&t=39m51shttps://www.youtube.com/watch?v=E9a-WImIqRI&t=0m25shttps://www.youtube.com/watch?v=E9a-WImIqRI&t=3m59shttps://www.youtube.com/watch?v=E9a-WImIqRI&t=49m30shttps://www.youtube.com/watch?v=E9a-WImIqRI&t=67m8shttps://www.youtube.com/watch?v=K3Lk4AfGlrg&t=55m12shttps://www.youtube.com/watch?v=E5rB_-N-7l8&t=54m13shttps://www.youtube.com/watch?v=cwZs81GtONo&t=13m21shttps://www.youtube.com/watch?v=cwZs81GtONo&t=13m23shttps://www.youtube.com/watch?v=cwZs81GtONo&t=13m37shttps://www.youtube.com/watch?v=3d6tdmTyfhQ&t=16m43shttps://www.youtube.com/watch?v=lfczmnqGUL0&t=6m40shttps://www.youtube.com/watch?v=OVRp7_wN3Ys&t=0m44shttps://www.youtube.com/watch?v=cwZs81GtONo&t=41m0shttps://www.youtube.com/watch?v=E5rB_-N-7l8&t=9m48shttps://www.youtube.com/watch?v=E5rB_-N-7l8&t=10m14shttps://www.youtube.com/watch?v=E5rB_-N-7l8&t=10m7shttps://www.youtube.com/watch?v=IKTBGSIwA_o&t=45m24shttps://www.youtube.com/watch?v=IKTBGSIwA_o&t=45m8shttps://www.youtube.com/watch?v=IKTBGSIwA_o&t=0m30shttps://www.youtube.com/watch?v=oKHmYqwFt_Y&t=1m37shttps://www.youtube.com/watch?v=oKHmYqwFt_Y&t=16m12shttps://www.youtube.com/watch?v=2fw2DEqZZQk&t=20m45shttps://www.youtube.com/watch?v=2fw2DEqZZQk&t=2m2shttps://www.youtube.com/watch?v=ahEnvgLvRI4&t=33m47shttps://www.youtube.com/watch?v=ahEnvgLvRI4&t=33m37shttps://www.youtube.com/watch?v=qnBwuxFDxlU&t=46m32shttps://www.youtube.com/watch?v=IKTBGSIwA_o&t=21m36shttps://www.youtube.com/watch?v=9kSklOMINnw&t=4m37shttps://www.youtube.com/watch?v=a0i1YqwsnMs&t=23m56shttps://www.youtube.com/watch?v=UwjhbBD2IA4&t=37m8shttps://www.youtube.com/watch?v=UwjhbBD2IA4&t=3m47shttps://www.youtube.com/watch?v=UwjhbBD2IA4&t=37m2shttps://www.youtube.com/watch?v=E9a-WImIqRI&t=0m39shttps://www.youtube.com/watch?v=E9a-WImIqRI&t=6m32shttps://www.youtube.com/watch?v=IajLUUqbP3k&t=31m51shttps://www.youtube.com/watch?v=cwZs81GtONo&t=7m45shttps://www.youtube.com/watch?v=cwZs81GtONo&t=8m14shttps://www.youtube.com/watch?v=oKHmYqwFt_Y&t=42m32shttps://www.youtube.com/watch?v=oKHmYqwFt_Y&t=42m56shttps://www.youtube.com/watch?v=9kSklOMINnw&t=16m51shttps://www.youtube.com/watch?v=UwjhbBD2IA4&t=52m5shttps://www.youtube.com/watch?v=Xpt3t_HfMXs&t=35m52shttps://www.youtube.com/watch?v=Xpt3t_HfMXs&t=35m48shttps://www.youtube.com/watch?v=BM6Z6pY7Uu0&t=15m48shttps://www.youtube.com/watch?v=bxZepPt-WP8&t=39m24shttps://www.youtube.com/watch?v=9kSklOMINnw&t=5m23shttps://www.youtube.com/watch?v=9kSklOMINnw&t=53m6shttps://www.youtube.com/watch?v=O8F5jyfYH8k&t=4m19shttps://www.youtube.com/watch?v=O8F5jyfYH8k&t=3m55shttps://www.youtube.com/watch?v=UwjhbBD2IA4&t=39m33shttps://www.youtube.com/watch?v=UwjhbBD2IA4&t=39m0shttps://www.youtube.com/watch?v=d1MDyJ1QJek&t=55m31shttps://www.youtube.com/watch?v=d1MDyJ1QJek&t=55m30shttps://www.youtube.com/watch?v=2fw2DEqZZQk&t=9m41shttps://www.youtube.com/watch?v=K3Lk4AfGlrg&t=8m27shttps://www.youtube.com/watch?v=a0i1YqwsnMs&t=38m10shttps://www.youtube.com/watch?v=a0i1YqwsnMs&t=38m7shttps://www.youtube.com/watch?v=aq_bH0nwV6E&t=48m58shttps://www.youtube.com/watch?v=BM6Z6pY7Uu0&t=77m7shttps://www.youtube.com/watch?v=BM6Z6pY7Uu0&t=77m15shttps://www.youtube.com/watch?v=OVRp7_wN3Ys&t=22m49shttps://www.youtube.com/watch?v=OVRp7_wN3Ys&t=22m47shttps://www.youtube.com/watch?v=2fw2DEqZZQk&t=35m18shttps://www.youtube.com/watch?v=2fw2DEqZZQk&t=35m31shttps://www.youtube.com/watch?v=2fw2DEqZZQk&t=35m23shttps://www.youtube.com/watch?v=UwjhbBD2IA4&t=50m12shttps://www.youtube.com/watch?v=bxZepPt-WP8&t=44m56shttps://www.youtube.com/watch?v=2fw2DEqZZQk&t=21m9shttps://www.youtube.com/watch?v=O8F5jyfYH8k&t=28m13shttps://www.youtube.com/watch?v=Xpt3t_HfMXs&t=33m48shttps://www.youtube.com/watch?v=Xpt3t_HfMXs&t=33m32shttps://www.youtube.com/watch?v=oKHmYqwFt_Y&t=26m1shttps://www.youtube.com/watch?v=oKHmYqwFt_Y&t=26m19shttps://www.youtube.com/watch?v=qnBwuxFDxlU&t=0m30shttps://www.youtube.com/watch?v=qnBwuxFDxlU&t=50m53shttps://www.youtube.com/watch?v=2fw2DEqZZQk&t=26m8shttps://www.youtube.com/watch?v=2fw2DEqZZQk&t=51m48shttps://www.youtube.com/watch?v=2fw2DEqZZQk&t=52m6shttps://www.youtube.com/watch?v=E5rB_-N-7l8&t=33m57shttps://www.youtube.com/watch?v=E5rB_-N-7l8&t=33m30shttps://www.youtube.com/watch?v=lfczmnqGUL0&t=56m24shttps://www.youtube.com/watch?v=3d6tdmTyfhQ&t=30m24shttps://www.youtube.com/watch?v=E5rB_-N-7l8&t=26m46shttps://www.youtube.com/watch?v=Xpt3t_HfMXs&t=3m53shttps://www.youtube.com/watch?v=l8JmUVldKKA&t=11m14shttps://www.youtube.com/watch?v=l8JmUVldKKA&t=11m11shttps://www.youtube.com/watch?v=2fw2DEqZZQk&t=1m54shttps://www.youtube.com/watch?v=To82TdG7PKI&t=41m41shttps://www.youtube.com/watch?v=To82TdG7PKI&t=41m34shttps://www.youtube.com/watch?v=2fw2DEqZZQk&t=12m28shttps://www.youtube.com/watch?v=2fw2DEqZZQk&t=12m22shttps://www.youtube.com/watch?v=BM6Z6pY7Uu0&t=82m49shttps://www.youtube.com/watch?v=E5rB_-N-7l8&t=14m23shttps://www.youtube.com/watch?v=ahEnvgLvRI4&t=26m45shttps://www.youtube.com/watch?v=bxZepPt-WP8&t=2m19shttps://www.youtube.com/watch?v=d1MDyJ1QJek&t=1m52shttps://www.youtube.com/watch?v=E5rB_-N-7l8&t=4m59shttps://www.youtube.com/watch?v=E9a-WImIqRI&t=5m36shttps://www.youtube.com/watch?v=OVRp7_wN3Ys&t=30m56shttps://www.youtube.com/watch?v=O8F5jyfYH8k&t=3m41shttps://www.youtube.com/watch?v=nRfZM1def1k&t=50m51shttps://www.youtube.com/watch?v=nRfZM1def1k&t=50m59shttps://www.youtube.com/watch?v=qnBwuxFDxlU&t=6m35shttps://www.youtube.com/watch?v=72NU-RN8uL0&t=1m22shttps://www.youtube.com/watch?v=ahEnvgLvRI4&t=2m19shttps://www.youtube.com/watch?v=ahEnvgLvRI4&t=2m10shttps://www.youtube.com/watch?v=OVRp7_wN3Ys&t=53m58shttps://www.youtube.com/watch?v=IKTBGSIwA_o&t=32m41shttps://www.youtube.com/watch?v=IKTBGSIwA_o&t=32m55shttps://www.youtube.com/watch?v=bxZepPt-WP8&t=75m53shttps://www.youtube.com/watch?v=qnBwuxFDxlU&t=58m6shttps://www.youtube.com/watch?v=K3Lk4AfGlrg&t=72m6shttps://www.youtube.com/watch?v=O8F5jyfYH8k&t=40m26shttps://www.youtube.com/watch?v=BM6Z6pY7Uu0&t=57m5shttps://www.youtube.com/watch?v=K3Lk4AfGlrg&t=10m8shttps://www.youtube.com/watch?v=ahEnvgLvRI4&t=24m11shttps://www.youtube.com/watch?v=ahEnvgLvRI4&t=23m54shttps://www.youtube.com/watch?v=cwZs81GtONo&t=9m7shttps://www.youtube.com/watch?v=BM6Z6pY7Uu0&t=91m14shttps://www.youtube.com/watch?v=lfczmnqGUL0&t=38m15shttps://www.youtube.com/watch?v=oKHmYqwFt_Y&t=43m23shttps://www.youtube.com/watch?v=l2xxAqkMHg8&t=31m37shttps://www.youtube.com/watch?v=O8F5jyfYH8k&t=16m55shttps://www.youtube.com/watch?v=O8F5jyfYH8k&t=30m9shttps://www.youtube.com/watch?v=UwjhbBD2IA4&t=29m6shttps://www.youtube.com/watch?v=l8JmUVldKKA&t=2m35shttps://www.youtube.com/watch?v=K3Lk4AfGlrg&t=39m43shttps://www.youtube.com/watch?v=cwZs81GtONo&t=44m11shttps://www.youtube.com/watch?v=cwZs81GtONo&t=43m46shttps://www.youtube.com/watch?v=oKHmYqwFt_Y&t=4m31shttps://www.youtube.com/watch?v=oKHmYqwFt_Y&t=4m48shttps://www.youtube.com/watch?v=BM6Z6pY7Uu0&t=4m28shttps://www.youtube.com/watch?v=BM6Z6pY7Uu0&t=44m33shttps://www.youtube.com/watch?v=l2xxAqkMHg8&t=15m49shttps://www.youtube.com/watch?v=oKHmYqwFt_Y&t=61m20shttps://www.youtube.com/watch?v=oKHmYqwFt_Y&t=61m7shttps://www.youtube.com/watch?v=oKHmYqwFt_Y&t=64m41shttps://www.youtube.com/watch?v=oKHmYqwFt_Y&t=64m56shttps://www.youtube.com/watch?v=Xpt3t_HfMXs&t=12m53shttps://www.youtube.com/watch?v=Xpt3t_HfMXs&t=12m43shttps://www.youtube.com/watch?v=a0i1YqwsnMs&t=42m46shttps://www.youtube.com/watch?v=hcyLoktqdyQ&t=51m25shttps://www.youtube.com/watch?v=l2xxAqkMHg8&t=22m52shttps://www.youtube.com/watch?v=OVRp7_wN3Ys&t=40m5shttps://www.youtube.com/watch?v=OVRp7_wN3Ys&t=4m3shttps://www.youtube.com/watch?v=-XPEvIMe05A&t=12m6shttps://www.youtube.com/watch?v=72NU-RN8uL0&t=32m31shttps://www.youtube.com/watch?v=O8F5jyfYH8k&t=54m54shttps://www.youtube.com/watch?v=BM6Z6pY7Uu0&t=32m2shttps://www.youtube.com/watch?v=BM6Z6pY7Uu0&t=32m16shttps://www.youtube.com/watch?v=ahEnvgLvRI4&t=52m32shttps://www.youtube.com/watch?v=bxZepPt-WP8&t=19m55shttps://www.youtube.com/watch?v=aq_bH0nwV6E&t=57m6shttps://www.youtube.com/watch?v=nRfZM1def1k&t=1m23shttps://www.youtube.com/watch?v=nRfZM1def1k&t=1m9shttps://www.youtube.com/watch?v=72NU-RN8uL0&t=28m59shttps://www.youtube.com/watch?v=9kSklOMINnw&t=20m19shttps://www.youtube.com/watch?v=nRfZM1def1k&t=10m7shttps://www.youtube.com/watch?v=oKHmYqwFt_Y&t=31m24shttps://www.youtube.com/watch?v=vlYIEczYACQ&t=41m36shttps://www.youtube.com/watch?v=vlYIEczYACQ&t=41m30shttps://www.youtube.com/watch?v=KG55c9XWRQo&t=49m57shttps://www.youtube.com/watch?v=O8F5jyfYH8k&t=31m6shttps://www.youtube.com/watch?v=ahEnvgLvRI4&t=8m9shttps://www.youtube.com/watch?v=K3Lk4AfGlrg&t=78m10shttps://www.youtube.com/watch?v=-XPEvIMe05A&t=3m22shttps://www.youtube.com/watch?v=lfczmnqGUL0&t=14m30shttps://www.youtube.com/watch?v=aq_bH0nwV6E&t=1m11shttps://www.youtube.com/watch?v=K3Lk4AfGlrg&t=40m33shttps://www.youtube.com/watch?v=K3Lk4AfGlrg&t=40m23shttps://www.youtube.com/watch?v=IKTBGSIwA_o&t=40m53shttps://www.youtube.com/watch?v=OVRp7_wN3Ys&t=11m47shttps://www.youtube.com/watch?v=O8F5jyfYH8k&t=26m59shttps://www.youtube.com/watch?v=K3Lk4AfGlrg&t=5m55shttps://www.youtube.com/watch?v=qnBwuxFDxlU&t=67m24shttps://www.youtube.com/watch?v=IKTBGSIwA_o&t=7m27shttps://www.youtube.com/watch?v=IKTBGSIwA_o&t=7m53shttps://www.youtube.com/watch?v=a0i1YqwsnMs&t=4m58shttps://www.youtube.com/watch?v=ahEnvgLvRI4&t=40m18shttps://www.youtube.com/watch?v=ahEnvgLvRI4&t=4m2shttps://www.youtube.com/watch?v=3d6tdmTyfhQ&t=4m52shttps://www.youtube.com/watch?v=3d6tdmTyfhQ&t=0m32shttps://www.youtube.com/watch?v=vlYIEczYACQ&t=0m10shttps://www.youtube.com/watch?v=72NU-RN8uL0&t=36m52shttps://www.youtube.com/watch?v=IKTBGSIwA_o&t=1m53shttps://www.youtube.com/watch?v=IKTBGSIwA_o&t=1m37shttps://www.youtube.com/watch?v=O8F5jyfYH8k&t=46m47shttps://www.youtube.com/watch?v=KG55c9XWRQo&t=58m59shttps://www.youtube.com/watch?v=O8F5jyfYH8k&t=18m55shttps://www.youtube.com/watch?v=2fw2DEqZZQk&t=17m29shttps://www.youtube.com/watch?v=9kSklOMINnw&t=7m16shttps://www.youtube.com/watch?v=E5rB_-N-7l8&t=29m2shttps://www.youtube.com/watch?v=E5rB_-N-7l8&t=29m10shttps://www.youtube.com/watch?v=l8JmUVldKKA&t=6m35shttps://www.youtube.com/watch?v=l8JmUVldKKA&t=6m27shttps://www.youtube.com/watch?v=a0i1YqwsnMs&t=40m51shttps://www.youtube.com/watch?v=a0i1YqwsnMs&t=41m2shttps://www.youtube.com/watch?v=bxZepPt-WP8&t=5m51shttps://www.youtube.com/watch?v=bxZepPt-WP8&t=5m47shttps://www.youtube.com/watch?v=bxZepPt-WP8&t=56m59shttps://www.youtube.com/watch?v=bxZepPt-WP8&t=56m53shttps://www.youtube.com/watch?v=nRfZM1def1k&t=2m51shttps://www.youtube.com/watch?v=IajLUUqbP3k&t=19m22shttps://www.youtube.com/watch?v=To82TdG7PKI&t=60m11shttps://www.youtube.com/watch?v=cwZs81GtONo&t=37m32shttps://www.youtube.com/watch?v=cwZs81GtONo&t=37m37shttps://www.youtube.com/watch?v=cwZs81GtONo&t=37m45shttps://www.youtube.com/watch?v=cwZs81GtONo&t=3m49shttps://www.youtube.com/watch?v=cwZs81GtONo&t=38m11shttps://www.youtube.com/watch?v=2fw2DEqZZQk&t=43m2shttps://www.youtube.com/watch?v=E9a-WImIqRI&t=5m19shttps://www.youtube.com/watch?v=E9a-WImIqRI&t=52m36shttps://www.youtube.com/watch?v=IKTBGSIwA_o&t=2m59shttps://www.youtube.com/watch?v=IKTBGSIwA_o&t=35m14shttps://www.youtube.com/watch?v=IKTBGSIwA_o&t=34m47shttps://www.youtube.com/watch?v=IKTBGSIwA_o&t=34m36shttps://www.youtube.com/watch?v=3d6tdmTyfhQ&t=54m28shttps://www.youtube.com/watch?v=K3Lk4AfGlrg&t=0m16shttps://www.youtube.com/watch?v=K3Lk4AfGlrg&t=0m28shttps://www.youtube.com/watch?v=E5rB_-N-7l8&t=65m27shttps://www.youtube.com/watch?v=a0i1YqwsnMs&t=15m7shttps://www.youtube.com/watch?v=9kSklOMINnw&t=4m46shttps://www.youtube.com/watch?v=9kSklOMINnw&t=47m18shttps://www.youtube.com/watch?v=72NU-RN8uL0&t=0m12shttps://www.youtube.com/watch?v=72NU-RN8uL0&t=0m12shttps://www.youtube.com/watch?v=KG55c9XWRQo&t=34m52shttps://www.youtube.com/watch?v=2fw2DEqZZQk&t=6m23shttps://www.youtube.com/watch?v=2fw2DEqZZQk&t=6m39shttps://www.youtube.com/watch?v=2fw2DEqZZQk&t=6m46shttps://www.youtube.com/watch?v=UwjhbBD2IA4&t=33m23shttps://www.youtube.com/watch?v=a0i1YqwsnMs&t=31m42shttps://www.youtube.com/watch?v=a0i1YqwsnMs&t=31m54shttps://www.youtube.com/watch?v=72NU-RN8uL0&t=30m9shttps://www.youtube.com/watch?v=BM6Z6pY7Uu0&t=26m37shttps://www.youtube.com/watch?v=E5rB_-N-7l8&t=37m12shttps://www.youtube.com/watch?v=E5rB_-N-7l8&t=37m24shttps://www.youtube.com/watch?v=d1MDyJ1QJek&t=16m19shttps://www.youtube.com/watch?v=a0i1YqwsnMs&t=0m8shttps://www.youtube.com/watch?v=ahEnvgLvRI4&t=35m19shttps://www.youtube.com/watch?v=ahEnvgLvRI4&t=35m34shttps://www.youtube.com/watch?v=l8JmUVldKKA&t=8m34shttps://www.youtube.com/watch?v=-XPEvIMe05A&t=2m10shttps://www.youtube.com/watch?v=IKTBGSIwA_o&t=60m9shttps://www.youtube.com/watch?v=oKHmYqwFt_Y&t=0m32shttps://www.youtube.com/watch?v=oKHmYqwFt_Y&t=5m13shttps://www.youtube.com/watch?v=oKHmYqwFt_Y&t=5m29shttps://www.youtube.com/watch?v=aq_bH0nwV6E&t=15m12shttps://www.youtube.com/watch?v=72NU-RN8uL0&t=21m15shttps://www.youtube.com/watch?v=cwZs81GtONo&t=35m53shttps://www.youtube.com/watch?v=cwZs81GtONo&t=36m5shttps://www.youtube.com/watch?v=UwjhbBD2IA4&t=18m47shttps://www.youtube.com/watch?v=cwZs81GtONo&t=60m32shttps://www.youtube.com/watch?v=cwZs81GtONo&t=60m20shttps://www.youtube.com/watch?v=nRfZM1def1k&t=45m2shttps://www.youtube.com/watch?v=qnBwuxFDxlU&t=16m9shttps://www.youtube.com/watch?v=qnBwuxFDxlU&t=16m27shttps://www.youtube.com/watch?v=OVRp7_wN3Ys&t=2m32shttps://www.youtube.com/watch?v=OVRp7_wN3Ys&t=2m22shttps://www.youtube.com/watch?v=3d6tdmTyfhQ&t=27m46shttps://www.youtube.com/watch?v=qnBwuxFDxlU&t=0m18shttps://www.youtube.com/watch?v=UwjhbBD2IA4&t=44m17shttps://www.youtube.com/watch?v=E9a-WImIqRI&t=40m36shttps://www.youtube.com/watch?v=E9a-WImIqRI&t=40m48shttps://www.youtube.com/watch?v=E9a-WImIqRI&t=41m2shttps://www.youtube.com/watch?v=E9a-WImIqRI&t=41m5shttps://www.youtube.com/watch?v=OVRp7_wN3Ys&t=6m35shttps://www.youtube.com/watch?v=OVRp7_wN3Ys&t=6m33shttps://www.youtube.com/watch?v=OVRp7_wN3Ys&t=6m17shttps://www.youtube.com/watch?v=d1MDyJ1QJek&t=49m50shttps://www.youtube.com/watch?v=Xpt3t_HfMXs&t=8m51shttps://www.youtube.com/watch?v=qnBwuxFDxlU&t=3m3shttps://www.youtube.com/watch?v=72NU-RN8uL0&t=39m43shttps://www.youtube.com/watch?v=72NU-RN8uL0&t=39m31shttps://www.youtube.com/watch?v=a0i1YqwsnMs&t=4m18shttps://www.youtube.com/watch?v=d1MDyJ1QJek&t=41m7shttps://www.youtube.com/watch?v=d1MDyJ1QJek&t=40m51shttps://www.youtube.com/watch?v=2fw2DEqZZQk&t=65m0shttps://www.youtube.com/watch?v=2fw2DEqZZQk&t=64m56shttps://www.youtube.com/watch?v=l2xxAqkMHg8&t=45m35shttps://www.youtube.com/watch?v=l2xxAqkMHg8&t=45m27shttps://www.youtube.com/watch?v=To82TdG7PKI&t=19m48shttps://www.youtube.com/watch?v=To82TdG7PKI&t=1m55shttps://www.youtube.com/watch?v=aq_bH0nwV6E&t=2m13shttps://www.youtube.com/watch?v=d1MDyJ1QJek&t=31m7shttps://www.youtube.com/watch?v=d1MDyJ1QJek&t=31m12shttps://www.youtube.com/watch?v=oKHmYqwFt_Y&t=1m18shttps://www.youtube.com/watch?v=lfczmnqGUL0&t=46m35shttps://www.youtube.com/watch?v=IKTBGSIwA_o&t=50m47shttps://www.youtube.com/watch?v=BM6Z6pY7Uu0&t=16m25shttps://www.youtube.com/watch?v=BM6Z6pY7Uu0&t=16m43shttps://www.youtube.com/watch?v=qnBwuxFDxlU&t=0m16shttps://www.youtube.com/watch?v=IKTBGSIwA_o&t=22m14shttps://www.youtube.com/watch?v=O8F5jyfYH8k&t=1m59shttps://www.youtube.com/watch?v=-XPEvIMe05A&t=42m51shttps://www.youtube.com/watch?v=-XPEvIMe05A&t=42m22shttps://www.youtube.com/watch?v=vlYIEczYACQ&t=5m17shttps://www.youtube.com/watch?v=vlYIEczYACQ&t=52m58shttps://www.youtube.com/watch?v=-XPEvIMe05A&t=38m57shttps://www.youtube.com/watch?v=-XPEvIMe05A&t=39m1shttps://www.youtube.com/watch?v=BM6Z6pY7Uu0&t=49m20shttps://www.youtube.com/watch?v=9kSklOMINnw&t=5m15shttps://www.youtube.com/watch?v=OVRp7_wN3Ys&t=18m36shttps://www.youtube.com/watch?v=oKHmYqwFt_Y&t=45m27shttps://www.youtube.com/watch?v=oKHmYqwFt_Y&t=45m18shttps://www.youtube.com/watch?v=oKHmYqwFt_Y&t=27m36shttps://www.youtube.com/watch?v=3d6tdmTyfhQ&t=57m27shttps://www.youtube.com/watch?v=9kSklOMINnw&t=0m41shttps://www.youtube.com/watch?v=K3Lk4AfGlrg&t=51m13shttps://www.youtube.com/watch?v=l2xxAqkMHg8&t=38m49shttps://www.youtube.com/watch?v=qnBwuxFDxlU&t=57m19shttps://www.youtube.com/watch?v=l8JmUVldKKA&t=59m16shttps://www.youtube.com/watch?v=E5rB_-N-7l8&t=43m4shttps://www.youtube.com/watch?v=Xpt3t_HfMXs&t=21m49shttps://www.youtube.com/watch?v=Xpt3t_HfMXs&t=22m18shttps://www.youtube.com/watch?v=aq_bH0nwV6E&t=17m57shttps://www.youtube.com/watch?v=BM6Z6pY7Uu0&t=18m46shttps://www.youtube.com/watch?v=BM6Z6pY7Uu0&t=19m2shttps://www.youtube.com/watch?v=3d6tdmTyfhQ&t=41m18shttps://www.youtube.com/watch?v=3d6tdmTyfhQ&t=41m24shttps://www.youtube.com/watch?v=cwZs81GtONo&t=17m22shttps://www.youtube.com/watch?v=lfczmnqGUL0&t=39m6shttps://www.youtube.com/watch?v=7QV5zFfqpx0&t=8m13shttps://www.youtube.com/watch?v=To82TdG7PKI&t=28m50shttps://www.youtube.com/watch?v=O8F5jyfYH8k&t=39m39shttps://www.youtube.com/watch?v=2fw2DEqZZQk&t=60m52shttps://www.youtube.com/watch?v=KG55c9XWRQo&t=21m34shttps://www.youtube.com/watch?v=cwZs81GtONo&t=49m57shttps://www.youtube.com/watch?v=l2xxAqkMHg8&t=35m37shttps://www.youtube.com/watch?v=E9a-WImIqRI&t=41m31shttps://www.youtube.com/watch?v=E9a-WImIqRI&t=41m48shttps://www.youtube.com/watch?v=vlYIEczYACQ&t=13m45shttps://www.youtube.com/watch?v=vlYIEczYACQ&t=13m37shttps://www.youtube.com/watch?v=72NU-RN8uL0&t=5m35shttps://www.youtube.com/watch?v=72NU-RN8uL0&t=5m58shttps://www.youtube.com/watch?v=72NU-RN8uL0&t=6m5shttps://www.youtube.com/watch?v=Xpt3t_HfMXs&t=36m37shttps://www.youtube.com/watch?v=d1MDyJ1QJek&t=3m29shttps://www.youtube.com/watch?v=7QV5zFfqpx0&t=52m47shttps://www.youtube.com/watch?v=aq_bH0nwV6E&t=63m38shttps://www.youtube.com/watch?v=qnBwuxFDxlU&t=43m51shttps://www.youtube.com/watch?v=O8F5jyfYH8k&t=12m48shttps://www.youtube.com/watch?v=ahEnvgLvRI4&t=51m11shttps://www.youtube.com/watch?v=2fw2DEqZZQk&t=5m7shttps://www.youtube.com/watch?v=aq_bH0nwV6E&t=55m22shttps://www.youtube.com/watch?v=O8F5jyfYH8k&t=26m45shttps://www.youtube.com/watch?v=O8F5jyfYH8k&t=56m11shttps://www.youtube.com/watch?v=UwjhbBD2IA4&t=9m45shttps://www.youtube.com/watch?v=d1MDyJ1QJek&t=41m59shttps://www.youtube.com/watch?v=d1MDyJ1QJek&t=41m48shttps://www.youtube.com/watch?v=a0i1YqwsnMs&t=7m22shttps://www.youtube.com/watch?v=72NU-RN8uL0&t=41m15shttps://www.youtube.com/watch?v=72NU-RN8uL0&t=41m5shttps://www.youtube.com/watch?v=2fw2DEqZZQk&t=16m13shttps://www.youtube.com/watch?v=To82TdG7PKI&t=17m11shttps://www.youtube.com/watch?v=UwjhbBD2IA4&t=32m35shttps://www.youtube.com/watch?v=bxZepPt-WP8&t=32m54shttps://www.youtube.com/watch?v=hcyLoktqdyQ&t=58m16shttps://www.youtube.com/watch?v=hcyLoktqdyQ&t=57m46shttps://www.youtube.com/watch?v=oKHmYqwFt_Y&t=15m25shttps://www.youtube.com/watch?v=K3Lk4AfGlrg&t=5m24shttps://www.youtube.com/watch?v=7QV5zFfqpx0&t=5m24shttps://www.youtube.com/watch?v=7QV5zFfqpx0&t=5m36shttps://www.youtube.com/watch?v=Xpt3t_HfMXs&t=40m0shttps://www.youtube.com/watch?v=Xpt3t_HfMXs&t=40m27shttps://www.youtube.com/watch?v=aq_bH0nwV6E&t=32m26shttps://www.youtube.com/watch?v=oKHmYqwFt_Y&t=8m37shttps://www.youtube.com/watch?v=UwjhbBD2IA4&t=18m1shttps://www.youtube.com/watch?v=UwjhbBD2IA4&t=18m10shttps://www.youtube.com/watch?v=qnBwuxFDxlU&t=21m10shttps://www.youtube.com/watch?v=qnBwuxFDxlU&t=21m21shttps://www.youtube.com/watch?v=aq_bH0nwV6E&t=11m36shttps://www.youtube.com/watch?v=UwjhbBD2IA4&t=25m42shttps://www.youtube.com/watch?v=nRfZM1def1k&t=36m30shttps://www.youtube.com/watch?v=nRfZM1def1k&t=36m26shttps://www.youtube.com/watch?v=vlYIEczYACQ&t=58m47shttps://www.youtube.com/watch?v=7QV5zFfqpx0&t=28m6shttps://www.youtube.com/watch?v=nRfZM1def1k&t=13m0shttps://www.youtube.com/watch?v=nRfZM1def1k&t=12m52shttps://www.youtube.com/watch?v=2fw2DEqZZQk&t=50m31shttps://www.youtube.com/watch?v=2fw2DEqZZQk&t=50m44shttps://www.youtube.com/watch?v=To82TdG7PKI&t=14m21shttps://www.youtube.com/watch?v=qnBwuxFDxlU&t=61m34shttps://www.youtube.com/watch?v=aq_bH0nwV6E&t=0m36shttps://www.youtube.com/watch?v=UwjhbBD2IA4&t=15m55shttps://www.youtube.com/watch?v=UwjhbBD2IA4&t=15m44shttps://www.youtube.com/watch?v=l2xxAqkMHg8&t=51m45shttps://www.youtube.com/watch?v=l2xxAqkMHg8&t=51m33shttps://www.youtube.com/watch?v=E9a-WImIqRI&t=36m34shttps://www.youtube.com/watch?v=E9a-WImIqRI&t=36m13shttps://www.youtube.com/watch?v=OVRp7_wN3Ys&t=47m24shttps://www.youtube.com/watch?v=E9a-WImIqRI&t=17m11shttps://www.youtube.com/watch?v=E9a-WImIqRI&t=11m15shttps://www.youtube.com/watch?v=hcyLoktqdyQ&t=32m31shttps://www.youtube.com/watch?v=KG55c9XWRQo&t=70m39shttps://www.youtube.com/watch?v=2fw2DEqZZQk&t=23m17shttps://www.youtube.com/watch?v=hcyLoktqdyQ&t=30m27shttps://www.youtube.com/watch?v=hcyLoktqdyQ&t=30m7shttps://www.youtube.com/watch?v=nRfZM1def1k&t=4m54shttps://www.youtube.com/watch?v=nRfZM1def1k&t=49m2shttps://www.youtube.com/watch?v=qnBwuxFDxlU&t=49m52shttps://www.youtube.com/watch?v=nRfZM1def1k&t=6m16shttps://www.youtube.com/watch?v=nRfZM1def1k&t=0m41shttps://www.youtube.com/watch?v=nRfZM1def1k&t=6m30shttps://www.youtube.com/watch?v=nRfZM1def1k&t=13m27shttps://www.youtube.com/watch?v=2fw2DEqZZQk&t=45m56shttps://www.youtube.com/watch?v=3d6tdmTyfhQ&t=6m42shttps://www.youtube.com/watch?v=3d6tdmTyfhQ&t=0m40shttps://www.youtube.com/watch?v=Xpt3t_HfMXs&t=3m7shttps://www.youtube.com/watch?v=d1MDyJ1QJek&t=44m3shttps://www.youtube.com/watch?v=O8F5jyfYH8k&t=2m28shttps://www.youtube.com/watch?v=a0i1YqwsnMs&t=48m2shttps://www.youtube.com/watch?v=aq_bH0nwV6E&t=3m54shttps://www.youtube.com/watch?v=aq_bH0nwV6E&t=3m47shttps://www.youtube.com/watch?v=hcyLoktqdyQ&t=23m42shttps://www.youtube.com/watch?v=E5rB_-N-7l8&t=56m36shttps://www.youtube.com/watch?v=BM6Z6pY7Uu0&t=41m19shttps://www.youtube.com/watch?v=BM6Z6pY7Uu0&t=41m9shttps://www.youtube.com/watch?v=K3Lk4AfGlrg&t=20m44shttps://www.youtube.com/watch?v=OVRp7_wN3Ys&t=22m0shttps://www.youtube.com/watch?v=lfczmnqGUL0&t=10m49shttps://www.youtube.com/watch?v=lfczmnqGUL0&t=10m56shttps://www.youtube.com/watch?v=IKTBGSIwA_o&t=14m2shttps://www.youtube.com/watch?v=IKTBGSIwA_o&t=14m14shttps://www.youtube.com/watch?v=K3Lk4AfGlrg&t=21m31shttps://www.youtube.com/watch?v=UwjhbBD2IA4&t=70m43shttps://www.youtube.com/watch?v=UwjhbBD2IA4&t=70m40shttps://www.youtube.com/watch?v=rBQ4-zr22Nc&t=64m59shttps://www.youtube.com/watch?v=vlYIEczYACQ&t=42m12shttps://www.youtube.com/watch?v=vlYIEczYACQ&t=4m17shttps://www.youtube.com/watch?v=Xpt3t_HfMXs&t=39m17shttps://www.youtube.com/watch?v=Xpt3t_HfMXs&t=39m6shttps://www.youtube.com/watch?v=E5rB_-N-7l8&t=0m7shttps://www.youtube.com/watch?v=E5rB_-N-7l8&t=11m57shttps://www.youtube.com/watch?v=ahEnvgLvRI4&t=10m53shttps://www.youtube.com/watch?v=K3Lk4AfGlrg&t=4m38shttps://www.youtube.com/watch?v=d1MDyJ1QJek&t=22m28shttps://www.youtube.com/watch?v=lfczmnqGUL0&t=59m26shttps://www.youtube.com/watch?v=vlYIEczYACQ&t=4m34shttps://www.youtube.com/watch?v=IajLUUqbP3k&t=48m7shttps://www.youtube.com/watch?v=-XPEvIMe05A&t=13m3shttps://www.youtube.com/watch?v=E5rB_-N-7l8&t=7m52shttps://www.youtube.com/watch?v=Xpt3t_HfMXs&t=38m10shttps://www.youtube.com/watch?v=Xpt3t_HfMXs&t=38m3shttps://www.youtube.com/watch?v=Xpt3t_HfMXs&t=3m48shttps://www.youtube.com/watch?v=K3Lk4AfGlrg&t=56m33shttps://www.youtube.com/watch?v=E5rB_-N-7l8&t=73m31shttps://www.youtube.com/watch?v=KG55c9XWRQo&t=33m0shttps://www.youtube.com/watch?v=O8F5jyfYH8k&t=65m12shttps://www.youtube.com/watch?v=O8F5jyfYH8k&t=64m59shttps://www.youtube.com/watch?v=O8F5jyfYH8k&t=12m25shttps://www.youtube.com/watch?v=7QV5zFfqpx0&t=51m4shttps://www.youtube.com/watch?v=K3Lk4AfGlrg&t=79m0shttps://www.youtube.com/watch?v=O8F5jyfYH8k&t=32m44shttps://www.youtube.com/watch?v=UwjhbBD2IA4&t=74m41shttps://www.youtube.com/watch?v=ahEnvgLvRI4&t=23m20shttps://www.youtube.com/watch?v=qnBwuxFDxlU&t=68m7shttps://www.youtube.com/watch?v=a0i1YqwsnMs&t=17m40shttps://www.youtube.com/watch?v=72NU-RN8uL0&t=1m4shttps://www.youtube.com/watch?v=72NU-RN8uL0&t=67m45shttps://www.youtube.com/watch?v=lfczmnqGUL0&t=28m9shttps://www.youtube.com/watch?v=lfczmnqGUL0&t=27m52shttps://www.youtube.com/watch?v=-XPEvIMe05A&t=8m44shttps://www.youtube.com/watch?v=KG55c9XWRQo&t=4m17shttps://www.youtube.com/watch?v=rBQ4-zr22Nc&t=29m27shttps://www.youtube.com/watch?v=vlYIEczYACQ&t=0m28shttps://www.youtube.com/watch?v=vlYIEczYACQ&t=4m53shttps://www.youtube.com/watch?v=Xpt3t_HfMXs&t=31m24shttps://www.youtube.com/watch?v=l2xxAqkMHg8&t=13m5shttps://www.youtube.com/watch?v=l2xxAqkMHg8&t=13m17shttps://www.youtube.com/watch?v=nRfZM1def1k&t=16m41shttps://www.youtube.com/watch?v=2fw2DEqZZQk&t=40m36shttps://www.youtube.com/watch?v=2fw2DEqZZQk&t=40m25shttps://www.youtube.com/watch?v=O8F5jyfYH8k&t=43m28shttps://www.youtube.com/watch?v=2fw2DEqZZQk&t=2m7shttps://www.youtube.com/watch?v=72NU-RN8uL0&t=14m6shttps://www.youtube.com/watch?v=ahEnvgLvRI4&t=37m34shttps://www.youtube.com/watch?v=ahEnvgLvRI4&t=37m23shttps://www.youtube.com/watch?v=bxZepPt-WP8&t=34m18shttps://www.youtube.com/watch?v=bxZepPt-WP8&t=34m38shttps://www.youtube.com/watch?v=BM6Z6pY7Uu0&t=23m49shttps://www.youtube.com/watch?v=E9a-WImIqRI&t=55m33shttps://www.youtube.com/watch?v=bxZepPt-WP8&t=51m23shttps://www.youtube.com/watch?v=aq_bH0nwV6E&t=3m6shttps://www.youtube.com/watch?v=3d6tdmTyfhQ&t=64m11shttps://www.youtube.com/watch?v=72NU-RN8uL0&t=5m44shttps://www.youtube.com/watch?v=l8JmUVldKKA&t=43m0shttps://www.youtube.com/watch?v=l8JmUVldKKA&t=42m45shttps://www.youtube.com/watch?v=qnBwuxFDxlU&t=58m36shttps://www.youtube.com/watch?v=-XPEvIMe05A&t=0m23shttps://www.youtube.com/watch?v=l8JmUVldKKA&t=7m40shttps://www.youtube.com/watch?v=E5rB_-N-7l8&t=51m53shttps://www.youtube.com/watch?v=ahEnvgLvRI4&t=58m8shttps://www.youtube.com/watch?v=ahEnvgLvRI4&t=58m12shttps://www.youtube.com/watch?v=bxZepPt-WP8&t=12m18shttps://www.youtube.com/watch?v=bxZepPt-WP8&t=25m27shttps://www.youtube.com/watch?v=Xpt3t_HfMXs&t=68m19shttps://www.youtube.com/watch?v=Xpt3t_HfMXs&t=0m40shttps://www.youtube.com/watch?v=Xpt3t_HfMXs&t=6m50shttps://www.youtube.com/watch?v=aq_bH0nwV6E&t=60m24shttps://www.youtube.com/watch?v=OVRp7_wN3Ys&t=31m18shttps://www.youtube.com/watch?v=l8JmUVldKKA&t=0m10shttps://www.youtube.com/watch?v=l8JmUVldKKA&t=0m22shttps://www.youtube.com/watch?v=-XPEvIMe05A&t=2m0shttps://www.youtube.com/watch?v=-XPEvIMe05A&t=3m9shttps://www.youtube.com/watch?v=7QV5zFfqpx0&t=64m58shttps://www.youtube.com/watch?v=l2xxAqkMHg8&t=18m1shttps://www.youtube.com/watch?v=OVRp7_wN3Ys&t=0m38shttps://www.youtube.com/watch?v=E5rB_-N-7l8&t=1m59shttps://www.youtube.com/watch?v=KG55c9XWRQo&t=4m31shttps://www.youtube.com/watch?v=qnBwuxFDxlU&t=25m59shttps://www.youtube.com/watch?v=qnBwuxFDxlU&t=25m40shttps://www.youtube.com/watch?v=qnBwuxFDxlU&t=2m38shttps://www.youtube.com/watch?v=IKTBGSIwA_o&t=1m34shttps://www.youtube.com/watch?v=hcyLoktqdyQ&t=43m17shttps://www.youtube.com/watch?v=hcyLoktqdyQ&t=0m25shttps://www.youtube.com/watch?v=3d6tdmTyfhQ&t=48m13shttps://www.youtube.com/watch?v=3d6tdmTyfhQ&t=48m27shttps://www.youtube.com/watch?v=E5rB_-N-7l8&t=0m9shttps://www.youtube.com/watch?v=E9a-WImIqRI&t=29m45shttps://www.youtube.com/watch?v=O8F5jyfYH8k&t=7m55shttps://www.youtube.com/watch?v=ahEnvgLvRI4&t=3m2shttps://www.youtube.com/watch?v=ahEnvgLvRI4&t=2m48shttps://www.youtube.com/watch?v=vlYIEczYACQ&t=4m1shttps://www.youtube.com/watch?v=vlYIEczYACQ&t=39m20shttps://www.youtube.com/watch?v=3d6tdmTyfhQ&t=36m28shttps://www.youtube.com/watch?v=KG55c9XWRQo&t=9m22shttps://www.youtube.com/watch?v=KG55c9XWRQo&t=9m35shttps://www.youtube.com/watch?v=To82TdG7PKI&t=9m39shttps://www.youtube.com/watch?v=To82TdG7PKI&t=9m50shttps://www.youtube.com/watch?v=d1MDyJ1QJek&t=28m4shttps://www.youtube.com/watch?v=d1MDyJ1QJek&t=27m56shttps://www.youtube.com/watch?v=cwZs81GtONo&t=2m0shttps://www.youtube.com/watch?v=O8F5jyfYH8k&t=65m57shttps://www.youtube.com/watch?v=IKTBGSIwA_o&t=47m21shttps://www.youtube.com/watch?v=IKTBGSIwA_o&t=46m45shttps://www.youtube.com/watch?v=K3Lk4AfGlrg&t=1m17shttps://www.youtube.com/watch?v=lfczmnqGUL0&t=23m58shttps://www.youtube.com/watch?v=E5rB_-N-7l8&t=53m13shttps://www.youtube.com/watch?v=72NU-RN8uL0&t=38m22shttps://www.youtube.com/watch?v=72NU-RN8uL0&t=3m51shttps://www.youtube.com/watch?v=BM6Z6pY7Uu0&t=64m58shttps://www.youtube.com/watch?v=BM6Z6pY7Uu0&t=64m55shttps://www.youtube.com/watch?v=OVRp7_wN3Ys&t=29m16shttps://www.youtube.com/watch?v=OVRp7_wN3Ys&t=29m14shttps://www.youtube.com/watch?v=OVRp7_wN3Ys&t=29m23shttps://www.youtube.com/watch?v=cwZs81GtONo&t=2m8shttps://www.youtube.com/watch?v=cwZs81GtONo&t=2m41shttps://www.youtube.com/watch?v=vlYIEczYACQ&t=16m51shttps://www.youtube.com/watch?v=-XPEvIMe05A&t=2m12shttps://www.youtube.com/watch?v=KG55c9XWRQo&t=0m16shttps://www.youtube.com/watch?v=cwZs81GtONo&t=14m19shttps://www.youtube.com/watch?v=cwZs81GtONo&t=1m23shttps://www.youtube.com/watch?v=Xpt3t_HfMXs&t=4m16shttps://www.youtube.com/watch?v=Xpt3t_HfMXs&t=4m23shttps://www.youtube.com/watch?v=Xpt3t_HfMXs&t=4m33shttps://www.youtube.com/watch?v=Xpt3t_HfMXs&t=4m39shttps://www.youtube.com/watch?v=l2xxAqkMHg8&t=17m21shttps://www.youtube.com/watch?v=aq_bH0nwV6E&t=86m55shttps://www.youtube.com/watch?v=d1MDyJ1QJek&t=2m39shttps://www.youtube.com/watch?v=d1MDyJ1QJek&t=0m16shttps://www.youtube.com/watch?v=nRfZM1def1k&t=23m53shttps://www.youtube.com/watch?v=nRfZM1def1k&t=24m15shttps://www.youtube.com/watch?v=hcyLoktqdyQ&t=3m5shttps://www.youtube.com/watch?v=9kSklOMINnw&t=8m8shttps://www.youtube.com/watch?v=E5rB_-N-7l8&t=2m52shttps://www.youtube.com/watch?v=aq_bH0nwV6E&t=82m0shttps://www.youtube.com/watch?v=aq_bH0nwV6E&t=82m25shttps://www.youtube.com/watch?v=bxZepPt-WP8&t=21m2shttps://www.youtube.com/watch?v=bxZepPt-WP8&t=20m58shttps://www.youtube.com/watch?v=ahEnvgLvRI4&t=24m30shttps://www.youtube.com/watch?v=a0i1YqwsnMs&t=59m34shttps://www.youtube.com/watch?v=a0i1YqwsnMs&t=59m11shttps://www.youtube.com/watch?v=9kSklOMINnw&t=11m38shttps://www.youtube.com/watch?v=l8JmUVldKKA&t=0m17shttps://www.youtube.com/watch?v=2fw2DEqZZQk&t=44m27shttps://www.youtube.com/watch?v=d1MDyJ1QJek&t=39m34shttps://www.youtube.com/watch?v=d1MDyJ1QJek&t=39m59shttps://www.youtube.com/watch?v=oKHmYqwFt_Y&t=20m43shttps://www.youtube.com/watch?v=K3Lk4AfGlrg&t=20m2shttps://www.youtube.com/watch?v=K3Lk4AfGlrg&t=2m2shttps://www.youtube.com/watch?v=OVRp7_wN3Ys&t=59m7shttps://www.youtube.com/watch?v=aq_bH0nwV6E&t=9m34shttps://www.youtube.com/watch?v=aq_bH0nwV6E&t=9m26shttps://www.youtube.com/watch?v=vlYIEczYACQ&t=36m13shttps://www.youtube.com/watch?v=vlYIEczYACQ&t=36m24shttps://www.youtube.com/watch?v=To82TdG7PKI&t=44m56shttps://www.youtube.com/watch?v=To82TdG7PKI&t=44m35shttps://www.youtube.com/watch?v=2fw2DEqZZQk&t=36m14shttps://www.youtube.com/watch?v=UwjhbBD2IA4&t=38m51shttps://www.youtube.com/watch?v=UwjhbBD2IA4&t=3m51shttps://www.youtube.com/watch?v=IajLUUqbP3k&t=0m37shttps://www.youtube.com/watch?v=IajLUUqbP3k&t=0m37shttps://www.youtube.com/watch?v=2fw2DEqZZQk&t=3m0shttps://www.youtube.com/watch?v=2fw2DEqZZQk&t=29m39shttps://www.youtube.com/watch?v=7QV5zFfqpx0&t=4m19shttps://www.youtube.com/watch?v=7QV5zFfqpx0&t=43m26shttps://www.youtube.com/watch?v=IKTBGSIwA_o&t=26m12shttps://www.youtube.com/watch?v=IKTBGSIwA_o&t=26m3shttps://www.youtube.com/watch?v=72NU-RN8uL0&t=77m24shttps://www.youtube.com/watch?v=72NU-RN8uL0&t=77m41shttps://www.youtube.com/watch?v=2fw2DEqZZQk&t=0m43shttps://www.youtube.com/watch?v=2fw2DEqZZQk&t=7m17shttps://www.youtube.com/watch?v=7QV5zFfqpx0&t=1m30shttps://www.youtube.com/watch?v=-XPEvIMe05A&t=27m1shttps://www.youtube.com/watch?v=-XPEvIMe05A&t=2m41shttps://www.youtube.com/watch?v=O8F5jyfYH8k&t=5m2shttps://www.youtube.com/watch?v=O8F5jyfYH8k&t=5m18shttps://www.youtube.com/watch?v=O8F5jyfYH8k&t=8m32shttps://www.youtube.com/watch?v=lfczmnqGUL0&t=22m20shttps://www.youtube.com/watch?v=2fw2DEqZZQk&t=5m51s'"
      ]
     },
     "execution_count": 84,
     "metadata": {},
     "output_type": "execute_result"
    }
   ],
   "source": [
    "test_links"
   ]
  },
  {
   "cell_type": "code",
   "execution_count": 85,
   "metadata": {
    "collapsed": true
   },
   "outputs": [
    {
     "data": {
      "text/plain": [
       "'285,103.png/223,45.png/239,99.png/148,69.png/284,79.png/224,130.png/214,163.png/207,99.png/641,126.png/634,209.png/327,103.png/360,79.png/350,105.png/309,135.png/95,112.png/356,150.png/125,38.png/186,56.png/124,135.png/147,46.png/318,64.png/272,73.png/286,94.png/256,84.png/182,50.png/343,60.png/353,73.png/287,92.png/205,150.png/134,99.png/171,46.png/346,15.png/226,53.png/182,61.png/211,97.png/294,99.png/282,113.png/193,79.png/378,71.png/224,73.png/343,94.png/224,94.png/254,92.png/218,58.png/532,199.png/363,111.png/191,126.png/260,103.png/233,98.png/349,196.png/156,72.png/123,116.png/275,118.png/188,40.png/414,209.png/362,147.png/284,114.png/165,110.png/124,47.png/238,101.png/283,81.png/126,118.png/249,46.png/198,45.png/86,64.png/312,92.png/235,81.png/103,71.png/316,131.png/329,73.png/354,88.png/263,101.png/168,44.png/235,55.png/218,78.png/333,87.png/145,140.png/278,92.png/67,149.png/262,78.png/229,45.png/66,99.png/215,85.png/82,73.png/365,139.png/122,116.png/260,72.png/75,135.png/265,80.png/148,127.png/258,60.png/352,127.png/363,130.png/329,168.png/401,142.png/209,79.png/134,144.png/252,84.png/264,114.png/265,97.png/84,53.png/233,56.png/223,82.png/108,105.png/188,84.png/183,86.png/328,68.png/221,78.png/180,86.png/270,56.png/256,98.png/283,129.png/82,157.png/270,92.png/234,40.png/187,94.png/271,114.png/214,139.png/282,87.png/146,101.png/331,49.png/254,45.png/152,86.png/113,128.png/197,141.png/160,84.png/332,87.png/215,84.png/206,102.png/384,97.png/118,90.png/128,142.png/186,140.png/235,105.png/249,94.png/278,45.png/270,74.png/184,137.png/113,65.png/286,51.png/266,95.png/182,62.png/318,56.png/222,36.png/185,15.png/188,36.png/275,159.png/229,100.png/383,122.png/82,75.png/199,111.png/344,142.png/358,135.png/200,87.png/294,75.png/373,84.png/269,183.png/152,96.png/326,55.png/648,174.png/305,75.png/271,95.png/711,199.png/989,201.png/626,320.png/356,113.png/240,176.png/184,89.png/271,105.png/234,75.png/193,61.png/337,96.png/222,68.png/158,110.png/156,101.png/252,137.png/203,25.png/303,87.png/316,79.png/624,160.png/969,230.png/330,144.png/369,127.png/205,135.png/299,68.png/260,63.png/186,127.png/122,92.png/111,53.png/317,21.png/234,118.png/176,125.png/202,116.png/179,73.png/214,116.png/169,146.png/267,120.png/330,159.png/213,83.png/238,43.png/248,109.png/129,94.png/236,70.png/86,85.png/282,109.png/93,51.png/184,53.png/147,49.png/323,133.png/348,153.png/270,51.png/369,127.png/256,129.png/238,90.png/529,286.png/171,62.png/323,81.png/348,128.png/96,89.png/341,64.png/229,114.png/316,127.png/387,112.png/221,114.png/384,88.png/115,99.png/277,97.png/145,85.png/218,66.png/242,74.png/364,104.png/235,138.png/294,87.png/295,117.png/183,80.png/343,125.png/188,66.png/252,77.png/240,143.png/211,85.png/151,131.png/350,119.png/171,111.png/211,75.png/313,134.png/247,106.png/145,127.png/315,78.png/281,116.png/114,86.png/265,52.png/294,54.png/128,48.png/298,49.png/147,124.png/184,81.png/179,152.png/228,81.png/232,116.png/288,160.png/326,140.png/267,101.png/147,71.png/161,67.png/188,159.png/300,59.png/197,77.png/282,90.png/312,79.png/351,113.png/246,101.png/188,71.png/158,143.png/244,101.png/273,63.png/280,85.png/250,77.png/265,58.png/189,68.png/214,105.png/341,120.png/298,67.png/164,98.png/391,81.png/181,94.png/333,101.png/297,101.png/251,92.png/338,84.png/147,104.png/313,99.png/197,34.png/92,147.png/365,49.png/267,62.png/261,86.png/245,113.png/243,66.png/256,109.png/323,129.png/292,64.png/262,103.png/216,120.png/294,104.png/387,105.png/375,120.png/151,90.png/184,111.png/332,109.png/347,73.png/114,42.png/130,122.png/252,96.png/316,163.png/54,118.png/218,68.png/81,68.png/350,122.png/238,80.png/258,84.png/262,69.png/128,79.png/150,77.png/341,90.png/286,99.png/245,66.png/219,112.png/181,96.png/375,60.png/243,116.png/280,90.png/295,155.png/301,155.png/109,92.png/280,88.png/228,84.png/204,45.png/365,148.png/344,138.png/224,138.png/241,90.png/300,97.png/297,140.png/285,41.png/169,49.png/152,53.png/225,82.png/224,144.png/220,103.png/191,84.png/207,125.png/158,29.png/147,67.png/290,129.png/287,104.png/312,62.png/171,100.png/305,131.png/337,133.png/326,99.png/332,53.png/105,74.png/365,77.png/263,98.png/85,106.png/200,40.png/77,84.png/263,81.png/237,79.png/196,105.png/310,39.png/312,89.png/252,111.png/295,92.png/355,143.png/273,88.png/239,54.png/199,61.png/162,62.png/195,42.png/171,99.png/323,94.png/242,85.png/359,99.png/126,129.png/254,101.png/287,105.png/316,39.png/232,130.png/219,116.png/233,123.png/778,261.png/506,221.png/160,132.png/332,127.png/580,208.png/230,96.png/233,117.png/367,86.png/186,68.png/366,122.png/399,135.png/212,74.png/267,65.png/360,131.png/115,85.png/327,81.png/256,52.png/286,90.png/153,120.png/226,102.png/204,73.png/209,119.png/336,88.png/257,81.png/277,122.png/269,97.png/171,83.png/86,84.png/357,99.png/224,86.png/263,61.png/297,95.png/250,99.png/290,94.png/264,125.png/280,67.png/367,46.png/173,136.png/269,38.png/333,101.png/334,92.png/258,120.png/293,73.png/211,165.png/224,106.png/334,112.png/218,66.png/260,84.png/339,101.png/100,79.png/256,103.png/184,77.png/285,168.png/324,163.png/167,93.png/67,133.png/210,101.png/298,101.png/292,100.png/203,64.png/296,72.png/363,148.png/169,109.png/178,27.png/145,53.png/365,81.png/331,102.png/127,77.png/250,101.png/361,84.png/371,125.png/114,119.png/229,68.png/292,88.png/107,163.png/65,172.png/288,91.png/322,147.png/844,126.png/687,146.png/239,45.png/327,153.png/192,100.png/229,73.png/168,112.png/250,150.png/271,103.png/228,64.png/229,84.png/241,77.png/162,107.png/233,94.png/281,112.png/287,106.png/251,116.png/366,70.png/319,75.png/272,73.png/243,114.png/272,141.png/233,51.png/351,98.png/140,52.png/165,90.png/358,119.png/194,88.png/342,137.png/316,159.png/254,91.png/292,71.png/98,97.png/346,77.png/333,56.png/136,92.png/197,86.png/224,79.png/261,73.png/128,141.png/231,66.png/306,89.png/294,75.png/189,51.png/834,196.png/109,94.png/335,112.png/275,87.png/300,85.png/375,145.png/185,56.png/107,181.png/247,146.png/342,71.png/252,195.png/165,66.png/107,157.png/247,49.png/259,71.png/367,58.png/154,120.png/105,129.png/201,131.png/138,84.png/246,63.png/354,77.png/180,86.png/281,148.png/254,47.png/203,112.png/245,79.png/239,71.png/78,98.png/285,135.png/209,133.png/201,79.png/284,68.png/153,116.png/387,133.png/282,122.png/363,141.png/343,106.png/312,64.png/171,125.png/290,105.png/364,137.png/307,146.png/337,120.png/217,38.png/363,118.png/263,90.png/236,52.png/169,48.png/228,38.png/273,101.png/179,123.png/306,128.png/284,91.png/99,135.png/214,71.png/100,63.png/397,99.png/211,99.png/114,60.png/339,148.png/94,115.png/171,72.png/215,107.png/241,53.png/131,127.png/224,65.png/135,43.png/252,54.png/110,112.png/132,72.png/387,109.png/295,109.png/220,116.png/277,61.png/254,50.png/192,75.png/205,159.png/228,86.png/259,6.png/367,116.png/112,97.png/292,57.png/229,81.png/188,131.png/132,134.png/355,148.png/127,60.png/369,86.png/397,88.png/78,97.png/131,67.png/89,86.png/186,73.png/233,28.png/213,73.png/280,78.png/341,115.png/348,54.png/190,112.png/232,91.png/195,79.png/111,63.png/205,75.png/252,101.png/322,57.png/368,27.png/180,80.png/125,179.png/230,36.png/210,93.png/177,137.png/247,92.png/291,140.png/267,64.png/271,82.png/267,122.png/331,143.png/209,37.png/273,45.png/104,140.png/263,72.png/323,79.png/284,112.png/227,108.png/378,133.png/260,122.png/187,119.png/217,117.png/244,92.png/353,68.png/259,119.png/312,137.png/277,88.png/135,76.png/245,64.png/224,54.png/217,120.png/302,189.png/256,99.png/202,78.png/566,201.png/344,161.png/119,54.png/277,58.png/233,71.png/134,88.png/209,80.png/99,88.png/162,116.png/332,55.png/120,68.png/100,99.png/224,94.png/286,135.png/201,73.png/173,133.png/178,131.png/341,93.png/175,75.png/312,93.png/266,90.png/177,17.png/378,137.png/262,72.png/231,74.png/133,56.png/202,79.png/267,98.png/241,102.png/240,90.png/241,106.png/310,51.png/759,127.png/375,121.png/162,129.png/214,77.png/258,60.png/371,73.png/674,184.png/378,206.png/181,88.png/81,93.png/217,106.png/266,75.png/281,73.png/248,88.png/169,174.png/551,141.png/720,211.png/182,32.png/364,140.png/114,90.png/127,126.png/244,92.png/216,88.png/256,101.png/339,53.png/205,82.png/282,66.png/364,105.png/257,71.png/236,17.png/131,125.png/151,133.png/260,86.png/226,78.png/311,46.png/245,27.png/324,140.png/194,113.png/207,65.png/135,141.png/158,78.png/205,68.png/88,124.png/295,73.png/384,125.png/263,72.png/258,33.png/306,99.png/164,176.png/213,103.png/134,124.png/262,64.png/256,79.png/201,119.png/193,83.png/239,101.png/175,52.png/290,111.png/238,107.png/205,57.png/332,135.png/273,77.png/307,105.png/267,128.png/224,77.png/237,14.png/309,99.png/343,34.png/684,300.png/210,84.png/268,102.png/330,130.png/161,51.png/151,47.png/158,71.png/269,71.png/231,63.png/339,90.png/256,144.png/566,296.png/360,204.png/345,101.png/199,170.png/226,96.png/260,92.png/186,73.png/218,73.png/288,49.png/297,56.png/292,66.png/331,170.png/169,122.png/314,98.png/213,131.png/217,84.png/226,95.png/198,112.png/209,71.png/226,71.png/107,71.png/254,36.png/169,102.png/126,78.png/175,55.png/314,24.png/81,62.png/156,105.png/374,72.png/312,104.png/144,131.png/288,66.png/94,104.png/310,30.png/161,68.png/204,97.png/126,96.png/266,71.png/366,79.png/233,81.png/209,97.png/192,43.png/344,108.png/164,79.png/360,58.png/111,131.png/311,99.png/251,54.png/248,111.png/254,71.png/306,86.png/331,86.png/282,182.png/239,91.png/261,155.png/294,111.png/292,49.png/177,97.png/333,127.png/219,78.png/99,128.png/812,271.png/180,70.png/284,80.png/197,85.png/193,84.png/310,67.png/260,121.png/164,137.png/150,127.png/267,47.png/230,102.png/125,76.png/258,64.png/292,92.png/184,117.png/235,56.png/260,158.png/94,49.png/243,82.png/171,66.png/314,107.png/262,144.png/218,39.png/115,117.png/263,96.png/266,125.png/331,137.png/590,189.png/330,84.png/233,107.png/278,81.png/175,105.png/361,136.png/241,90.png/250,111.png/173,150.png/349,177.png/224,82.png/335,143.png/287,107.png/373,81.png/318,70.png/216,73.png/164,143.png/247,152.png/435,4.png/295,119.png/248,54.png/173,89.png/113,79.png/193,103.png/149,115.png/270,68.png/204,92.png/290,55.png/181,78.png/308,97.png/128,71.png/256,73.png/228,36.png/116,110.png/259,75.png/248,61.png/286,108.png/263,114.png/356,64.png/299,74.png/177,44.png/189,178.png/179,86.png/311,66.png/241,143.png/299,64.png/180,137.png/365,84.png/309,84.png/357,87.png/211,99.png/316,63.png/71,96.png/252,39.png/195,122.png/362,143.png/378,86.png/248,46.png/175,73.png/287,55.png/148,61.png/311,114.png/267,60.png/252,61.png/200,74.png/342,77.png/363,119.png/116,55.png/249,122.png/348,101.png/218,68.png/167,112.png/284,70.png/315,88.png/221,140.png/224,89.png/373,114.png/316,64.png/247,62.png/304,120.png/89,105.png/363,108.png/283,77.png/273,122.png/90,89.png/141,52.png/192,50.png/203,91.png/335,73.png/121,118.png/363,73.png/100,59.png/89,80.png/216,101.png/559,216.png/738,155.png/344,109.png/337,141.png/415,150.png/341,109.png/228,32.png/130,77.png/197,89.png/237,103.png/289,139.png/315,55.png/242,111.png/237,79.png/285,40.png/133,61.png/156,127.png/137,83.png/150,82.png/252,109.png/250,64.png/287,49.png/140,119.png/111,104.png/228,74.png/336,147.png/331,125.png/96,77.png/293,112.png/766,218.png/539,214.png/148,60.png/256,68.png/291,81.png/278,90.png/364,125.png/374,131.png/155,82.png/320,88.png/115,100.png/259,80.png/197,65.png/98,139.png/141,165.png/366,154.png/198,153.png/573,320.png/655,235.png/265,51.png/354,107.png/111,63.png/241,127.png/268,66.png/243,133.png/384,95.png/101,99.png/276,26.png/259,85.png/359,135.png/237,68.png/209,40.png/285,69.png/307,111.png/214,75.png/319,45.png/228,103.png/317,159.png/368,127.png/318,120.png/319,91.png/193,60.png/191,64.png/102,81.png/111,116.png/242,41.png/192,8.png/124,122.png/172,51.png/199,131.png/105,85.png/216,130.png/'"
      ]
     },
     "execution_count": 85,
     "metadata": {},
     "output_type": "execute_result"
    }
   ],
   "source": [
    "test_labels"
   ]
  },
  {
   "cell_type": "code",
   "execution_count": null,
   "metadata": {},
   "outputs": [],
   "source": []
  }
 ],
 "metadata": {
  "kernelspec": {
   "display_name": "Python 3",
   "language": "python",
   "name": "python3"
  },
  "language_info": {
   "codemirror_mode": {
    "name": "ipython",
    "version": 3
   },
   "file_extension": ".py",
   "mimetype": "text/x-python",
   "name": "python",
   "nbconvert_exporter": "python",
   "pygments_lexer": "ipython3",
   "version": "3.7.4"
  },
  "toc": {
   "base_numbering": 1,
   "nav_menu": {},
   "number_sections": true,
   "sideBar": true,
   "skip_h1_title": false,
   "title_cell": "Table of Contents",
   "title_sidebar": "Contents",
   "toc_cell": false,
   "toc_position": {},
   "toc_section_display": true,
   "toc_window_display": false
  },
  "varInspector": {
   "cols": {
    "lenName": 16,
    "lenType": 16,
    "lenVar": 40
   },
   "kernels_config": {
    "python": {
     "delete_cmd_postfix": "",
     "delete_cmd_prefix": "del ",
     "library": "var_list.py",
     "varRefreshCmd": "print(var_dic_list())"
    },
    "r": {
     "delete_cmd_postfix": ") ",
     "delete_cmd_prefix": "rm(",
     "library": "var_list.r",
     "varRefreshCmd": "cat(var_dic_list()) "
    }
   },
   "types_to_exclude": [
    "module",
    "function",
    "builtin_function_or_method",
    "instance",
    "_Feature"
   ],
   "window_display": false
  }
 },
 "nbformat": 4,
 "nbformat_minor": 2
}
