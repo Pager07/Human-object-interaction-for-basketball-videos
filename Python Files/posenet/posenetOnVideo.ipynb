{
 "cells": [
  {
   "cell_type": "code",
   "execution_count": 1,
   "metadata": {},
   "outputs": [],
   "source": [
    "import pathlib\n",
    "import sys \n",
    "import random\n",
    "import json\n",
    "import cv2 \n",
    "import base64\n",
    "import requests as req\n",
    "import os\n",
    "import numpy as np\n",
    "import matplotlib.pyplot as plt\n",
    "from matplotlib import cm\n",
    "from matplotlib.colors import ListedColormap, LinearSegmentedColormap\n",
    "from io import BytesIO  \n",
    "%matplotlib inline\n",
    "#To compute intersection of lines\n",
    "import shapely\n",
    "from shapely.geometry import LineString, Point\n",
    "from scipy.spatial import distance"
   ]
  },
  {
   "cell_type": "code",
   "execution_count": 21,
   "metadata": {},
   "outputs": [],
   "source": [
    "#constants\n",
    "PART_NAMES = [\n",
    "    \"nose\", \"leftEye\", \"rightEye\", \"leftEar\", \"rightEar\", \"leftShoulder\",\n",
    "    \"rightShoulder\", \"leftElbow\", \"rightElbow\", \"leftWrist\", \"rightWrist\",\n",
    "    \"leftHip\", \"rightHip\", \"leftKnee\", \"rightKnee\", \"leftAnkle\", \"rightAnkle\"\n",
    "]\n",
    "PART_IDS = {pn: pid for pid, pn in enumerate(PART_NAMES)} ;PART_IDS\n",
    "CONNECTED_PART_NAMES = [\n",
    "    (\"leftHip\", \"leftShoulder\"), (\"leftElbow\", \"leftShoulder\"),\n",
    "    (\"leftElbow\", \"leftWrist\"), (\"leftHip\", \"leftKnee\"),\n",
    "    (\"leftKnee\", \"leftAnkle\"), (\"rightHip\", \"rightShoulder\"),\n",
    "    (\"rightElbow\", \"rightShoulder\"), (\"rightElbow\", \"rightWrist\"),\n",
    "    (\"rightHip\", \"rightKnee\"), (\"rightKnee\", \"rightAnkle\"),\n",
    "    (\"leftShoulder\", \"rightShoulder\"), (\"leftHip\", \"rightHip\")\n",
    "]\n",
    "\n",
    "CONNECTED_PART_INDICES = [(PART_IDS[a], PART_IDS[b]) for a, b in CONNECTED_PART_NAMES];\n",
    "\n",
    "CONNECTED_EYELINE_NAMES = [\n",
    "    (\"rightShoulder\", 'leftEye') , ('rightEar', 'rightEye')\n",
    "]\n",
    "CONNECTED_EYELINE_INDICES = [(PART_IDS[a], PART_IDS[b]) for a, b in CONNECTED_EYELINE_NAMES];\n",
    "\n",
    "VISION_LINE = []"
   ]
  },
  {
   "cell_type": "code",
   "execution_count": 20,
   "metadata": {},
   "outputs": [
    {
     "data": {
      "text/plain": [
       "17"
      ]
     },
     "execution_count": 20,
     "metadata": {},
     "output_type": "execute_result"
    }
   ],
   "source": [
    "len(PART_NAMES)"
   ]
  },
  {
   "cell_type": "markdown",
   "metadata": {},
   "source": [
    "#Helper functions"
   ]
  },
  {
   "cell_type": "code",
   "execution_count": 3,
   "metadata": {},
   "outputs": [],
   "source": [
    "def getBase64Image(filePath):\n",
    "    with open(filePath, \"rb\") as img_file:\n",
    "        my_string = base64.b64encode(img_file.read())\n",
    "        my_string = my_string.decode('utf-8')\n",
    "    return my_string"
   ]
  },
  {
   "cell_type": "code",
   "execution_count": 4,
   "metadata": {},
   "outputs": [],
   "source": [
    "def convertToBase64(image):\n",
    "    retval, buffer = cv2.imencode('.jpg', image)\n",
    "    my_string = base64.b64encode(buffer)\n",
    "    my_string = my_string.decode('utf-8')\n",
    "    return my_string"
   ]
  },
  {
   "cell_type": "code",
   "execution_count": 5,
   "metadata": {},
   "outputs": [],
   "source": [
    "def get_adjacent_keypoints(keypoints):\n",
    "    '''\n",
    "    Helper function of draw_skel_and _kp\n",
    "    Returns 2 coord of 2 points where line needs to be drawn\n",
    "    EXAMPLE: [[X1,Y1],[X2,Y2]]\n",
    "    '''\n",
    "    results = []\n",
    "    for left, right in CONNECTED_PART_INDICES:\n",
    "       results.append(\n",
    "           np.array([\n",
    "                [ keypoints[left]['position']['x'] , keypoints[left]['position']['y'] ],\n",
    "                [ keypoints[right]['position']['x'] , keypoints[right]['position']['y'] ]\n",
    "                    ]\n",
    "           ).astype(np.int32)\n",
    "        )\n",
    "    return results\n",
    "            "
   ]
  },
  {
   "cell_type": "code",
   "execution_count": 6,
   "metadata": {},
   "outputs": [],
   "source": [
    "def get_adjacent_keypoint_eyeline(keypoints):\n",
    "    results = []\n",
    "    for left, right in CONNECTED_EYELINE_INDICES:\n",
    "       results.append(\n",
    "           np.array([\n",
    "                [ keypoints[left]['position']['x'] , keypoints[left]['position']['y'] ],\n",
    "                [ keypoints[right]['position']['x'] , keypoints[right]['position']['y'] ]\n",
    "                    ]\n",
    "           ).astype(np.int32)\n",
    "        )\n",
    "    return results"
   ]
  },
  {
   "cell_type": "code",
   "execution_count": 7,
   "metadata": {},
   "outputs": [],
   "source": [
    "#Sending data to server\n",
    "def getPoses(image_string):\n",
    "    url2 = 'http://localhost:3000/postImage'\n",
    "    data = {'imgBase64':'data:image/png;base64,'+image_string}\n",
    "    r = req.post(url=url2 , data = data)\n",
    "    poses = r.json()\n",
    "    return poses"
   ]
  },
  {
   "cell_type": "code",
   "execution_count": 8,
   "metadata": {},
   "outputs": [],
   "source": [
    "def draw_keypoints(poses,img):\n",
    "    cv_keypoints= []\n",
    "    for pose in poses['detectionList']:\n",
    "        keypoints = pose['keypoints']\n",
    "        for keypoint in keypoints:\n",
    "            x,y,score = round(keypoint['position']['x']) ,round(keypoint['position']['y']),keypoint['score']\n",
    "            cv_keypoints.append(cv2.KeyPoint(x,y , 10. *score))\n",
    "    out_img = cv2.drawKeypoints(img, cv_keypoints , outImage=np.array([]) ) "
   ]
  },
  {
   "cell_type": "code",
   "execution_count": 9,
   "metadata": {},
   "outputs": [],
   "source": [
    "def draw_skelton(poses,img):\n",
    "    '''\n",
    "    This function is not used anywhere. \n",
    "    Written to demonstrate how skelton can be drawn\n",
    "    '''\n",
    "    adjacent_keypoints = []\n",
    "    out_img = img\n",
    "    for pose in poses['detectionList']:\n",
    "        keypoints  = pose['keypoints']\n",
    "        new_keypoints = get_adjacent_keypoints(keypoints)\n",
    "        adjacent_keypoints.extend(new_keypoints)\n",
    "    out_img = cv2.polylines(out_img , adjacent_keypoints, isClosed=False, color=(255,255,0))\n",
    "    return out_img    "
   ]
  },
  {
   "cell_type": "code",
   "execution_count": 10,
   "metadata": {},
   "outputs": [],
   "source": [
    "def draw_skel_and_kp(poses , img, color):\n",
    "    out_img = img\n",
    "    adjacent_keypoints = []\n",
    "    cv_keypoints = []\n",
    "    #For every pose of the player\n",
    "    for pose in poses['detectionList']:\n",
    "        keypoints = pose['keypoints']\n",
    "        new_keypoint = get_adjacent_keypoints(keypoints)\n",
    "        adjacent_keypoints.extend(new_keypoint)\n",
    "        \n",
    "        for keypoint in keypoints:\n",
    "            x,y,score = round(keypoint['position']['x']) ,round(keypoint['position']['y']),keypoint['score']\n",
    "            cv_keypoints.append(cv2.KeyPoint(x,y , 10. * score))\n",
    "    out_img = cv2.drawKeypoints(\n",
    "        img, cv_keypoints , outImage=np.array([]), color=color,\n",
    "        flags=cv2.DRAW_MATCHES_FLAGS_DRAW_RICH_KEYPOINTS )\n",
    "    out_img = cv2.polylines(out_img , adjacent_keypoints , isClosed=False, color=list(color))\n",
    "    return out_img"
   ]
  },
  {
   "cell_type": "code",
   "execution_count": 11,
   "metadata": {},
   "outputs": [],
   "source": [
    "def draw_extended_line(out_img,p1,p2,color):\n",
    "    '''\n",
    "    Helper function of draw_visibility_cone\n",
    "    Given 2 points and 1 image, draw a lines extends it\n",
    "    '''\n",
    "    theta1 = np.arctan2(p1[1]-p2[1], p1[0]-p2[0]) \n",
    "    endpt_x = int(p1[0] - 1000*np.cos(theta1))\n",
    "    endpt_y = int(p1[1] - 1000*np.sin(theta1))\n",
    "    cv2.line(out_img, (p1[0], p1[1]), (endpt_x, endpt_y), color, 2)\n",
    "    \n",
    "    return out_img,theta1,[endpt_x, endpt_y]\n",
    "    "
   ]
  },
  {
   "cell_type": "code",
   "execution_count": 24,
   "metadata": {},
   "outputs": [],
   "source": [
    "def get_line_object(p1,p2):\n",
    "    '''\n",
    "    Helper function of get_line_intersection\n",
    "    '''\n",
    "    return LineString([[p1[0] , p1[1]], [p2[0] , p2[1]] ])\n",
    "    \n",
    "\n",
    "def get_line_intersection(line1,line2):\n",
    "    '''\n",
    "    Helper function of drawvisibilty_cone\n",
    "    This function finds  2 line intersects or not.\n",
    "    Parameter \n",
    "    ---------\n",
    "    line1 : A line object\n",
    "    line2 :  A line object\n",
    "    \n",
    "    Return\n",
    "    ------------\n",
    "    p5 : The list containing intersection point [x,y]\n",
    "    \n",
    "    False  : There is no intersection \n",
    "   \n",
    "    '''\n",
    "    try:\n",
    "        int_pt = line1.intersection(line2)\n",
    "        #print(int_pt)\n",
    "        p5 = [int_pt.x, int_pt.y]        \n",
    "    except AttributeError:\n",
    "        #print(\"Returing None\")\n",
    "        return False\n",
    "    return p5"
   ]
  },
  {
   "cell_type": "code",
   "execution_count": 13,
   "metadata": {},
   "outputs": [],
   "source": [
    "def find_angle_between_2_line(p1,p2,p3,p4):\n",
    "    v1 = np.array(p1) - np.array(p2)\n",
    "    v2 = np.array(p3) - np.array(p4)\n",
    "    \n",
    "    cosine_angle = np.dot(v1, v2) / (np.linalg.norm(v1) * np.linalg.norm(v2))\n",
    "    angle = np.arccos(cosine_angle)\n",
    "    return angle"
   ]
  },
  {
   "cell_type": "code",
   "execution_count": 20,
   "metadata": {},
   "outputs": [],
   "source": [
    "def draw_general_line(out_img,p5,theta3,color):\n",
    "    '''\n",
    "    Helper functino of draw_visibilty_cone\n",
    "    \n",
    "    '''\n",
    "    endpt_x = int(p5[0] - 1000*np.cos(theta3))\n",
    "    endpt_y = int(p5[1] - 1000*np.sin(theta3))\n",
    "    cv2.line(out_img, (int(p5[0]), int(p5[1])), (endpt_x, endpt_y), color, 2)\n",
    "    return out_img\n",
    "def get_general_line(p5,theta3):\n",
    "    '''\n",
    "    This function find the the middle/general line\n",
    "    Parameter\n",
    "    ---------\n",
    "    p5 : The intersection point of the player cone lines \n",
    "    theta3 : The angle that the new line need to be in\n",
    "    \n",
    "    Return \n",
    "    -----------\n",
    "    line1 : A line object. The middle line\n",
    "    '''\n",
    "    endpt_x = int(p5[0] - 1000*np.cos(theta3))\n",
    "    endpt_y = int(p5[1] - 1000*np.sin(theta3))\n",
    "    line1 = get_line_object([[p5[0] , p5[1]], [endpt_x , endpt_y]])\n",
    "    return line1"
   ]
  },
  {
   "cell_type": "code",
   "execution_count": 15,
   "metadata": {},
   "outputs": [],
   "source": [
    "def get_positive_theta(theta):\n",
    "    if 0<=theta<=np.pi:\n",
    "        return theta\n",
    "    else:\n",
    "        if -np.pi/2 <=theta < 0:\n",
    "            theta = 2*np.pi - abs(theta)\n",
    "        elif -np.pi <= theta < np.pi/2:\n",
    "            theta = (3/4*np.pi) - abs(theta)\n",
    "    return theta\n",
    "            \n",
    "        "
   ]
  },
  {
   "cell_type": "code",
   "execution_count": 25,
   "metadata": {},
   "outputs": [],
   "source": [
    "def get_cone_line_intersection(keypoints):\n",
    "    '''\n",
    "    Helper function of set_vision_lines()\n",
    "    Parameter\n",
    "    ---------\n",
    "    keypoints : The keypoint dictionary containing all the keypoints \n",
    "    \n",
    "    Return \n",
    "    ---------\n",
    "     p5 : The intersection point \n",
    "    \n",
    "    False  : There is no intersection \n",
    "    '''\n",
    "    new_keypoints = get_adjacent_keypoint_eyeline(keypoints)\n",
    "    p1,p2 = new_keypoints[0][0],new_keypoints[0][1]\n",
    "    p3,p4 = new_keypoints[1][0],new_keypoints[1][1]\n",
    "    #Get the cone line intersection\n",
    "    line1 = get_line_object(p1,p2)\n",
    "    line2 = get_line_object(p3,p4)\n",
    "    p5 = get_line_intersection(line1,line2)\n",
    "    return p5\n",
    "\n",
    "\n",
    "def set_vision_lines(posenetPred):\n",
    "    '''\n",
    "    This function will update the GLOBAL VARIABLE VISION_LINE\n",
    "    It will remove the vision line for the last frame\n",
    "    It will add vision line for this frame for all the players\n",
    "    \n",
    "    Parameter\n",
    "    ----------\n",
    "    posenetPred : The output from poenet. This should contain keypoints that are relative to\n",
    "                  the big image. \n",
    "                  \n",
    "    \n",
    "    '''\n",
    "    global VISION_LINE\n",
    "    VISION_LINE = []\n",
    "    for pose in poses['detectionList']:\n",
    "        keypoints = pose['keypoints']\n",
    "        #Get cone line intersection point\n",
    "        p5 = get_cone_line_intersection(keypoints)\n",
    "       # get mid line \n",
    "        if p5 != False:\n",
    "            theta3 = (theta1 + theta2)/2\n",
    "            general_line = get_general_line(p5, theta3)\n",
    "            VISION_LINE.append(general_line)\n",
    "        else:\n",
    "            VISION_LINE.append(False)\n",
    "    print(f\"Successfully initalized general line:{len(VISION_LINE)}\")\n",
    "\n"
   ]
  },
  {
   "cell_type": "code",
   "execution_count": 29,
   "metadata": {},
   "outputs": [],
   "source": [
    "def get_bbox_coords(bbox):\n",
    "    '''\n",
    "    This function will return all the 4 coords of the bouding boxes\n",
    "    Parameter\n",
    "    ---------\n",
    "    bbox : [left, top ,right, bottom]\n",
    "    \n",
    "    Return\n",
    "    --------\n",
    "    list : [left_top , right_bottom , left_bottom , right_top]\n",
    "    '''\n",
    "    left_top,right_bottom = (bbox[0] , bbox[1]), (bbox[2] , bbox[3])\n",
    "    left_bottom , right_top = (left_top[0] ,right_bottom[1]) , (right_bottom[0] , left_top[1])\n",
    "    return [left_top , right_bottom , left_bottom , right_top]\n",
    "    \n",
    "    \n",
    "    \n",
    "def get_bbox_diagonals(left_top , right_bottom , left_bottom , right_top):\n",
    "    '''\n",
    "    This fuction finds the 2 diagonal of the bounding boxes\n",
    "    Parameter\n",
    "    ----------\n",
    "    left_top , right_bottom , left_bottom , right_top : The 4 points of the bbox\n",
    "    \n",
    "    Return\n",
    "    --------\n",
    "    diagonal1 : A line object. It starts from left_top , right_bottom \n",
    "    diagonal2 : A line object. It starts from left_bottom , right_top\n",
    "    '''\n",
    "    diagonal1 = get_line_object(left_top , right_bottom)\n",
    "    diagonal2 = get_line_object(left_bottom , right_top)\n",
    "    return diagonal1 , diagonal2\n",
    "\n",
    "\n",
    "def check_bbox_intersection(bbox , lines):\n",
    "    '''\n",
    "    Helper function of check_bboxs_intersection\n",
    "    This function find out the number of vision line that intersect with bbox\n",
    "    \n",
    "    Parameter\n",
    "    -----------\n",
    "    bbox : A list [left,top,right,botoom] coord in order\n",
    "    lines : VISION_LINE, where the vision line of the player in the bbox is set to False. \n",
    "            Because we dont want to consider it's intersection with it self\n",
    "    '''\n",
    "    count = 0\n",
    "    bbox_points = get_bbox_coords(bbox)\n",
    "    diagonal1, diagonal2 = get_bbox_diagonals(*bbox_points)\n",
    "    for line in lines:\n",
    "        if line != False: \n",
    "            intersection1 = get_line_intersection(diagonal1,line)\n",
    "            intersection2 = get_line_intersection(diagonal2,line)\n",
    "            if intersection1 or intersection2:\n",
    "                count += 1\n",
    "    return count\n",
    "\n",
    "\n",
    "def check_bboxs_intersection(bboxs):\n",
    "    '''\n",
    "    This function finds the number of VISION_LINES each bboxs is intersected by \n",
    "    Parameter\n",
    "    ----------\n",
    "    bboxs : A list with bbox. \n",
    "            Example: [[left,top,right,botoom],.......[left,top,right,botoom],.. ] \n",
    "            \n",
    "    Return\n",
    "    ---------\n",
    "    counter : A list with the number of VISION_LINES each bboxs is intersected by\n",
    "              Example: [8,....]\n",
    "    '''\n",
    "    global VISION_LINE\n",
    "    counter = []\n",
    "    for index,bbox in enumerate(bboxs):\n",
    "        VISION_LINE_COPY = VISION_LINE[:]\n",
    "        VISION_LINE_COPY[index] = False\n",
    "        count = check_bbox_intersection(bbox, VISION_LINE_COPY)\n",
    "        counter.append(count)\n",
    "    return counter\n",
    "\n",
    "\n",
    "        \n",
    "            \n",
    "    \n",
    "    "
   ]
  },
  {
   "cell_type": "code",
   "execution_count": 16,
   "metadata": {},
   "outputs": [],
   "source": [
    "def draw_visibilty_cone(poses,img,color=None):\n",
    "    out_img = img\n",
    "    adjacent_keypoints = []\n",
    "    cv_keypoints = []\n",
    "    counter = 0\n",
    "    for pose in poses['detectionList']:\n",
    "        keypoints = pose['keypoints']\n",
    "        new_keypoints = get_adjacent_keypoint_eyeline(keypoints)\n",
    "        p1,p2 = new_keypoints[0][0],new_keypoints[0][1]\n",
    "        p3,p4 = new_keypoints[1][0],new_keypoints[1][1]\n",
    "       # Draw the two lines\n",
    "        out_img,theta1,p2 = draw_extended_line(out_img,p1,p2,[255,255,0])\n",
    "        out_img,theta2,p4= draw_extended_line(out_img,p3,p4,[0,255,0])\n",
    "       # get mid line \n",
    "#         p5 = get_line_intersection(p1,p2,p3,p4)\n",
    "#         if p5 != None:\n",
    "#             theta3 = (theta1 + theta2)/2\n",
    "#             if counter <100:\n",
    "#                 draw_general_line(out_img,p5,theta3,[0,0,255])\n",
    "#             counter += 1\n",
    "    return out_img"
   ]
  },
  {
   "cell_type": "code",
   "execution_count": 17,
   "metadata": {},
   "outputs": [
    {
     "ename": "NameError",
     "evalue": "name 'out_img' is not defined",
     "output_type": "error",
     "traceback": [
      "\u001b[0;31m---------------------------------------------------------------------------\u001b[0m",
      "\u001b[0;31mNameError\u001b[0m                                 Traceback (most recent call last)",
      "\u001b[0;32m<ipython-input-17-4c3acb0cb1ec>\u001b[0m in \u001b[0;36m<module>\u001b[0;34m\u001b[0m\n\u001b[1;32m      1\u001b[0m \u001b[0mp5\u001b[0m \u001b[0;34m=\u001b[0m \u001b[0;34m[\u001b[0m\u001b[0;36m536.3247184387701\u001b[0m\u001b[0;34m,\u001b[0m \u001b[0;36m328.8307943698096\u001b[0m\u001b[0;34m]\u001b[0m\u001b[0;34m\u001b[0m\u001b[0;34m\u001b[0m\u001b[0m\n\u001b[0;32m----> 2\u001b[0;31m \u001b[0mdraw_general_line\u001b[0m\u001b[0;34m(\u001b[0m\u001b[0mout_img\u001b[0m\u001b[0;34m,\u001b[0m\u001b[0mp5\u001b[0m\u001b[0;34m,\u001b[0m\u001b[0mnp\u001b[0m\u001b[0;34m.\u001b[0m\u001b[0mradians\u001b[0m\u001b[0;34m(\u001b[0m\u001b[0;36m120.06858282186246\u001b[0m\u001b[0;34m)\u001b[0m\u001b[0;34m,\u001b[0m\u001b[0;34m[\u001b[0m\u001b[0;36m255\u001b[0m\u001b[0;34m,\u001b[0m\u001b[0;36m0\u001b[0m\u001b[0;34m,\u001b[0m\u001b[0;36m255\u001b[0m\u001b[0;34m]\u001b[0m\u001b[0;34m)\u001b[0m\u001b[0;34m\u001b[0m\u001b[0;34m\u001b[0m\u001b[0m\n\u001b[0m\u001b[1;32m      3\u001b[0m \u001b[0mcv2\u001b[0m\u001b[0;34m.\u001b[0m\u001b[0mimwrite\u001b[0m\u001b[0;34m(\u001b[0m\u001b[0;34m'/Users/sandeep/Desktop/dataandmodles/data/cavsCone.JPG'\u001b[0m \u001b[0;34m,\u001b[0m\u001b[0mout_img\u001b[0m\u001b[0;34m)\u001b[0m\u001b[0;34m\u001b[0m\u001b[0;34m\u001b[0m\u001b[0m\n",
      "\u001b[0;31mNameError\u001b[0m: name 'out_img' is not defined"
     ]
    }
   ],
   "source": [
    "p5 = [536.3247184387701, 328.8307943698096]\n",
    "draw_general_line(out_img,p5,np.radians(120.06858282186246),[255,0,255])\n",
    "cv2.imwrite('/Users/sandeep/Desktop/dataandmodles/data/cavsCone.JPG' ,out_img) "
   ]
  },
  {
   "cell_type": "markdown",
   "metadata": {},
   "source": [
    "#Sending to server"
   ]
  },
  {
   "cell_type": "code",
   "execution_count": 17,
   "metadata": {},
   "outputs": [],
   "source": [
    "#Loading model\n",
    "r = req.get(url='http://localhost:3000/loadModel')"
   ]
  },
  {
   "cell_type": "code",
   "execution_count": 18,
   "metadata": {},
   "outputs": [
    {
     "data": {
      "text/plain": [
       "True"
      ]
     },
     "execution_count": 18,
     "metadata": {},
     "output_type": "execute_result"
    }
   ],
   "source": [
    "\n",
    "img = cv2.imread('/Users/sandeep/Desktop/dataandmodles/data/cropped.png')\n",
    "myString =convertToBase64(img)\n",
    "poses = getPoses(myString)\n",
    "out_img = draw_skel_and_kp(poses,img,[255,0,0])\n",
    "#out_img = draw_visibilty_cone(poses,img)\n",
    "cv2.imwrite('/Users/sandeep/Desktop/dataandmodles/data/croppedPose.JPG' ,out_img) "
   ]
  },
  {
   "cell_type": "code",
   "execution_count": 18,
   "metadata": {},
   "outputs": [],
   "source": [
    "videoPath ='/Users/sandeep/Desktop/dataandmodles/data/3-Pointer2.mov'\n",
    "cap = cv2.VideoCapture(videoPath)\n",
    "count = 0\n",
    "while cap.isOpened():\n",
    "    ret,frame = cap.read()\n",
    "    if ret:\n",
    "        #do stuff\n",
    "        myString =convertToBase64(frame)\n",
    "        poses = getPoses(myString)\n",
    "        frame = draw_visibilty_cone(poses,frame)\n",
    "        frame = draw_skel_and_kp(poses,frame,[255,0,0])\n",
    "#         End of do stuff\n",
    "        cv2.imshow('test', frame)\n",
    "        #cv2.imwrite(f\"/Users/sandeep/Desktop/dataandmodles/data/coneVision/{count}.png\" , frame)\n",
    "        count += 1\n",
    "        if cv2.waitKey(1) & 0xFF == ord('q'):\n",
    "            break  \n",
    "    else:\n",
    "        cap.release()\n",
    "        break\n",
    "cap.release()\n",
    "cv2.destroyAllWindows()\n"
   ]
  },
  {
   "cell_type": "code",
   "execution_count": null,
   "metadata": {},
   "outputs": [],
   "source": []
  },
  {
   "cell_type": "code",
   "execution_count": null,
   "metadata": {},
   "outputs": [],
   "source": []
  }
 ],
 "metadata": {
  "kernelspec": {
   "display_name": "Python 3",
   "language": "python",
   "name": "python3"
  },
  "language_info": {
   "codemirror_mode": {
    "name": "ipython",
    "version": 3
   },
   "file_extension": ".py",
   "mimetype": "text/x-python",
   "name": "python",
   "nbconvert_exporter": "python",
   "pygments_lexer": "ipython3",
   "version": "3.7.4"
  },
  "toc": {
   "base_numbering": 1,
   "nav_menu": {},
   "number_sections": true,
   "sideBar": true,
   "skip_h1_title": false,
   "title_cell": "Table of Contents",
   "title_sidebar": "Contents",
   "toc_cell": false,
   "toc_position": {},
   "toc_section_display": true,
   "toc_window_display": false
  },
  "varInspector": {
   "cols": {
    "lenName": 16,
    "lenType": 16,
    "lenVar": 40
   },
   "kernels_config": {
    "python": {
     "delete_cmd_postfix": "",
     "delete_cmd_prefix": "del ",
     "library": "var_list.py",
     "varRefreshCmd": "print(var_dic_list())"
    },
    "r": {
     "delete_cmd_postfix": ") ",
     "delete_cmd_prefix": "rm(",
     "library": "var_list.r",
     "varRefreshCmd": "cat(var_dic_list()) "
    }
   },
   "types_to_exclude": [
    "module",
    "function",
    "builtin_function_or_method",
    "instance",
    "_Feature"
   ],
   "window_display": false
  }
 },
 "nbformat": 4,
 "nbformat_minor": 2
}
