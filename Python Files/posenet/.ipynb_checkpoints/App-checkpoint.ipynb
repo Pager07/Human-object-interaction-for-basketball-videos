{
 "cells": [
  {
   "cell_type": "markdown",
   "metadata": {},
   "source": [
    "#Set Up"
   ]
  },
  {
   "cell_type": "code",
   "execution_count": 1,
   "metadata": {},
   "outputs": [],
   "source": [
    "from flask import Flask,render_template,url_for,request, jsonify\n",
    "import pandas as pd\n",
    "import sys \n",
    "import random\n",
    "import json\n",
    "app = Flask(__name__)"
   ]
  },
  {
   "cell_type": "code",
   "execution_count": 2,
   "metadata": {},
   "outputs": [
    {
     "name": "stdout",
     "output_type": "stream",
     "text": [
      "importing Jupyter notebook from SVDHomeWork.ipynb\n"
     ]
    },
    {
     "name": "stderr",
     "output_type": "stream",
     "text": [
      "SVDHomeWork.ipynb:1: FutureWarning: Method .as_matrix will be removed in a future version. Use .values instead.\n",
      "  {\n"
     ]
    }
   ],
   "source": [
    "%load_ext autoreload\n",
    "%autoreload 2\n",
    "sys.path.append('/Users/sandeep/opt/anaconda3/lib/python3.7/site-packages')\n",
    "import import_ipynb\n",
    "import SVDHomeWork as database"
   ]
  },
  {
   "cell_type": "code",
   "execution_count": 3,
   "metadata": {},
   "outputs": [],
   "source": [
    " %reload_ext autoreload"
   ]
  },
  {
   "cell_type": "markdown",
   "metadata": {},
   "source": [
    "#Svd module: GET USER RECOMMENDATION , USER RATED BOOKS , TRENDING BOOKS\n"
   ]
  },
  {
   "cell_type": "markdown",
   "metadata": {},
   "source": [
    "- THIS FUNCTION RETURN A DICT WITH RECOMMENDATED RATING FOR  GIVEN USER\n",
    "    - user get_reommendation function()\n",
    "        - Takes in userID, books_df , rating_df\n",
    "        - How to get books_df, rating_df?\n",
    "            - HAVE A FUNCTION IN SVDHW THAT RETURNS THE 2 DATAFRAME\n",
    "            - THIS WILL BE THE ARGUMENTS \n",
    "    - Retrun a dict\n",
    "        -{0: {'userID': 15,\n",
    "              'ISBN': '0840748493',\n",
    "              'bookRating': 8,\n",
    "              'book_title': 'Gift Of The Blessing, The',\n",
    "              'genre': 'Religion|Inspirational'},\n",
    "         1: { 'userID': 15,\n",
    "              'ISBN': '1591856132',\n",
    "              'bookRating': 8,\n",
    "              'book_title': 'Shadowmancer',\n",
    "              'genre': 'Magic|Fantasy'}}\n",
    "         - How to access it?\n",
    "             - dict['whatFeature/Col.eg.userID']['whatRow']\n",
    "             - kinda the opposite"
   ]
  },
  {
   "cell_type": "code",
   "execution_count": 4,
   "metadata": {},
   "outputs": [],
   "source": [
    "def get_user_recommendation(userID):\n",
    "    books_df , ratings_df = database.get_df()\n",
    "    user_rated_books, new_books =database.get_recommendation(books_df,\n",
    "                                                             ratings_df,\n",
    "                                                             userID)\n",
    "    return new_books.to_dict('index')"
   ]
  },
  {
   "cell_type": "code",
   "execution_count": 5,
   "metadata": {},
   "outputs": [],
   "source": [
    "def get_user_rated_books(userID):\n",
    "    books_df , ratings_df = database.get_df()\n",
    "    user_rated_books, new_books =database.get_recommendation(books_df,\n",
    "                                                             ratings_df,\n",
    "                                                             userID)\n",
    "    return user_rated_books.to_dict('index')"
   ]
  },
  {
   "cell_type": "code",
   "execution_count": 6,
   "metadata": {},
   "outputs": [],
   "source": [
    "def get_trending_books():\n",
    "    trending_books = database.get_trending_books()\n",
    "    return trending_books.to_dict('index')\n",
    "    "
   ]
  },
  {
   "cell_type": "markdown",
   "metadata": {},
   "source": [
    "#Svd module: Post NEW BOOKS, USER, USER RATING, NEW USER\n",
    "- New books\n",
    "    - A BOOK ROW OBJ LOOKS LIKE THIS\n",
    "         - {'ISBN': XXXX,  'book_title': , 'genre': }\n",
    "    - MAKE A FUNCTION IN database that takes a book obj and add its the data frame\n",
    "    "
   ]
  },
  {
   "cell_type": "code",
   "execution_count": 7,
   "metadata": {},
   "outputs": [],
   "source": [
    "def get_new_user_id():\n",
    "    return database.get_next_userID()"
   ]
  },
  {
   "cell_type": "markdown",
   "metadata": {},
   "source": [
    "#Flask"
   ]
  },
  {
   "cell_type": "code",
   "execution_count": 8,
   "metadata": {},
   "outputs": [],
   "source": [
    "@app.route(\"/\")\n",
    "def home():\n",
    "    return render_template('home.html')"
   ]
  },
  {
   "cell_type": "code",
   "execution_count": 9,
   "metadata": {},
   "outputs": [],
   "source": [
    "@app.route(\"/history\", methods=['POST'])\n",
    "def get_history_page():\n",
    "    userID = int(request.form['userID'])\n",
    "    rated_books = get_user_rated_books(userID)\n",
    "    if len(rated_books) ==0 :\n",
    "        data = jsonify({'error':'You have not rated any books.'})\n",
    "    else:\n",
    "        data = jsonify({'datax':render_template('history.html' , posts=rated_books)\n",
    "                       })\n",
    "    return data\n",
    "    "
   ]
  },
  {
   "cell_type": "code",
   "execution_count": 10,
   "metadata": {},
   "outputs": [],
   "source": [
    "@app.route(\"/swap_user\",methods = ['POST'])\n",
    "def swap_user():\n",
    "    userID = request.form['userID']\n",
    "    exist = database.check_userID(userID)\n",
    "    \n",
    "    print(f'{exist},{userID}')\n",
    "    if exist:\n",
    "        template = render_template('recommend.html',\n",
    "                                   data=get_user_recommendation(int(userID))\n",
    "                                  )\n",
    "    \n",
    "        data = jsonify({'datax':template})\n",
    "    else:\n",
    "        data = jsonify({'error': 'UserID does not exist in the database'})\n",
    "    return data"
   ]
  },
  {
   "cell_type": "code",
   "execution_count": 11,
   "metadata": {},
   "outputs": [],
   "source": [
    "@app.route(\"/browse\",methods = ['POST'])\n",
    "def browse(userID=None):\n",
    "    server_requested = True\n",
    "    if userID == None:\n",
    "        userID = int(request.form['userID'])\n",
    "        server_requested = False\n",
    "    random_unseen_books = database.get_random_unseen_books(userID);\n",
    "    random_unseen_books = random_unseen_books.to_dict('index');\n",
    "    keys = list(random_unseen_books.keys())\n",
    "    keys = keys[0:8] \n",
    "    random.shuffle(keys)\n",
    "    data = {}\n",
    "    for key in keys:\n",
    "        data[key] = random_unseen_books[key]\n",
    "    template = render_template('recommend.html', \n",
    "                              data = data )\n",
    "    if server_requested:\n",
    "        return template\n",
    "    else:\n",
    "        return jsonify({'datax':template})\n",
    "    \n",
    "    "
   ]
  },
  {
   "cell_type": "code",
   "execution_count": 12,
   "metadata": {},
   "outputs": [],
   "source": [
    "@app.route('/add_user', methods=['GET'])\n",
    "def add_user():\n",
    "    new_user_id = get_new_user_id()\n",
    "    trending_books = get_trending_books()\n",
    "    #top 8 trending books\n",
    "    keys = list(trending_books.keys())\n",
    "    data  = {}\n",
    "    for key in keys[:8]:\n",
    "        data[key] = trending_books[key]\n",
    "    template = render_template('recommend.html', data=data)\n",
    "    data = jsonify({'datax':template , 'new_userID':str(new_user_id) })\n",
    "    return data\n",
    "    "
   ]
  },
  {
   "cell_type": "code",
   "execution_count": 13,
   "metadata": {},
   "outputs": [],
   "source": [
    "@app.route('/get_trending', methods=['POST'])\n",
    "def get_trending():\n",
    "    print('Getting book tally..')\n",
    "    number_books_already_sent = int(request.form['trending_books_tally'])\n",
    "    print('Getting trending books..')\n",
    "    trending_books = get_trending_books()\n",
    "    print('Doing Rest..')\n",
    "    keys = list(trending_books.keys())\n",
    "    data  = {}\n",
    "    for key in keys[number_books_already_sent:number_books_already_sent+8]:\n",
    "        data[key] = trending_books[key]\n",
    "    template = render_template('recommend.html', data=data)\n",
    "    data = jsonify({'datax':template})\n",
    "    print('Sending Trending books')\n",
    "    return data\n",
    "    "
   ]
  },
  {
   "cell_type": "code",
   "execution_count": 14,
   "metadata": {},
   "outputs": [],
   "source": [
    "@app.route(\"/submit_rating\", methods=['POST'])\n",
    "def submit_rating():\n",
    "    \n",
    "    print('Fetching userID..')\n",
    "    \n",
    "    userID = int(request.form['userID'])\n",
    "    \n",
    "    print('Fetching ISBN..')\n",
    "\n",
    "    ISBN = request.form['ISBN']\n",
    "    \n",
    "    print('Fetching bookRating..')\n",
    "    bookRating = int(request.form['rating_value'])\n",
    "    \n",
    "    print('Making  obj..')\n",
    "    rating_obj = {'userID':userID,'ISBN':ISBN,'bookRating':bookRating}\n",
    "    \n",
    "    print('Posting books to database..')\n",
    "    database.post_book_rating(rating_obj)\n",
    "    print('Redoing SVD..')\n",
    "    print(database.check_userID(str(userID)) )\n",
    "    \n",
    "    database.redo_SVD()\n",
    "    \n",
    "    exist = database.check_userID(str(userID))\n",
    "    print(exist)\n",
    "    if exist:\n",
    "        template = render_template('recommend.html',\n",
    "                                   data=get_user_recommendation(int(userID))\n",
    "                                  )\n",
    "        template2 = render_template('history.html' ,\n",
    "                                    posts=get_user_rated_books(int(userID)))\n",
    "        \n",
    "        template3 = browse(userID= int(userID))\n",
    "    \n",
    "        data = jsonify({'recommended_books':template ,\n",
    "                        'history_books':template2,\n",
    "                        'browse_books':template3\n",
    "                       })\n",
    "    else:\n",
    "        #then it must be new user trying to activate their account\n",
    "        data = jsonify({'error': 'UserID does not exist in the database'})\n",
    "    return data\n",
    "    \n",
    "    "
   ]
  },
  {
   "cell_type": "code",
   "execution_count": 15,
   "metadata": {},
   "outputs": [],
   "source": [
    "@app.route(\"/delete_book\" , methods=['DELETE'])\n",
    "def delete_book():\n",
    "    print('Getting userId for deleting books')\n",
    "    userID = int(request.form['userID'])\n",
    "    print('Getting isbn for deleting book')\n",
    "    isbn  = request.form['ISBN']\n",
    "    rating_obj = {'userID':userID,'ISBN':isbn}\n",
    "    print('Deleting book obj from database')\n",
    "    database.delete_book_rating(rating_obj)\n",
    "    print('Checking userID ')\n",
    "    exist = database.check_userID(str(userID))\n",
    "    \n",
    "    database.redo_SVD()\n",
    "    if exist:\n",
    "        template2 = render_template('history.html' ,\n",
    "                                    posts=get_user_rated_books(int(userID)))\n",
    "    \n",
    "        data = jsonify({\n",
    "                        'history_books':template2,\n",
    "                       })\n",
    "    else:\n",
    "        #then it must be new user trying to activate their account\n",
    "        data = jsonify({'error': 'UserID does not exist in the database'})\n",
    "    return data"
   ]
  },
  {
   "cell_type": "code",
   "execution_count": 16,
   "metadata": {},
   "outputs": [],
   "source": [
    "@app.route('/add_book',methods=['GET'])\n",
    "def add_book():\n",
    "    new_book_isbn = database.get_new_book_isbn()\n",
    "    data = jsonify({'new_book_isbn':new_book_isbn})\n",
    "    return data\n",
    "    "
   ]
  },
  {
   "cell_type": "code",
   "execution_count": 17,
   "metadata": {},
   "outputs": [],
   "source": [
    "@app.route('/submit_new_book',methods=['POST'])\n",
    "def submit_new_book():\n",
    "    userID,bookRating = int(request.form['userID']),int(request.form['bookRating'])\n",
    "    book_title, genre = request.form['book_title'] , request.form['genre']\n",
    "    isbn = request.form['ISBN']\n",
    "    \n",
    "    rating_obj = {'userID':userID, 'ISBN':isbn,'bookRating':bookRating}\n",
    "    book_obj  = {'ISBN':isbn,'book_title':book_title, 'genre':genre}\n",
    "    \n",
    "    database.post_book_rating(rating_obj)\n",
    "    database.post_books(book_obj)\n",
    "    \n",
    "    database.redo_SVD()\n",
    "    \n",
    "    \n",
    "    exist = database.check_userID(str(userID))\n",
    "    print(exist)\n",
    "    if exist:\n",
    "        template = render_template('recommend.html',\n",
    "                                   data=get_user_recommendation(int(userID))\n",
    "                                  )\n",
    "        template2 = render_template('history.html' ,\n",
    "                                    posts=get_user_rated_books(int(userID)))\n",
    "        \n",
    "        template3 = browse(userID= int(userID))\n",
    "    \n",
    "        data = jsonify({'recommended_books':template ,\n",
    "                        'history_books':template2,\n",
    "                        'browse_books':template3\n",
    "                       })\n",
    "    else:\n",
    "        #then it must be new user trying to activate their account\n",
    "        data = jsonify({'error': 'UserID does not exist in the database'})\n",
    "    return data\n",
    "    "
   ]
  },
  {
   "cell_type": "code",
   "execution_count": 18,
   "metadata": {},
   "outputs": [],
   "source": [
    "@app.route('/delete_book_bookify' , methods=['DELETE'])\n",
    "def delete_book_bookify():\n",
    "    isbn = request.form['ISBN']\n",
    "    exist = database.check_isbn(isbn)\n",
    "    if exist:\n",
    "        database.delete_book_bookify(isbn)\n",
    "        return jsonify({'success':'Book deleted!'})\n",
    "    else:\n",
    "        return jsonify({'error':'ISBN DOES NOT EXIST'})\n",
    "    "
   ]
  },
  {
   "cell_type": "code",
   "execution_count": 19,
   "metadata": {},
   "outputs": [],
   "source": [
    "@app.route('/delete_user',methods=['DELETE'])\n",
    "def delete_user():\n",
    "    userID = int(request.form['userID'])\n",
    "    print('Recived userID:'+str(userID))\n",
    "    database.delete_user(userID)\n",
    "    return jsonify({'success':'User deleted!'})"
   ]
  },
  {
   "cell_type": "code",
   "execution_count": null,
   "metadata": {},
   "outputs": [
    {
     "name": "stdout",
     "output_type": "stream",
     "text": [
      " * Serving Flask app \"__main__\" (lazy loading)\n",
      " * Environment: production\n",
      "   WARNING: This is a development server. Do not use it in a production deployment.\n",
      "   Use a production WSGI server instead.\n",
      " * Debug mode: off\n"
     ]
    },
    {
     "name": "stderr",
     "output_type": "stream",
     "text": [
      " * Running on http://127.0.0.1:5000/ (Press CTRL+C to quit)\n",
      "127.0.0.1 - - [22/Dec/2019 15:26:16] \"\u001b[37mGET / HTTP/1.1\u001b[0m\" 200 -\n",
      "127.0.0.1 - - [22/Dec/2019 15:26:16] \"\u001b[37mGET /static/human3.png HTTP/1.1\u001b[0m\" 200 -\n"
     ]
    }
   ],
   "source": [
    "if __name__ == '__main__':\n",
    "    app.run()"
   ]
  },
  {
   "cell_type": "code",
   "execution_count": null,
   "metadata": {},
   "outputs": [],
   "source": []
  }
 ],
 "metadata": {
  "kernelspec": {
   "display_name": "Python 3",
   "language": "python",
   "name": "python3"
  },
  "language_info": {
   "codemirror_mode": {
    "name": "ipython",
    "version": 3
   },
   "file_extension": ".py",
   "mimetype": "text/x-python",
   "name": "python",
   "nbconvert_exporter": "python",
   "pygments_lexer": "ipython3",
   "version": "3.7.4"
  },
  "toc": {
   "base_numbering": 1,
   "nav_menu": {},
   "number_sections": true,
   "sideBar": true,
   "skip_h1_title": false,
   "title_cell": "Table of Contents",
   "title_sidebar": "Contents",
   "toc_cell": false,
   "toc_position": {},
   "toc_section_display": true,
   "toc_window_display": false
  },
  "varInspector": {
   "cols": {
    "lenName": 16,
    "lenType": 16,
    "lenVar": 40
   },
   "kernels_config": {
    "python": {
     "delete_cmd_postfix": "",
     "delete_cmd_prefix": "del ",
     "library": "var_list.py",
     "varRefreshCmd": "print(var_dic_list())"
    },
    "r": {
     "delete_cmd_postfix": ") ",
     "delete_cmd_prefix": "rm(",
     "library": "var_list.r",
     "varRefreshCmd": "cat(var_dic_list()) "
    }
   },
   "types_to_exclude": [
    "module",
    "function",
    "builtin_function_or_method",
    "instance",
    "_Feature"
   ],
   "window_display": false
  }
 },
 "nbformat": 4,
 "nbformat_minor": 2
}
