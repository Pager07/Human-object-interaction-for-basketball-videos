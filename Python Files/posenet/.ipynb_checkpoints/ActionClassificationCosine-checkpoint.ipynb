{
 "cells": [
  {
   "cell_type": "code",
   "execution_count": 88,
   "metadata": {},
   "outputs": [],
   "source": [
    "import cv2 as cv\n",
    "import numpy as np\n",
    "import pandas as pd \n",
    "import sklearn.metrics.pairwise as pairwise\n",
    "import vptree\n",
    "from sklearn import preprocessing \n",
    "import pickle"
   ]
  },
  {
   "cell_type": "code",
   "execution_count": null,
   "metadata": {},
   "outputs": [],
   "source": [
    "import import_ipynb\n",
    "import ActionClassificationCosineDatasetGen as Dataset"
   ]
  },
  {
   "cell_type": "code",
   "execution_count": 250,
   "metadata": {},
   "outputs": [],
   "source": [
    "print('Loading Poses Data....')\n",
    "DATA_DF = Dataset.read_dataset(norm=True)\n",
    "ARGS = {'TREE':None,\n",
    "       'X': Dataset.read_dataset(norm=True).loc[:,DATA_DF.columns != 'label'],\n",
    "       'Y': Dataset.read_dataset(norm=True).loc[:,DATA_DF.columns == 'label'],\n",
    "       'TREEPATH':'/Users/sandeep/Desktop/dataandmodles/models/vptrees',\n",
    "       'cosineDistanceMatching':True,\n",
    "       'weightedDistanceMatching': False}\n",
    "#initailze the VPTREE\n",
    "print('Initializing VPTREE....')\n",
    "loadTree()"
   ]
  },
  {
   "cell_type": "code",
   "execution_count": 69,
   "metadata": {},
   "outputs": [],
   "source": [
    "def cosineDistanceMatching(poseVector1,poseVector2):\n",
    "    '''\n",
    "    Returns the cosine similarity as a distance function between the two L2 normalized vectors.\n",
    "    The distance is inversely porportional to the similarity between the two vectors\n",
    "    '''\n",
    "    poseVector1 , poseVector2 = np.array(poseVector1).reshape(1,-1) , np.array(poseVector2).reshape(1,-1)\n",
    "    cosineDistance = pairwise.cosine_distances(poseVector1 , poseVector2) \n",
    "    distance = np.sqrt(cosineDistance * 2)\n",
    "    return distance\n",
    "\n",
    "    "
   ]
  },
  {
   "cell_type": "code",
   "execution_count": 64,
   "metadata": {},
   "outputs": [],
   "source": [
    "def getPoseData():\n",
    "    '''\n",
    "    Helper function of buildVPTree()\n",
    "    '''\n",
    "    return ARGS['X'].values.tolist()"
   ]
  },
  {
   "cell_type": "code",
   "execution_count": 45,
   "metadata": {},
   "outputs": [],
   "source": [
    "def buildVPTree():\n",
    "    '''\n",
    "    This fuction will build the vptree for the given dataset\n",
    "    '''\n",
    "    poseData = getPoseData()\n",
    "    ARGS['TREE'] = vptree.VPTree(poseData,cosineDistanceMatching)\n"
   ]
  },
  {
   "cell_type": "code",
   "execution_count": 77,
   "metadata": {},
   "outputs": [],
   "source": [
    "def l2Normalize(poses):#NOT USED: BECAUSE POSENET RESULTS --->DATAGEN---->NORMALIZED_DATA\n",
    "    '''\n",
    "    Helper function of findMatch()\n",
    "    PARAM poses: a list containing pose [....]\n",
    "    '''\n",
    "    return preprocessing.normalize([poses], axis=1)[0]"
   ]
  },
  {
   "cell_type": "code",
   "execution_count": 204,
   "metadata": {},
   "outputs": [],
   "source": [
    "def findMatch(pose):\n",
    "    '''\n",
    "    Helper fuction for getPred()\n",
    "    Will get the closest vectors to pose using vantage point tree\n",
    "    \n",
    "    Returns\n",
    "    ---------\n",
    "    similarPoses : a list of tuples. 1 tuple contains distacne and vectors. (0.5 , [..])\n",
    "    '''\n",
    "    similarPoses= ARGS['TREE'].get_nearest_neighbor(pose)\n",
    "    return similarPoses"
   ]
  },
  {
   "cell_type": "code",
   "execution_count": 243,
   "metadata": {},
   "outputs": [],
   "source": [
    "def getSimilarPosesClassesIndex(similarPoses):\n",
    "    '''\n",
    "    Helper function of getPred()\n",
    "    \n",
    "    Parameters\n",
    "    --------------\n",
    "    similarPoses : a list of tuples. 1 tuple contains distacne and vectors. [(0.5 , [..]) , ...] \n",
    "    \n",
    "    Returns \n",
    "    -------------\n",
    "    index : a list of index in the ARGS['X'] dataframe of the vectors found by vptrees\n",
    "    '''\n",
    "    index = []\n",
    "    for d,p in similarPoses:\n",
    "        poseIndexList = ARGS['X'][ARGS['X'] == p].dropna().index.tolist()\n",
    "        index.extend(poseIndexList)\n",
    "    return list(set(index))"
   ]
  },
  {
   "cell_type": "code",
   "execution_count": 244,
   "metadata": {},
   "outputs": [],
   "source": [
    "def getSimilarPosesClasses(indexs):\n",
    "    '''\n",
    "    Helper function of getPred()\n",
    "    \n",
    "    Parameters\n",
    "    ----------\n",
    "    index : a list of index in the ARGS['X'] dataframe of the vectors found by vptrees\n",
    "    \n",
    "    Returns\n",
    "    --------\n",
    "    list : A 2D list with classes of each pose. [[similarVectorClass1],  [....]]\n",
    "    '''\n",
    "    return ARGS['Y'].iloc[indexs].values"
   ]
  },
  {
   "cell_type": "code",
   "execution_count": 245,
   "metadata": {},
   "outputs": [],
   "source": [
    "def getPred(poses):\n",
    "    '''\n",
    "    This function finds the classes of pose in poses using VPTREES\n",
    "    \n",
    "    Parameters\n",
    "    --------- \n",
    "    poses : a 2D list that contains poses for all the humans detected in the frame. \n",
    "    Example [[0_x, 0_y.....17_x,17_y] , [0_x, 0_y.....] , ....... ]\n",
    "    The poses must contain coordinates must be relative to image of size (244 x 244)\n",
    "    Returns\n",
    "    ---------\n",
    "    poesesClasses : a 2D list that contains poses class for each human \n",
    "    Example [['walk'] , ['shoot'] ,......]  \n",
    "    '''\n",
    "    similarPoses = []\n",
    "    for pose in poses:\n",
    "       similarPose = findMatch(pose)\n",
    "       similarPoses.append(similarPose)\n",
    "    classIndexs = getSimilarPosesClasses(similarPoses)\n",
    "    posesClasses = getSimilarPosesClasses(classIndexs)\n",
    "    return posesClasses\n",
    "    "
   ]
  },
  {
   "cell_type": "code",
   "execution_count": null,
   "metadata": {},
   "outputs": [],
   "source": [
    "def fit(posenetPoses):\n",
    "    Dataset.gener"
   ]
  },
  {
   "cell_type": "code",
   "execution_count": 94,
   "metadata": {},
   "outputs": [],
   "source": [
    "def saveTree(fileName):\n",
    "    '''\n",
    "    Save the tree to the path defined at  ARGS['TREEPATH']\n",
    "    Parameters\n",
    "    -----------\n",
    "    fileName : The file name of the plk file\n",
    "    '''\n",
    "    \n",
    "    file_vptree = f\"{ARGS['TREEPATH']}/{fileName}.pkl\"\n",
    "    with open(file_vptree, 'wb') as output:\n",
    "        pickle.dump(ARGS['TREE'], output, pickle.HIGHEST_PROTOCOL)"
   ]
  },
  {
   "cell_type": "code",
   "execution_count": 247,
   "metadata": {},
   "outputs": [],
   "source": [
    "def loadTree():\n",
    "    '''\n",
    "    Loads the tree based on the switch defined at ARGS. Sw\n",
    "    to the path defined at  ARGS['TREEPATH']\n",
    "    Parameters\n",
    "    -----------\n",
    "    fileName : The file name of the plk file\n",
    "    '''\n",
    "    if ARGS['cosineDistanceMatching']:\n",
    "        fileName = 'vptreeCosineDistance'\n",
    "    elif ARGS['weightedDistanceMatching']:\n",
    "        fileName = 'vptreeWeightedDistance'\n",
    "        \n",
    "    file_vptree = f\"{ARGS['TREEPATH']}/{fileName}.pkl\"\n",
    "    with open(file_vptree, 'rb') as input:\n",
    "        ARGS['TREE'] = pickle.load(input) "
   ]
  },
  {
   "cell_type": "code",
   "execution_count": null,
   "metadata": {},
   "outputs": [],
   "source": []
  }
 ],
 "metadata": {
  "kernelspec": {
   "display_name": "Python 3",
   "language": "python",
   "name": "python3"
  },
  "language_info": {
   "codemirror_mode": {
    "name": "ipython",
    "version": 3
   },
   "file_extension": ".py",
   "mimetype": "text/x-python",
   "name": "python",
   "nbconvert_exporter": "python",
   "pygments_lexer": "ipython3",
   "version": "3.7.4"
  },
  "toc": {
   "base_numbering": 1,
   "nav_menu": {},
   "number_sections": true,
   "sideBar": true,
   "skip_h1_title": false,
   "title_cell": "Table of Contents",
   "title_sidebar": "Contents",
   "toc_cell": false,
   "toc_position": {},
   "toc_section_display": true,
   "toc_window_display": false
  },
  "varInspector": {
   "cols": {
    "lenName": 16,
    "lenType": 16,
    "lenVar": 40
   },
   "kernels_config": {
    "python": {
     "delete_cmd_postfix": "",
     "delete_cmd_prefix": "del ",
     "library": "var_list.py",
     "varRefreshCmd": "print(var_dic_list())"
    },
    "r": {
     "delete_cmd_postfix": ") ",
     "delete_cmd_prefix": "rm(",
     "library": "var_list.r",
     "varRefreshCmd": "cat(var_dic_list()) "
    }
   },
   "types_to_exclude": [
    "module",
    "function",
    "builtin_function_or_method",
    "instance",
    "_Feature"
   ],
   "window_display": false
  }
 },
 "nbformat": 4,
 "nbformat_minor": 2
}
