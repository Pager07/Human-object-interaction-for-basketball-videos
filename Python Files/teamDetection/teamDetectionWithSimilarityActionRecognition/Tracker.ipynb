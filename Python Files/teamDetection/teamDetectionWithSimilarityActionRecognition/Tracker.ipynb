{
 "cells": [
  {
   "cell_type": "code",
   "execution_count": 1,
   "metadata": {},
   "outputs": [],
   "source": [
    "import numpy as np"
   ]
  },
  {
   "cell_type": "code",
   "execution_count": 12,
   "metadata": {},
   "outputs": [],
   "source": [
    "prevFrameMidPointsToActionDict = None\n",
    "prevFrameMidPoints = None\n",
    "threshold = 30\n",
    "previousFramePose = {}"
   ]
  },
  {
   "cell_type": "code",
   "execution_count": 5,
   "metadata": {},
   "outputs": [],
   "source": [
    "def getMidPoint(bbox):\n",
    "    '''\n",
    "    Helper function of conertBboxsToMidPoint()\n",
    "    '''\n",
    "    p1, p2 = bbox[0] , bbox[1]\n",
    "    rowMid = (p1[0] + p2[0])/2\n",
    "    widthMid = (p1[1] + p2[1])/2\n",
    "    return (rowMid , widthMid)\n",
    "\n",
    "def convertBboxsToMidPoint(bboxs):\n",
    "    '''\n",
    "     Parameter\n",
    "     ----------\n",
    "     bboxs : A 2D list containing the two coordinates of box, p1(left,top) and p2(right,bottom)\n",
    "     [ [p1 , p2] , ... ] (from getBoxCoord)\n",
    "     \n",
    "     Return\n",
    "     -------------\n",
    "     midPointList : A List containig tuple of mid-point coord for each box\n",
    "     Example : [(mX,mY), ....]\n",
    "    '''\n",
    "    midPointList =  list(map(getMidPoint , bboxs))\n",
    "    return midPointList\n"
   ]
  },
  {
   "cell_type": "code",
   "execution_count": 7,
   "metadata": {},
   "outputs": [],
   "source": [
    "def getDistanceMidToMid(midPoint1, midPoint2):\n",
    "    '''\n",
    "    Helper function of getDistacneMidToMids()\n",
    "    '''\n",
    "    dist = np.sqrt((midPoint1[0] - midPoint2[0])**2 + (midPoint1[1] - midPoint2[1])**2)\n",
    "    return dist\n",
    "\n",
    "def getDistanceMidToMids(midPoint1,midPoints):\n",
    "    '''\n",
    "    This function compares the distacne of 1 mid point to list of midpoints\n",
    "    \n",
    "    Parameter \n",
    "    -----------\n",
    "    midPoint1 : A list containing midPoint coordintes [mx, my]\n",
    "    \n",
    "    Return\n",
    "    -------\n",
    "    distances : Distance of midPoint1 to all other midpoints in midPoints\n",
    "    Example : [3 ,4 ,5 ....]\n",
    "    \n",
    "    '''\n",
    "    distances = [getDistanceMidToMid(midPoint1,midPoint2) for midPoint2 in midPoints]\n",
    "    return distances\n",
    "\n"
   ]
  },
  {
   "cell_type": "code",
   "execution_count": 8,
   "metadata": {},
   "outputs": [],
   "source": [
    "def getAllMidPointsDistance(midPointList):\n",
    "    '''\n",
    "    This function , for each midpoint in midPointList, it find the distance to other midpoints in the \n",
    "    previous frame\n",
    "    \n",
    "    Parameter \n",
    "    ---------\n",
    "    midPointList  :  A list contianing midPoints\n",
    "    Example : [(mx,my)....(mx,my)]\n",
    "    \n",
    "    Return \n",
    "    ----------\n",
    "    midPointsDistances : A 2D list containing distance to all the other midpoints \n",
    "    Example : [ [1,2,3] , [4,5,9] , ... ]\n",
    "    \n",
    "    '''\n",
    "    global prevFrameMidPoints\n",
    "    midPointsDistances = [getDistanceMidToMids(midPoint1 , prevFrameMidPoints) for midPoint1 in midPointList]\n",
    "    return midPointsDistances"
   ]
  },
  {
   "cell_type": "code",
   "execution_count": 17,
   "metadata": {},
   "outputs": [],
   "source": [
    "def getClosestMidPoint(midPointDistance):\n",
    "    '''\n",
    "    Helper function of track()\n",
    "    '''\n",
    "    global prevFrameMidPoints\n",
    "    closestMidPoint = prevFrameMidPoints[np.argmin(midPointDistance)]\n",
    "    distanceToClosestMidPoint = np.min(midPointDistance)\n",
    "    return closestMidPoint , distanceToClosestMidPoint\n",
    "\n",
    "\n",
    "def track(bboxs):\n",
    "    '''\n",
    "    This function will return action for each detectect pose/bbox.\n",
    "    It will do this by finding the closest bounding box in the last frame.\n",
    "    \n",
    "    Parameter\n",
    "    ----------\n",
    "    bboxs  : A list containing bboxs. Where each box contain 2 points of the box\n",
    "    Example : [[p1,p2] , ....[]..]\n",
    "    \n",
    "    Return \n",
    "    -----------\n",
    "    bboxsAction : A dict containing estimated action class for each pose/box in bboxs \n",
    "                None is returned if no closest midpoint is found\n",
    "    Example : [(midpoint): 'Shoot',(midPoint) : None .....] (order is kept)\n",
    "    '''\n",
    "    \n",
    "    global prevFrameMidPointsToActionDict\n",
    "    bboxsAction = {}\n",
    "    \n",
    "    midPointsList = convertBboxsToMidPoint(bboxs)\n",
    "    midPointsDistances = getAllMidPointsDistance(midPointsList)\n",
    "    for midPointDistance in midPointsDistances:\n",
    "        closestMidPoint , distanceToClosestMidPoint = getClosestMidPoint(midPointDistance)\n",
    "        if distanceToClosestMidPoint < threshold:\n",
    "            action =  prevFrameMidPointsToActionDict[closestMidPoint]\n",
    "        else:\n",
    "            action = None\n",
    "        bboxsAction[closestMidPoint] = action\n",
    "    \n",
    "    \n",
    "    return bboxsAction\n"
   ]
  },
  {
   "cell_type": "code",
   "execution_count": 24,
   "metadata": {},
   "outputs": [],
   "source": [
    "def setTracker(bboxs,classes):\n",
    "    '''\n",
    "    This function sets the list of midpoints and dict that contains midPoints and classes.\n",
    "    \n",
    "    Parameter\n",
    "    ----------\n",
    "    bboxs  : A list containing bboxs. Where each box contain 2 points of the box\n",
    "    Example : [[p1,p2] , ....[]..]\n",
    "    \n",
    "    classes :  A list of action classes for the bboxes. It should not contain any None Value\n",
    "    Example : ['Shoot',.......]\n",
    "    '''\n",
    "    global prevFrameMidPoints , prevFrameMidPointsToActionDict\n",
    "    prevFrameMidPoints = convertBboxsToMidPoint(bboxs)\n",
    "    prevFrameMidPointsToActionDict = {midPoint : classes[i][0] for i,midPoint in enumerate(prevFrameMidPoints)}"
   ]
  },
  {
   "cell_type": "code",
   "execution_count": 2,
   "metadata": {},
   "outputs": [],
   "source": [
    "def getBoxCoord(bboxes,imgh,imgw):\n",
    "    '''\n",
    "    Helper function of setPreviousFramePoses\n",
    "    This function finds the left_top and right_bottom coordinates of larger bounding box\n",
    "    Parameter\n",
    "    ---------\n",
    "    bboxes : The posenet box output.\n",
    "             Example: {'bbox':[[box1] , [box2]....]}\n",
    "             (box1 and box2 should be relative to the whole image)\n",
    "    imgh : The image(main/big/not ROI) height\n",
    "    \n",
    "    imgw : The image(main/big/not ROI) width \n",
    "    \n",
    "    Return \n",
    "    -------\n",
    "    boxes : A list with list of coords. \n",
    "            Example : [[p1,p2] , [box2],.......]]. Where p1 and p2 is a list of points\n",
    "    '''\n",
    "    boxes = []\n",
    "    for box in bboxes['bbox']:\n",
    "        points = [tuple(point.values()) for point in box ]\n",
    "        n = 30\n",
    "        points  = np.array(points,dtype=np.int)\n",
    "        \n",
    "        left,top = (points[0][0]-n ,points[0][1]-n) #left_top (w,h)/ (col,row)\n",
    "        right,bottom = (points[2][0]+n ,points[2][1]+n ) #right_bottom\n",
    "        #Applying boundary condition\n",
    "        point1 = ( max(0,left) , max(0,top) )\n",
    "        point2 = ( min(right,imgw) , min(bottom,imgh) )\n",
    "    \n",
    "        boxes.append([point1 , point2])\n",
    "    return boxes \n",
    "\n",
    "def setPreviousFramePoses(bboxs,poses,imgh,imgw):\n",
    "    '''\n",
    "    This function saves this frame for history. \n",
    "    Parameter\n",
    "    ----------\n",
    "    bboxs : The bboxes from posenet. \n",
    "             Example : {'bbox':[[box1] , [box2],.......]}\n",
    "    \n",
    "    poses : Posenet prediction.\n",
    "            This contains keypoints that are relative the the main big image\n",
    "            \n",
    "    '''\n",
    "    global previousFramePose\n",
    "    _, poses = ActionClassificationCosine.getStackedPoses(poses,\n",
    "                                                          bboxes,\n",
    "                                                          imgh,\n",
    "                                                          imgw,\n",
    "                                                          cosine=False)\n",
    "    bboxs = ActionClassificationCosine.getBoxCoord(bboxes,imgh,imgw)\n",
    "    previousFramePose = {m:poses[i] for i,m in enumerate(convertBboxsToMidPoint(bboxs))}"
   ]
  },
  {
   "cell_type": "code",
   "execution_count": null,
   "metadata": {},
   "outputs": [],
   "source": [
    "def isPrevAndCurrentPoseSame(currentPoses,closestPose):\n",
    "    '''\n",
    "    Helper function of updatePoseesClasses\n",
    "    This function finds the distacne between the  current pose and the pose of the last frame\n",
    "    \n",
    "    Parameter\n",
    "    ----------\n",
    "    currentPose : 1D list containing pose and weights [0_x.......17_w_y]\n",
    "    \n",
    "    Return \n",
    "    ---------\n",
    "    bool : True, (if distance is less than x) then the 2 poses are same \n",
    "           False, (distance more than x) then the 2 posese are very different\n",
    "    '''\n",
    "    distance = ActionClassificationCosine.weightedDistanceMatching(currentPoses,closestPose)\n",
    "    if distance < 10:\n",
    "        return True \n",
    "    else:\n",
    "        return False\n",
    "\n",
    "def updatePosesClasses(poses,posesClasses,bboxs,imgh,imgw):\n",
    "    '''\n",
    "    This function will update the action class based on the previous frame \n",
    "    \n",
    "    Parameter\n",
    "    ----------\n",
    "    poses : Posenet prediction.\n",
    "            This contains keypoints that are relative the the main big image\n",
    "    \n",
    "    poesesClasses : a 2D list that contains poses class for each human \n",
    "                    Example [['walk'] , ['shoot'] ,......]  \n",
    "                \n",
    "    bboxes : The bboxes from posenet. \n",
    "             Example : {'bbox':[[box1] , [box2],.......]} \n",
    "    \n",
    "    Return\n",
    "    -------\n",
    "    poesesClasses : a 2D list that contains poses class for each human \n",
    "                    Example [['walk'] , ['shoot'] ,......]  \n",
    "    \n",
    "    '''\n",
    "    global previousFramePose\n",
    "    bboxs = ActionClassificationCosine.getBoxCoord(bboxs,imgh,imgw)\n",
    "    midPointToAction = track(bboxs)\n",
    "    \n",
    "    stackedPoses,_ = ActionClassificationCosine.getStackedPoses(poses,\n",
    "                                                                bboxes,\n",
    "                                                                imgh,\n",
    "                                                                imgw,\n",
    "                                                              cosine=False)\n",
    "    count = 0\n",
    "    for prevMidpoint,action in midPointToAction.items():\n",
    "        if action != None:\n",
    "            currentPose = stackedPoses[count]\n",
    "            closestPose = previousFramePose[prevMidpoint]\n",
    "            if isPrevAndCurrentPoseSame(currentPose,closestPose):\n",
    "                posesClasses[count] = action\n",
    "        count += 1   \n",
    "    return posesClasses"
   ]
  },
  {
   "cell_type": "markdown",
   "metadata": {
    "heading_collapsed": true
   },
   "source": [
    "#Test"
   ]
  },
  {
   "cell_type": "code",
   "execution_count": 18,
   "metadata": {
    "hidden": true
   },
   "outputs": [],
   "source": [
    "#bboxs = [[(97, 311), (311, 586)]]"
   ]
  },
  {
   "cell_type": "code",
   "execution_count": 19,
   "metadata": {
    "hidden": true
   },
   "outputs": [],
   "source": [
    "#mList = convertBboxsToMidPoint(bboxs)"
   ]
  },
  {
   "cell_type": "code",
   "execution_count": 22,
   "metadata": {
    "hidden": true
   },
   "outputs": [
    {
     "ename": "TypeError",
     "evalue": "'NoneType' object is not iterable",
     "output_type": "error",
     "traceback": [
      "\u001b[0;31m---------------------------------------------------------------------------\u001b[0m",
      "\u001b[0;31mTypeError\u001b[0m                                 Traceback (most recent call last)",
      "\u001b[0;32m<ipython-input-22-a189ffda77cd>\u001b[0m in \u001b[0;36m<module>\u001b[0;34m\u001b[0m\n\u001b[0;32m----> 1\u001b[0;31m \u001b[0mgetAllMidPointsDistance\u001b[0m\u001b[0;34m(\u001b[0m\u001b[0mmList\u001b[0m\u001b[0;34m)\u001b[0m\u001b[0;34m\u001b[0m\u001b[0;34m\u001b[0m\u001b[0m\n\u001b[0m",
      "\u001b[0;32m<ipython-input-8-9aa1d7620aaf>\u001b[0m in \u001b[0;36mgetAllMidPointsDistance\u001b[0;34m(midPointList)\u001b[0m\n\u001b[1;32m     16\u001b[0m     '''\n\u001b[1;32m     17\u001b[0m     \u001b[0;32mglobal\u001b[0m \u001b[0mprevFrameMidPoints\u001b[0m\u001b[0;34m\u001b[0m\u001b[0;34m\u001b[0m\u001b[0m\n\u001b[0;32m---> 18\u001b[0;31m     \u001b[0mmidPointsDistances\u001b[0m \u001b[0;34m=\u001b[0m \u001b[0;34m[\u001b[0m\u001b[0mgetDistanceMidToMids\u001b[0m\u001b[0;34m(\u001b[0m\u001b[0mmidPoint1\u001b[0m \u001b[0;34m,\u001b[0m \u001b[0mprevFrameMidPoints\u001b[0m\u001b[0;34m)\u001b[0m \u001b[0;32mfor\u001b[0m \u001b[0mmidPoint1\u001b[0m \u001b[0;32min\u001b[0m \u001b[0mmidPointList\u001b[0m\u001b[0;34m]\u001b[0m\u001b[0;34m\u001b[0m\u001b[0;34m\u001b[0m\u001b[0m\n\u001b[0m\u001b[1;32m     19\u001b[0m     \u001b[0;32mreturn\u001b[0m \u001b[0mmidPointsDistances\u001b[0m\u001b[0;34m\u001b[0m\u001b[0;34m\u001b[0m\u001b[0m\n",
      "\u001b[0;32m<ipython-input-8-9aa1d7620aaf>\u001b[0m in \u001b[0;36m<listcomp>\u001b[0;34m(.0)\u001b[0m\n\u001b[1;32m     16\u001b[0m     '''\n\u001b[1;32m     17\u001b[0m     \u001b[0;32mglobal\u001b[0m \u001b[0mprevFrameMidPoints\u001b[0m\u001b[0;34m\u001b[0m\u001b[0;34m\u001b[0m\u001b[0m\n\u001b[0;32m---> 18\u001b[0;31m     \u001b[0mmidPointsDistances\u001b[0m \u001b[0;34m=\u001b[0m \u001b[0;34m[\u001b[0m\u001b[0mgetDistanceMidToMids\u001b[0m\u001b[0;34m(\u001b[0m\u001b[0mmidPoint1\u001b[0m \u001b[0;34m,\u001b[0m \u001b[0mprevFrameMidPoints\u001b[0m\u001b[0;34m)\u001b[0m \u001b[0;32mfor\u001b[0m \u001b[0mmidPoint1\u001b[0m \u001b[0;32min\u001b[0m \u001b[0mmidPointList\u001b[0m\u001b[0;34m]\u001b[0m\u001b[0;34m\u001b[0m\u001b[0;34m\u001b[0m\u001b[0m\n\u001b[0m\u001b[1;32m     19\u001b[0m     \u001b[0;32mreturn\u001b[0m \u001b[0mmidPointsDistances\u001b[0m\u001b[0;34m\u001b[0m\u001b[0;34m\u001b[0m\u001b[0m\n",
      "\u001b[0;32m<ipython-input-7-74b04996eae6>\u001b[0m in \u001b[0;36mgetDistanceMidToMids\u001b[0;34m(midPoint1, midPoints)\u001b[0m\n\u001b[1;32m      4\u001b[0m \u001b[0;34m\u001b[0m\u001b[0m\n\u001b[1;32m      5\u001b[0m \u001b[0;32mdef\u001b[0m \u001b[0mgetDistanceMidToMids\u001b[0m\u001b[0;34m(\u001b[0m\u001b[0mmidPoint1\u001b[0m\u001b[0;34m,\u001b[0m\u001b[0mmidPoints\u001b[0m\u001b[0;34m)\u001b[0m\u001b[0;34m:\u001b[0m\u001b[0;34m\u001b[0m\u001b[0;34m\u001b[0m\u001b[0m\n\u001b[0;32m----> 6\u001b[0;31m     \u001b[0mdistances\u001b[0m \u001b[0;34m=\u001b[0m \u001b[0;34m[\u001b[0m\u001b[0mgetDistanceMidToMid\u001b[0m\u001b[0;34m(\u001b[0m\u001b[0mmidPoint1\u001b[0m\u001b[0;34m,\u001b[0m\u001b[0mmidPoint2\u001b[0m\u001b[0;34m)\u001b[0m \u001b[0;32mfor\u001b[0m \u001b[0mmidPoint2\u001b[0m \u001b[0;32min\u001b[0m \u001b[0mmidPoints\u001b[0m\u001b[0;34m]\u001b[0m\u001b[0;34m\u001b[0m\u001b[0;34m\u001b[0m\u001b[0m\n\u001b[0m\u001b[1;32m      7\u001b[0m     \u001b[0;32mreturn\u001b[0m \u001b[0mdistances\u001b[0m\u001b[0;34m\u001b[0m\u001b[0;34m\u001b[0m\u001b[0m\n\u001b[1;32m      8\u001b[0m \u001b[0;34m\u001b[0m\u001b[0m\n",
      "\u001b[0;31mTypeError\u001b[0m: 'NoneType' object is not iterable"
     ]
    }
   ],
   "source": [
    " #getAllMidPointsDistance(mList)"
   ]
  },
  {
   "cell_type": "code",
   "execution_count": 23,
   "metadata": {
    "hidden": true
   },
   "outputs": [],
   "source": []
  },
  {
   "cell_type": "code",
   "execution_count": null,
   "metadata": {
    "hidden": true
   },
   "outputs": [],
   "source": []
  }
 ],
 "metadata": {
  "kernelspec": {
   "display_name": "Python 3",
   "language": "python",
   "name": "python3"
  },
  "language_info": {
   "codemirror_mode": {
    "name": "ipython",
    "version": 3
   },
   "file_extension": ".py",
   "mimetype": "text/x-python",
   "name": "python",
   "nbconvert_exporter": "python",
   "pygments_lexer": "ipython3",
   "version": "3.7.4"
  },
  "toc": {
   "base_numbering": 1,
   "nav_menu": {},
   "number_sections": true,
   "sideBar": true,
   "skip_h1_title": false,
   "title_cell": "Table of Contents",
   "title_sidebar": "Contents",
   "toc_cell": false,
   "toc_position": {},
   "toc_section_display": true,
   "toc_window_display": false
  },
  "varInspector": {
   "cols": {
    "lenName": 16,
    "lenType": 16,
    "lenVar": 40
   },
   "kernels_config": {
    "python": {
     "delete_cmd_postfix": "",
     "delete_cmd_prefix": "del ",
     "library": "var_list.py",
     "varRefreshCmd": "print(var_dic_list())"
    },
    "r": {
     "delete_cmd_postfix": ") ",
     "delete_cmd_prefix": "rm(",
     "library": "var_list.r",
     "varRefreshCmd": "cat(var_dic_list()) "
    }
   },
   "types_to_exclude": [
    "module",
    "function",
    "builtin_function_or_method",
    "instance",
    "_Feature"
   ],
   "window_display": false
  }
 },
 "nbformat": 4,
 "nbformat_minor": 2
}
