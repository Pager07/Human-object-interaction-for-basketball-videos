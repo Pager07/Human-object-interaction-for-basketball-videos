{
 "cells": [
  {
   "cell_type": "markdown",
   "metadata": {},
   "source": [
    "#Importing"
   ]
  },
  {
   "cell_type": "code",
   "execution_count": 2,
   "metadata": {},
   "outputs": [],
   "source": [
    "import matplotlib.pyplot as plt\n",
    "import fastai\n",
    "import cv2\n",
    "from fastai.vision import *\n",
    "%matplotlib inline\n",
    "import torchvision\n",
    "%matplotlib inline"
   ]
  },
  {
   "cell_type": "markdown",
   "metadata": {},
   "source": [
    "#Loading model"
   ]
  },
  {
   "cell_type": "code",
   "execution_count": 3,
   "metadata": {},
   "outputs": [],
   "source": [
    "learn = load_learner(\"/Users/sandeep/Desktop/dataandmodles/models/ballDetection\")"
   ]
  },
  {
   "cell_type": "markdown",
   "metadata": {
    "heading_collapsed": true
   },
   "source": [
    "#Getting prediction"
   ]
  },
  {
   "cell_type": "code",
   "execution_count": 4,
   "metadata": {
    "hidden": true
   },
   "outputs": [],
   "source": [
    "def unscaleCoord(imagePoint):\n",
    "  '''\n",
    "  Helper function for getPrediction\n",
    "  Returns \n",
    "  -----------\n",
    "  unscaleCoord : [Height,Width]\n",
    "  '''\n",
    "  s = torch.tensor([imagePoint.size[0]/2 , imagePoint.size[1]/2],dtype=torch.float32)\n",
    "  scaledCoord = imagePoint.data\n",
    "  unscaledCoord = (scaledCoord+1.) * (s)\n",
    "  return unscaledCoord"
   ]
  },
  {
   "cell_type": "code",
   "execution_count": 5,
   "metadata": {
    "hidden": true
   },
   "outputs": [],
   "source": [
    "def getScaleFactors(imgW, imgH, originalImgH , originalImgW):\n",
    "    '''\n",
    "    Helper function for getPrediction\n",
    "    \n",
    "    Return\n",
    "    --------\n",
    "    A tensor with given scalefactor (wdith,height). \n",
    "    '''\n",
    "    return tensor(originalImgW/imgW , originalImgH/imgH);"
   ]
  },
  {
   "cell_type": "code",
   "execution_count": 8,
   "metadata": {
    "hidden": true
   },
   "outputs": [],
   "source": [
    "def resizeFrame(frame):\n",
    "    '''\n",
    "    Helper function for getPrediction: that resizes the frames.\n",
    "    Returns image of size (490, 360)\n",
    "    '''\n",
    "    resizedImg =  cv2.resize(frame[:] , (490 , 360))\n",
    "    return resizedImg"
   ]
  },
  {
   "cell_type": "code",
   "execution_count": 9,
   "metadata": {
    "hidden": true
   },
   "outputs": [],
   "source": [
    "def mapToOrginialImage(coord,scaleFactors):\n",
    "    '''\n",
    "      Helper function for getPrediction\n",
    "      Returns coord (width, height)\n",
    "    '''\n",
    "    coordInOriginalImage = coord.flip(1) * scaleFactors\n",
    "    return tuple(coordInOriginalImage[0].numpy())"
   ]
  },
  {
   "cell_type": "code",
   "execution_count": 11,
   "metadata": {
    "hidden": true
   },
   "outputs": [],
   "source": [
    "def getPrediction(frame):\n",
    "    '''\n",
    "        Given an image, returns the ball coord \n",
    "    '''\n",
    "    resizedImg  = resizeFrame(frame[:])\n",
    "#     resizedImg  = frame\n",
    "    resizedImg = cv2.cvtColor(resizedImg, cv2.COLOR_BGR2RGB)\n",
    "    resizedImg = Image(pil2tensor(resizedImg, dtype=np.float32).div_(255))\n",
    "    imagePoint = learn.predict(resizedImg)[0]\n",
    "    scaleFactors = getScaleFactors(490,360,frame.shape[0],frame.shape[1])  \n",
    "    unscaledCoord = unscaleCoord(imagePoint)\n",
    "    coordInOriginalImage= mapToOrginialImage(unscaledCoord, scaleFactors);\n",
    "    return coordInOriginalImage\n"
   ]
  },
  {
   "cell_type": "markdown",
   "metadata": {},
   "source": [
    "#Puting prediction into original image"
   ]
  },
  {
   "cell_type": "code",
   "execution_count": 21,
   "metadata": {},
   "outputs": [],
   "source": [
    "def drawPrediction(frame,coord):\n",
    "    '''\n",
    "    Given a frame and coordinate\n",
    "    It draws a circle for you.\n",
    "    '''\n",
    "   # scaleFactors = getScaleFactors(490,360,frame.shape[0],frame.shape[1])   \n",
    "    #coordInOriginalImage= mapToOrginialImage(coord, scaleFactors);\n",
    "    frame = cv2.circle(frame,coord,30,(255,255,0),1);\n",
    "    return frame"
   ]
  },
  {
   "cell_type": "markdown",
   "metadata": {},
   "source": [
    "#Test"
   ]
  },
  {
   "cell_type": "code",
   "execution_count": null,
   "metadata": {},
   "outputs": [],
   "source": []
  }
 ],
 "metadata": {
  "kernelspec": {
   "display_name": "Python 3",
   "language": "python",
   "name": "python3"
  },
  "language_info": {
   "codemirror_mode": {
    "name": "ipython",
    "version": 3
   },
   "file_extension": ".py",
   "mimetype": "text/x-python",
   "name": "python",
   "nbconvert_exporter": "python",
   "pygments_lexer": "ipython3",
   "version": "3.7.4"
  },
  "toc": {
   "base_numbering": 1,
   "nav_menu": {},
   "number_sections": true,
   "sideBar": true,
   "skip_h1_title": false,
   "title_cell": "Table of Contents",
   "title_sidebar": "Contents",
   "toc_cell": false,
   "toc_position": {},
   "toc_section_display": true,
   "toc_window_display": false
  },
  "varInspector": {
   "cols": {
    "lenName": 16,
    "lenType": 16,
    "lenVar": 40
   },
   "kernels_config": {
    "python": {
     "delete_cmd_postfix": "",
     "delete_cmd_prefix": "del ",
     "library": "var_list.py",
     "varRefreshCmd": "print(var_dic_list())"
    },
    "r": {
     "delete_cmd_postfix": ") ",
     "delete_cmd_prefix": "rm(",
     "library": "var_list.r",
     "varRefreshCmd": "cat(var_dic_list()) "
    }
   },
   "types_to_exclude": [
    "module",
    "function",
    "builtin_function_or_method",
    "instance",
    "_Feature"
   ],
   "window_display": false
  }
 },
 "nbformat": 4,
 "nbformat_minor": 2
}
