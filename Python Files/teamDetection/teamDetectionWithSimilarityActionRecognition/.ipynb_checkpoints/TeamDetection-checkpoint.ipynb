{
 "cells": [
  {
   "cell_type": "code",
   "execution_count": 1,
   "metadata": {
    "scrolled": true
   },
   "outputs": [
    {
     "name": "stdout",
     "output_type": "stream",
     "text": [
      "importing Jupyter notebook from GazeModule.ipynb\n",
      "importing Jupyter notebook from DrawPose.ipynb\n"
     ]
    }
   ],
   "source": [
    "import cv2 \n",
    "import numpy as np\n",
    "import time\n",
    "import math\n",
    "from scipy.spatial import distance\n",
    "from sklearn.cluster import KMeans\n",
    "import import_ipynb\n",
    "import imutils \n",
    "import copy\n",
    "import GazeModule\n"
   ]
  },
  {
   "cell_type": "markdown",
   "metadata": {},
   "source": [
    "File info:\n"
   ]
  },
  {
   "cell_type": "markdown",
   "metadata": {
    "heading_collapsed": true
   },
   "source": [
    "#Action Classification Similarity Function"
   ]
  },
  {
   "cell_type": "code",
   "execution_count": 2,
   "metadata": {
    "hidden": true
   },
   "outputs": [
    {
     "name": "stdout",
     "output_type": "stream",
     "text": [
      "importing Jupyter notebook from ActionClassificationCosine.ipynb\n",
      "importing Jupyter notebook from ActionClassificationCosineDatasetGen.ipynb\n",
      "Loading Poses Data....\n",
      "Initializing VPTREE....\n",
      "VPTREE Ready To Use....\n",
      "importing Jupyter notebook from SinglePlayerPoseDatasetGen.ipynb\n",
      "importing Jupyter notebook from Tracker.ipynb\n"
     ]
    }
   ],
   "source": [
    "def weightedDistanceMatching(poseVector1,poseVector2):\n",
    "    '''\n",
    "    \n",
    "    Parameters\n",
    "    ----------\n",
    "    (poseVector1 : a 2D list pose vector of a human + theta [[poseVec],[thetaVector]]\n",
    "    theta : weigths for human pose vector\n",
    "    Example theta = [w_0x , w_0y.........w_17x, w_17y])\n",
    "    or \n",
    "    (poseVector1 : a 1D list pose vector of a human, used for building tree. \n",
    "    theta : A list with of ones. \n",
    "    Example [1,1,.....1] (17x1) )\n",
    "    \n",
    "    poseVector2 : pose vector that is to be compared with the human\n",
    "    \n",
    "    \n",
    "    \n",
    "    Returns\n",
    "    ------------\n",
    "    weigtheDistance  : \n",
    "    '''\n",
    "    poseVector1 = np.array(poseVector1) \n",
    "    if poseVector1.shape[0] == 36:\n",
    "        poseVector1 = poseVector1.reshape(1,-1)\n",
    "        theta = np.ones_like(poseVector1)\n",
    "    elif poseVector1.shape[0] == 72:\n",
    "        poseVector1 = poseVector1.reshape(2,36)\n",
    "        theta = poseVector1[1]\n",
    "        poseVector1 = poseVector1[0]\n",
    "    \n",
    "    poseVector2 = np.array(poseVector2).reshape(1,-1)\n",
    "    term1 = 1/ np.sum(theta)\n",
    "    #Finding term 2\n",
    "    distanceTranspose = np.absolute(poseVector1 - poseVector2).transpose()\n",
    "    term2 = np.matmul(theta,distanceTranspose)\n",
    "\n",
    "        \n",
    "    \n",
    "    return term1 * term2\n",
    "\n",
    "def cosineDistanceMatching(poseVector1,poseVector2):\n",
    "    '''\n",
    "    Returns\n",
    "    -------\n",
    "    distacne: the cosine similarity as a distance function between the two L2 normalized vectors.\n",
    "    The distance is inversely porportional to the similarity between the two vectors\n",
    "    '''\n",
    "    poseVector1 , poseVector2 = np.array(poseVector1).reshape(1,-1) , np.array(poseVector2).reshape(1,-1)\n",
    "    cosineDistance = pairwise.cosine_distances(poseVector1 , poseVector2) \n",
    "    distance = np.sqrt(cosineDistance * 2)\n",
    "    return distance\n",
    "\n",
    "\n",
    "%load_ext autoreload\n",
    "%autoreload 2\n",
    "import ActionClassificationCosine\n",
    "import Tracker"
   ]
  },
  {
   "cell_type": "markdown",
   "metadata": {},
   "source": [
    "#Loading and initialising yolov3 from opencv"
   ]
  },
  {
   "cell_type": "code",
   "execution_count": 3,
   "metadata": {},
   "outputs": [],
   "source": [
    "args = {\n",
    "          \"confThreshold\": 0.88,\n",
    "          \"nmsThreshold\":0.4,\n",
    "          \"inpWidth\":416,\n",
    "          \"inpHeight\":416,\n",
    "          \"bboxAreaToImageArea\":0.15,\n",
    "          \"knnLearner\" : None,\n",
    "          \"team0\":'MIL',\n",
    "          \"team1\":'CAVS',\n",
    "          \"colorBoundaries\":[\n",
    "                        ([ 56, -7 ,186], [196, 133, 266]), #white/team0/HSV/ FOR BASIC\n",
    "                        ([160-70,170-80, 60-30], [160+70,170+80, 60+30]) #red/team1/HSV\n",
    "                        ],\n",
    "          \"team0HSV\":[135,50,215], #white/team0/HSV/For KMEANS\n",
    "          \"team1HSV\":[170,50,70], #red/team1/HSV\n",
    "          \"yolo\": False,\n",
    "          \"mask-rcnn\" : False,\n",
    "          \"net\" : None,\n",
    "          \"output_layer_names\" : None\n",
    "        }\n",
    "\n",
    "\n"
   ]
  },
  {
   "cell_type": "code",
   "execution_count": 4,
   "metadata": {},
   "outputs": [],
   "source": [
    "with open(\"/Users/sandeep/Desktop/dataandmodles/models/teamDetection/coco.names\", 'rt') as f:\n",
    "    classes = f.read().rstrip('\\n').split('\\n')"
   ]
  },
  {
   "cell_type": "code",
   "execution_count": 5,
   "metadata": {},
   "outputs": [],
   "source": [
    "# Get the names of the output layers of the CNN network\n",
    "# net : an OpenCV DNN module network object\n",
    "def getOutputsNames(net):\n",
    "    if args['yolo']:\n",
    "        # Get the names of all the layers in the network\n",
    "        layersNames = net.getLayerNames()\n",
    "        # Get the names of the output layers, i.e. the layers with unconnected outputs\n",
    "        return [layersNames[i[0] - 1] for i in net.getUnconnectedOutLayers()]\n",
    "    else:\n",
    "        return [\"detection_out_final\", \"detection_masks\"]"
   ]
  },
  {
   "cell_type": "code",
   "execution_count": 6,
   "metadata": {},
   "outputs": [],
   "source": [
    "def loadYolo():\n",
    "    rootDir = '/Users/sandeep/Desktop/dataandmodles/models/teamDetection'\n",
    "    args['net'] = cv2.dnn.readNet(rootDir+\"/yolov3.weights\",rootDir+\"/yolov3.cfg\")\n",
    "    net = args['net']\n",
    "    net.setPreferableBackend(cv2.dnn.DNN_BACKEND_DEFAULT)\n",
    "    # change to cv2.dnn.DNN_TARGET_CPU (slower) if this causes issues (should fail gracefully if OpenCL not available)\n",
    "    net.setPreferableTarget(cv2.dnn.DNN_TARGET_OPENCL)\n",
    "    args['output_layer_names'] = getOutputsNames(args['net'])"
   ]
  },
  {
   "cell_type": "markdown",
   "metadata": {
    "heading_collapsed": true
   },
   "source": [
    "#Loading Mask-RCNN"
   ]
  },
  {
   "cell_type": "code",
   "execution_count": 7,
   "metadata": {
    "hidden": true
   },
   "outputs": [],
   "source": [
    "def loadMaskRcnn():\n",
    "    #Load colors \n",
    "    RED_COLOR = np.array([255, 0, 0]) \n",
    "    BLACK_COLOR = np.array([255, 255, 255]) \n",
    "    # Load classes\n",
    "    classes_file = \"/Users/sandeep/Desktop/MaskRCNNopencv/mscoco_labels.names\"\n",
    "    text_graph = '/Users/sandeep/Desktop/dataandmodles/models/teamDetection/Mask_RCNN/mask_rcnn_inception_v2_coco_2018_01_28.pbtxt'\n",
    "    model_weights = '/Users/sandeep/Desktop/dataandmodles/models/teamDetection/Mask_RCNN/mask_rcnn_inception_v2_coco_2018_01_28/frozen_inference_graph.pb'\n",
    "\n",
    "    # load our Mask R-CNN trained on the COCO dataset (90 classes) from disk\n",
    "    print(\"[INFO] loading Mask R-CNN from disk...\")\n",
    "    args['net'] = cv2.dnn.readNetFromTensorflow(model_weights, text_graph)\n",
    "    args['output_layer_names'] = getOutputsNames(args['net'])"
   ]
  },
  {
   "cell_type": "markdown",
   "metadata": {
    "heading_collapsed": true
   },
   "source": [
    "#Opencv setup"
   ]
  },
  {
   "cell_type": "code",
   "execution_count": 8,
   "metadata": {
    "hidden": true
   },
   "outputs": [],
   "source": [
    "# dummy on trackbar callback function\n",
    "def on_trackbar(val):\n",
    "    return"
   ]
  },
  {
   "cell_type": "code",
   "execution_count": 9,
   "metadata": {
    "hidden": true
   },
   "outputs": [],
   "source": [
    "def openDisplayWindow():\n",
    "    windowName = 'YOLOv3 Team detection'\n",
    "    cv2.namedWindow(windowName , cv2.WINDOW_NORMAL) \n",
    "    trackbarName = 'reporting confidence > (x 0.01)'\n",
    "    cv2.createTrackbar(trackbarName,windowName,70,100, on_trackbar)\n",
    "    return windowName , trackbarName\n"
   ]
  },
  {
   "cell_type": "markdown",
   "metadata": {
    "heading_collapsed": true
   },
   "source": [
    "#HelperFunction:Drawing Prediction"
   ]
  },
  {
   "cell_type": "code",
   "execution_count": 10,
   "metadata": {
    "hidden": true
   },
   "outputs": [],
   "source": [
    "def drawPred(image,actionClass,team, confidence, left, top, right, bottom, colour,roi=None,mask=None):\n",
    "    \n",
    "    if args['yolo'] == False:\n",
    "        blended = ((0.4 * np.array(colour)) + (0.6 * roi)).astype(\"uint8\")\n",
    "        image[top:bottom, left:right][mask] = blended\n",
    "        \n",
    "    \n",
    "    # Draw a bounding box.\n",
    "    cv2.rectangle(image, (left, top), (right, bottom), colour, 1)\n",
    "\n",
    "    # construct label\n",
    "    label = '%s:%.2f' % (actionClass, confidence)\n",
    "    \n",
    "    #Display the label at the top of the bounding box\n",
    "    labelSize, baseLine = cv2.getTextSize(label, cv2.FONT_HERSHEY_SIMPLEX, 0.5, 1)\n",
    "    labelSize = (116,12)\n",
    "    top = max(top, labelSize[1])\n",
    "    pt1 = (left, top - round(1.5*labelSize[1])) \n",
    "    pt2 = (left + round(1.5*labelSize[0]), top + baseLine)\n",
    "    cv2.rectangle(image,pt1 , pt2 , colour, cv2.FILLED)\n",
    "    \n",
    "    cv2.putText(image, label, (left, top), cv2.FONT_HERSHEY_SIMPLEX, 0.75, (0,0,0), 1)"
   ]
  },
  {
   "cell_type": "markdown",
   "metadata": {
    "heading_collapsed": true
   },
   "source": [
    "#HelperFunction:Post Procces"
   ]
  },
  {
   "cell_type": "code",
   "execution_count": 11,
   "metadata": {
    "hidden": true
   },
   "outputs": [],
   "source": [
    "def postprocess(image, results, threshold_confidence, threshold_nms, yolo=True, raw_masks=None):\n",
    "    frameHeight = image.shape[0]\n",
    "    frameWidth = image.shape[1]\n",
    "\n",
    "    # Scan through all the bounding boxes output from the network and..\n",
    "    # 1. keep only the ones with high confidence scores.\n",
    "    # 2. assign the box class label as the class with the highest score.\n",
    "    # 3. construct a list of bounding boxes, class labels and confidence scores\n",
    "\n",
    "    classIds = []\n",
    "    confidences = []\n",
    "    boxes = []\n",
    "    masks = []\n",
    "    if yolo:\n",
    "        for result in results:\n",
    "            for detection in result:\n",
    "                scores = detection[5:]\n",
    "                classId = np.argmax(scores)\n",
    "                confidence = scores[classId]\n",
    "                if confidence > threshold_confidence:\n",
    "                    center_x = int(detection[0] * frameWidth)\n",
    "                    center_y = int(detection[1] * frameHeight)\n",
    "                    width = int(detection[2] * frameWidth)\n",
    "                    height = int(detection[3] * frameHeight)\n",
    "                    left = int(center_x - width / 2)\n",
    "                    top = int(center_y - height / 2)\n",
    "                    classIds.append(classId)\n",
    "                    confidences.append(float(confidence))\n",
    "                    boxes.append([left, top, width, height])\n",
    "    else:\n",
    "        for i in range(0, results.shape[2]):\n",
    "            classId = int(results[0, 0, i, 1])\n",
    "            confidence = results[0, 0, i, 2]\n",
    "            if confidence > threshold_confidence:\n",
    "                box = results[0, 0, i, 3:7] * np.array([frameWidth, frameHeight, frameWidth, frameHeight])\n",
    "                (left, top, right, bottom) = box.astype(\"int\")\n",
    "                boxW = right - left\n",
    "                boxH = bottom - top\n",
    "                mask = raw_masks[i, classId]\n",
    "                mask = cv2.resize(mask, (boxW, boxH), interpolation = cv2.INTER_NEAREST)\n",
    "                mask = (mask > 0.3)\n",
    "                classIds.append(classId)\n",
    "                confidences.append(float(confidence))\n",
    "                boxes.append([int(left), int(top), int(boxW), int(boxH)])\n",
    "                masks.append(mask)\n",
    "\n",
    "    # Perform non maximum suppression to eliminate redundant overlapping boxes with\n",
    "    # lower confidences\n",
    "    classIds_nms = []\n",
    "    confidences_nms = []\n",
    "    boxes_nms = []\n",
    "    masks_nms = []\n",
    "    indices = cv2.dnn.NMSBoxes(boxes, confidences, threshold_confidence, threshold_nms)\n",
    "    for i in indices:\n",
    "        i = i[0]\n",
    "        classIds_nms.append(classIds[i])\n",
    "        confidences_nms.append(confidences[i])\n",
    "        boxes_nms.append(boxes[i])\n",
    "        if yolo == False:\n",
    "            masks_nms.append(masks[i])\n",
    "            \n",
    "    # return post processed lists of classIds, confidences and bounding boxes\n",
    "    if yolo:\n",
    "        return (classIds_nms, confidences_nms, boxes_nms)\n",
    "    else:\n",
    "        return (classIds_nms, confidences_nms, boxes_nms , masks_nms)"
   ]
  },
  {
   "cell_type": "markdown",
   "metadata": {
    "heading_collapsed": true
   },
   "source": [
    "#Filtering the preditction"
   ]
  },
  {
   "cell_type": "code",
   "execution_count": 12,
   "metadata": {
    "hidden": true
   },
   "outputs": [],
   "source": [
    "def check_bbox_size(bboxW,bboxH,imgW,imgH):\n",
    "    bboxToImg = (bboxW*bboxH) / (imgW * imgH)\n",
    "    return bboxToImg <= args['bboxAreaToImageArea']"
   ]
  },
  {
   "cell_type": "code",
   "execution_count": 13,
   "metadata": {
    "hidden": true
   },
   "outputs": [],
   "source": [
    "def check_label(label_id):\n",
    "    return label_id == 0"
   ]
  },
  {
   "cell_type": "markdown",
   "metadata": {
    "heading_collapsed": true
   },
   "source": [
    "#ROI color detection"
   ]
  },
  {
   "cell_type": "code",
   "execution_count": 14,
   "metadata": {
    "hidden": true
   },
   "outputs": [],
   "source": [
    "def getRoi(frame, left,top,right,bottom,mask):\n",
    "    '''\n",
    "    Helper function for detect_teams\n",
    "    Returns ROI(region of interest) \n",
    "    '''\n",
    "    if args['yolo']:\n",
    "        roi = frame[top:bottom , left:right,:]\n",
    "    else:\n",
    "        roi = frame[top:bottom , left:right,:][mask]\n",
    "        \n",
    "    return roi"
   ]
  },
  {
   "cell_type": "code",
   "execution_count": 15,
   "metadata": {
    "hidden": true
   },
   "outputs": [],
   "source": [
    "def countNonBalckPix(roiMasked):\n",
    "    '''\n",
    "    Helper function for findColorRatio\n",
    "    Returns the number of non black pixels in the roi\n",
    "    '''\n",
    "    return roiMasked.any(axis = -1).sum()"
   ]
  },
  {
   "cell_type": "code",
   "execution_count": 16,
   "metadata": {
    "hidden": true
   },
   "outputs": [],
   "source": [
    "def getColorRatio(roi,show=False):\n",
    "    '''\n",
    "    Helper function for detect teams\n",
    "    Returns a list, that contains percentage of the pixel that have the team %colors\n",
    "    Example: [0.9 , 0.1]. 90% of the pixels are of team 1\n",
    "    '''\n",
    "    ratioList = []\n",
    "    \n",
    "    for teamColorLower,teamColorUpper in args['colorBoundaries']:\n",
    "        mask = cv2.inRange(roi , np.array(teamColorLower) , np.array(teamColorUpper))\n",
    "        roiMasked = cv2.bitwise_and(roi,roi,mask=mask)\n",
    "        totalColorPix = countNonBalckPix(roiMasked)\n",
    "        totalPix = countNonBalckPix(roi)\n",
    "        colorPixRatio = totalColorPix / totalPix\n",
    "        ratioList.append(colorPixRatio)\n",
    "        #print(f'totalColrPix:{totalColorPix} , totalPx:{totalPix}')\n",
    "        if show == True:\n",
    "            cv2.imshow(\"images\", np.hstack([roi,roiMasked]))\n",
    "            if cv2.waitKey(0) & 0xFF == ord('q'):\n",
    "              cv2.destroyAllWindows() \n",
    "\n",
    "    return np.array(ratioList)    "
   ]
  },
  {
   "cell_type": "code",
   "execution_count": 17,
   "metadata": {
    "hidden": true
   },
   "outputs": [],
   "source": [
    "# img = cv2.imread('/Users/sandeep/Desktop/dataandmodles/data/cavs.JPG')\n",
    "# roi = cv2.cvtColor(img, cv2.COLOR_BGR2HSV)\n",
    "# getColorRatio(roi, show=True)"
   ]
  },
  {
   "cell_type": "code",
   "execution_count": 18,
   "metadata": {
    "hidden": true
   },
   "outputs": [],
   "source": [
    "def compareRatio(ratioList):\n",
    "    '''\n",
    "    Helper function for detectTeam\n",
    "    Finds the team with highest color ratio.\n",
    "    Returns string team names or \"Uncertain\" if not sure\n",
    "    '''\n",
    "    maxRatio = max(ratioList)\n",
    "    if maxRatio < 0.1:\n",
    "        return 'Uncertain'\n",
    "    else:      \n",
    "        if ratioList[1] > ratioList[0]:\n",
    "            return 'team1'\n",
    "        elif ratioList[1] <= ratioList[0]:\n",
    "            return'team0'\n",
    "            \n",
    "    "
   ]
  },
  {
   "cell_type": "code",
   "execution_count": 19,
   "metadata": {
    "hidden": true
   },
   "outputs": [],
   "source": [
    "def detectTeamBasic(img,left,top,right,bottom,mask=None):\n",
    "    '''\n",
    "    Given an image(BGR) and the location of ROI\n",
    "    Finds the team based on ROI color\n",
    "    '''\n",
    "    roi = getRoi(img,left,top,right,bottom,mask)\n",
    "    if args['yolo']:\n",
    "        roiHSV = np.array(cv2.cvtColor(roi, cv2.COLOR_BGR2HSV))\n",
    "    else:#For mask rcnn, roi will contain list of pixles in mask region\n",
    "        roi_reshaped = np.reshape(roi,(1,roi.shape[0],3))\n",
    "        roiHSV = np.array(cv2.cvtColor(roi_reshaped, cv2.COLOR_BGR2HSV))\n",
    "\n",
    "    ratioList = getColorRatio(roiHSV)\n",
    "    team = compareRatio(ratioList)\n",
    "    \n",
    "    if args['yolo']:\n",
    "        return team\n",
    "    else:\n",
    "        return team , roi"
   ]
  },
  {
   "cell_type": "code",
   "execution_count": 20,
   "metadata": {
    "hidden": true
   },
   "outputs": [],
   "source": [
    "def getTeamInfo(team):\n",
    "    if team == 'Uncertain':\n",
    "        return (0,0,0) , 'Uncertain'\n",
    "    elif team == 'team0': \n",
    "        return (0,213,255) , args[team]\n",
    "    else:\n",
    "        return (36,36,158) , args[team]"
   ]
  },
  {
   "cell_type": "markdown",
   "metadata": {
    "heading_collapsed": true
   },
   "source": [
    "#Team using K-means"
   ]
  },
  {
   "cell_type": "code",
   "execution_count": 21,
   "metadata": {
    "hidden": true
   },
   "outputs": [],
   "source": [
    "def findHistogram(learner):\n",
    "    '''\n",
    "    Helper function for detectTeamsKmeans\n",
    "    Returns a histrogam object for an ROI\n",
    "    '''\n",
    "    numLabels = np.arange(0, len(np.unique(learner.labels_)) + 1)\n",
    "    (hist, _) = np.histogram(learner.labels_, bins=numLabels)\n",
    "    \n",
    "    hist = hist.astype(\"float\")\n",
    "    hist /= hist.sum()\n",
    "    return hist\n",
    "\n"
   ]
  },
  {
   "cell_type": "code",
   "execution_count": 22,
   "metadata": {
    "hidden": true
   },
   "outputs": [],
   "source": [
    "def resizeForKMeans(roi):\n",
    "    '''\n",
    "    Helper function for detectTeamsKmenas\n",
    "    Given an roi in HSV space\n",
    "    Returns reshaped roi of (NumberofPixles x channels)\n",
    "    '''\n",
    "    return roi.reshape((roi.shape[0] * roi.shape[1],3))\n"
   ]
  },
  {
   "cell_type": "code",
   "execution_count": 23,
   "metadata": {
    "hidden": true
   },
   "outputs": [],
   "source": [
    "def getClustersAndPercatage(hist , learner):\n",
    "    '''\n",
    "    Helper function for detectTeansKmeans\n",
    "    Returns a dict with cluster object {'c1':[h,s,v,percentage] , c2:[..]}\n",
    "    '''\n",
    "    clusters = {}\n",
    "    for index,(percent, color) in enumerate(zip(hist, learner.cluster_centers_)):\n",
    "        colorList = color.astype(\"uint8\").tolist()\n",
    "        cluster = f'c{index}'\n",
    "        clusters[cluster] = [colorList[0], colorList[1], colorList[2], int(percent*100)]\n",
    "    return clusters\n",
    "    "
   ]
  },
  {
   "cell_type": "code",
   "execution_count": 24,
   "metadata": {
    "hidden": true
   },
   "outputs": [],
   "source": [
    "def getLargestCluster(clusters):\n",
    "    '''\n",
    "    Helper function for detectTemsKmeans\n",
    "    Returns the name/key of the largest cluster in the clusters dict\n",
    "    '''\n",
    "    percentages = np.array([clusters[cluster][3]for cluster in clusters])\n",
    "    max_index = np.argmax(percentages)\n",
    "    return list(clusters.keys())[max_index]"
   ]
  },
  {
   "cell_type": "code",
   "execution_count": 25,
   "metadata": {
    "hidden": true
   },
   "outputs": [],
   "source": [
    "def getEuclidianDistance(hsv1,hsv2):\n",
    "    return distance.euclidean(hsv1,hsv2)"
   ]
  },
  {
   "cell_type": "code",
   "execution_count": 26,
   "metadata": {
    "hidden": true
   },
   "outputs": [],
   "source": [
    "def getLearner(nClusters):\n",
    "    '''\n",
    "     Returns a KMeans Learner object\n",
    "    '''\n",
    "    learner = KMeans(n_clusters=nClusters) #cluster number\n",
    "    return learner\n"
   ]
  },
  {
   "cell_type": "code",
   "execution_count": 27,
   "metadata": {
    "hidden": true
   },
   "outputs": [],
   "source": [
    "def detectTeamKmeans(learner,img,left,top,right,bottom,mask=None):\n",
    "    '''\n",
    "    Given an image(BGR) and the location of ROI\n",
    "    Returns the team using K-Means clustering\n",
    "    '''\n",
    "    roi = getRoi(img,left,top,right,bottom,mask)\n",
    "    if args['yolo']:\n",
    "        roiHSV = np.array(cv2.cvtColor(roi, cv2.COLOR_BGR2HSV))\n",
    "    else:\n",
    "        roiReshaped = np.reshape(roi,(1,roi.shape[0],3))\n",
    "        roiHSV = np.array(cv2.cvtColor(roiReshaped, cv2.COLOR_BGR2HSV))\n",
    "    \n",
    "    roiHSV = resizeForKMeans(roiHSV) #represent as (row*column,channel number) eg. [[0,0,255],[..]]\n",
    "    learner.fit(roiHSV)\n",
    "    hist = findHistogram(learner)\n",
    "    clusters = getClustersAndPercatage(hist,learner) #clusters is a dict {c1:[h,s,v,perc],c2:[]}\n",
    "    hsv = clusters[getLargestCluster(clusters)][:-1] # is a list [h,s,v]\n",
    "\n",
    "    teamIndex = np.argmin(np.array([\n",
    "                                getEuclidianDistance(hsv, args['team0HSV']),\n",
    "                                 getEuclidianDistance(hsv, args['team1HSV'])\n",
    "                     ]))\n",
    "    team = f'team{teamIndex}'\n",
    "    #hsv is returned for testing purposes. To check the k-means cluster mean\n",
    "    return team,hsv,roi\n",
    "\n",
    "    "
   ]
  },
  {
   "cell_type": "markdown",
   "metadata": {
    "heading_collapsed": true
   },
   "source": [
    "#Controller to switch between basic and Kmeans"
   ]
  },
  {
   "cell_type": "code",
   "execution_count": 28,
   "metadata": {
    "hidden": true
   },
   "outputs": [],
   "source": [
    "def detectTeam(img,left,top,right,bottom, algo='basic', mask=None, learner=None):\n",
    "    if algo == 'basic':\n",
    "        if args['yolo']: #yolo\n",
    "            return detectTeamBasic(img,left,top,right,bottom)\n",
    "        else: #mask rcnn\n",
    "            return detectTeamBasic(img,left,top,right,bottom,mask)\n",
    "    else:\n",
    "        if args['yolo']:#yolo with k-means\n",
    "            return detectTeamKmeans(learner,img,left,top,right,bottom)\n",
    "        else: #mask-rcnn with k-means\n",
    "            return detectTeamKmeans(learner,img,left,top,right,bottom,mask)\n",
    "            "
   ]
  },
  {
   "cell_type": "markdown",
   "metadata": {
    "heading_collapsed": true
   },
   "source": [
    "#Object detection boiler template (YOLO) Basic or K-Means"
   ]
  },
  {
   "cell_type": "code",
   "execution_count": 29,
   "metadata": {
    "hidden": true
   },
   "outputs": [],
   "source": [
    "if args['yolo']:\n",
    "    videoPath ='/Users/sandeep/Desktop/dataandmodles/data/3-Pointer2.mov'\n",
    "    cap = cv2.VideoCapture(videoPath)\n",
    "    frameCount = 0 \n",
    "    rawFrame=[]\n",
    "    learner = getLearner(3)\n",
    "    net = args['net']\n",
    "    output_layer_names = args['output_layer_names']\n",
    "    while cap.isOpened():\n",
    "        ret,frame = cap.read()\n",
    "        frameCopy = frame[:]\n",
    "        if ret:\n",
    "            start_t = cv2.getTickCount()\n",
    "\n",
    "            #do stuff\n",
    "            # create a 4D tensor (OpenCV 'blob') from image frame (pixels scaled 0->1, image resized)\n",
    "            tensor = (cv2.dnn.blobFromImage(frame , 1/255 , (args[\"inpWidth\"], args[\"inpHeight\"]) , [0,0,0] , 1, \n",
    "                                            crop=False))\n",
    "            # set the input to the CNN network\n",
    "            net.setInput(tensor)\n",
    "            results = net.forward(output_layer_names)\n",
    "\n",
    "            args['confThreshold'] = cv2.getTrackbarPos(trackbarName,windowName) / 100\n",
    "            classIDs, confidences, boxes = (postprocess(frame, results, args[\"confThreshold\"], \n",
    "                                                        args[\"nmsThreshold\"]))\n",
    "            for detected_object in range(0, len(boxes)):\n",
    "\n",
    "                box = boxes[detected_object]\n",
    "                left = box[0]\n",
    "                top = box[1]\n",
    "                width = box[2]\n",
    "                height = box[3]\n",
    "\n",
    "                bboxFit = check_bbox_size(width,height, *frame.shape[0:-1])\n",
    "                labelFit = check_label(classes[classIDs[detected_object]])\n",
    "                if bboxFit and labelFit and left>0:\n",
    "                    team,hue= detectTeam(frameCopy, left ,top, left+width,top+height , algo='kmeans' ,\n",
    "                                     learner=learner)\n",
    "\n",
    "                    teamColor, teamName = getTeamInfo(team)\n",
    "                    teamName = f'{team},{hue}'\n",
    "                    (drawPred(frame,teamName,classes[classIDs[detected_object]], \n",
    "                              confidences[detected_object], \n",
    "                              left, top, left + width, top + height, \n",
    "                              teamColor))\n",
    "\n",
    "                t,_ = net.getPerfProfile()\n",
    "                inference_t = (t * 1000.0 / cv2.getTickFrequency())\n",
    "                label = ('Inference time: %.2f ms' % inference_t) + (' (Framerate: %.2f fps' % (1000 / inference_t)) + ')'\n",
    "                cv2.putText(frame, label, (0, 15), cv2.FONT_HERSHEY_SIMPLEX, 0.5, (0, 0, 255))\n",
    "                if frameCount == 496: \n",
    "                    print(f'{left},{top},{left + width},{top + height}')\n",
    "                    rawFrame = frame[:,:,:]\n",
    "                frameCount += 1\n",
    "    #         End of do stuff\n",
    "\n",
    "            cv2.imshow(windowName,frame)\n",
    "            (cv2.setWindowProperty(windowName, cv2.WND_PROP_FULLSCREEN,\n",
    "                                    cv2.WINDOW_FULLSCREEN&False))    \n",
    "\n",
    "            time_now = cv2.getTickCount()\n",
    "            stop_t = ((time_now - start_t)/cv2.getTickFrequency())*1000\n",
    "\n",
    "            #cv2.imshow(\"YOLO\" , frame)\n",
    "\n",
    "            key = cv2.waitKey(max(2, 40 - int(math.ceil(stop_t)))) & 0xFF\n",
    "            if key == ord('q'):\n",
    "                break  \n",
    "        else:\n",
    "            cap.release()\n",
    "            break\n",
    "    cap.release()\n",
    "    cv2.destroyAllWindows()\n",
    "    "
   ]
  },
  {
   "cell_type": "markdown",
   "metadata": {},
   "source": [
    "#Object detection boiler template (MASK RCNN) Basic or Kmeans"
   ]
  },
  {
   "cell_type": "code",
   "execution_count": 30,
   "metadata": {},
   "outputs": [],
   "source": [
    "def fitMaskRcnn(frame):\n",
    "    net = args['net']\n",
    "    output_layer_names = args['output_layer_names']\n",
    "    tensor = cv2.dnn.blobFromImage(frame, swapRB=True, crop=False)\n",
    "    net.setInput(tensor)\n",
    "    (boxes, masks) = net.forward([\"detection_out_final\", \"detection_masks\"])\n",
    "    classIDs, confidences, boxes, masks = (postprocess(frame, boxes, args[\"confThreshold\"], \n",
    "                                          args[\"nmsThreshold\"],yolo=False,raw_masks=masks))\n",
    "    return classIDs,confidences,boxes,masks\n"
   ]
  },
  {
   "cell_type": "code",
   "execution_count": 31,
   "metadata": {},
   "outputs": [],
   "source": [
    "def getBoxesAndMask(boxes,masks,detected_object_index):\n",
    "    box = boxes[detected_object_index]\n",
    "    mask = masks[detected_object_index] #getting the mask of a particular detected obj\n",
    "    left = box[0]\n",
    "    top = box[1]\n",
    "    width = box[2]\n",
    "    height = box[3]\n",
    "    return left,top,width,height,mask\n",
    "    "
   ]
  },
  {
   "cell_type": "code",
   "execution_count": 59,
   "metadata": {},
   "outputs": [],
   "source": [
    "args['mask-rcnn'] = True\n",
    "# ActionClassificationCosine.loadPosenetModel()"
   ]
  },
  {
   "cell_type": "code",
   "execution_count": 65,
   "metadata": {
    "collapsed": true
   },
   "outputs": [
    {
     "name": "stdout",
     "output_type": "stream",
     "text": [
      "[INFO] loading Mask R-CNN from disk...\n",
      "Successfully initalized general line:2\n",
      "Player Detection:2.46,Action Classification:0.37,Team Detection:0.15\n",
      "Successfully initalized general line:2\n",
      "Player Detection:2.17,Action Classification:0.42,Team Detection:0.18\n",
      "Successfully initalized general line:2\n",
      "Player Detection:2.31,Action Classification:0.44,Team Detection:0.18\n",
      "Successfully initalized general line:2\n",
      "Player Detection:2.44,Action Classification:0.38,Team Detection:0.18\n",
      "Successfully initalized general line:2\n",
      "Player Detection:2.23,Action Classification:0.38,Team Detection:0.16\n",
      "Successfully initalized general line:2\n",
      "Player Detection:2.2,Action Classification:0.4,Team Detection:0.15\n",
      "Successfully initalized general line:2\n",
      "Player Detection:2.24,Action Classification:0.41,Team Detection:0.17\n",
      "Successfully initalized general line:2\n",
      "Player Detection:2.26,Action Classification:0.43,Team Detection:0.21\n",
      "Successfully initalized general line:2\n",
      "Player Detection:2.23,Action Classification:0.38,Team Detection:0.18\n",
      "Successfully initalized general line:2\n",
      "Player Detection:2.23,Action Classification:0.31,Team Detection:0.22\n",
      "Successfully initalized general line:2\n",
      "Player Detection:2.27,Action Classification:0.27,Team Detection:0.19\n",
      "Successfully initalized general line:2\n",
      "Player Detection:2.24,Action Classification:0.26,Team Detection:0.16\n",
      "Successfully initalized general line:2\n",
      "Player Detection:2.29,Action Classification:0.24,Team Detection:0.2\n",
      "Successfully initalized general line:2\n",
      "Player Detection:2.28,Action Classification:0.25,Team Detection:0.24\n",
      "Successfully initalized general line:2\n",
      "Player Detection:2.27,Action Classification:0.25,Team Detection:0.19\n",
      "Successfully initalized general line:2\n",
      "Player Detection:2.26,Action Classification:0.25,Team Detection:0.18\n",
      "Successfully initalized general line:2\n",
      "Player Detection:2.26,Action Classification:0.27,Team Detection:0.17\n",
      "Successfully initalized general line:2\n",
      "Player Detection:2.21,Action Classification:0.29,Team Detection:0.21\n",
      "Successfully initalized general line:2\n",
      "Player Detection:2.29,Action Classification:0.31,Team Detection:0.21\n",
      "Successfully initalized general line:2\n",
      "Player Detection:2.24,Action Classification:0.31,Team Detection:0.19\n",
      "Successfully initalized general line:2\n",
      "Player Detection:2.21,Action Classification:0.3,Team Detection:0.19\n",
      "Successfully initalized general line:2\n",
      "Player Detection:2.25,Action Classification:0.27,Team Detection:0.19\n",
      "Successfully initalized general line:2\n",
      "Player Detection:2.21,Action Classification:0.29,Team Detection:0.21\n",
      "Successfully initalized general line:2\n",
      "Player Detection:2.25,Action Classification:0.35,Team Detection:0.14\n",
      "Successfully initalized general line:2\n",
      "Player Detection:2.16,Action Classification:0.39,Team Detection:0.18\n",
      "Successfully initalized general line:2\n",
      "Player Detection:2.33,Action Classification:0.37,Team Detection:0.17\n",
      "Successfully initalized general line:2\n",
      "Player Detection:2.44,Action Classification:0.38,Team Detection:0.19\n",
      "Successfully initalized general line:2\n",
      "Player Detection:2.33,Action Classification:0.34,Team Detection:0.19\n",
      "Successfully initalized general line:2\n",
      "Player Detection:2.32,Action Classification:0.38,Team Detection:0.19\n",
      "Successfully initalized general line:2\n",
      "Player Detection:2.33,Action Classification:0.41,Team Detection:0.2\n",
      "Successfully initalized general line:2\n",
      "Player Detection:2.32,Action Classification:0.44,Team Detection:0.19\n",
      "Successfully initalized general line:2\n",
      "Player Detection:2.47,Action Classification:0.46,Team Detection:0.26\n",
      "Successfully initalized general line:2\n",
      "Player Detection:2.33,Action Classification:0.43,Team Detection:0.2\n",
      "Successfully initalized general line:2\n",
      "Player Detection:2.24,Action Classification:0.44,Team Detection:0.31\n",
      "Successfully initalized general line:2\n",
      "Player Detection:2.34,Action Classification:0.45,Team Detection:0.21\n",
      "Successfully initalized general line:2\n",
      "Player Detection:2.36,Action Classification:0.34,Team Detection:0.18\n",
      "Successfully initalized general line:2\n",
      "Player Detection:2.25,Action Classification:0.34,Team Detection:0.2\n",
      "Successfully initalized general line:2\n",
      "Player Detection:2.38,Action Classification:0.38,Team Detection:0.18\n",
      "Successfully initalized general line:2\n",
      "Player Detection:2.26,Action Classification:0.39,Team Detection:0.17\n",
      "Successfully initalized general line:2\n",
      "Player Detection:2.32,Action Classification:0.34,Team Detection:0.18\n",
      "Successfully initalized general line:2\n",
      "Player Detection:2.37,Action Classification:0.39,Team Detection:0.16\n",
      "Successfully initalized general line:2\n",
      "Player Detection:2.26,Action Classification:0.36,Team Detection:0.19\n",
      "Successfully initalized general line:2\n",
      "Player Detection:2.29,Action Classification:0.33,Team Detection:0.24\n",
      "Successfully initalized general line:2\n",
      "Player Detection:2.36,Action Classification:0.35,Team Detection:0.22\n",
      "Successfully initalized general line:2\n",
      "Player Detection:2.28,Action Classification:0.31,Team Detection:0.18\n",
      "Successfully initalized general line:2\n",
      "Player Detection:2.36,Action Classification:0.29,Team Detection:0.18\n",
      "Successfully initalized general line:2\n",
      "Player Detection:2.71,Action Classification:0.29,Team Detection:0.18\n",
      "Successfully initalized general line:2\n",
      "Player Detection:2.44,Action Classification:0.28,Team Detection:0.19\n"
     ]
    },
    {
     "ename": "KeyboardInterrupt",
     "evalue": "",
     "output_type": "error",
     "traceback": [
      "\u001b[0;31m---------------------------------------------------------------------------\u001b[0m",
      "\u001b[0;31mKeyboardInterrupt\u001b[0m                         Traceback (most recent call last)",
      "\u001b[0;32m<ipython-input-65-aed576ee2d8c>\u001b[0m in \u001b[0;36m<module>\u001b[0;34m\u001b[0m\n\u001b[1;32m     35\u001b[0m             \u001b[0margs\u001b[0m\u001b[0;34m[\u001b[0m\u001b[0;34m'confThreshold'\u001b[0m\u001b[0;34m]\u001b[0m \u001b[0;34m=\u001b[0m \u001b[0mcv2\u001b[0m\u001b[0;34m.\u001b[0m\u001b[0mgetTrackbarPos\u001b[0m\u001b[0;34m(\u001b[0m\u001b[0mtrackbarName\u001b[0m\u001b[0;34m,\u001b[0m\u001b[0mwindowName\u001b[0m\u001b[0;34m)\u001b[0m \u001b[0;34m/\u001b[0m \u001b[0;36m100\u001b[0m\u001b[0;34m\u001b[0m\u001b[0;34m\u001b[0m\u001b[0m\n\u001b[1;32m     36\u001b[0m             \u001b[0mstart\u001b[0m \u001b[0;34m=\u001b[0m \u001b[0mtime\u001b[0m\u001b[0;34m.\u001b[0m\u001b[0mtime\u001b[0m\u001b[0;34m(\u001b[0m\u001b[0;34m)\u001b[0m\u001b[0;34m\u001b[0m\u001b[0;34m\u001b[0m\u001b[0m\n\u001b[0;32m---> 37\u001b[0;31m             \u001b[0mclassIDs\u001b[0m\u001b[0;34m,\u001b[0m\u001b[0mconfidences\u001b[0m\u001b[0;34m,\u001b[0m\u001b[0mboxes\u001b[0m\u001b[0;34m,\u001b[0m\u001b[0mmasks\u001b[0m \u001b[0;34m=\u001b[0m \u001b[0mfitMaskRcnn\u001b[0m\u001b[0;34m(\u001b[0m\u001b[0mframe\u001b[0m\u001b[0;34m)\u001b[0m\u001b[0;34m\u001b[0m\u001b[0;34m\u001b[0m\u001b[0m\n\u001b[0m\u001b[1;32m     38\u001b[0m             \u001b[0mend\u001b[0m \u001b[0;34m=\u001b[0m \u001b[0mtime\u001b[0m\u001b[0;34m.\u001b[0m\u001b[0mtime\u001b[0m\u001b[0;34m(\u001b[0m\u001b[0;34m)\u001b[0m\u001b[0;34m\u001b[0m\u001b[0;34m\u001b[0m\u001b[0m\n\u001b[1;32m     39\u001b[0m             \u001b[0mplayerDetectionTime\u001b[0m \u001b[0;34m=\u001b[0m \u001b[0mend\u001b[0m  \u001b[0;34m-\u001b[0m \u001b[0mstart\u001b[0m\u001b[0;34m\u001b[0m\u001b[0;34m\u001b[0m\u001b[0m\n",
      "\u001b[0;32m<ipython-input-30-a72c5b8c41b7>\u001b[0m in \u001b[0;36mfitMaskRcnn\u001b[0;34m(frame)\u001b[0m\n\u001b[1;32m      4\u001b[0m     \u001b[0mtensor\u001b[0m \u001b[0;34m=\u001b[0m \u001b[0mcv2\u001b[0m\u001b[0;34m.\u001b[0m\u001b[0mdnn\u001b[0m\u001b[0;34m.\u001b[0m\u001b[0mblobFromImage\u001b[0m\u001b[0;34m(\u001b[0m\u001b[0mframe\u001b[0m\u001b[0;34m,\u001b[0m \u001b[0mswapRB\u001b[0m\u001b[0;34m=\u001b[0m\u001b[0;32mTrue\u001b[0m\u001b[0;34m,\u001b[0m \u001b[0mcrop\u001b[0m\u001b[0;34m=\u001b[0m\u001b[0;32mFalse\u001b[0m\u001b[0;34m)\u001b[0m\u001b[0;34m\u001b[0m\u001b[0;34m\u001b[0m\u001b[0m\n\u001b[1;32m      5\u001b[0m     \u001b[0mnet\u001b[0m\u001b[0;34m.\u001b[0m\u001b[0msetInput\u001b[0m\u001b[0;34m(\u001b[0m\u001b[0mtensor\u001b[0m\u001b[0;34m)\u001b[0m\u001b[0;34m\u001b[0m\u001b[0;34m\u001b[0m\u001b[0m\n\u001b[0;32m----> 6\u001b[0;31m     \u001b[0;34m(\u001b[0m\u001b[0mboxes\u001b[0m\u001b[0;34m,\u001b[0m \u001b[0mmasks\u001b[0m\u001b[0;34m)\u001b[0m \u001b[0;34m=\u001b[0m \u001b[0mnet\u001b[0m\u001b[0;34m.\u001b[0m\u001b[0mforward\u001b[0m\u001b[0;34m(\u001b[0m\u001b[0;34m[\u001b[0m\u001b[0;34m\"detection_out_final\"\u001b[0m\u001b[0;34m,\u001b[0m \u001b[0;34m\"detection_masks\"\u001b[0m\u001b[0;34m]\u001b[0m\u001b[0;34m)\u001b[0m\u001b[0;34m\u001b[0m\u001b[0;34m\u001b[0m\u001b[0m\n\u001b[0m\u001b[1;32m      7\u001b[0m     classIDs, confidences, boxes, masks = (postprocess(frame, boxes, args[\"confThreshold\"], \n\u001b[1;32m      8\u001b[0m                                           args[\"nmsThreshold\"],yolo=False,raw_masks=masks))\n",
      "\u001b[0;31mKeyboardInterrupt\u001b[0m: "
     ]
    }
   ],
   "source": [
    "if args['mask-rcnn']:\n",
    "    windowName , trackbarName = openDisplayWindow()\n",
    "    #ActionClassificationCosine.loadPosenetModel()\n",
    "    loadMaskRcnn()\n",
    "    net = args['net']\n",
    "    output_layer_names = args['output_layer_names']\n",
    "    \n",
    "    #videoPath ='/Users/sandeep/Desktop/dataandmodles/data/demoVideos/3-Pointer2.mov'\n",
    "    videoPath = '/Users/sandeep/Desktop/dataandmodles/data/demoVideos/unOccludedShooting.mov'\n",
    "    cap = cv2.VideoCapture(videoPath)\n",
    "    frameCount = 0 \n",
    "    rawFrame=[]\n",
    "    \n",
    "    #TeamDetection Learner\n",
    "    learner = getLearner(3)\n",
    "    team0Score = 0\n",
    "    team1Score = 0\n",
    "    waitFrames0 = 0\n",
    "    waitFrames1 = 0\n",
    "    justShot0, justShot1 = False, False\n",
    "    while cap.isOpened():\n",
    "        ret,frame = cap.read()\n",
    "        frameCopy = frame[:]\n",
    "        h,w = frame.shape[0] , frame.shape[1]\n",
    "        #Time Logs for each new frame\n",
    "        actionTimes = np.array([]) \n",
    "        teamDetectionTimes = np.array([])\n",
    "        playerDetectionTimes = np.array([])\n",
    "        \n",
    "        #Init player scores the new frame\n",
    "        playersScores = []\n",
    "        if ret:\n",
    "            start_t = cv2.getTickCount()\n",
    "            #do stuff\n",
    "            args['confThreshold'] = cv2.getTrackbarPos(trackbarName,windowName) / 100\n",
    "            start = time.time()\n",
    "            classIDs,confidences,boxes,masks = fitMaskRcnn(frame)\n",
    "            end = time.time()\n",
    "            playerDetectionTime = end  - start \n",
    "            playerDetectionTimes = np.append(playerDetectionTimes,playerDetectionTime)\n",
    "            \n",
    "            #Gaze detection variable\n",
    "            posenetPredCombined = {'detectionList':[]}\n",
    "            frame_bboxs = []\n",
    "            \n",
    "            #Drawing variables\n",
    "            frame_rois = []\n",
    "            frame_masks = []\n",
    "            frame_rcnnbboxes = []\n",
    "            frame_teamColors = []\n",
    "            frame_actions = []\n",
    "            \n",
    "            #Tracker Variables \n",
    "            frame_posenetbboxs = {'bbox':[]}\n",
    "            for detected_object in range(0, len(boxes)):\n",
    "\n",
    "                left,top,width,height,mask = getBoxesAndMask(boxes, masks, detected_object)\n",
    "\n",
    "                bboxFit = check_bbox_size(width,height, *frame.shape[0:-1])\n",
    "                labelFit = check_label(classIDs[detected_object])\n",
    "                if bboxFit and labelFit and left>0:\n",
    "                    #uncommet to use basic fast rcnn and remove hsv from teamName\n",
    "                    start = time.time()\n",
    "                    #team,roi= detectTeam(frameCopy, left ,top, left+width,top+height , algo='basic',mask=mask)\n",
    "                    team,hsv,roi= (detectTeam(frameCopy, left ,top, left+width,top+height , algo='kmeans',\n",
    "                                             learner=learner\n",
    "                                             ,mask=mask))\n",
    "                    \n",
    "                    end = time.time()\n",
    "                    teamDetectionTime = end - start \n",
    "                    teamDetectionTimes = np.append(teamDetectionTimes,teamDetectionTime)\n",
    "                    \n",
    "                    \n",
    "                    teamColor, teamName = getTeamInfo(team)\n",
    "                    #teamName = f'{team},{hsv}'\n",
    "                    \n",
    "                    \n",
    "                    \n",
    "                    resizedRoi,roiCropped,leftLarger,topLarger,rightLarger,bottomLarger = transformRoiBoka(mask,\n",
    "                                                                                                       roi,frame,\n",
    "                                                                                                       h,w,left,top,\n",
    "                                                                                                       left+width,\n",
    "                                                                                                       top+height )\n",
    "                    \n",
    "                    start = time.time()\n",
    "                    #resizedRoiWithPose = drawPose(resizedRoi)\n",
    "                    actionClass,posenetPred,posenetBoxs = getActionClass(resizedRoi)\n",
    "                    \n",
    "                    end = time.time()\n",
    "                    actionTime = end - start \n",
    "                    actionTimes  = np.append(actionTimes, actionTime)\n",
    "                    \n",
    "                    #Track player using jersey color\n",
    "                    if waitFrames0 <= 0:\n",
    "                        justShot0 = False\n",
    "                    if waitFrames1 <= 0:\n",
    "                        justShot1 == False\n",
    "                    \n",
    "                    if teamName == 'MIL':\n",
    "                        if actionClass == 'shoot' and justShot0 == False:\n",
    "                            team0Score += 1 \n",
    "                            justShot0 = True\n",
    "                            waitFrames0 = 5\n",
    "                        playersScores.append(team0Score)\n",
    "                        waitFrames0 = waitFrames0 - 1\n",
    "                    elif teamName == 'CAVS':\n",
    "                        if actionClass == 'shoot' and justShot1 == False:\n",
    "                            team1Score += 1\n",
    "                            justShot1 = True\n",
    "                            waitFrames1 = 5\n",
    "                        playersScores.append(team1Score)\n",
    "                        waitFrames1 = waitFrames1 - 1\n",
    "                    \n",
    "                    \n",
    "    \n",
    "                    \n",
    "                    posenetPred = mapPosesToMainImageWrapper(posenetPred,\n",
    "                                              topLarger, \n",
    "                                              leftLarger,resizedRoi,\n",
    "                                              roiCropped)\n",
    "                    \n",
    "                    #GAZE DETECTION PREP(Combine posenetPred for gaze detection):\n",
    "                    for pose in posenetPred['detectionList']:\n",
    "                        posenetPredCombined['detectionList'].append(pose)\n",
    "                    if len(posenetPred['detectionList']) != 0:\n",
    "                        frame_bboxs.append([leftLarger,topLarger,rightLarger,bottomLarger])\n",
    "                        frame_actions.append(actionClass)\n",
    "                        frame_masks.append(mask)\n",
    "                        frame_rois.append(roi)\n",
    "                        frame_rcnnbboxes.append([left ,top, left+width,top+height])\n",
    "                        frame_teamColors.append(teamColor)\n",
    "                    #END GAZE DETECTION PREP:\n",
    "                    #Tracker Prep\n",
    "                    frame_posenetbboxs['bbox'].extend(posenetBoxs['bbox'])\n",
    "                    #End Tracker Prep\n",
    "            \n",
    "            \n",
    "            #GAZE DETECTION tag1\n",
    "            if len(frame_bboxs):\n",
    "               ball_position,poseIndex = GazeModule.fitGazeModule(posenetPredCombined,frame_bboxs,frame_actions)\n",
    "               drawMaskRcnnHelperFunction(frameCopy,poseIndex,frame_rcnnbboxes,\n",
    "                               frame_teamColors,frame_actions,\n",
    "                               frame_rois,frame_masks,playersScores=playersScores)\n",
    "               DrawPose.drawBall(frameCopy,w,h,ball_position,(255,0,0),20)\n",
    "            #END GAZE DETECTION tag1\n",
    "            \n",
    "            #Tracker\n",
    "           \n",
    "            if len(list(Tracker.previousFramePose.keys())) != 0 :\n",
    "                #actions = [[f] for f in frame_actions]\n",
    "                finalActionClasses = Tracker.updatePosesClasses(posenetPredCombined,\n",
    "                                                          frame_actions,\n",
    "                                                          frame_posenetbboxs,\n",
    "                                                          frameCopy.shape[0],frameCopy.shape[1])\n",
    "            else:\n",
    "                finalActionClasses = frame_actions\n",
    "                \n",
    "            \n",
    "            Tracker.setPrevFrameWrapper(frame_posenetbboxs,posenetPredCombined,\n",
    "                                                        frame_actions,\n",
    "                                                        frameCopy.shape[0],frameCopy.shape[1])\n",
    "            #End Tracker\n",
    "            \n",
    "            #Drawing boxes and ball\n",
    "            if len(frame_bboxs):\n",
    "               drawMaskRcnnHelperFunction(frameCopy,poseIndex,frame_rcnnbboxes,\n",
    "                                           frame_teamColors,finalActionClasses,\n",
    "                                           frame_rois,frame_masks,playersScores=playersScores)\n",
    "               DrawPose.drawBall(frameCopy,w,h,ball_position,(255,0,0),20)\n",
    "            \n",
    "    #       End of do stuff\n",
    "    \n",
    "    \n",
    "            #Print Time took for each part \n",
    "            timeString =   f'Player Detection:{round(np.mean(playerDetectionTimes),2)},Action Classification:{round(np.mean(actionTimes),2)},Team Detection:{round(np.mean(teamDetectionTimes),2)}'\n",
    "            print(timeString)\n",
    "            \n",
    "            # Prinint frame rate \n",
    "            t,_ = net.getPerfProfile()\n",
    "            inference_t = (t * 1000.0 / cv2.getTickFrequency())\n",
    "            label = ('Inference time: %.2f ms' % inference_t) + (' (Framerate: %.2f fps' % (1000 / inference_t)) + ')'\n",
    "            cv2.putText(frame, label, (0, 15), cv2.FONT_HERSHEY_SIMPLEX, 0.5, (0, 0, 255))\n",
    "            #Displaying the image\n",
    "            cv2.imshow(windowName,frameCopy)\n",
    "            (cv2.setWindowProperty(windowName, cv2.WND_PROP_FULLSCREEN,\n",
    "                                    cv2.WINDOW_FULLSCREEN&False))    \n",
    "\n",
    "            time_now = cv2.getTickCount()\n",
    "            stop_t = ((time_now - start_t)/cv2.getTickFrequency())*1000\n",
    "            \n",
    "            #cv2.imshow(\"MASK-RCNN\" , frame)\n",
    "    \n",
    "            key = cv2.waitKey(max(2, 40 - int(math.ceil(stop_t)))) & 0xFF\n",
    "            if key == ord('q'):\n",
    "                break  \n",
    "        else:\n",
    "            cap.release()\n",
    "            break\n",
    "    \n",
    "    cap.release()\n",
    "    cv2.destroyAllWindows()\n"
   ]
  },
  {
   "cell_type": "markdown",
   "metadata": {
    "heading_collapsed": true
   },
   "source": [
    "#Writing Video file \n"
   ]
  },
  {
   "cell_type": "code",
   "execution_count": 34,
   "metadata": {
    "hidden": true
   },
   "outputs": [],
   "source": [
    "from moviepy.editor import VideoFileClip\n",
    "from IPython.display import HTML"
   ]
  },
  {
   "cell_type": "code",
   "execution_count": 35,
   "metadata": {
    "hidden": true
   },
   "outputs": [],
   "source": [
    "# def detectVideos(frame):\n",
    "\n",
    "#     learner = args['knnLearner']\n",
    "#     net = args['net']\n",
    "#     output_layer_names = args['output_layer_names']\n",
    "    \n",
    "    \n",
    "#     h,w = frame.shape[0], frame.shape[1]\n",
    "#     frameCopy = np.copy(frame)\n",
    "    \n",
    "    \n",
    "#     classIDs,confidences,boxes,masks = fitMaskRcnn(frame)\n",
    "\n",
    "   \n",
    "#     for detected_object in range(0, len(boxes)):\n",
    "        \n",
    "#         left,top,width,height,mask = getBoxesAndMask(boxes, masks, detected_object)\n",
    "\n",
    "#         bboxFit = check_bbox_size(width,height, *frame.shape[0:-1])\n",
    "#         labelFit = check_label(classIDs[detected_object])\n",
    "#         if bboxFit and labelFit and left>0:\n",
    "#             #uncommet to use basic fast rcnn and remove hsv from teamName\n",
    "#             #team,roi= detectTeam(frameCopy, left ,top, left+width,top+height , algo='basic',mask=mask)\n",
    "#             team,hsv,roi= (detectTeam(frameCopy, left ,top, left+width,top+height , algo='kmeans',\n",
    "#                                      learner=learner\n",
    "#                                      ,mask=mask))\n",
    "            \n",
    "#             teamColor, teamName = getTeamInfo(team)\n",
    "#             teamName = f'{team},{hsv}'\n",
    "            \n",
    "#             resizedRoi,roiCropped,leftLarger,topLarger,rightLarger,bottomLargerresizedRoi = transformRoiBoka(mask,roi,frame,h,w,left,top,left+width,top+height)\n",
    "            \n",
    "#             actionClass = getActionClass(resizedRoi)\n",
    "\n",
    "#             (drawPred(frameCopy,actionClass,teamName, \n",
    "#                       confidences[detected_object], \n",
    "#                       left, top, left + width, top + height, \n",
    "#                       teamColor,roi=roi ,mask=mask))\n",
    "#     return frameCopy\n"
   ]
  },
  {
   "cell_type": "code",
   "execution_count": 36,
   "metadata": {
    "hidden": true
   },
   "outputs": [],
   "source": [
    "def detectVideos(frame):\n",
    "    learner = args['knnLearner']\n",
    "    net = args['net']\n",
    "    output_layer_names = args['output_layer_names']\n",
    "    \n",
    "    h,w = frame.shape[0], frame.shape[1]\n",
    "    frameCopy = np.copy(frame)\n",
    "    \n",
    "    \n",
    "    classIDs,confidences,boxes,masks = fitMaskRcnn(frame)\n",
    "\n",
    "    #Gaze detection variable\n",
    "    posenetPredCombined = {'detectionList':[]}\n",
    "    frame_bboxs = []\n",
    "\n",
    "    #Drawing variables\n",
    "    frame_rois = []\n",
    "    frame_masks = []\n",
    "    frame_rcnnbboxes = []\n",
    "    frame_teamColors = []\n",
    "    frame_actions = []\n",
    "\n",
    "    #Tracker Variables \n",
    "    frame_posenetbboxs = {'bbox':[]}\n",
    "    for detected_object in range(0, len(boxes)):\n",
    "\n",
    "        left,top,width,height,mask = getBoxesAndMask(boxes, masks, detected_object)\n",
    "\n",
    "        bboxFit = check_bbox_size(width,height, *frame.shape[0:-1])\n",
    "        labelFit = check_label(classIDs[detected_object])\n",
    "        if bboxFit and labelFit and left>0:\n",
    "            #uncommet to use basic fast rcnn and remove hsv from teamName\n",
    "            #team,roi= detectTeam(frameCopy, left ,top, left+width,top+height , algo='basic',mask=mask)\n",
    "            team,hsv,roi= (detectTeam(frameCopy, left ,top, left+width,top+height , algo='kmeans',\n",
    "                                     learner=learner\n",
    "                                     ,mask=mask))\n",
    "\n",
    "#             end = time.time()\n",
    "#             teamDetectionTime = end - start \n",
    "#             teamDetectionTimes = np.append(teamDetectionTimes,teamDetectionTime)\n",
    "\n",
    "\n",
    "            teamColor, teamName = getTeamInfo(team)\n",
    "            teamName = f'{team},{hsv}'\n",
    "\n",
    "            resizedRoi,roiCropped,leftLarger,topLarger,rightLarger,bottomLarger = transformRoiBoka(mask,\n",
    "                                                                                               roi,frame,\n",
    "                                                                                               h,w,left,top,\n",
    "                                                                                               left+width,\n",
    "                                                                                               top+height )\n",
    "\n",
    "            \n",
    "            #resizedRoiWithPose = drawPose(resizedRoi)\n",
    "            actionClass,posenetPred,posenetBoxs = getActionClass(resizedRoi)\n",
    "\n",
    "   \n",
    "\n",
    "            posenetPred = mapPosesToMainImageWrapper(posenetPred,\n",
    "                                      topLarger, \n",
    "                                      leftLarger,resizedRoi,\n",
    "                                      roiCropped)\n",
    "\n",
    "            #GAZE DETECTION PREP(Combine posenetPred for gaze detection):\n",
    "            for pose in posenetPred['detectionList']:\n",
    "                posenetPredCombined['detectionList'].append(pose)\n",
    "            if len(posenetPred['detectionList']) != 0:\n",
    "                frame_bboxs.append([leftLarger,topLarger,rightLarger,bottomLarger])\n",
    "                frame_actions.append(actionClass)\n",
    "                frame_masks.append(mask)\n",
    "                frame_rois.append(roi)\n",
    "                frame_rcnnbboxes.append([left ,top, left+width,top+height])\n",
    "                frame_teamColors.append(teamColor)\n",
    "            #END GAZE DETECTION PREP:\n",
    "            #Tracker Prep\n",
    "            frame_posenetbboxs['bbox'].extend(posenetBoxs['bbox'])\n",
    "            #End Tracker Prep\n",
    "\n",
    "\n",
    "       #GAZE DETECTION tag1\n",
    "    if len(frame_bboxs):\n",
    "       ball_position,poseIndex = GazeModule.fitGazeModule(posenetPredCombined,frame_bboxs,frame_actions)\n",
    "       drawMaskRcnnHelperFunction(frameCopy,poseIndex,frame_rcnnbboxes,\n",
    "                       frame_teamColors,frame_actions,\n",
    "                       frame_rois,frame_masks)\n",
    "       DrawPose.drawBall(frameCopy,w,h,ball_position,(255,0,0),20)\n",
    "    #END GAZE DETECTION tag1\n",
    "\n",
    "    #Tracker\n",
    "\n",
    "    if len(list(Tracker.previousFramePose.keys())) != 0 :\n",
    "        #actions = [[f] for f in frame_actions]\n",
    "        finalActionClasses = Tracker.updatePosesClasses(posenetPredCombined,\n",
    "                                                  frame_actions,\n",
    "                                                  frame_posenetbboxs,\n",
    "                                                  frameCopy.shape[0],frameCopy.shape[1])\n",
    "\n",
    "\n",
    "    Tracker.setPrevFrameWrapper(frame_posenetbboxs,posenetPredCombined,\n",
    "                                                frame_actions,\n",
    "                                                frameCopy.shape[0],frameCopy.shape[1])\n",
    "    #End Tracker\n",
    "\n",
    "    #Drawing boxes and ball\n",
    "    if len(frame_bboxs):\n",
    "       drawMaskRcnnHelperFunction(frameCopy,poseIndex,frame_rcnnbboxes,\n",
    "                                   frame_teamColors,finalActionClasses,\n",
    "                                   frame_rois,frame_masks)\n",
    "       DrawPose.drawBall(frameCopy,w,h,ball_position,(255,0,0),20)\n",
    "    \n",
    "    \n",
    "\n",
    "\n",
    "    return frameCopy"
   ]
  },
  {
   "cell_type": "code",
   "execution_count": 37,
   "metadata": {
    "hidden": true
   },
   "outputs": [],
   "source": [
    "def initializeModels():\n",
    "    loadMaskRcnn()\n",
    "    ActionClassificationCosine.loadPosenetModel()\n",
    "    args['knnLearner'] = getLearner(3)\n",
    "def proccessFrame(frame):\n",
    "    global counter\n",
    "    if args['net'] == None:\n",
    "        initializeModels()\n",
    "    if counter%1 == 0:\n",
    "        outFrame = detectVideos(frame)\n",
    "    counter += 1\n",
    "    return outFrame"
   ]
  },
  {
   "cell_type": "code",
   "execution_count": null,
   "metadata": {
    "hidden": true
   },
   "outputs": [],
   "source": []
  },
  {
   "cell_type": "code",
   "execution_count": 38,
   "metadata": {
    "hidden": true
   },
   "outputs": [],
   "source": [
    "# inputPath  = '/Users/sandeep/Desktop/dataandmodles/data/videotest/input1.mov'\n",
    "# outputPath = '/Users/sandeep/Desktop/dataandmodles/data/videotest/input1__out_ball.mp4'\n",
    "# counter = 0\n",
    "\n",
    "# clip1 = VideoFileClip(inputPath)\n",
    "# outClip1 = clip1.fl_image(proccessFrame)\n",
    "# %time  outClip1.write_videofile(outputPath,audio=False)\n"
   ]
  },
  {
   "cell_type": "markdown",
   "metadata": {},
   "source": [
    "#Visual Debugger"
   ]
  },
  {
   "cell_type": "code",
   "execution_count": 39,
   "metadata": {},
   "outputs": [],
   "source": [
    "TESTARGS = {\n",
    "            'debugger' : False,\n",
    "            'testImage1' : '/Users/sandeep/Desktop/dataandmodles/data/cavs.png',\n",
    "            'testResultPath' : '/Users/sandeep/Desktop/dataandmodles/data/playerTest/maskrcnn'\n",
    "           }\n",
    "import DrawPose"
   ]
  },
  {
   "cell_type": "code",
   "execution_count": 40,
   "metadata": {},
   "outputs": [],
   "source": [
    "def load_image():\n",
    "    img = cv2.imread(TESTARGS['testImage1'])\n",
    "    return img, img.shape[0] , img.shape[1]\n",
    "\n",
    "def write_image(img,fileName):\n",
    "    cv2.imwrite(f'{TESTARGS[\"testResultPath\"]}/{fileName}.png' , img)\n",
    "    "
   ]
  },
  {
   "cell_type": "code",
   "execution_count": 41,
   "metadata": {},
   "outputs": [],
   "source": [
    "def getLargerBbox(imgh,imgw,left,top,right,bottom):\n",
    "    n = 10\n",
    "    left,top = (left-n,top-n) #left_top (w,h)/ (col,row)\n",
    "    right,bottom = (right+n ,bottom+n ) #right_bottom\n",
    "    #Applying boundary condition\n",
    "    left,top = max(0,left) , max(0,top) \n",
    "    right,bottom =  min(right,imgw) , min(bottom,imgh) \n",
    "    return left,top,right,bottom\n",
    "\n",
    "    \n",
    "def roiBackgroundSubtraction(mask,roi,h,w,left,top,right,bottom):\n",
    "    #TEST PASSEDf\n",
    "    empty_image = np.zeros((h,w,3))\n",
    "    empty_image[top:bottom, left:right][mask] = roi\n",
    "    return empty_image\n",
    "\n",
    "def cropRoi(img,left,top,right,bottom):\n",
    "    roiCropped = ActionClassificationCosine.cropRoi(img,top,left,bottom,right)\n",
    "    return roiCropped\n",
    "\n",
    "def resizeRoi(img):\n",
    "    img = imutils.resize(img , width=244)\n",
    "    return img\n",
    "\n",
    "def transformRoi(mask,roi,img,h,w,left,top,right,bottom):\n",
    "    finalRoi = cropRoi(img,left,top,right,bottom)\n",
    "    finalRoi = resizeRoi(finalRoi)\n",
    "    return finalRoi\n",
    "\n",
    "def transformRoiBoka(mask,roi,img,h,w,left,top,right,bottom):\n",
    "    blurredImg = np.array(cv2.bilateralFilter(img,9,75,75))\n",
    "   \n",
    "    blurredImg[top:bottom, left:right][mask] = roi\n",
    "    left,top,right,bottom = getLargerBbox(h,w,left,top,right,bottom)\n",
    "    roiCropped = cropRoi(blurredImg,left,top,right,bottom)\n",
    "    roi = resizeRoi(roiCropped)\n",
    "    #TODO: originally it only returned roi\n",
    "    return roi,roiCropped,left,top,right,bottom\n",
    "\n",
    "\n",
    "def drawPose(resizedRoi):\n",
    "    poses,boxes = ActionClassificationCosine.getPoses(resizedRoi)\n",
    "    resizedRoiWithPose = DrawPose.draw_skel_and_kp(poses,resizedRoi,(255,0,255))\n",
    "    return resizedRoiWithPose\n",
    "\n",
    "def getActionClass(resizedRoi):\n",
    "    st = time.time()\n",
    "    poses,boxes = ActionClassificationCosine.getPoses(resizedRoi)\n",
    "    et = time.time()\n",
    "    posenetTime = round(et-st,3)\n",
    "    posesCopy = copy.deepcopy(poses)\n",
    "    if len(boxes['bbox']):\n",
    "        st = time.time()\n",
    "        classes = ActionClassificationCosine.fit(poses,boxes,resizedRoi.shape[0] ,\n",
    "                                                 resizedRoi.shape[1])\n",
    "        et = time.time()\n",
    "        poseMatchingTime = round(et - st,3)\n",
    "    else:\n",
    "        classes = [['unknown']]\n",
    "    \n",
    "    return classes[0][0],posesCopy,boxes\n"
   ]
  },
  {
   "cell_type": "code",
   "execution_count": 42,
   "metadata": {},
   "outputs": [],
   "source": [
    "#Getting Coordinates from cropped to main image \n",
    "def getScaleFactors(imgW, imgH, originalImgH , originalImgW):\n",
    "    '''\n",
    "\n",
    "       Helper function for get_data()\n",
    "       Parameter\n",
    "       -----------\n",
    "       imgW , imgH : dimensions of the  image where the coords needs to go to\n",
    "       originalImgH , originalImgW : dimensions of the  image where the coords needs to go from\n",
    "       Returns a tensor with given scalefactor (wdith,height). \n",
    "    '''\n",
    "    scale = (imgW/originalImgW,imgH/originalImgH);\n",
    "    return scale\n",
    "\n",
    "def mapCoord(coord,scaleFactors):\n",
    "    '''\n",
    "      Helper function for get_data()\n",
    "      Parameter\n",
    "      ---------\n",
    "      coord : a tuple  cotaining the coordinates \n",
    "      \n",
    "      scaleFactors : a tuple containing scaleFactors \n",
    "      \n",
    "      Return\n",
    "      -------\n",
    "      coord : A tuple of coordinate in integer scaled by their scaleFactors respectively\n",
    "    '''\n",
    "    coordInOriginalImage = [int(coord[0] * scaleFactors[0]) , int(coord[1] * scaleFactors[1])]\n",
    "    return tuple(coordInOriginalImage)\n",
    "\n",
    "def mapCoordToCroppedImage(keypointPosition,scaleFactor):\n",
    "    '''\n",
    "    Parameter\n",
    "    ----------\n",
    "    keypointPosition : A list containing dictionary of key points for a human \n",
    "    Example {'x': 598, 'y': 509} \n",
    "    \n",
    "    imgH : Number of rows\n",
    "    \n",
    "    imgW : Number of cols \n",
    "    \n",
    "    Return\n",
    "    -----------\n",
    "    keypointPosition : A list containing dictionary of key points for a human.\n",
    "    The coords are relatvie to the square image of size (244*244)\n",
    "    \n",
    "    '''\n",
    "    coord =  mapCoord(list(keypointPosition.values()),scaleFactor)\n",
    "    #coords (row,col)\n",
    "    keypointPosition['x'] = coord[0]\n",
    "    keypointPosition['y'] = coord[1]\n",
    "    \n",
    "    return keypointPosition\n",
    "\n",
    "def mapKeypointsPosition(pose,enlargedCroppedH,enlargedCroppedW,croppedH,croppedW):\n",
    "    '''\n",
    "    Helper function of mapPosesToCroppedImage\n",
    "    '''\n",
    "    scaleFactor = getScaleFactors(croppedW,croppedH,enlargedCroppedH, enlargedCroppedW)\n",
    "    for keypoint in pose['keypoints']:\n",
    "        keyPointPosition = mapCoordToCroppedImage(keypoint['position'],scaleFactor)\n",
    "        keypoint['position'] = keyPointPosition\n",
    "    return pose\n",
    "\n",
    "def mapPosesToCroppedImage(posenetPred,enlargedCroppedH,enlargedCroppedW,croppedH,croppedW):\n",
    "    '''\n",
    "    This functions maps the posenetPred keypoints to the original cropped image \n",
    "    '''\n",
    "    for index,pose in enumerate(posenetPred['detectionList']):\n",
    "        pose = mapKeypointsPosition(pose,enlargedCroppedH,enlargedCroppedW,croppedH,croppedW)\n",
    "        posenetPred['detectionList'][index] = pose\n",
    "    return posenetPred\n",
    "\n",
    "\n",
    "def mapKeypointsPositionToMainImage(pose,top,left):\n",
    "    '''\n",
    "    Helper function of mapPosesToMainImage\n",
    "    '''\n",
    "    for keypoint in pose['keypoints']:\n",
    "        keypoint['position']['x'] =  keypoint['position']['x'] + left\n",
    "        keypoint['position']['y'] =  keypoint['position']['y'] + top\n",
    "    return pose\n",
    "def mapPosesToMainImage(posenetPred,top,left):\n",
    "    '''\n",
    "    This function takes posenetPred where keypoints coords are relative to the original \n",
    "    cropped image \n",
    "    '''\n",
    "    for index,pose in enumerate(posenetPred['detectionList']):\n",
    "        pose = mapKeypointsPositionToMainImage(pose,top,left)\n",
    "        posenetPred['detectionList'][index] = pose\n",
    "    return posenetPred  \n",
    "\n",
    "def mapPosesToMainImageWrapper(posenetPred,topLarger, leftLarger,resizedRoi,roiCropped):\n",
    "    '''\n",
    "    This function is a wrapper function that maps raw posenetPred for cropped images to poses \n",
    "    in the full image. \n",
    "    Used for gaze detection.\n",
    "    '''\n",
    "    posenetPred = mapPosesToCroppedImage(posenetPred,\n",
    "                                         resizedRoi.shape[0], resizedRoi.shape[1],\n",
    "                                         roiCropped.shape[0],roiCropped.shape[1])\n",
    "    posenetPred = mapPosesToMainImage(posenetPred,topLarger,leftLarger)\n",
    "    return posenetPred\n",
    "\n"
   ]
  },
  {
   "cell_type": "code",
   "execution_count": 43,
   "metadata": {},
   "outputs": [],
   "source": [
    "#Tracker \n",
    "def tracker(frame,poses,bboxes,classes,prevFrameMidpoints):\n",
    "        \n",
    "    cv2.imshow('test', frame)"
   ]
  },
  {
   "cell_type": "code",
   "execution_count": 61,
   "metadata": {},
   "outputs": [],
   "source": [
    "def drawMaskRcnnHelperFunction(frameCopy,poseIndex,frame_rcnnbboxes,\n",
    "                               frame_teamColors,frame_actions,frame_rois,frame_masks,playersScores=False):\n",
    "    \n",
    "   \n",
    "    \n",
    "    for index,bbox in enumerate(frame_rcnnbboxes):\n",
    "        if playersScores:\n",
    "            playerScore = playersScores[index]\n",
    "        else: \n",
    "            playerScore = 0\n",
    "        if index != poseIndex:\n",
    "            color = frame_teamColors[index]\n",
    "        else:\n",
    "            #color = (255,0,255)\n",
    "            color =frame_teamColors[index]\n",
    "        DrawPose.drawPred(frameCopy,\n",
    "                          frame_actions[index],\n",
    "                          playerScore,\n",
    "                          bbox[0],bbox[1], bbox[2], bbox[3], \n",
    "                          color,\n",
    "                          yolo=False,\n",
    "                          roi=frame_rois[index],\n",
    "                          mask=frame_masks[index])"
   ]
  },
  {
   "cell_type": "code",
   "execution_count": 45,
   "metadata": {
    "scrolled": false
   },
   "outputs": [],
   "source": [
    "def visualDebugger():\n",
    "    loadMaskRcnn()\n",
    "    #ActionClassificationCosine.loadPosenetModel()\n",
    "    rawFrame=[]\n",
    "    learner = getLearner(3)\n",
    "    net = args['net']\n",
    "    output_layer_names = args['output_layer_names']\n",
    "    \n",
    "    frame,h,w = load_image()\n",
    "    frameCopy = frame[:]\n",
    "    frameCopy2 = frame[:]\n",
    "    \n",
    "\n",
    "    \n",
    "    classIDs,confidences,boxes,masks = fitMaskRcnn(frame)\n",
    "    \n",
    "    #Gaze detection variable\n",
    "    posenetPredCombined = {'detectionList':[]}\n",
    "    frame_bboxs = []\n",
    "    frame_actions = []\n",
    "    \n",
    "    #Drawing variables\n",
    "    frame_rois = []\n",
    "    frame_masks = []\n",
    "    frame_rcnnbboxes = []\n",
    "    frame_teamColors = []\n",
    "    for detected_object in range(0, len(boxes)):\n",
    "        \n",
    "        left,top,width,height,mask = getBoxesAndMask(boxes, masks, detected_object)\n",
    "\n",
    "        bboxFit = check_bbox_size(width,height, *frame.shape[0:-1])\n",
    "        labelFit = check_label(classIDs[detected_object])\n",
    "        if bboxFit and labelFit and left>0:\n",
    "            #uncommet to use basic fast rcnn and remove hsv from teamName\n",
    "            #team,roi= detectTeam(frameCopy, left ,top, left+width,top+height , algo='basic',mask=mask)\n",
    "            team,hsv,roi= (detectTeam(frameCopy, left ,top, left+width,top+height , algo='kmeans',\n",
    "                                     learner=learner\n",
    "                                     ,mask=mask))\n",
    "            \n",
    "            teamColor, teamName = getTeamInfo(team)\n",
    "            teamName = f'{team},{hsv}'\n",
    "            \n",
    "            resizedRoi,roiCropped,leftLarger,topLarger,rightLarger,bottomLarger = transformRoiBoka(mask,\n",
    "                                                                                                 roi,frame,\n",
    "                                                                                                  h,w,left,top,\n",
    "                                                                                                  left+width,\n",
    "                                                                                                  top+height )\n",
    "            \n",
    "            #write_image(resizedRoi,f'{detected_object}_resizedRoi.png')\n",
    "            start = time.time()\n",
    "\n",
    "            actionClass,posenetPred,_ = getActionClass(resizedRoi)\n",
    "            \n",
    "            \n",
    "            \n",
    "            #GAZE DETECTION PREP(Combine posenetPred for gaze detection):\n",
    "            \n",
    "            posenetPred = mapPosesToCroppedImage(posenetPred,\n",
    "                                                 resizedRoi.shape[0], resizedRoi.shape[1],\n",
    "                                                 roiCropped.shape[0],roiCropped.shape[1])\n",
    "            \n",
    "\n",
    "            posenetPred = mapPosesToMainImage(posenetPred,topLarger,leftLarger)\n",
    "    \n",
    "           \n",
    "            for pose in posenetPred['detectionList']:\n",
    "                posenetPredCombined['detectionList'].append(pose)\n",
    "            if len(posenetPred['detectionList']) != 0:\n",
    "                frame_bboxs.append([leftLarger,topLarger,rightLarger,bottomLarger])\n",
    "                frame_actions.append(actionClass)\n",
    "                frame_masks.append(mask)\n",
    "                frame_rois.append(roi)\n",
    "                frame_rcnnbboxes.append([left ,top, left+width,top+height])\n",
    "                frame_teamColors.append(teamColor)\n",
    "            #END GAZE DETECTION PREP:\n",
    "            end = time.time()\n",
    "            print(actionClass)\n",
    "            print(round(end-start,3))\n",
    "    \n",
    "           \n",
    "    #Gaze Module\n",
    "    if len(frame_bboxs):\n",
    "       ball_position,poseIndex = GazeModule.fitGazeModule(posenetPredCombined,frame_bboxs,frame_actions)\n",
    "       drawMaskRcnnHelperFunction(frameCopy,poseIndex,frame_rcnnbboxes,\n",
    "                       frame_teamColors,frame_actions,\n",
    "                       frame_rois,frame_masks)\n",
    "       DrawPose.drawBall(frameCopy,w,h,ball_position,(255,0,0),20)\n",
    "    \n",
    "    write_image(frameCopy, f'GazeModlueOutPut')\n",
    "\n",
    "    #Posenet On the whole image \n",
    "    print('All test images saved')\n",
    "    \n",
    "        "
   ]
  },
  {
   "cell_type": "markdown",
   "metadata": {
    "heading_collapsed": true
   },
   "source": [
    "#Test Ball Localization"
   ]
  },
  {
   "cell_type": "code",
   "execution_count": 46,
   "metadata": {
    "hidden": true
   },
   "outputs": [
    {
     "name": "stdout",
     "output_type": "stream",
     "text": [
      "importing Jupyter notebook from TestBallLocalization.ipynb\n"
     ]
    }
   ],
   "source": [
    "import TestBallLocalization"
   ]
  },
  {
   "cell_type": "code",
   "execution_count": 47,
   "metadata": {
    "hidden": true
   },
   "outputs": [],
   "source": [
    "def test(frame,h,w):\n",
    "    \n",
    "    rawFrame=[]\n",
    "    learner = getLearner(3)\n",
    "    net = args['net']\n",
    "    output_layer_names = args['output_layer_names']\n",
    "    \n",
    "    frameCopy = frame[:]\n",
    "    frameCopy2 = frame[:]\n",
    "    \n",
    "\n",
    "    \n",
    "    classIDs,confidences,boxes,masks = fitMaskRcnn(frame)\n",
    "    \n",
    "    #Gaze detection variable\n",
    "    posenetPredCombined = {'detectionList':[]}\n",
    "    frame_bboxs = []\n",
    "    frame_actions = []\n",
    "    \n",
    "    #Drawing variables\n",
    "    frame_rois = []\n",
    "    frame_masks = []\n",
    "    frame_rcnnbboxes = []\n",
    "    frame_teamColors = []\n",
    "    for detected_object in range(0, len(boxes)):\n",
    "        \n",
    "        left,top,width,height,mask = getBoxesAndMask(boxes, masks, detected_object)\n",
    "\n",
    "        bboxFit = check_bbox_size(width,height, *frame.shape[0:-1])\n",
    "        labelFit = check_label(classIDs[detected_object])\n",
    "        if bboxFit and labelFit and left>0:\n",
    "            #uncommet to use basic fast rcnn and remove hsv from teamName\n",
    "            #team,roi= detectTeam(frameCopy, left ,top, left+width,top+height , algo='basic',mask=mask)\n",
    "            team,hsv,roi= (detectTeam(frameCopy, left ,top, left+width,top+height , algo='kmeans',\n",
    "                                     learner=learner\n",
    "                                     ,mask=mask))\n",
    "            \n",
    "            teamColor, teamName = getTeamInfo(team)\n",
    "            teamName = f'{team},{hsv}'\n",
    "            \n",
    "            resizedRoi,roiCropped,leftLarger,topLarger,rightLarger,bottomLarger = transformRoiBoka(mask,\n",
    "                                                                                                 roi,frame,\n",
    "                                                                                                  h,w,left,top,\n",
    "                                                                                                  left+width,\n",
    "                                                                                                  top+height )\n",
    "            \n",
    "            #write_image(resizedRoi,f'{detected_object}_resizedRoi.png')\n",
    "           \n",
    "\n",
    "            actionClass,posenetPred,_ = getActionClass(resizedRoi)\n",
    "            \n",
    "            \n",
    "            \n",
    "            #GAZE DETECTION PREP(Combine posenetPred for gaze detection):\n",
    "            \n",
    "            posenetPred = mapPosesToCroppedImage(posenetPred,\n",
    "                                                 resizedRoi.shape[0], resizedRoi.shape[1],\n",
    "                                                 roiCropped.shape[0],roiCropped.shape[1])\n",
    "            \n",
    "\n",
    "            posenetPred = mapPosesToMainImage(posenetPred,topLarger,leftLarger)\n",
    "    \n",
    "           \n",
    "            for pose in posenetPred['detectionList']:\n",
    "                posenetPredCombined['detectionList'].append(pose)\n",
    "            if len(posenetPred['detectionList']) != 0:\n",
    "                frame_bboxs.append([leftLarger,topLarger,rightLarger,bottomLarger])\n",
    "                frame_actions.append(actionClass)\n",
    "                frame_masks.append(mask)\n",
    "                frame_rois.append(roi)\n",
    "                frame_rcnnbboxes.append([left ,top, left+width,top+height])\n",
    "                frame_teamColors.append(teamColor)\n",
    "            #END GAZE DETECTION PREP:\n",
    "\n",
    "    #Gaze Module\n",
    "    start = time.time()\n",
    "    if len(frame_bboxs):\n",
    "       ball_position,poseIndex = GazeModule.fitGazeModule(posenetPredCombined,frame_bboxs,frame_actions)\n",
    "    else:\n",
    "        ball_position = (int(w/2),(h/2))\n",
    "    end = time.time()\n",
    "    return ball_position , round(end-start,3)"
   ]
  },
  {
   "cell_type": "code",
   "execution_count": 48,
   "metadata": {
    "hidden": true
   },
   "outputs": [],
   "source": [
    "#%debug"
   ]
  },
  {
   "cell_type": "code",
   "execution_count": 49,
   "metadata": {
    "hidden": true
   },
   "outputs": [],
   "source": [
    "def runTest():\n",
    "    loadMaskRcnn()\n",
    "#     global frame_rsme_collection , yhat\n",
    "    #ActionClassificationCosine.loadPosenetModel()\n",
    "    totalTime = []\n",
    "    yhat = []\n",
    "    images, labels = TestBallLocalization.imgs , TestBallLocalization.labels\n",
    "    frame_rsme_collection = []\n",
    "    for index,frame in enumerate(images):\n",
    "        ball_pos , timeTaken = test(frame,frame.shape[0],frame.shape[1])\n",
    "        ball_pos = list(ball_pos)\n",
    "        print(f'{ball_pos},{labels[index]}')\n",
    "        yhat.append(ball_pos)\n",
    "        totalTime.append(timeTaken)\n",
    "        #Drawing and saving image\n",
    "        frame_rsme = TestBallLocalization.RMSE([ labels[index] ],[ball_pos])\n",
    "        ball_pos = (int(ball_pos[0]), int(ball_pos[1]))\n",
    "        DrawPose.drawBall(frame,frame.shape[1],frame.shape[0],tuple(ball_pos),(255,0,0),20)\n",
    "        DrawPose.drawBall(frame,frame.shape[1],frame.shape[0],tuple(labels[index]),(0,0,255),20)\n",
    "        write_image(frame,f'{round(frame_rsme,3)}')\n",
    "        \n",
    "        #Prep for min RMSE and MAX\n",
    "        frame_rsme_collection.append(frame_rsme)\n",
    "        \n",
    "    \n",
    "    #Final total RMSE and time  \n",
    "    rmse = TestBallLocalization.RMSE(labels,yhat)\n",
    "    totalTime = np.mean(np.array(totalTime)) \n",
    "    #Final Min and Max \n",
    "    frame_rsme_collection = np.array(frame_rsme_collection)\n",
    "    minRmse = np.min(frame_rsme_collection)\n",
    "    maxRmse = np.max(frame_rsme_collection)\n",
    "    #Writing Results \n",
    "    content = f'RMSE:{rmse}\\nMax RMSE:{maxRmse}\\n{minRmse}\\nMean Time:{totalTime}'\n",
    "    TestBallLocalization.writeResults('GazeTestResults',content)\n",
    "        "
   ]
  },
  {
   "cell_type": "code",
   "execution_count": 50,
   "metadata": {
    "hidden": true,
    "scrolled": false
   },
   "outputs": [],
   "source": [
    "#runTest()"
   ]
  },
  {
   "cell_type": "markdown",
   "metadata": {
    "heading_collapsed": true
   },
   "source": [
    "#Test Player Localization"
   ]
  },
  {
   "cell_type": "code",
   "execution_count": 51,
   "metadata": {
    "hidden": true
   },
   "outputs": [
    {
     "name": "stdout",
     "output_type": "stream",
     "text": [
      "importing Jupyter notebook from TestPlayerLocalization.ipynb\n"
     ]
    }
   ],
   "source": [
    "import TestPlayerLocalization"
   ]
  },
  {
   "cell_type": "code",
   "execution_count": 52,
   "metadata": {
    "hidden": true
   },
   "outputs": [],
   "source": [
    "def test(frame):\n",
    "    pred_boxes={'boxes':[],'scores':[]}\n",
    "    net = args['net']\n",
    "    output_layer_names = args['output_layer_names']\n",
    "        \n",
    "    #do stuff\n",
    "    # create a 4D tensor (OpenCV 'blob') from image frame (pixels scaled 0->1, image resized)\n",
    "    tensor = (cv2.dnn.blobFromImage(frame , 1/255 , (args[\"inpWidth\"], args[\"inpHeight\"]) , [0,0,0] , 1, \n",
    "                                    crop=False))\n",
    "    # set the input to the CNN network\n",
    "    net.setInput(tensor)\n",
    "    results = net.forward(output_layer_names)\n",
    "\n",
    "    classIDs, confidences, boxes = (postprocess(frame, results, args[\"confThreshold\"], \n",
    "                                                args[\"nmsThreshold\"]))\n",
    "    for detected_object in range(0, len(boxes)):\n",
    "        box = boxes[detected_object]\n",
    "        left = box[0]\n",
    "        top = box[1]\n",
    "        width = box[2]\n",
    "        height = box[3]\n",
    "\n",
    "        bboxFit = check_bbox_size(width,height, *frame.shape[0:-1])\n",
    "        labelFit = classes[classIDs[detected_object]] == 'person'\n",
    "        if bboxFit and labelFit and left>0:\n",
    "            pred_boxes['boxes'].append([left,top,left+width,top+height]) \n",
    "            pred_boxes['scores'].append(confidences[detected_object])\n",
    "    return pred_boxes\n",
    "\n",
    "    #         End of do stuff\n",
    "\n",
    "           "
   ]
  },
  {
   "cell_type": "code",
   "execution_count": 53,
   "metadata": {
    "hidden": true
   },
   "outputs": [],
   "source": [
    "def runYoloTest():\n",
    "    imgs = TestPlayerLocalization.imgs\n",
    "    labels = TestPlayerLocalization.labels\n",
    "    imgNames = TestPlayerLocalization.images\n",
    "    gt_boxes = {}\n",
    "    yhat_boxes = {}\n",
    "    \n",
    "    time_collection = []\n",
    "    for index,frame in enumerate(imgs):\n",
    "        st = time.time()\n",
    "        pred_boxes = test(frame)\n",
    "        et = time.time()\n",
    "        time_collection.append(et-st)\n",
    "        \n",
    "        #Prep variables for mAP\n",
    "        yhat_boxes[imgNames[index]] = pred_boxes\n",
    "        gt_boxes[imgNames[index]] = labels[index]\n",
    "\n",
    "        #Draw pred_boxes\n",
    "#         for box in pred_boxes['boxes']:\n",
    "#             DrawPose.drawPred(frame,'',1,*box,(255,0,0),yolo=True)\n",
    "#         #Draw Ground Truth\n",
    "#         for box in labels[index]:\n",
    "#             DrawPose.drawPred(frame,'',1,*box,(0,0,255),yolo=True)\n",
    "#         write_image(frame,f'{imgNames[index]}')\n",
    "    \n",
    "    \n",
    "    #Find average time taken\n",
    "    time_collection = np.array(time_collection)\n",
    "    totalTime  = np.mean(time_collection)\n",
    "    \n",
    "    #Find mAP\n",
    "    result = TestPlayerLocalization.get_avg_precision_at_iou(gt_boxes,yhat_boxes,iou_thr=0.4)\n",
    "    print(result)\n",
    "    mAP,model_thrs = result['avg_prec']  , result['model_thrs']\n",
    "    precisions, recalls  = result['precisions'], result['recalls']\n",
    "    #Writing Result to the time\n",
    "    content = f'Precisions:{precisions}\\nRecalls:{recalls}\\nmAP:{mAP}\\model thres:{model_thrs}\\nTime Taken:{totalTime}'\n",
    "    TestPlayerLocalization.writeResults('YoloResult',content)\n",
    "\n",
    "        "
   ]
  },
  {
   "cell_type": "code",
   "execution_count": 54,
   "metadata": {
    "hidden": true
   },
   "outputs": [],
   "source": [
    "# args['yolo'] = True\n",
    "# loadYolo()\n",
    "# runYoloTest()"
   ]
  },
  {
   "cell_type": "code",
   "execution_count": 55,
   "metadata": {
    "hidden": true
   },
   "outputs": [],
   "source": [
    "def testMaskRcnn(frame):\n",
    "    pred_boxes={'boxes':[],'scores':[]}\n",
    "    net = args['net']\n",
    "    output_layer_names = args['output_layer_names']\n",
    "    #do stuff\n",
    "    classIDs,confidences,boxes,masks = fitMaskRcnn(frame)\n",
    "    for detected_object in range(0, len(boxes)):\n",
    "        left,top,width,height,mask = getBoxesAndMask(boxes, masks, detected_object)\n",
    "        bboxFit = check_bbox_size(width,height, *frame.shape[0:-1])\n",
    "        labelFit = check_label(classIDs[detected_object])\n",
    "        if bboxFit and labelFit and left>0:\n",
    "            pred_boxes['boxes'].append([left,top,left+width,top+height]) \n",
    "            pred_boxes['scores'].append(confidences[detected_object])\n",
    "    return pred_boxes\n",
    "\n",
    "  \n",
    "#       End of do stuff\n",
    "\n",
    "\n",
    "    "
   ]
  },
  {
   "cell_type": "code",
   "execution_count": 56,
   "metadata": {
    "hidden": true
   },
   "outputs": [],
   "source": [
    "def runMaskRcnnTest():\n",
    "    loadMaskRcnn()\n",
    "    imgs = TestPlayerLocalization.imgs\n",
    "    labels = TestPlayerLocalization.labels\n",
    "    imgNames = TestPlayerLocalization.images\n",
    "    gt_boxes = {}\n",
    "    yhat_boxes = {}\n",
    "    \n",
    "    time_collection = []\n",
    "    for index,frame in enumerate(imgs):\n",
    "        st = time.time()\n",
    "        pred_boxes = testMaskRcnn(frame)\n",
    "        et = time.time()\n",
    "        time_collection.append(et-st)\n",
    "        \n",
    "        #Prep variables for mAP\n",
    "        yhat_boxes[imgNames[index]] = pred_boxes\n",
    "        gt_boxes[imgNames[index]] = labels[index]\n",
    "\n",
    "        #Draw pred_boxes\n",
    "#         for box in pred_boxes['boxes']:\n",
    "#             DrawPose.drawPred(frame,'',1,*box,(255,0,0),yolo=True)\n",
    "#         #Draw Ground Truth\n",
    "#         for box in labels[index]:\n",
    "#             DrawPose.drawPred(frame,'',1,*box,(0,0,255),yolo=True)\n",
    "#         write_image(frame,f'{imgNames[index]}')\n",
    "    \n",
    "    \n",
    "    #Find average time taken\n",
    "    time_collection = np.array(time_collection)\n",
    "    totalTime  = np.mean(time_collection)\n",
    "    \n",
    "    #Find mAP\n",
    "    result = TestPlayerLocalization.get_avg_precision_at_iou(gt_boxes,yhat_boxes,iou_thr=0.5)\n",
    "    print(result)\n",
    "    mAP,model_thrs = result['avg_prec']  , result['model_thrs']\n",
    "    precisions, recalls  = result['precisions'], result['recalls']\n",
    "    #Writing Result to the time\n",
    "    content = f'Precisions:{precisions}\\nRecalls:{recalls}\\nmAP:{mAP}\\model thres:{model_thrs}\\nTime Taken:{totalTime}'\n",
    "    TestPlayerLocalization.writeResults('MaskRCNNResult',content)"
   ]
  },
  {
   "cell_type": "code",
   "execution_count": 57,
   "metadata": {
    "hidden": true
   },
   "outputs": [],
   "source": [
    "#runMaskRcnnTest()"
   ]
  },
  {
   "cell_type": "code",
   "execution_count": null,
   "metadata": {
    "hidden": true
   },
   "outputs": [],
   "source": []
  }
 ],
 "metadata": {
  "kernelspec": {
   "display_name": "Python 3",
   "language": "python",
   "name": "python3"
  },
  "language_info": {
   "codemirror_mode": {
    "name": "ipython",
    "version": 3
   },
   "file_extension": ".py",
   "mimetype": "text/x-python",
   "name": "python",
   "nbconvert_exporter": "python",
   "pygments_lexer": "ipython3",
   "version": "3.7.4"
  },
  "toc": {
   "base_numbering": 1,
   "nav_menu": {},
   "number_sections": true,
   "sideBar": true,
   "skip_h1_title": false,
   "title_cell": "Table of Contents",
   "title_sidebar": "Contents",
   "toc_cell": false,
   "toc_position": {},
   "toc_section_display": true,
   "toc_window_display": false
  },
  "varInspector": {
   "cols": {
    "lenName": 16,
    "lenType": 16,
    "lenVar": 40
   },
   "kernels_config": {
    "python": {
     "delete_cmd_postfix": "",
     "delete_cmd_prefix": "del ",
     "library": "var_list.py",
     "varRefreshCmd": "print(var_dic_list())"
    },
    "r": {
     "delete_cmd_postfix": ") ",
     "delete_cmd_prefix": "rm(",
     "library": "var_list.r",
     "varRefreshCmd": "cat(var_dic_list()) "
    }
   },
   "types_to_exclude": [
    "module",
    "function",
    "builtin_function_or_method",
    "instance",
    "_Feature"
   ],
   "window_display": false
  }
 },
 "nbformat": 4,
 "nbformat_minor": 2
}
