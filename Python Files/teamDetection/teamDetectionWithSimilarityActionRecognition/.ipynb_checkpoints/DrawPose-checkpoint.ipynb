{
 "cells": [
  {
   "cell_type": "code",
   "execution_count": 1,
   "metadata": {},
   "outputs": [],
   "source": [
    "import cv2 "
   ]
  },
  {
   "cell_type": "code",
   "execution_count": 2,
   "metadata": {},
   "outputs": [],
   "source": [
    "#constants\n",
    "PART_NAMES = [\n",
    "    \"nose\", \"leftEye\", \"rightEye\", \"leftEar\", \"rightEar\", \"leftShoulder\",\n",
    "    \"rightShoulder\", \"leftElbow\", \"rightElbow\", \"leftWrist\", \"rightWrist\",\n",
    "    \"leftHip\", \"rightHip\", \"leftKnee\", \"rightKnee\", \"leftAnkle\", \"rightAnkle\"\n",
    "]\n",
    "PART_IDS = {pn: pid for pid, pn in enumerate(PART_NAMES)} ;PART_IDS\n",
    "CONNECTED_PART_NAMES = [\n",
    "    (\"leftHip\", \"leftShoulder\"), (\"leftElbow\", \"leftShoulder\"),\n",
    "    (\"leftElbow\", \"leftWrist\"), (\"leftHip\", \"leftKnee\"),\n",
    "    (\"leftKnee\", \"leftAnkle\"), (\"rightHip\", \"rightShoulder\"),\n",
    "    (\"rightElbow\", \"rightShoulder\"), (\"rightElbow\", \"rightWrist\"),\n",
    "    (\"rightHip\", \"rightKnee\"), (\"rightKnee\", \"rightAnkle\"),\n",
    "    (\"leftShoulder\", \"rightShoulder\"), (\"leftHip\", \"rightHip\")\n",
    "]\n",
    "\n",
    "CONNECTED_PART_INDICES = [(PART_IDS[a], PART_IDS[b]) for a, b in CONNECTED_PART_NAMES];\n",
    "\n"
   ]
  },
  {
   "cell_type": "code",
   "execution_count": 3,
   "metadata": {},
   "outputs": [],
   "source": [
    "def get_adjacent_keypoints(keypoints):\n",
    "    '''\n",
    "    Helper function of draw_skel_and _kp\n",
    "    Returns 2 coord of 2 points where line needs to be drawn\n",
    "    EXAMPLE: [[X1,Y1],[X2,Y2]]\n",
    "    '''\n",
    "    results = []\n",
    "    for left, right in CONNECTED_PART_INDICES:\n",
    "       results.append(\n",
    "           np.array([\n",
    "                [ keypoints[left]['position']['x'] , keypoints[left]['position']['y'] ],\n",
    "                [ keypoints[right]['position']['x'] , keypoints[right]['position']['y'] ]\n",
    "                    ]\n",
    "           ).astype(np.int32)\n",
    "        )\n",
    "    return results"
   ]
  },
  {
   "cell_type": "code",
   "execution_count": 15,
   "metadata": {},
   "outputs": [],
   "source": [
    "def draw_skel_and_kp(poses , img, color,classes=None):\n",
    "    '''\n",
    "    This function draws the keypoints and skeleton\n",
    "    \n",
    "    Parameter\n",
    "    -------------\n",
    "    poses : That raw output from posenet\n",
    "    \n",
    "    img : The image that was sent to posenet for pose prediction\n",
    "    \n",
    "    Return\n",
    "    -------------\n",
    "    out_img : Image of same size as img. It has the skeleton and keypoints drawn in it\n",
    "    \n",
    "    '''\n",
    "    out_img = img\n",
    "    adjacent_keypoints = []\n",
    "    cv_keypoints = []\n",
    "    #For every pose of the player\n",
    "    for i,pose in enumerate(poses['detectionList']):\n",
    "        keypoints = pose['keypoints']\n",
    "        new_keypoint = get_adjacent_keypoints(keypoints)\n",
    "        adjacent_keypoints.extend(new_keypoint)\n",
    "        \n",
    "        for keypoint in keypoints:\n",
    "            x,y,score = round(keypoint['position']['x']) ,round(keypoint['position']['y']),keypoint['score']\n",
    "            cv_keypoints.append(cv2.KeyPoint(x,y , 10. * score))\n",
    "        if classes != None:\n",
    "            cv2.putText(out_img, classes[i][0], (x,y), cv2.FONT_ITALIC, 0.6, (0, 255, 0), 1)\n",
    "    \n",
    "    out_img = cv2.drawKeypoints(\n",
    "        img, cv_keypoints , outImage=np.array([]), color=color,\n",
    "        flags=cv2.DRAW_MATCHES_FLAGS_DRAW_RICH_KEYPOINTS )\n",
    "    out_img = cv2.polylines(out_img , adjacent_keypoints , isClosed=False, color=list(color))\n",
    "    return out_img"
   ]
  },
  {
   "cell_type": "code",
   "execution_count": 2,
   "metadata": {},
   "outputs": [],
   "source": [
    "def draw_skelton(poses,img):\n",
    "    '''\n",
    "    This function draws the skeleton\n",
    "\n",
    "    Parameter\n",
    "    -------------\n",
    "    poses : That raw output from posenet\n",
    "\n",
    "    img : The image that was sent to posenet for pose prediction\n",
    "\n",
    "    Return\n",
    "    -------------\n",
    "    out_img : Image of same size as img. It has the skeleton keypoints drawn in it\n",
    "    \n",
    "    '''\n",
    "    adjacent_keypoints = []\n",
    "    out_img = img\n",
    "    for pose in poses['detectionList']:\n",
    "        keypoints  = pose['keypoints']\n",
    "        new_keypoints = get_adjacent_keypoints(keypoints)\n",
    "        adjacent_keypoints.extend(new_keypoints)\n",
    "    out_img = cv2.polylines(out_img , adjacent_keypoints, isClosed=False, color=(255,255,0))\n",
    "    return out_img   "
   ]
  },
  {
   "cell_type": "code",
   "execution_count": 1,
   "metadata": {},
   "outputs": [],
   "source": [
    "def draw_keypoints(poses,img):\n",
    "    '''\n",
    "    This function draws the keypoints\n",
    "    \n",
    "    Parameter\n",
    "    -------------\n",
    "    poses : That raw output from posenet\n",
    "    \n",
    "    img : The image that was sent to posenet for pose prediction\n",
    "    \n",
    "    Return\n",
    "    -------------\n",
    "    out_img : Image of same size as img. It has the keypoints drawn in it\n",
    "    '''\n",
    "    cv_keypoints= []\n",
    "    for pose in poses['detectionList']:\n",
    "        keypoints = pose['keypoints']\n",
    "        for keypoint in keypoints:\n",
    "            x,y,score = round(keypoint['position']['x']) ,round(keypoint['position']['y']),keypoint['score']\n",
    "            cv_keypoints.append(cv2.KeyPoint(x,y , 10. *score))\n",
    "    out_img = cv2.drawKeypoints(img, cv_keypoints , outImage=np.array([]) ) "
   ]
  },
  {
   "cell_type": "code",
   "execution_count": null,
   "metadata": {},
   "outputs": [],
   "source": []
  }
 ],
 "metadata": {
  "kernelspec": {
   "display_name": "Python 3",
   "language": "python",
   "name": "python3"
  },
  "language_info": {
   "codemirror_mode": {
    "name": "ipython",
    "version": 3
   },
   "file_extension": ".py",
   "mimetype": "text/x-python",
   "name": "python",
   "nbconvert_exporter": "python",
   "pygments_lexer": "ipython3",
   "version": "3.7.4"
  },
  "toc": {
   "base_numbering": 1,
   "nav_menu": {},
   "number_sections": true,
   "sideBar": true,
   "skip_h1_title": false,
   "title_cell": "Table of Contents",
   "title_sidebar": "Contents",
   "toc_cell": false,
   "toc_position": {},
   "toc_section_display": true,
   "toc_window_display": false
  },
  "varInspector": {
   "cols": {
    "lenName": 16,
    "lenType": 16,
    "lenVar": 40
   },
   "kernels_config": {
    "python": {
     "delete_cmd_postfix": "",
     "delete_cmd_prefix": "del ",
     "library": "var_list.py",
     "varRefreshCmd": "print(var_dic_list())"
    },
    "r": {
     "delete_cmd_postfix": ") ",
     "delete_cmd_prefix": "rm(",
     "library": "var_list.r",
     "varRefreshCmd": "cat(var_dic_list()) "
    }
   },
   "types_to_exclude": [
    "module",
    "function",
    "builtin_function_or_method",
    "instance",
    "_Feature"
   ],
   "window_display": false
  }
 },
 "nbformat": 4,
 "nbformat_minor": 2
}
