{
 "cells": [
  {
   "cell_type": "markdown",
   "metadata": {},
   "source": [
    "#Importing"
   ]
  },
  {
   "cell_type": "code",
   "execution_count": 12,
   "metadata": {},
   "outputs": [],
   "source": [
    "import matplotlib.pyplot as plt\n",
    "import fastai\n",
    "import cv2\n",
    "from fastai.vision import *\n",
    "%matplotlib inline\n",
    "import torchvision\n",
    "%matplotlib inline"
   ]
  },
  {
   "cell_type": "markdown",
   "metadata": {
    "heading_collapsed": true
   },
   "source": [
    "#Loading model"
   ]
  },
  {
   "cell_type": "code",
   "execution_count": 13,
   "metadata": {
    "hidden": true
   },
   "outputs": [],
   "source": [
    "learn = load_learner(\"/Users/sandeep/Desktop/dataandmodles/models/ballDetection\")"
   ]
  },
  {
   "cell_type": "markdown",
   "metadata": {
    "heading_collapsed": true
   },
   "source": [
    "#Getting prediction"
   ]
  },
  {
   "cell_type": "code",
   "execution_count": 14,
   "metadata": {
    "hidden": true
   },
   "outputs": [],
   "source": [
    "def unscaleCoord(imagePoint):\n",
    "  '''\n",
    "  Helper function for getPrediction\n",
    "  Returns \n",
    "  -----------\n",
    "  unscaleCoord : [Height,Width]\n",
    "  '''\n",
    "  s = torch.tensor([imagePoint.size[0]/2 , imagePoint.size[1]/2],dtype=torch.float32)\n",
    "  scaledCoord = imagePoint.data\n",
    "  unscaledCoord = (scaledCoord+1.) * (s)\n",
    "  return unscaledCoord"
   ]
  },
  {
   "cell_type": "code",
   "execution_count": 15,
   "metadata": {
    "hidden": true
   },
   "outputs": [],
   "source": [
    "def getScaleFactors(imgW, imgH, originalImgH , originalImgW):\n",
    "    '''\n",
    "    Helper function for getPrediction\n",
    "    \n",
    "    Return\n",
    "    --------\n",
    "    A tensor with given scalefactor (wdith,height). \n",
    "    '''\n",
    "    return tensor(originalImgW/imgW , originalImgH/imgH);"
   ]
  },
  {
   "cell_type": "code",
   "execution_count": 16,
   "metadata": {
    "hidden": true
   },
   "outputs": [],
   "source": [
    "def resizeFrame(frame):\n",
    "    '''\n",
    "    Helper function for getPrediction: that resizes the frames.\n",
    "    Returns image of size (490, 360)\n",
    "    '''\n",
    "    resizedImg =  cv2.resize(frame[:] , (490 , 360))\n",
    "    return resizedImg"
   ]
  },
  {
   "cell_type": "code",
   "execution_count": 17,
   "metadata": {
    "hidden": true
   },
   "outputs": [],
   "source": [
    "def mapToOrginialImage(coord,scaleFactors):\n",
    "    '''\n",
    "      Helper function for getPrediction\n",
    "      Returns coord (width, height)\n",
    "    '''\n",
    "    coordInOriginalImage = coord.flip(1) * scaleFactors\n",
    "    return tuple(coordInOriginalImage[0].numpy())"
   ]
  },
  {
   "cell_type": "code",
   "execution_count": 18,
   "metadata": {
    "hidden": true
   },
   "outputs": [],
   "source": [
    "def getPrediction(frame):\n",
    "    '''\n",
    "        Given an image, returns the ball coord (x,y)\n",
    "    '''\n",
    "    resizedImg  = resizeFrame(frame[:])\n",
    "#     resizedImg  = frame\n",
    "    resizedImg = cv2.cvtColor(resizedImg, cv2.COLOR_BGR2RGB)\n",
    "    resizedImg = Image(pil2tensor(resizedImg, dtype=np.float32).div_(255))\n",
    "    imagePoint = learn.predict(resizedImg)[0]\n",
    "    scaleFactors = getScaleFactors(490,360,frame.shape[0],frame.shape[1])  \n",
    "    unscaledCoord = unscaleCoord(imagePoint)\n",
    "    coordInOriginalImage= mapToOrginialImage(unscaledCoord, scaleFactors);\n",
    "    return coordInOriginalImage\n"
   ]
  },
  {
   "cell_type": "markdown",
   "metadata": {
    "heading_collapsed": true
   },
   "source": [
    "#Puting prediction into original image"
   ]
  },
  {
   "cell_type": "code",
   "execution_count": 19,
   "metadata": {
    "hidden": true
   },
   "outputs": [],
   "source": [
    "def drawPrediction(frame,coord):\n",
    "    '''\n",
    "    Given a frame and coordinate\n",
    "    It draws a circle for you.\n",
    "    '''\n",
    "   # scaleFactors = getScaleFactors(490,360,frame.shape[0],frame.shape[1])   \n",
    "    #coordInOriginalImage= mapToOrginialImage(coord, scaleFactors);\n",
    "    frame = cv2.circle(frame,coord,30,(255,255,0),1);\n",
    "    return frame"
   ]
  },
  {
   "cell_type": "markdown",
   "metadata": {
    "heading_collapsed": true
   },
   "source": [
    "#Test"
   ]
  },
  {
   "cell_type": "code",
   "execution_count": 20,
   "metadata": {
    "hidden": true
   },
   "outputs": [],
   "source": [
    "import import_ipynb\n",
    "import TestBallLocalization\n",
    "import DrawPose\n",
    "import time "
   ]
  },
  {
   "cell_type": "code",
   "execution_count": 21,
   "metadata": {
    "hidden": true
   },
   "outputs": [],
   "source": [
    "TESTARGS = {\n",
    "            'debugger' : False,\n",
    "            'testImage1' : '/Users/sandeep/Desktop/dataandmodles/data/cavs.png',\n",
    "            'testResultPath' : '/Users/sandeep/Desktop/dataandmodles/data/ballTest/Regression'\n",
    "           }"
   ]
  },
  {
   "cell_type": "code",
   "execution_count": 22,
   "metadata": {
    "hidden": true
   },
   "outputs": [],
   "source": [
    "def write_image(img,fileName):\n",
    "    cv2.imwrite(f'{TESTARGS[\"testResultPath\"]}/{fileName}.png' , img)"
   ]
  },
  {
   "cell_type": "code",
   "execution_count": 27,
   "metadata": {
    "hidden": true
   },
   "outputs": [],
   "source": [
    "def runTest():\n",
    "    totalTime = []\n",
    "    yhat = []\n",
    "    images, labels = TestBallLocalization.imgs , TestBallLocalization.labels\n",
    "    frame_rsme_collection = []\n",
    "    for index,frame in enumerate(images):\n",
    "        st = time.time()\n",
    "        ball_pos = getPrediction(frame)\n",
    "        et = time.time()\n",
    "        timeTaken = et - st\n",
    "        \n",
    "        ball_pos = list(ball_pos)\n",
    "        print(f'{ball_pos},{labels[index]}')\n",
    "        yhat.append(ball_pos)\n",
    "        totalTime.append(timeTaken)\n",
    "        #Drawing and saving image\n",
    "        frame_rsme = TestBallLocalization.RMSE([ labels[index] ],[ball_pos])\n",
    "        ball_pos = (int(ball_pos[0]), int(ball_pos[1]))\n",
    "        DrawPose.drawBall(frame,frame.shape[1],frame.shape[0],tuple(ball_pos),(255,0,0),20)\n",
    "        DrawPose.drawBall(frame,frame.shape[1],frame.shape[0],tuple(labels[index]),(0,0,255),20)\n",
    "        write_image(frame,f'{round(frame_rsme,3)}')\n",
    "        \n",
    "        #Prep for min RMSE and MAX\n",
    "        frame_rsme_collection.append(frame_rsme)\n",
    "        \n",
    "    \n",
    "    #Final total RMSE and time  \n",
    "    rmse = TestBallLocalization.RMSE(labels,yhat)\n",
    "    totalTime = np.mean(np.array(totalTime)) \n",
    "    #Final Min and Max \n",
    "    frame_rsme_collection = np.array(frame_rsme_collection)\n",
    "    minRmse = np.min(frame_rsme_collection)\n",
    "    maxRmse = np.max(frame_rsme_collection)\n",
    "    #Writing Results \n",
    "    content = f'RMSE:{rmse}\\nMax RMSE:{maxRmse}\\n{minRmse}\\nMean Time:{totalTime}'\n",
    "    TestBallLocalization.writeResults('RegressionTestResults',content)\n",
    "    "
   ]
  },
  {
   "cell_type": "code",
   "execution_count": 28,
   "metadata": {
    "hidden": true
   },
   "outputs": [
    {
     "name": "stdout",
     "output_type": "stream",
     "text": [
      "[460.5025, 194.87712],[711, 207]\n",
      "[457.8434, 207.6247],[1008, 341]\n",
      "[428.83405, 205.70915],[853, 214]\n",
      "[474.81528, 204.77089],[570, 146]\n",
      "[466.25067, 202.26671],[676, 335]\n",
      "[461.17722, 192.41132],[380, 160]\n",
      "[456.52402, 200.44307],[538, 228]\n",
      "[482.38788, 193.0059],[723, 219]\n",
      "[455.2711, 197.43803],[516, 210]\n",
      "[488.50742, 187.23819],[244, 179]\n",
      "[472.5222, 202.20839],[612, 199]\n",
      "[452.00732, 197.63353],[737, 199]\n",
      "[483.83035, 190.24535],[621, 236]\n",
      "[466.19818, 200.50049],[736, 407]\n",
      "[456.43753, 198.79787],[249, 359]\n",
      "[450.5728, 193.14905],[864, 206]\n",
      "[432.68585, 206.80717],[830, 199]\n",
      "[477.64758, 197.50977],[744, 177]\n",
      "[474.39517, 196.86534],[727, 204]\n",
      "[445.7015, 210.00102],[404, 163]\n",
      "[463.96503, 192.16017],[619, 261]\n",
      "[447.1644, 205.07297],[167, 169]\n",
      "[479.3091, 190.46617],[285, 327]\n",
      "[486.37296, 191.49149],[628, 196]\n",
      "[452.19745, 194.72954],[783, 184]\n",
      "[422.64548, 208.68431],[869, 179]\n",
      "[486.83932, 224.23842],[436, 183]\n",
      "[446.49634, 207.91785],[1030, 100]\n",
      "[471.71048, 202.4637],[557, 382]\n",
      "[477.75024, 189.2846],[612, 212]\n",
      "[462.97357, 193.67186],[601, 312]\n",
      "[439.43948, 206.87292],[773, 198]\n",
      "[480.37833, 196.44771],[502, 226]\n",
      "[414.2602, 207.62865],[515, 86]\n",
      "[414.01413, 199.8681],[895, 147]\n",
      "[429.31268, 204.42049],[763, 413]\n",
      "[471.9322, 190.54688],[922, 173]\n",
      "[474.7671, 198.96706],[886, 245]\n",
      "[472.6624, 193.61699],[673, 262]\n",
      "[468.5038, 201.63911],[625, 173]\n",
      "[516.0343, 193.30762],[720, 121]\n",
      "[458.84274, 209.71394],[578, 392]\n",
      "[483.58932, 196.06026],[786, 204]\n",
      "[472.43884, 199.98207],[561, 226]\n",
      "[477.1335, 188.81198],[460, 283]\n",
      "[483.0987, 193.91592],[547, 350]\n",
      "[445.10315, 201.14035],[563, 294]\n",
      "[469.11136, 200.77626],[547, 144]\n",
      "[447.98248, 199.4503],[516, 177]\n",
      "[465.992, 197.71924],[682, 133]\n",
      "[454.22903, 211.70721],[574, 375]\n",
      "[471.34207, 204.58011],[274, 339]\n",
      "[415.01486, 216.35037],[420, 116]\n",
      "[422.35663, 206.58833],[862, 119]\n",
      "[427.90146, 205.31825],[394, 145]\n",
      "[470.76605, 197.69115],[793, 155]\n",
      "[470.3826, 191.46161],[745, 214]\n",
      "[506.2629, 180.7061],[675, 190]\n",
      "[435.77933, 210.62564],[831, 238]\n",
      "[451.2877, 192.57799],[1009, 340]\n",
      "[451.1257, 207.58621],[348, 163]\n",
      "[507.6702, 186.25253],[1034, 169]\n",
      "[465.56277, 189.09886],[800, 194]\n",
      "[511.21307, 183.17178],[434, 187]\n",
      "[504.39557, 187.18326],[650, 156]\n",
      "[458.93085, 201.31584],[671, 128]\n",
      "[437.60144, 177.49796],[561, 493]\n",
      "[403.5381, 188.07198],[389, 316]\n",
      "[455.2236, 210.19313],[349, 210]\n",
      "[478.0205, 190.94543],[899, 273]\n",
      "[385.99142, 193.03845],[663, 428]\n",
      "[473.36954, 187.24226],[465, 200]\n",
      "[444.4541, 213.65546],[846, 119]\n",
      "[482.8102, 191.89345],[743, 168]\n",
      "[427.8831, 208.09834],[879, 285]\n",
      "[440.56952, 204.42752],[651, 185]\n",
      "[456.3047, 195.63596],[649, 208]\n",
      "[517.1498, 188.6036],[416, 213]\n",
      "[474.83078, 192.46536],[764, 192]\n",
      "[469.37967, 198.40436],[461, 168]\n",
      "[435.36758, 208.7197],[760, 165]\n",
      "[451.23782, 201.44818],[600, 45]\n",
      "[511.47504, 182.69456],[654, 439]\n",
      "[469.72162, 198.3946],[548, 370]\n",
      "[464.8331, 205.16942],[554, 140]\n",
      "[458.98572, 197.497],[1086, 253]\n",
      "[479.04327, 193.76686],[756, 166]\n",
      "[483.36145, 190.73813],[283, 274]\n",
      "[434.24643, 208.57603],[262, 250]\n",
      "[418.70068, 203.60216],[300, 227]\n",
      "[463.3925, 204.21176],[628, 255]\n",
      "[470.0379, 198.77284],[781, 342]\n",
      "[457.3452, 201.52977],[873, 226]\n",
      "[716.9279, 290.15448],[1078, 157]\n",
      "[466.58102, 201.83554],[764, 183]\n",
      "[714.5425, 289.43683],[329, 475]\n",
      "[436.23727, 211.3723],[828, 272]\n",
      "[488.22974, 193.37671],[1004, 316]\n",
      "[500.66757, 187.80759],[696, 167]\n",
      "[486.21753, 196.47226],[804, 171]\n",
      "[475.44376, 188.60202],[581, 55]\n",
      "[477.5793, 201.67139],[573, 340]\n",
      "[455.1142, 200.13957],[677, 20]\n",
      "[428.5354, 210.9953],[856, 255]\n",
      "[452.78543, 194.79039],[1008, 279]\n",
      "[461.5722, 201.22343],[709, 271]\n",
      "[709.0733, 294.13364],[1260, 259]\n",
      "[464.89966, 226.26698],[711, 101]\n",
      "[477.48978, 198.58127],[712, 175]\n",
      "[510.34094, 190.15666],[741, 255]\n",
      "[740.40546, 293.12253],[759, 469]\n",
      "[493.5206, 204.76361],[666, 190]\n",
      "[439.02753, 228.74646],[893, 174]\n",
      "[476.30707, 204.65701],[669, 261]\n",
      "[516.4113, 188.12868],[351, 213]\n",
      "[455.18768, 195.35234],[642, 283]\n",
      "[451.2631, 194.8998],[651, 432]\n",
      "[416.8086, 209.991],[877, 188]\n",
      "[455.42313, 201.36212],[918, 137]\n",
      "[516.1456, 185.31078],[488, 170]\n",
      "[455.89, 196.26346],[580, 129]\n",
      "[447.54025, 202.24684],[791, 218]\n",
      "[483.06525, 192.49081],[497, 269]\n",
      "[448.41553, 198.50722],[715, 254]\n",
      "[388.91644, 203.63254],[703, 359]\n",
      "[517.1498, 188.6036],[416, 214]\n",
      "[722.01227, 298.13333],[1429, 334]\n",
      "[483.42703, 189.51884],[642, 296]\n",
      "[469.77957, 201.22137],[426, 290]\n",
      "[492.5439, 189.4127],[536, 177]\n",
      "[484.62292, 189.53673],[817, 308]\n",
      "[463.2918, 203.53847],[266, 469]\n",
      "[477.75024, 189.2846],[614, 217]\n",
      "[429.90033, 207.74988],[269, 413]\n",
      "[479.96292, 190.09244],[243, 379]\n",
      "[458.53207, 202.69934],[648, 164]\n",
      "[479.53012, 191.61816],[340, 186]\n",
      "[458.5072, 193.02466],[246, 229]\n",
      "[514.1509, 182.9541],[775, 163]\n",
      "[464.79, 185.04422],[651, 359]\n",
      "[420.93008, 211.45792],[347, 298]\n",
      "[438.62747, 202.23523],[331, 279]\n",
      "[732.2603, 291.7193],[1383, 504]\n",
      "[467.73926, 198.69325],[445, 304]\n",
      "[454.02173, 209.52628],[442, 191]\n",
      "[457.41058, 199.4937],[573, 198]\n",
      "[464.33453, 195.39992],[522, 197]\n",
      "[430.73376, 209.07733],[239, 426]\n",
      "[460.72397, 197.93861],[382, 150]\n",
      "[439.8409, 209.28851],[757, 194]\n",
      "[475.20337, 197.40445],[505, 190]\n",
      "[516.0046, 186.4984],[566, 208]\n",
      "[480.81244, 193.95152],[395, 475]\n",
      "[484.62482, 191.93196],[773, 253]\n",
      "[453.33585, 195.57758],[417, 140]\n",
      "[453.92685, 205.80336],[531, 257]\n",
      "[490.72388, 200.52591],[961, 407]\n",
      "[475.2697, 195.17656],[572, 188]\n",
      "[477.31577, 190.15663],[276, 251]\n",
      "[471.54565, 195.63899],[670, 293]\n",
      "[451.07187, 200.10254],[862, 202]\n",
      "[473.1567, 200.58923],[790, 164]\n",
      "[442.40445, 206.20462],[756, 219]\n",
      "[455.2464, 191.44759],[991, 195]\n",
      "[498.57022, 184.37949],[388, 297]\n",
      "[476.77625, 191.49873],[147, 343]\n",
      "[471.73367, 199.38748],[1032, 321]\n",
      "[481.4761, 195.67056],[706, 149]\n",
      "[460.64926, 194.55542],[576, 230]\n",
      "[454.78333, 206.39185],[446, 189]\n",
      "[481.97806, 191.52962],[250, 242]\n",
      "[461.1342, 200.08249],[877, 222]\n",
      "[516.5539, 185.84714],[540, 178]\n",
      "[464.8331, 205.16942],[556, 129]\n",
      "[495.88556, 191.2095],[675, 264]\n",
      "[455.19836, 197.31578],[448, 121]\n",
      "[448.52057, 198.40558],[715, 69]\n",
      "[716.84955, 298.42215],[514, 230]\n",
      "[482.89017, 191.65944],[790, 161]\n",
      "[482.0442, 197.1851],[701, 297]\n",
      "[463.0554, 195.5615],[162, 295]\n",
      "[459.60776, 197.44724],[611, 431]\n",
      "[480.40945, 191.30115],[768, 178]\n",
      "[512.26843, 192.35818],[478, 29]\n",
      "[447.30457, 206.34348],[773, 136]\n",
      "[734.56866, 294.28278],[1369, 352]\n",
      "[718.1785, 294.9233],[1232, 229]\n",
      "[436.18417, 203.20862],[476, 279]\n",
      "[724.2698, 296.73828],[859, 344]\n",
      "[462.69455, 189.61716],[707, 57]\n",
      "[491.40225, 191.52344],[690, 114]\n",
      "[472.15808, 198.2834],[916, 169]\n",
      "[441.47934, 205.46426],[829, 335]\n",
      "[468.883, 206.52637],[227, 502]\n",
      "[512.6907, 189.73557],[570, 58]\n",
      "[457.99078, 206.95544],[703, 224]\n",
      "[475.33914, 197.67232],[796, 331]\n",
      "[441.33255, 209.80899],[957, 239]\n",
      "[495.28452, 189.20137],[660, 134]\n",
      "[462.54468, 190.65675],[601, 127]\n",
      "[452.16464, 195.2395],[1020, 255]\n",
      "[517.053, 184.79222],[531, 183]\n",
      "[731.47723, 291.42722],[1005, 196]\n",
      "[725.3266, 293.71722],[815, 534]\n",
      "[458.52737, 192.9482],[719, 195]\n",
      "[460.0463, 204.89438],[832, 453]\n",
      "[474.38458, 189.01419],[185, 278]\n",
      "[433.2149, 206.38852],[691, 189]\n",
      "[477.85822, 196.61043],[690, 371]\n",
      "[499.1756, 192.57947],[536, 288]\n",
      "[720.68646, 296.99225],[1342, 274]\n",
      "[455.44678, 201.423],[751, 211]\n",
      "[445.77097, 203.87616],[405, 145]\n",
      "[467.32657, 192.95923],[416, 253]\n",
      "[469.85162, 204.16394],[532, 255]\n",
      "[464.9775, 195.54802],[836, 100]\n",
      "[474.09088, 198.93562],[884, 199]\n",
      "[469.56055, 189.76997],[214, 192]\n",
      "[437.5599, 201.48999],[360, 375]\n",
      "[467.65866, 193.81107],[391, 231]\n",
      "[439.50458, 199.36559],[330, 419]\n",
      "[435.13635, 207.41705],[700, 195]\n",
      "[455.85455, 199.30573],[253, 318]\n",
      "[442.53488, 213.15489],[840, 257]\n",
      "[509.43582, 186.0523],[953, 254]\n",
      "[475.5653, 189.55136],[476, 235]\n",
      "[483.4904, 188.45572],[826, 317]\n",
      "[482.89017, 191.65944],[786, 156]\n",
      "[471.75116, 199.90575],[841, 124]\n",
      "[398.4108, 187.35782],[636, 456]\n",
      "[484.98163, 184.78635],[637, 94]\n",
      "[471.07324, 196.22745],[710, 379]\n",
      "[428.8783, 206.86084],[816, 234]\n",
      "[458.89847, 201.60153],[909, 205]\n",
      "[454.00012, 202.1593],[720, 302]\n",
      "[481.16644, 185.9427],[579, 189]\n",
      "[451.8631, 202.21007],[559, 119]\n",
      "[489.8227, 193.13562],[961, 312]\n",
      "[487.58078, 185.81387],[536, 92]\n",
      "[487.81525, 187.25287],[531, 231]\n",
      "[428.8783, 206.86084],[811, 249]\n",
      "[444.13528, 207.73943],[747, 130]\n",
      "[460.4461, 196.84079],[519, 304]\n",
      "[488.22974, 193.37671],[999, 320]\n",
      "[732.40125, 287.05176],[1130, 231]\n"
     ]
    },
    {
     "name": "stdout",
     "output_type": "stream",
     "text": [
      "[470.3826, 191.46161],[767, 201]\n",
      "[515.44934, 188.13542],[630, 88]\n",
      "[429.72882, 210.02364],[331, 222]\n",
      "[487.3782, 194.83359],[718, 183]\n",
      "[484.43585, 191.02701],[787, 432]\n",
      "[464.02753, 200.26973],[1079, 307]\n",
      "[458.45886, 200.29007],[536, 113]\n",
      "[453.72427, 200.5173],[737, 221]\n",
      "[480.5616, 190.88551],[692, 112]\n",
      "[467.84454, 199.99199],[586, 264]\n",
      "[459.03235, 190.22728],[631, 213]\n",
      "[425.566, 199.79999],[289, 252]\n",
      "[509.05762, 186.52995],[712, 524]\n",
      "[480.75238, 195.99101],[710, 186]\n",
      "[472.54056, 199.2837],[951, 141]\n",
      "[441.56387, 211.18765],[660, 209]\n",
      "[480.2293, 190.55824],[467, 197]\n",
      "[510.3601, 187.72948],[560, 177]\n",
      "[438.04883, 210.93579],[763, 183]\n",
      "[479.72833, 196.92316],[851, 308]\n",
      "[503.97372, 188.31824],[631, 399]\n"
     ]
    }
   ],
   "source": [
    "#runTest()"
   ]
  },
  {
   "cell_type": "code",
   "execution_count": null,
   "metadata": {
    "hidden": true
   },
   "outputs": [],
   "source": []
  }
 ],
 "metadata": {
  "kernelspec": {
   "display_name": "Python 3",
   "language": "python",
   "name": "python3"
  },
  "language_info": {
   "codemirror_mode": {
    "name": "ipython",
    "version": 3
   },
   "file_extension": ".py",
   "mimetype": "text/x-python",
   "name": "python",
   "nbconvert_exporter": "python",
   "pygments_lexer": "ipython3",
   "version": "3.7.4"
  },
  "toc": {
   "base_numbering": 1,
   "nav_menu": {},
   "number_sections": true,
   "sideBar": true,
   "skip_h1_title": false,
   "title_cell": "Table of Contents",
   "title_sidebar": "Contents",
   "toc_cell": false,
   "toc_position": {},
   "toc_section_display": true,
   "toc_window_display": false
  },
  "varInspector": {
   "cols": {
    "lenName": 16,
    "lenType": 16,
    "lenVar": 40
   },
   "kernels_config": {
    "python": {
     "delete_cmd_postfix": "",
     "delete_cmd_prefix": "del ",
     "library": "var_list.py",
     "varRefreshCmd": "print(var_dic_list())"
    },
    "r": {
     "delete_cmd_postfix": ") ",
     "delete_cmd_prefix": "rm(",
     "library": "var_list.r",
     "varRefreshCmd": "cat(var_dic_list()) "
    }
   },
   "types_to_exclude": [
    "module",
    "function",
    "builtin_function_or_method",
    "instance",
    "_Feature"
   ],
   "window_display": false
  }
 },
 "nbformat": 4,
 "nbformat_minor": 2
}
