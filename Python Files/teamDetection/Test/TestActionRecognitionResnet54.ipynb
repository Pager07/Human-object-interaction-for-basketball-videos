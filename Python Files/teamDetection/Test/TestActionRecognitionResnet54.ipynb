{
 "cells": [
  {
   "cell_type": "code",
   "execution_count": 68,
   "metadata": {},
   "outputs": [],
   "source": [
    "#Test for Resnet-54\n",
    "import matplotlib.pyplot as plt\n",
    "import fastai\n",
    "import cv2\n",
    "from fastai.vision import *\n",
    "%matplotlib inline\n",
    "import torchvision\n",
    "%matplotlib inline\n",
    "import time"
   ]
  },
  {
   "cell_type": "code",
   "execution_count": 7,
   "metadata": {
    "scrolled": true
   },
   "outputs": [
    {
     "name": "stderr",
     "output_type": "stream",
     "text": [
      "/Library/Frameworks/Python.framework/Versions/3.7/lib/python3.7/site-packages/torch/serialization.py:453: SourceChangeWarning: source code of class 'torch.nn.modules.container.Sequential' has changed. you can retrieve the original source code by accessing the object's source attribute or set `torch.nn.Module.dump_patches = True` and use the patch tool to revert the changes.\n",
      "  warnings.warn(msg, SourceChangeWarning)\n",
      "/Library/Frameworks/Python.framework/Versions/3.7/lib/python3.7/site-packages/torch/serialization.py:453: SourceChangeWarning: source code of class 'torchvision.models.resnet.Bottleneck' has changed. you can retrieve the original source code by accessing the object's source attribute or set `torch.nn.Module.dump_patches = True` and use the patch tool to revert the changes.\n",
      "  warnings.warn(msg, SourceChangeWarning)\n"
     ]
    }
   ],
   "source": [
    "learn = load_learner(\"/Users/sandeep/Desktop/dataandmodles/models/actionClassification\",file='stage1-resnet50-size244-newepoch.pkl')"
   ]
  },
  {
   "cell_type": "code",
   "execution_count": 106,
   "metadata": {},
   "outputs": [],
   "source": [
    "def getPredictionClass(frame):\n",
    "    '''\n",
    "        Given an classification for an image \n",
    "    '''\n",
    "    classes = ['ball in hand','block','defense','dribble','no_action','pass',\n",
    "               'pick','run','shoot','walk']\n",
    "    resizedImg = cv2.cvtColor(frame, cv2.COLOR_BGR2RGB)\n",
    "    resizedImg = Image(pil2tensor(resizedImg, dtype=np.float32).div_(255))\n",
    "    pred = learn.predict(resizedImg)\n",
    "    pred = classes[pred[1].tolist()]\n",
    "    return pred\n",
    "\n",
    "def test():\n",
    "    path = '/Volumes/My Passport/FinalYearProjectData/ActionClassification5/test'\n",
    "    folder = os.listdir(path)\n",
    "    gt_array, pred_array,time_array = [],[],[]\n",
    "    np.random.seed(2)\n",
    "    for f in folder:\n",
    "        imageBasePath = path+'/'+f\n",
    "        images = [i for i in os.listdir(imageBasePath) if i[0] != '.']\n",
    "        images  = np.random.choice(images,426)\n",
    "        gt = f \n",
    "        #counting\n",
    "        total_images  = len(images)      \n",
    "        for i,image in enumerate(images):\n",
    "            if image[0] != '.':\n",
    "                imagePath = imageBasePath +'/'+image\n",
    "                img = cv2.imread(imagePath)\n",
    "                #Get Prediction\n",
    "                st = time.time()\n",
    "                pred = getPredictionClass(img) \n",
    "                et = time.time()\n",
    "                time_array.append(et-st)\n",
    "                #Add prediction and gt to the arrays\n",
    "                gt_array.append(gt)\n",
    "                pred_array.append(pred)\n",
    "                #Print progression \n",
    "                if (100*(i/total_images) % 10) == 0:\n",
    "                    print(f'Folder {f} : {100*(i/total_images)} complete!')\n",
    "    return pred_array,gt_array,time_array\n",
    "    "
   ]
  },
  {
   "cell_type": "code",
   "execution_count": 107,
   "metadata": {
    "scrolled": true
   },
   "outputs": [
    {
     "name": "stdout",
     "output_type": "stream",
     "text": [
      "Folder ball in hand : 0.0 complete!\n",
      "Folder ball in hand : 50.0 complete!\n",
      "Folder block : 0.0 complete!\n",
      "Folder block : 50.0 complete!\n",
      "Folder defense : 0.0 complete!\n",
      "Folder defense : 50.0 complete!\n",
      "Folder dribble : 0.0 complete!\n",
      "Folder dribble : 50.0 complete!\n",
      "Folder no_action : 0.0 complete!\n",
      "Folder no_action : 50.0 complete!\n",
      "Folder pass : 0.0 complete!\n",
      "Folder pass : 50.0 complete!\n",
      "Folder pick : 0.0 complete!\n",
      "Folder pick : 50.0 complete!\n",
      "Folder run : 0.0 complete!\n",
      "Folder run : 50.0 complete!\n",
      "Folder shoot : 0.0 complete!\n",
      "Folder shoot : 50.0 complete!\n",
      "Folder walk : 0.0 complete!\n",
      "Folder walk : 50.0 complete!\n"
     ]
    }
   ],
   "source": [
    "pred,gt,time = test()\n"
   ]
  },
  {
   "cell_type": "code",
   "execution_count": 126,
   "metadata": {},
   "outputs": [
    {
     "name": "stderr",
     "output_type": "stream",
     "text": [
      "/Users/sandeep/opt/anaconda3/envs/cv/lib/python3.7/site-packages/sklearn/metrics/_classification.py:1272: UndefinedMetricWarning: Precision and F-score are ill-defined and being set to 0.0 in labels with no predicted samples. Use `zero_division` parameter to control this behavior.\n",
      "  _warn_prf(average, modifier, msg_start, len(result))\n"
     ]
    },
    {
     "data": {
      "text/plain": [
       "(0.29319157321677525, 0.20938967136150236, 0.15590439775279505, None)"
      ]
     },
     "execution_count": 126,
     "metadata": {},
     "output_type": "execute_result"
    }
   ],
   "source": [
    "from sklearn import metrics\n",
    "\n",
    "metrics.precision_recall_fscore_support(gt,pred,average='macro',labels=learn.data.classes)"
   ]
  },
  {
   "cell_type": "code",
   "execution_count": 127,
   "metadata": {},
   "outputs": [
    {
     "data": {
      "text/plain": [
       "array([[ 57, 193,  16,  16, ...,   0,  66,   0,   5],\n",
       "       [  4, 346,  13,   1, ...,   1,  18,   0,   0],\n",
       "       [ 22, 148, 108,  50, ...,   1,  55,   0,  14],\n",
       "       [ 26, 147,  20,  38, ...,   1, 129,   0,  15],\n",
       "       ...,\n",
       "       [ 40, 220,  22,   7, ...,   5,  64,   0,  13],\n",
       "       [ 18, 134,  11,  15, ...,   2, 202,   0,   3],\n",
       "       [ 10, 291,   2,  11, ...,   1,  32,   0,   9],\n",
       "       [ 20, 187,  30,  14, ...,   1,  74,   0,  26]])"
      ]
     },
     "execution_count": 127,
     "metadata": {},
     "output_type": "execute_result"
    }
   ],
   "source": [
    "metrics.confusion_matrix(gt,pred,labels=learn.data.classes)"
   ]
  },
  {
   "cell_type": "code",
   "execution_count": 1,
   "metadata": {},
   "outputs": [
    {
     "ename": "NameError",
     "evalue": "name 'time' is not defined",
     "output_type": "error",
     "traceback": [
      "\u001b[0;31m---------------------------------------------------------------------------\u001b[0m",
      "\u001b[0;31mNameError\u001b[0m                                 Traceback (most recent call last)",
      "\u001b[0;32m<ipython-input-1-310c73d3644d>\u001b[0m in \u001b[0;36m<module>\u001b[0;34m\u001b[0m\n\u001b[0;32m----> 1\u001b[0;31m \u001b[0mnp\u001b[0m\u001b[0;34m.\u001b[0m\u001b[0mmean\u001b[0m\u001b[0;34m(\u001b[0m\u001b[0mtime\u001b[0m\u001b[0;34m)\u001b[0m\u001b[0;34m\u001b[0m\u001b[0;34m\u001b[0m\u001b[0m\n\u001b[0m",
      "\u001b[0;31mNameError\u001b[0m: name 'time' is not defined"
     ]
    }
   ],
   "source": [
    "np.mean(time)"
   ]
  },
  {
   "cell_type": "code",
   "execution_count": null,
   "metadata": {},
   "outputs": [],
   "source": [
    "def test():\n",
    "    path = '/Volumes/My Passport/FinalYearProjectData/ActionClassification5/test'\n",
    "    folder = os.listdir(path)\n",
    "    gt_array, pred_array,time_array = [],[],[]\n",
    "    np.random.seed(2)\n",
    "    for f in folder:\n",
    "        imageBasePath = path+'/'+f\n",
    "        images = [i for i in os.listdir(imageBasePath) if i[0] != '.']\n",
    "        images  = np.random.choice(images,426)\n",
    "        gt = f "
   ]
  },
  {
   "cell_type": "code",
   "execution_count": 2,
   "metadata": {},
   "outputs": [
    {
     "data": {
      "text/plain": [
       "0.5286405959031657"
      ]
     },
     "execution_count": 2,
     "metadata": {},
     "output_type": "execute_result"
    }
   ],
   "source": [
    "\n",
    "\n",
    "(0.604*0.470)*2 / (0.604+0.470)\n"
   ]
  },
  {
   "cell_type": "markdown",
   "metadata": {},
   "source": [
    "#Comparison with simone"
   ]
  },
  {
   "cell_type": "code",
   "execution_count": 13,
   "metadata": {},
   "outputs": [],
   "source": [
    "a = '0.62 0.01 0.08 0.02 0.01 0.02 0.09 0.00 0.02 0.15 0.09 0.17 0.09 0.18 0.01 0.24 0.04 0.05 0.04 0.09 0.01 0.00 0.83 0.00 0.00 0.00 0.01 0.00 0.00 0.14 0.00 0.01 0.10 0.80 0.00 0.03 0.02 0.00 0.00 0.04 0.50 0.04 0.02 0.02 0.20 0.04 0.02 0.00 0.07 0.09 0.05 0.08 0.08 0.12 0.01 0.45 0.04 0.03 0.04 0.09 0.02 0.00 0.05 0.02 0.00 0.01 0.54 0.02 0.13 0.20 0.07 0.00 0.03 0.02 0.00 0.04 0.14 0.23 0.11 0.35 0.01 0.00 0.00 0.00 0.00 0.01 0.05 0.03 0.75 0.15 0.01 0.00 0.04 0.01 0.00 0.00 0.04 0.01 0.10 0.78'\n",
    "a = a.split(' ')\n",
    "counter = 0\n",
    "cm = []\n",
    "for row in range(0,10):\n",
    "    row = [float(s) for s in a[counter:counter + 10]] \n",
    "    cm.append(row)\n",
    "    counter += 10\n",
    "    \n",
    "        "
   ]
  },
  {
   "cell_type": "code",
   "execution_count": 18,
   "metadata": {},
   "outputs": [
    {
     "data": {
      "text/plain": [
       "array([[0.62, 0.01, 0.08, 0.02, 0.01, 0.02, 0.09, 0.  , 0.02, 0.15],\n",
       "       [0.09, 0.17, 0.09, 0.18, 0.01, 0.24, 0.04, 0.05, 0.04, 0.09],\n",
       "       [0.01, 0.  , 0.83, 0.  , 0.  , 0.  , 0.01, 0.  , 0.  , 0.14],\n",
       "       [0.  , 0.01, 0.1 , 0.8 , 0.  , 0.03, 0.02, 0.  , 0.  , 0.04],\n",
       "       [0.5 , 0.04, 0.02, 0.02, 0.2 , 0.04, 0.02, 0.  , 0.07, 0.09],\n",
       "       [0.05, 0.08, 0.08, 0.12, 0.01, 0.45, 0.04, 0.03, 0.04, 0.09],\n",
       "       [0.02, 0.  , 0.05, 0.02, 0.  , 0.01, 0.54, 0.02, 0.13, 0.2 ],\n",
       "       [0.07, 0.  , 0.03, 0.02, 0.  , 0.04, 0.14, 0.23, 0.11, 0.35],\n",
       "       [0.01, 0.  , 0.  , 0.  , 0.  , 0.01, 0.05, 0.03, 0.75, 0.15],\n",
       "       [0.01, 0.  , 0.04, 0.01, 0.  , 0.  , 0.04, 0.01, 0.1 , 0.78]])"
      ]
     },
     "execution_count": 18,
     "metadata": {},
     "output_type": "execute_result"
    }
   ],
   "source": [
    "cm = np.array(cm);cm"
   ]
  },
  {
   "cell_type": "code",
   "execution_count": 17,
   "metadata": {},
   "outputs": [
    {
     "name": "stdout",
     "output_type": "stream",
     "text": [
      "   Expected  Predicted\n",
      "0         1          1\n",
      "1         1          2\n",
      "2         1          3\n",
      "3         2          1\n",
      "4         2          2\n",
      "5         2          3\n",
      "6         3          1\n",
      "7         3          2\n",
      "8         3          3\n",
      "\n",
      "              precision    recall  f1-score   support\n",
      "\n",
      "           1       0.33      0.33      0.33         3\n",
      "           2       0.33      0.33      0.33         3\n",
      "           3       0.33      0.33      0.33         3\n",
      "\n",
      "    accuracy                           0.33         9\n",
      "   macro avg       0.33      0.33      0.33         9\n",
      "weighted avg       0.33      0.33      0.33         9\n",
      "\n"
     ]
    }
   ],
   "source": [
    "import pandas as pd\n",
    "from sklearn.metrics import classification_report\n",
    "\n",
    "results = pd.DataFrame(\n",
    "    [[1, 1],\n",
    "     [1, 2],\n",
    "     [1, 3],\n",
    "     [2, 1],\n",
    "     [2, 2],\n",
    "     [2, 3],\n",
    "     [3, 1],\n",
    "     [3, 2],\n",
    "     [3, 3]], columns=['Expected', 'Predicted'])\n",
    "\n",
    "print(results)\n",
    "print()\n",
    "print(classification_report(results['Expected'], results['Predicted']))\n"
   ]
  },
  {
   "cell_type": "code",
   "execution_count": 35,
   "metadata": {},
   "outputs": [
    {
     "data": {
      "text/plain": [
       "(0.584131301086379, 0.5386428995840761)"
      ]
     },
     "execution_count": 35,
     "metadata": {},
     "output_type": "execute_result"
    }
   ],
   "source": [
    "from operator import truediv\n",
    "import numpy as np\n",
    "\n",
    "tp = np.diag(cm)\n",
    "prec = list(map(truediv, tp, np.sum(cm, axis=0)))\n",
    "rec = list(map(truediv, tp, np.sum(cm, axis=1)))\n",
    "ap = np.mean(prec)\n",
    "ar = np.mean(rec)\n",
    "ap,ar"
   ]
  },
  {
   "cell_type": "code",
   "execution_count": 36,
   "metadata": {},
   "outputs": [
    {
     "data": {
      "text/plain": [
       "0.560465635151044"
      ]
     },
     "execution_count": 36,
     "metadata": {},
     "output_type": "execute_result"
    }
   ],
   "source": [
    "(0.584131301086379* 0.5386428995840761*2)/(0.584131301086379 + 0.5386428995840761)"
   ]
  },
  {
   "cell_type": "code",
   "execution_count": null,
   "metadata": {},
   "outputs": [],
   "source": []
  }
 ],
 "metadata": {
  "kernelspec": {
   "display_name": "Python 3",
   "language": "python",
   "name": "python3"
  },
  "language_info": {
   "codemirror_mode": {
    "name": "ipython",
    "version": 3
   },
   "file_extension": ".py",
   "mimetype": "text/x-python",
   "name": "python",
   "nbconvert_exporter": "python",
   "pygments_lexer": "ipython3",
   "version": "3.7.4"
  },
  "toc": {
   "base_numbering": 1,
   "nav_menu": {},
   "number_sections": true,
   "sideBar": true,
   "skip_h1_title": false,
   "title_cell": "Table of Contents",
   "title_sidebar": "Contents",
   "toc_cell": false,
   "toc_position": {},
   "toc_section_display": true,
   "toc_window_display": false
  },
  "varInspector": {
   "cols": {
    "lenName": 16,
    "lenType": 16,
    "lenVar": 40
   },
   "kernels_config": {
    "python": {
     "delete_cmd_postfix": "",
     "delete_cmd_prefix": "del ",
     "library": "var_list.py",
     "varRefreshCmd": "print(var_dic_list())"
    },
    "r": {
     "delete_cmd_postfix": ") ",
     "delete_cmd_prefix": "rm(",
     "library": "var_list.r",
     "varRefreshCmd": "cat(var_dic_list()) "
    }
   },
   "types_to_exclude": [
    "module",
    "function",
    "builtin_function_or_method",
    "instance",
    "_Feature"
   ],
   "window_display": false
  }
 },
 "nbformat": 4,
 "nbformat_minor": 2
}
