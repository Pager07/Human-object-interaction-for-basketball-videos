{
 "cells": [
  {
   "cell_type": "code",
   "execution_count": 1,
   "metadata": {},
   "outputs": [],
   "source": [
    "#Test for RESNET-34\n",
    "import matplotlib.pyplot as plt\n",
    "import fastai\n",
    "import cv2\n",
    "from fastai.vision import *\n",
    "%matplotlib inline\n",
    "import torchvision\n",
    "%matplotlib inline\n",
    "import time"
   ]
  },
  {
   "cell_type": "code",
   "execution_count": 2,
   "metadata": {
    "scrolled": false
   },
   "outputs": [
    {
     "name": "stderr",
     "output_type": "stream",
     "text": [
      "/Library/Frameworks/Python.framework/Versions/3.7/lib/python3.7/site-packages/torch/serialization.py:453: SourceChangeWarning: source code of class 'torch.nn.modules.container.Sequential' has changed. you can retrieve the original source code by accessing the object's source attribute or set `torch.nn.Module.dump_patches = True` and use the patch tool to revert the changes.\n",
      "  warnings.warn(msg, SourceChangeWarning)\n",
      "/Library/Frameworks/Python.framework/Versions/3.7/lib/python3.7/site-packages/torch/serialization.py:453: SourceChangeWarning: source code of class 'torchvision.models.resnet.BasicBlock' has changed. you can retrieve the original source code by accessing the object's source attribute or set `torch.nn.Module.dump_patches = True` and use the patch tool to revert the changes.\n",
      "  warnings.warn(msg, SourceChangeWarning)\n"
     ]
    }
   ],
   "source": [
    "learn = load_learner(\"/Users/sandeep/Desktop/dataandmodles/models/actionClassification\",file='stage2-resnet34-size244-50Epoch.pkl')"
   ]
  },
  {
   "cell_type": "code",
   "execution_count": 7,
   "metadata": {},
   "outputs": [],
   "source": [
    "def getPredictionClass(frame):\n",
    "    '''\n",
    "        Given an classification for an image \n",
    "    '''\n",
    "    classes = ['ball in hand','block','defense','dribble','no_action','pass',\n",
    "               'pick','run','shoot','walk']\n",
    "    resizedImg = cv2.cvtColor(frame, cv2.COLOR_BGR2RGB)\n",
    "    resizedImg = Image(pil2tensor(resizedImg, dtype=np.float32).div_(255))\n",
    "    pred = learn.predict(resizedImg)\n",
    "    pred = classes[pred[1].tolist()]\n",
    "    return pred\n",
    "\n",
    "def test():\n",
    "    path = '/Volumes/My Passport/FinalYearProjectData/ActionClassification5/test'\n",
    "    folder = os.listdir(path)\n",
    "    gt_array, pred_array,time_array = [],[],[]\n",
    "    np.random.seed(2)\n",
    "    for f in folder:\n",
    "        imageBasePath = path+'/'+f\n",
    "        images = [i for i in os.listdir(imageBasePath) if i[0] != '.']\n",
    "        images  = np.random.choice(images,426)\n",
    "        gt = f \n",
    "        #counting\n",
    "        total_images  = len(images)      \n",
    "        for i,image in enumerate(images):\n",
    "            if image[0] != '.':\n",
    "                imagePath = imageBasePath +'/'+image\n",
    "                img = cv2.imread(imagePath)\n",
    "                #Get Prediction\n",
    "                st = time.time()\n",
    "                pred = getPredictionClass(img) \n",
    "                et = time.time()\n",
    "                time_array.append(et-st)\n",
    "                #Add prediction and gt to the arrays\n",
    "                gt_array.append(gt)\n",
    "                pred_array.append(pred)\n",
    "                #Print progression \n",
    "                if (100*(i/total_images) % 10) == 0:\n",
    "                    print(f'Folder {f} : {100*(i/total_images)} complete!')\n",
    "    return pred_array,gt_array,time_array\n",
    "    "
   ]
  },
  {
   "cell_type": "code",
   "execution_count": 8,
   "metadata": {
    "scrolled": true
   },
   "outputs": [
    {
     "name": "stdout",
     "output_type": "stream",
     "text": [
      "Folder ball in hand : 0.0 complete!\n",
      "Folder ball in hand : 50.0 complete!\n",
      "Folder block : 0.0 complete!\n",
      "Folder block : 50.0 complete!\n",
      "Folder defense : 0.0 complete!\n",
      "Folder defense : 50.0 complete!\n",
      "Folder dribble : 0.0 complete!\n",
      "Folder dribble : 50.0 complete!\n",
      "Folder no_action : 0.0 complete!\n",
      "Folder no_action : 50.0 complete!\n",
      "Folder pass : 0.0 complete!\n",
      "Folder pass : 50.0 complete!\n",
      "Folder pick : 0.0 complete!\n",
      "Folder pick : 50.0 complete!\n",
      "Folder run : 0.0 complete!\n",
      "Folder run : 50.0 complete!\n",
      "Folder shoot : 0.0 complete!\n",
      "Folder shoot : 50.0 complete!\n",
      "Folder walk : 0.0 complete!\n",
      "Folder walk : 50.0 complete!\n"
     ]
    }
   ],
   "source": [
    "pred,gt,time = test()\n"
   ]
  },
  {
   "cell_type": "code",
   "execution_count": 9,
   "metadata": {},
   "outputs": [
    {
     "name": "stderr",
     "output_type": "stream",
     "text": [
      "/Users/sandeep/opt/anaconda3/envs/cv/lib/python3.7/site-packages/sklearn/metrics/_classification.py:1272: UndefinedMetricWarning: Precision and F-score are ill-defined and being set to 0.0 in labels with no predicted samples. Use `zero_division` parameter to control this behavior.\n",
      "  _warn_prf(average, modifier, msg_start, len(result))\n"
     ]
    },
    {
     "data": {
      "text/plain": [
       "(0.27113885537158045, 0.24014084507042255, 0.1867493346020636, None)"
      ]
     },
     "execution_count": 9,
     "metadata": {},
     "output_type": "execute_result"
    }
   ],
   "source": [
    "from sklearn import metrics\n",
    "\n",
    "metrics.precision_recall_fscore_support(gt,pred,average='macro',labels=learn.data.classes)"
   ]
  },
  {
   "cell_type": "code",
   "execution_count": 15,
   "metadata": {},
   "outputs": [
    {
     "data": {
      "text/plain": [
       "array([[ 64,  70,  48,  25, ...,   1,  23,   0,   3],\n",
       "       [ 20, 221,  40,  15, ...,   0,   2,   0,   2],\n",
       "       [ 14,  53, 225,  38, ...,   0,  12,   0,   4],\n",
       "       [ 24,  63,  92,  72, ...,   0,  71,   0,   8],\n",
       "       ...,\n",
       "       [ 44,  65, 103,  18, ...,   7,  12,   0,   8],\n",
       "       [ 24,  58,  37,  35, ...,   1, 165,   0,   6],\n",
       "       [ 23, 187,  14,   7, ...,   0,   1,   0,   5],\n",
       "       [ 12,  87,  68,  66, ...,   3,  33,   0,  21]])"
      ]
     },
     "execution_count": 15,
     "metadata": {},
     "output_type": "execute_result"
    }
   ],
   "source": [
    "metrics.confusion_matrix(gt,pred,labels=learn.data.classes)"
   ]
  },
  {
   "cell_type": "code",
   "execution_count": 11,
   "metadata": {},
   "outputs": [
    {
     "data": {
      "text/plain": [
       "0.1828644742988085"
      ]
     },
     "execution_count": 11,
     "metadata": {},
     "output_type": "execute_result"
    }
   ],
   "source": [
    "np.mean(time)"
   ]
  },
  {
   "cell_type": "code",
   "execution_count": 18,
   "metadata": {},
   "outputs": [
    {
     "data": {
      "text/plain": [
       "<matplotlib.axes._subplots.AxesSubplot at 0x152df85d0>"
      ]
     },
     "execution_count": 18,
     "metadata": {},
     "output_type": "execute_result"
    },
    {
     "data": {
      "image/png": "[encoded data removed]",
      "text/plain": [
       "<Figure size 720x504 with 2 Axes>"
      ]
     },
     "metadata": {
      "needs_background": "light"
     },
     "output_type": "display_data"
    }
   ],
   "source": [
    "import seaborn as sn\n",
    "import pandas as pd\n",
    "import matplotlib.pyplot as plt\n",
    "array = metrics.confusion_matrix(gt,pred,labels=learn.data.classes)\n",
    "df_cm = pd.DataFrame(array, index = [i for i in learn.data.classes],\n",
    "                  columns = [i for i in learn.data.classes])\n",
    "plt.figure(figsize = (10,7))\n",
    "sn.heatmap(df_cm, annot=True)"
   ]
  },
  {
   "cell_type": "code",
   "execution_count": null,
   "metadata": {},
   "outputs": [],
   "source": []
  }
 ],
 "metadata": {
  "kernelspec": {
   "display_name": "Python 3",
   "language": "python",
   "name": "python3"
  },
  "language_info": {
   "codemirror_mode": {
    "name": "ipython",
    "version": 3
   },
   "file_extension": ".py",
   "mimetype": "text/x-python",
   "name": "python",
   "nbconvert_exporter": "python",
   "pygments_lexer": "ipython3",
   "version": "3.7.4"
  },
  "toc": {
   "base_numbering": 1,
   "nav_menu": {},
   "number_sections": true,
   "sideBar": true,
   "skip_h1_title": false,
   "title_cell": "Table of Contents",
   "title_sidebar": "Contents",
   "toc_cell": false,
   "toc_position": {},
   "toc_section_display": true,
   "toc_window_display": false
  },
  "varInspector": {
   "cols": {
    "lenName": 16,
    "lenType": 16,
    "lenVar": 40
   },
   "kernels_config": {
    "python": {
     "delete_cmd_postfix": "",
     "delete_cmd_prefix": "del ",
     "library": "var_list.py",
     "varRefreshCmd": "print(var_dic_list())"
    },
    "r": {
     "delete_cmd_postfix": ") ",
     "delete_cmd_prefix": "rm(",
     "library": "var_list.r",
     "varRefreshCmd": "cat(var_dic_list()) "
    }
   },
   "types_to_exclude": [
    "module",
    "function",
    "builtin_function_or_method",
    "instance",
    "_Feature"
   ],
   "window_display": false
  }
 },
 "nbformat": 4,
 "nbformat_minor": 2
}
