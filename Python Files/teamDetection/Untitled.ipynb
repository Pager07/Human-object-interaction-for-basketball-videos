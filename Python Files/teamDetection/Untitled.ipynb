{
 "cells": [
  {
   "cell_type": "code",
   "execution_count": 1,
   "metadata": {},
   "outputs": [],
   "source": [
    "import cv2 \n",
    "import numpy as np\n",
    "import time\n",
    "import math"
   ]
  },
  {
   "cell_type": "markdown",
   "metadata": {
    "heading_collapsed": true
   },
   "source": [
    "#Loading and initialising yolov3 from opencv"
   ]
  },
  {
   "cell_type": "code",
   "execution_count": 2,
   "metadata": {
    "hidden": true
   },
   "outputs": [],
   "source": [
    "args = {\n",
    "          \"confThreshold\": 0.9,\n",
    "          \"nmsThreshold\":0.4,\n",
    "          \"inpWidth\":416,\n",
    "          \"inpHeight\":416,\n",
    "          \"bboxAreaToImageArea\":0.15,\n",
    "          \"team0Name\":'CAVS',\n",
    "          \"team1Name\":'MIL',\n",
    "          \"colorBoundaries\":[\n",
    "                        ([0,0,200], [255,255,255]), #white/team0\n",
    "                        ([1, 150, 0], [10,255 , 255]) #black/team1\n",
    "                        ]\n",
    "        }\n"
   ]
  },
  {
   "cell_type": "code",
   "execution_count": 3,
   "metadata": {
    "hidden": true
   },
   "outputs": [],
   "source": [
    "with open(\"/Users/sandeep/Desktop/dataandmodles/models/teamDetection/coco.names\", 'rt') as f:\n",
    "    classes = f.read().rstrip('\\n').split('\\n')"
   ]
  },
  {
   "cell_type": "code",
   "execution_count": 4,
   "metadata": {
    "hidden": true
   },
   "outputs": [],
   "source": [
    "# Get the names of the output layers of the CNN network\n",
    "# net : an OpenCV DNN module network object\n",
    "def getOutputsNames(net):\n",
    "    # Get the names of all the layers in the network\n",
    "    layersNames = net.getLayerNames()\n",
    "    # Get the names of the output layers, i.e. the layers with unconnected outputs\n",
    "    return [layersNames[i[0] - 1] for i in net.getUnconnectedOutLayers()]"
   ]
  },
  {
   "cell_type": "code",
   "execution_count": 5,
   "metadata": {
    "hidden": true
   },
   "outputs": [],
   "source": [
    "rootDir = '/Users/sandeep/Desktop/dataandmodles/models/teamDetection'\n",
    "net = cv2.dnn.readNet(rootDir+\"/yolov3.weights\",rootDir+\"/yolov3.cfg\")\n",
    "net.setPreferableBackend(cv2.dnn.DNN_BACKEND_DEFAULT)\n",
    "# change to cv2.dnn.DNN_TARGET_CPU (slower) if this causes issues (should fail gracefully if OpenCL not available)\n",
    "net.setPreferableTarget(cv2.dnn.DNN_TARGET_OPENCL)\n",
    "output_layer_names = getOutputsNames(net)"
   ]
  },
  {
   "cell_type": "markdown",
   "metadata": {
    "heading_collapsed": true
   },
   "source": [
    "#Opencv setup"
   ]
  },
  {
   "cell_type": "code",
   "execution_count": 6,
   "metadata": {
    "hidden": true
   },
   "outputs": [],
   "source": [
    "# dummy on trackbar callback function\n",
    "def on_trackbar(val):\n",
    "    return"
   ]
  },
  {
   "cell_type": "code",
   "execution_count": 7,
   "metadata": {
    "hidden": true
   },
   "outputs": [],
   "source": [
    "windowName = 'YOLOv3 Team detection'\n",
    "cv2.namedWindow(windowName , cv2.WINDOW_NORMAL)\n",
    "trackbarName = 'reporting confidence > (x 0.01)'\n",
    "cv2.createTrackbar(trackbarName,windowName,70,100, on_trackbar)\n"
   ]
  },
  {
   "cell_type": "markdown",
   "metadata": {
    "heading_collapsed": true
   },
   "source": [
    "#HelperFunction:Drawing Prediction"
   ]
  },
  {
   "cell_type": "code",
   "execution_count": 8,
   "metadata": {
    "hidden": true
   },
   "outputs": [],
   "source": [
    "def drawPred(image,team,class_name, confidence, left, top, right, bottom, colour):\n",
    "    # Draw a bounding box.\n",
    "    cv2.rectangle(image, (left, top), (right, bottom), colour, 3)\n",
    "\n",
    "    # construct label\n",
    "    label = '%s:%.2f' % (class_name, confidence)\n",
    "    label = label+f'| team:{team}'\n",
    "\n",
    "    #Display the label at the top of the bounding box\n",
    "    labelSize, baseLine = cv2.getTextSize(label, cv2.FONT_HERSHEY_SIMPLEX, 0.5, 1)\n",
    "    top = max(top, labelSize[1])\n",
    "    cv2.rectangle(image, (left, top - round(1.5*labelSize[1])),\n",
    "        (left + round(1.5*labelSize[0]), top + baseLine), (255, 255, 255), cv2.FILLED)\n",
    "    cv2.putText(image, label, (left, top), cv2.FONT_HERSHEY_SIMPLEX, 0.75, (0,0,0), 1)"
   ]
  },
  {
   "cell_type": "markdown",
   "metadata": {
    "heading_collapsed": true
   },
   "source": [
    "#HelperFunction:Post Procces"
   ]
  },
  {
   "cell_type": "code",
   "execution_count": 9,
   "metadata": {
    "hidden": true
   },
   "outputs": [],
   "source": [
    "def postprocess(image, results, threshold_confidence, threshold_nms):\n",
    "    frameHeight = image.shape[0]\n",
    "    frameWidth = image.shape[1]\n",
    "\n",
    "    # Scan through all the bounding boxes output from the network and..\n",
    "    # 1. keep only the ones with high confidence scores.\n",
    "    # 2. assign the box class label as the class with the highest score.\n",
    "    # 3. construct a list of bounding boxes, class labels and confidence scores\n",
    "\n",
    "    classIds = []\n",
    "    confidences = []\n",
    "    boxes = []\n",
    "    for result in results:\n",
    "        for detection in result:\n",
    "            scores = detection[5:]\n",
    "            classId = np.argmax(scores)\n",
    "            confidence = scores[classId]\n",
    "            if confidence > threshold_confidence:\n",
    "                center_x = int(detection[0] * frameWidth)\n",
    "                center_y = int(detection[1] * frameHeight)\n",
    "                width = int(detection[2] * frameWidth)\n",
    "                height = int(detection[3] * frameHeight)\n",
    "                left = int(center_x - width / 2)\n",
    "                top = int(center_y - height / 2)\n",
    "                classIds.append(classId)\n",
    "                confidences.append(float(confidence))\n",
    "                boxes.append([left, top, width, height])\n",
    "\n",
    "    # Perform non maximum suppression to eliminate redundant overlapping boxes with\n",
    "    # lower confidences\n",
    "    classIds_nms = []\n",
    "    confidences_nms = []\n",
    "    boxes_nms = []\n",
    "\n",
    "    indices = cv2.dnn.NMSBoxes(boxes, confidences, threshold_confidence, threshold_nms)\n",
    "    for i in indices:\n",
    "        i = i[0]\n",
    "        classIds_nms.append(classIds[i])\n",
    "        confidences_nms.append(confidences[i])\n",
    "        boxes_nms.append(boxes[i])\n",
    "\n",
    "    # return post processed lists of classIds, confidences and bounding boxes\n",
    "    return (classIds_nms, confidences_nms, boxes_nms)"
   ]
  },
  {
   "cell_type": "markdown",
   "metadata": {
    "heading_collapsed": true
   },
   "source": [
    "#Filtering the preditction"
   ]
  },
  {
   "cell_type": "code",
   "execution_count": 10,
   "metadata": {
    "hidden": true
   },
   "outputs": [],
   "source": [
    "def check_bbox_size(bboxW,bboxH,imgW,imgH):\n",
    "    bboxToImg = (bboxW*bboxH) / (imgW * imgH)\n",
    "    return bboxToImg <= args['bboxAreaToImageArea']"
   ]
  },
  {
   "cell_type": "code",
   "execution_count": 11,
   "metadata": {
    "hidden": true
   },
   "outputs": [],
   "source": [
    "def check_label(label):\n",
    "    return label == 'person'"
   ]
  },
  {
   "cell_type": "markdown",
   "metadata": {},
   "source": [
    "#ROI color detection"
   ]
  },
  {
   "cell_type": "code",
   "execution_count": 12,
   "metadata": {},
   "outputs": [],
   "source": [
    "def getRoi(frame, left,top,right,bottom):\n",
    "    '''\n",
    "    Helper function for detect_teams\n",
    "    Returns ROI(region of interest) \n",
    "    '''\n",
    "    roi = frame[top:bottom , left:right,:]\n",
    "    return roi"
   ]
  },
  {
   "cell_type": "code",
   "execution_count": 13,
   "metadata": {},
   "outputs": [],
   "source": [
    "def countNonBalckPix(roiMasked):\n",
    "    '''\n",
    "    Helper function for findColorRatio\n",
    "    Returns the number of non black pixels in the roi\n",
    "    '''\n",
    "    return roiMasked.any(axis = -1).sum()"
   ]
  },
  {
   "cell_type": "code",
   "execution_count": 14,
   "metadata": {},
   "outputs": [],
   "source": [
    "def getColorRatio(roi):\n",
    "    '''\n",
    "    Helper function for detect teams\n",
    "    Returns a list, that contains percentage of the pixel that have the team %colors\n",
    "    Example: [0.9 , 0.1]. 90% of the pixels are of team 1\n",
    "    '''\n",
    "    ratioList = []\n",
    "    for teamColorLower,teamColorUpper in args['colorBoundaries']:\n",
    "        mask = cv2.inRange(roi , np.array(teamColorLower) , np.array(teamColorUpper))\n",
    "        roiMasked = cv2.bitwise_and(roi,roi, mask=mask)\n",
    "        totalColorPix = countNonBalckPix(roiMasked)\n",
    "        totalPix = countNonBalckPix(roi)\n",
    "        colorPixRatio = totalColorPix / totalPix\n",
    "        ratioList.append(colorPixRatio)\n",
    "    return np.array(ratioList)    "
   ]
  },
  {
   "cell_type": "code",
   "execution_count": 15,
   "metadata": {},
   "outputs": [],
   "source": [
    "def compareRatio(ratioList):\n",
    "    '''\n",
    "    Helper function for detectTeam\n",
    "    Finds the team with highest color ratio.\n",
    "    Returns string team names or \"Uncertain\" if not sure\n",
    "    '''\n",
    "    maxRatio = max(ratioList)\n",
    "    if maxRatio < 0.2:\n",
    "        return 'Uncertain'\n",
    "    else:\n",
    "        team = f'team{np.argmax(ratioList)}Name'\n",
    "        return args[team]\n",
    "            \n",
    "    "
   ]
  },
  {
   "cell_type": "code",
   "execution_count": 16,
   "metadata": {},
   "outputs": [],
   "source": [
    "\n",
    "def detectTeam(img,left,top,right,bottom):\n",
    "    '''\n",
    "    Given an image(BGR) and the location of ROI\n",
    "    Finds the team based on ROI color\n",
    "    '''\n",
    "    roi = getRoi(img,left,top,right,bottom)\n",
    "    roi = np.array(cv2.cvtColor(roi, cv2.COLOR_BGR2HSV)).astype(np.uint8)\n",
    "    ratioList = getColorRatio(roi)\n",
    "    team = compareRatio(ratioList)\n",
    "    return team\n",
    "    \n",
    "    \n",
    "    "
   ]
  },
  {
   "cell_type": "code",
   "execution_count": 20,
   "metadata": {},
   "outputs": [
    {
     "data": {
      "text/plain": [
       "'Uncertain'"
      ]
     },
     "execution_count": 20,
     "metadata": {},
     "output_type": "execute_result"
    }
   ],
   "source": [
    "team"
   ]
  },
  {
   "cell_type": "markdown",
   "metadata": {},
   "source": [
    "#Object detection boiler template"
   ]
  },
  {
   "cell_type": "code",
   "execution_count": 19,
   "metadata": {
    "scrolled": false
   },
   "outputs": [
    {
     "name": "stdout",
     "output_type": "stream",
     "text": [
      "-4,966,90,1075\n"
     ]
    }
   ],
   "source": [
    "videoPath ='/Users/sandeep/Desktop/dataandmodles/data/3-Pointer2.mov'\n",
    "cap = cv2.VideoCapture(videoPath)\n",
    "frameCount = 0 \n",
    "rawFrame=[]\n",
    "while cap.isOpened():\n",
    "    ret,frame = cap.read()\n",
    "    if ret:\n",
    "        start_t = cv2.getTickCount()\n",
    "        \n",
    "        #do stuff\n",
    "        # create a 4D tensor (OpenCV 'blob') from image frame (pixels scaled 0->1, image resized)\n",
    "        tensor = (cv2.dnn.blobFromImage(frame , 1/255 , (args[\"inpWidth\"], args[\"inpHeight\"]) , [0,0,0] , 1, \n",
    "                                        crop=False))\n",
    "        # set the input to the CNN network\n",
    "        net.setInput(tensor)\n",
    "        results = net.forward(output_layer_names)\n",
    "        \n",
    "        args['confThreshold'] = cv2.getTrackbarPos(trackbarName,windowName) / 100\n",
    "        classIDs, confidences, boxes = (postprocess(frame, results, args[\"confThreshold\"], \n",
    "                                                    args[\"nmsThreshold\"]))\n",
    "        for detected_object in range(0, len(boxes)):\n",
    "            \n",
    "            box = boxes[detected_object]\n",
    "            left = box[0]\n",
    "            top = box[1]\n",
    "            width = box[2]\n",
    "            height = box[3]\n",
    "    \n",
    "            bboxFit = check_bbox_size(width,height, *frame.shape[0:-1])\n",
    "            labelFit = check_label(classes[classIDs[detected_object]])\n",
    "            if bboxFit and labelFit and left>0:\n",
    "                team= detectTeam(frame, left ,top, left+width,top+height)\n",
    "                #team = 'NULL'\n",
    "                (drawPred(frame,team,classes[classIDs[detected_object]], \n",
    "                          confidences[detected_object], \n",
    "                          left, top, left + width, top + height, \n",
    "                          (255, 178, 50)))\n",
    "\n",
    "            t,_ = net.getPerfProfile()\n",
    "            inference_t = (t * 1000.0 / cv2.getTickFrequency())\n",
    "            label = ('Inference time: %.2f ms' % inference_t) + (' (Framerate: %.2f fps' % (1000 / inference_t)) + ')'\n",
    "            cv2.putText(frame, label, (0, 15), cv2.FONT_HERSHEY_SIMPLEX, 0.5, (0, 0, 255))\n",
    "            if frameCount == 496: \n",
    "                print(f'{left},{top},{left + width},{top + height}')\n",
    "                rawFrame = frame[:,:,:]\n",
    "            frameCount += 1\n",
    "#         End of do stuff\n",
    "        \n",
    "        cv2.imshow(windowName,frame)\n",
    "        (cv2.setWindowProperty(windowName, cv2.WND_PROP_FULLSCREEN,\n",
    "                                cv2.WINDOW_FULLSCREEN&False))    \n",
    "             \n",
    "        time_now = cv2.getTickCount()\n",
    "        stop_t = ((time_now - start_t)/cv2.getTickFrequency())*1000\n",
    "    \n",
    "        #cv2.imshow(\"YOLO\" , frame)\n",
    "        \n",
    "        key = cv2.waitKey(max(2, 40 - int(math.ceil(stop_t)))) & 0xFF\n",
    "        if key == ord('q'):\n",
    "            break  \n",
    "    else:\n",
    "        cap.release()\n",
    "        break\n",
    "cap.release()\n",
    "cv2.destroyAllWindows()\n",
    "    "
   ]
  },
  {
   "cell_type": "code",
   "execution_count": 18,
   "metadata": {},
   "outputs": [
    {
     "name": "stdout",
     "output_type": "stream",
     "text": [
      "> \u001b[0;32m<ipython-input-16-7165c4c83c3d>\u001b[0m(7)\u001b[0;36mdetectTeam\u001b[0;34m()\u001b[0m\n",
      "\u001b[0;32m      5 \u001b[0;31m    '''\n",
      "\u001b[0m\u001b[0;32m      6 \u001b[0;31m    \u001b[0mroi\u001b[0m \u001b[0;34m=\u001b[0m \u001b[0mgetRoi\u001b[0m\u001b[0;34m(\u001b[0m\u001b[0mimg\u001b[0m\u001b[0;34m,\u001b[0m\u001b[0mleft\u001b[0m\u001b[0;34m,\u001b[0m\u001b[0mtop\u001b[0m\u001b[0;34m,\u001b[0m\u001b[0mright\u001b[0m\u001b[0;34m,\u001b[0m\u001b[0mbottom\u001b[0m\u001b[0;34m)\u001b[0m\u001b[0;34m\u001b[0m\u001b[0;34m\u001b[0m\u001b[0m\n",
      "\u001b[0m\u001b[0;32m----> 7 \u001b[0;31m    \u001b[0mroi\u001b[0m \u001b[0;34m=\u001b[0m \u001b[0mnp\u001b[0m\u001b[0;34m.\u001b[0m\u001b[0marray\u001b[0m\u001b[0;34m(\u001b[0m\u001b[0mcv2\u001b[0m\u001b[0;34m.\u001b[0m\u001b[0mcvtColor\u001b[0m\u001b[0;34m(\u001b[0m\u001b[0mroi\u001b[0m\u001b[0;34m,\u001b[0m \u001b[0mcv2\u001b[0m\u001b[0;34m.\u001b[0m\u001b[0mCOLOR_BGR2HSV\u001b[0m\u001b[0;34m)\u001b[0m\u001b[0;34m)\u001b[0m\u001b[0;34m.\u001b[0m\u001b[0mastype\u001b[0m\u001b[0;34m(\u001b[0m\u001b[0mnp\u001b[0m\u001b[0;34m.\u001b[0m\u001b[0muint8\u001b[0m\u001b[0;34m)\u001b[0m\u001b[0;34m\u001b[0m\u001b[0;34m\u001b[0m\u001b[0m\n",
      "\u001b[0m\u001b[0;32m      8 \u001b[0;31m    \u001b[0mratioList\u001b[0m \u001b[0;34m=\u001b[0m \u001b[0mgetColorRatio\u001b[0m\u001b[0;34m(\u001b[0m\u001b[0mroi\u001b[0m\u001b[0;34m)\u001b[0m\u001b[0;34m\u001b[0m\u001b[0;34m\u001b[0m\u001b[0m\n",
      "\u001b[0m\u001b[0;32m      9 \u001b[0;31m    \u001b[0mteam\u001b[0m \u001b[0;34m=\u001b[0m \u001b[0mcompareRatio\u001b[0m\u001b[0;34m(\u001b[0m\u001b[0mratioList\u001b[0m\u001b[0;34m)\u001b[0m\u001b[0;34m\u001b[0m\u001b[0;34m\u001b[0m\u001b[0m\n",
      "\u001b[0m\n",
      "ipdb> left\n",
      "-4\n",
      "ipdb> exit\n"
     ]
    }
   ],
   "source": [
    "%debug"
   ]
  },
  {
   "cell_type": "code",
   "execution_count": null,
   "metadata": {},
   "outputs": [],
   "source": [
    "for lower , upper in args['colorBoundaries']:\n",
    "    print(lower)\n",
    "    print(upper)"
   ]
  },
  {
   "cell_type": "code",
   "execution_count": null,
   "metadata": {},
   "outputs": [],
   "source": []
  }
 ],
 "metadata": {
  "kernelspec": {
   "display_name": "Python 3",
   "language": "python",
   "name": "python3"
  },
  "language_info": {
   "codemirror_mode": {
    "name": "ipython",
    "version": 3
   },
   "file_extension": ".py",
   "mimetype": "text/x-python",
   "name": "python",
   "nbconvert_exporter": "python",
   "pygments_lexer": "ipython3",
   "version": "3.7.4"
  },
  "toc": {
   "base_numbering": 1,
   "nav_menu": {},
   "number_sections": true,
   "sideBar": true,
   "skip_h1_title": false,
   "title_cell": "Table of Contents",
   "title_sidebar": "Contents",
   "toc_cell": false,
   "toc_position": {},
   "toc_section_display": true,
   "toc_window_display": false
  },
  "varInspector": {
   "cols": {
    "lenName": 16,
    "lenType": 16,
    "lenVar": 40
   },
   "kernels_config": {
    "python": {
     "delete_cmd_postfix": "",
     "delete_cmd_prefix": "del ",
     "library": "var_list.py",
     "varRefreshCmd": "print(var_dic_list())"
    },
    "r": {
     "delete_cmd_postfix": ") ",
     "delete_cmd_prefix": "rm(",
     "library": "var_list.r",
     "varRefreshCmd": "cat(var_dic_list()) "
    }
   },
   "types_to_exclude": [
    "module",
    "function",
    "builtin_function_or_method",
    "instance",
    "_Feature"
   ],
   "window_display": false
  }
 },
 "nbformat": 4,
 "nbformat_minor": 2
}
