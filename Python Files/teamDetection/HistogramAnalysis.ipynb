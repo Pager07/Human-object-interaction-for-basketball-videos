{
 "cells": [
  {
   "cell_type": "code",
   "execution_count": 3,
   "metadata": {},
   "outputs": [],
   "source": [
    "import cv2\n",
    "import numpy as np\n",
    "import argparse\n",
    "import ntpath\n",
    "from os import walk\n",
    "import matplotlib.pyplot as plt\n",
    "from sklearn.cluster import KMeans\n",
    "import csv"
   ]
  },
  {
   "cell_type": "code",
   "execution_count": 4,
   "metadata": {},
   "outputs": [],
   "source": [
    "def find_histogram(clt):\n",
    "    \"\"\"\n",
    "    create a histogram with k clusters\n",
    "    :param: clt\n",
    "    :return:hist\n",
    "    \"\"\"\n",
    "    numLabels = np.arange(0, len(np.unique(clt.labels_)) + 1)\n",
    "    (hist, _) = np.histogram(clt.labels_, bins=numLabels)\n",
    "\n",
    "    hist = hist.astype(\"float\")\n",
    "    hist /= hist.sum()\n",
    "    return hist"
   ]
  },
  {
   "cell_type": "code",
   "execution_count": 5,
   "metadata": {},
   "outputs": [],
   "source": [
    "def plot_colors(hist, centroids):\n",
    "    bar = np.zeros((50, 300, 3), dtype=\"uint8\")\n",
    "    startX = 0\n",
    "\n",
    "    for (percent, color) in zip(hist, centroids):\n",
    "        print(\"Color %s\" %color.astype(\"uint8\").tolist())\n",
    "        print(\"Percentage %d%%\" %int(percent*100))\n",
    "        # plot the relative percentage of each cluster\n",
    "        endX = startX + (percent * 300)\n",
    "        cv2.rectangle(bar, (int(startX), 0), (int(endX), 50),\n",
    "                      color.astype(\"uint8\").tolist(), -1)\n",
    "        startX = endX\n",
    "\n",
    "    # return the bar chart\n",
    "    return bar"
   ]
  },
  {
   "cell_type": "code",
   "execution_count": 6,
   "metadata": {},
   "outputs": [],
   "source": [
    "def print_colors(hist, centroids):\n",
    "    for (percent, color) in zip(hist, centroids):\n",
    "        p = int(percent*100)    \n",
    "        print(\"%d%% Color %s\" %(p, color))    \n",
    "\n",
    "def save_color_bar(bar, filename):\n",
    "    head, tail = ntpath.split(filename)\n",
    "    parts = tail.split(\".\")\n",
    "    output = \"{}/{}-colorbar.jpg\".format(head, parts[0])\n",
    "    print(\"Color bar stored in %s\" %output)\n",
    "    cv2.imwrite(output, bar)"
   ]
  },
  {
   "cell_type": "code",
   "execution_count": null,
   "metadata": {},
   "outputs": [],
   "source": [
    "\n",
    "    \n",
    "    "
   ]
  },
  {
   "cell_type": "code",
   "execution_count": 7,
   "metadata": {},
   "outputs": [],
   "source": [
    "path = '/Users/sandeep/Desktop/dataandmodles/data/kmeans'"
   ]
  },
  {
   "cell_type": "code",
   "execution_count": 9,
   "metadata": {},
   "outputs": [
    {
     "name": "stdout",
     "output_type": "stream",
     "text": [
      "['player.png']\n",
      "/Users/sandeep/Desktop/dataandmodles/data/kmeans/player.png\n",
      "35% Color [133.53374384  55.70295567  59.02635468]\n",
      "39% Color [212.56558811 171.161784   190.35942282]\n",
      "24% Color [155.5        123.51304654 171.86953456]\n",
      "Color [133, 55, 59]\n",
      "Percentage 35%\n",
      "Color [212, 171, 190]\n",
      "Percentage 39%\n",
      "Color [155, 123, 171]\n",
      "Percentage 24%\n"
     ]
    }
   ],
   "source": [
    "with open('team_color.csv', mode='w') as team_color_file:\n",
    "    team_color_writer = csv.writer(team_color_file, delimiter=',', quotechar='\"', quoting=csv.QUOTE_MINIMAL)\n",
    "    team_color_writer.writerow(['team', 'red', 'green', 'blue', 'percentage'])\n",
    "\n",
    "    f = []\n",
    "    for (dirpath, dirnames, filenames) in walk(path):\n",
    "        print(filenames)\n",
    "        for filename in filenames:\n",
    "            image_file = path + \"/\" + filename\n",
    "            print(image_file)\n",
    "            img = cv2.imread(image_file)\n",
    "            img = cv2.cvtColor(img, cv2.COLOR_BGR2RGB)\n",
    "\n",
    "            img = img.reshape((img.shape[0] * img.shape[1],3)) #represent as row*column,channel number\n",
    "            clt = KMeans(n_clusters=3) #cluster number\n",
    "            clt.fit(img)\n",
    "\n",
    "            hist = find_histogram(clt)\n",
    "            print_colors(hist, clt.cluster_centers_)\n",
    "\n",
    "            bar = plot_colors(hist, clt.cluster_centers_)        \n",
    "\n",
    "            for (percent, color) in zip(hist, clt.cluster_centers_):\n",
    "                colorList = color.astype(\"uint8\").tolist()\n",
    "                # hexColor = '#%02x%02x%02x' %(colorList[0], colorList[1], colorList[2])\n",
    "                team_color_writer.writerow([filename, colorList[0], colorList[1], colorList[2], int(percent*100)])"
   ]
  },
  {
   "cell_type": "code",
   "execution_count": null,
   "metadata": {},
   "outputs": [],
   "source": []
  }
 ],
 "metadata": {
  "kernelspec": {
   "display_name": "Python 3",
   "language": "python",
   "name": "python3"
  },
  "language_info": {
   "codemirror_mode": {
    "name": "ipython",
    "version": 3
   },
   "file_extension": ".py",
   "mimetype": "text/x-python",
   "name": "python",
   "nbconvert_exporter": "python",
   "pygments_lexer": "ipython3",
   "version": "3.7.4"
  },
  "toc": {
   "base_numbering": 1,
   "nav_menu": {},
   "number_sections": true,
   "sideBar": true,
   "skip_h1_title": false,
   "title_cell": "Table of Contents",
   "title_sidebar": "Contents",
   "toc_cell": false,
   "toc_position": {},
   "toc_section_display": true,
   "toc_window_display": false
  },
  "varInspector": {
   "cols": {
    "lenName": 16,
    "lenType": 16,
    "lenVar": 40
   },
   "kernels_config": {
    "python": {
     "delete_cmd_postfix": "",
     "delete_cmd_prefix": "del ",
     "library": "var_list.py",
     "varRefreshCmd": "print(var_dic_list())"
    },
    "r": {
     "delete_cmd_postfix": ") ",
     "delete_cmd_prefix": "rm(",
     "library": "var_list.r",
     "varRefreshCmd": "cat(var_dic_list()) "
    }
   },
   "types_to_exclude": [
    "module",
    "function",
    "builtin_function_or_method",
    "instance",
    "_Feature"
   ],
   "window_display": false
  }
 },
 "nbformat": 4,
 "nbformat_minor": 2
}
